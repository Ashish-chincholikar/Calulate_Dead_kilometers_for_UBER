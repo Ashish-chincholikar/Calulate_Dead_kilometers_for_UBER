{
 "cells": [
  {
   "cell_type": "markdown",
   "id": "4738aaa4-5b01-4d41-9c25-af2907813577",
   "metadata": {},
   "source": [
    "# EDA ON 1ST DATASET"
   ]
  },
  {
   "cell_type": "code",
   "execution_count": 1,
   "id": "1b22ac17",
   "metadata": {},
   "outputs": [
    {
     "name": "stdout",
     "output_type": "stream",
     "text": [
      "Requirement already satisfied: sweetviz in c:\\users\\suraj\\anaconda3\\lib\\site-packages (2.3.1)\n",
      "Requirement already satisfied: matplotlib>=3.1.3 in c:\\users\\suraj\\anaconda3\\lib\\site-packages (from sweetviz) (3.7.0)\n",
      "Requirement already satisfied: tqdm>=4.43.0 in c:\\users\\suraj\\anaconda3\\lib\\site-packages (from sweetviz) (4.64.1)\n",
      "Requirement already satisfied: numpy>=1.16.0 in c:\\users\\suraj\\anaconda3\\lib\\site-packages (from sweetviz) (1.23.5)\n",
      "Requirement already satisfied: importlib-resources>=1.2.0 in c:\\users\\suraj\\anaconda3\\lib\\site-packages (from sweetviz) (6.4.4)\n",
      "Requirement already satisfied: jinja2>=2.11.1 in c:\\users\\suraj\\anaconda3\\lib\\site-packages (from sweetviz) (3.1.2)\n",
      "Requirement already satisfied: pandas!=1.0.0,!=1.0.1,!=1.0.2,>=0.25.3 in c:\\users\\suraj\\anaconda3\\lib\\site-packages (from sweetviz) (1.5.3)\n",
      "Requirement already satisfied: scipy>=1.3.2 in c:\\users\\suraj\\anaconda3\\lib\\site-packages (from sweetviz) (1.10.0)\n",
      "Requirement already satisfied: MarkupSafe>=2.0 in c:\\users\\suraj\\anaconda3\\lib\\site-packages (from jinja2>=2.11.1->sweetviz) (2.1.1)\n",
      "Requirement already satisfied: fonttools>=4.22.0 in c:\\users\\suraj\\anaconda3\\lib\\site-packages (from matplotlib>=3.1.3->sweetviz) (4.25.0)\n",
      "Requirement already satisfied: packaging>=20.0 in c:\\users\\suraj\\anaconda3\\lib\\site-packages (from matplotlib>=3.1.3->sweetviz) (23.2)\n",
      "Requirement already satisfied: cycler>=0.10 in c:\\users\\suraj\\anaconda3\\lib\\site-packages (from matplotlib>=3.1.3->sweetviz) (0.11.0)\n",
      "Requirement already satisfied: pyparsing>=2.3.1 in c:\\users\\suraj\\anaconda3\\lib\\site-packages (from matplotlib>=3.1.3->sweetviz) (3.0.9)\n",
      "Requirement already satisfied: pillow>=6.2.0 in c:\\users\\suraj\\anaconda3\\lib\\site-packages (from matplotlib>=3.1.3->sweetviz) (9.4.0)\n",
      "Requirement already satisfied: kiwisolver>=1.0.1 in c:\\users\\suraj\\anaconda3\\lib\\site-packages (from matplotlib>=3.1.3->sweetviz) (1.4.4)\n",
      "Requirement already satisfied: contourpy>=1.0.1 in c:\\users\\suraj\\anaconda3\\lib\\site-packages (from matplotlib>=3.1.3->sweetviz) (1.0.5)\n",
      "Requirement already satisfied: python-dateutil>=2.7 in c:\\users\\suraj\\anaconda3\\lib\\site-packages (from matplotlib>=3.1.3->sweetviz) (2.8.2)\n",
      "Requirement already satisfied: pytz>=2020.1 in c:\\users\\suraj\\anaconda3\\lib\\site-packages (from pandas!=1.0.0,!=1.0.1,!=1.0.2,>=0.25.3->sweetviz) (2022.7)\n",
      "Requirement already satisfied: colorama in c:\\users\\suraj\\anaconda3\\lib\\site-packages (from tqdm>=4.43.0->sweetviz) (0.4.6)\n",
      "Requirement already satisfied: six>=1.5 in c:\\users\\suraj\\anaconda3\\lib\\site-packages (from python-dateutil>=2.7->matplotlib>=3.1.3->sweetviz) (1.16.0)\n"
     ]
    }
   ],
   "source": [
    "!pip install sweetviz"
   ]
  },
  {
   "cell_type": "code",
   "execution_count": 2,
   "id": "c92b844e-c7b8-4c3d-829c-acce4844c314",
   "metadata": {
    "tags": []
   },
   "outputs": [],
   "source": [
    "# Importing necessary libraries\n",
    "import pandas as pd\n",
    "import numpy as np\n",
    "import matplotlib.pyplot as plt\n",
    "import seaborn as sns\n",
    "sns.set(style=\"whitegrid\")  # For seaborn plots\n",
    "plt.rcParams[\"figure.figsize\"] = (10, 6) \n",
    "import sweetviz as sv\n",
    "%matplotlib inline"
   ]
  },
  {
   "cell_type": "code",
   "execution_count": 3,
   "id": "a406dc6c-5cd1-44db-b3e8-05ed16d23b62",
   "metadata": {
    "tags": []
   },
   "outputs": [],
   "source": [
    "everest=pd.read_csv(\"Everest_data.csv\")\n"
   ]
  },
  {
   "cell_type": "code",
   "execution_count": 4,
   "id": "9818880a-5c67-449a-af6a-d1aeb15d0f62",
   "metadata": {
    "tags": []
   },
   "outputs": [
    {
     "data": {
      "text/html": [
       "<div>\n",
       "<style scoped>\n",
       "    .dataframe tbody tr th:only-of-type {\n",
       "        vertical-align: middle;\n",
       "    }\n",
       "\n",
       "    .dataframe tbody tr th {\n",
       "        vertical-align: top;\n",
       "    }\n",
       "\n",
       "    .dataframe thead th {\n",
       "        text-align: right;\n",
       "    }\n",
       "</style>\n",
       "<table border=\"1\" class=\"dataframe\">\n",
       "  <thead>\n",
       "    <tr style=\"text-align: right;\">\n",
       "      <th></th>\n",
       "      <th>day_b</th>\n",
       "      <th>city_id</th>\n",
       "      <th>driver_uuid</th>\n",
       "      <th>vehicle_uuid</th>\n",
       "      <th>partner_uuid</th>\n",
       "      <th>uuid</th>\n",
       "      <th>request_timestamp_local</th>\n",
       "      <th>status</th>\n",
       "      <th>is_cash_trip</th>\n",
       "      <th>begintrip_timestamp_local</th>\n",
       "      <th>begintrip_lat</th>\n",
       "      <th>begintrip_lng</th>\n",
       "      <th>destination_lat</th>\n",
       "      <th>begintrip_lng.1</th>\n",
       "      <th>dropoff_timestamp_local</th>\n",
       "      <th>dropoff_lat</th>\n",
       "      <th>dropoff_lng</th>\n",
       "    </tr>\n",
       "  </thead>\n",
       "  <tbody>\n",
       "    <tr>\n",
       "      <th>0</th>\n",
       "      <td>2022-11-18 0:00:00</td>\n",
       "      <td>215</td>\n",
       "      <td>0007e579-cbb8-44c4-a32d-bbde59b4ef1f</td>\n",
       "      <td>7797da74-ddff-451d-88ed-83b8624e5ae3</td>\n",
       "      <td>293fe8ea-1c04-4813-aa30-27ccb0c4cda3</td>\n",
       "      <td>ae67d6e6-be1b-4dd9-924d-8993d4b14995</td>\n",
       "      <td>2022-11-18 12:19:45</td>\n",
       "      <td>completed</td>\n",
       "      <td>False</td>\n",
       "      <td>2022-11-18 12:36:19</td>\n",
       "      <td>19.021305</td>\n",
       "      <td>72.85987</td>\n",
       "      <td>19.00718</td>\n",
       "      <td>72.85987</td>\n",
       "      <td>2022-11-18 12:58:31</td>\n",
       "      <td>19.006836</td>\n",
       "      <td>72.824844</td>\n",
       "    </tr>\n",
       "    <tr>\n",
       "      <th>1</th>\n",
       "      <td>2022-11-18 0:00:00</td>\n",
       "      <td>215</td>\n",
       "      <td>0007e579-cbb8-44c4-a32d-bbde59b4ef1f</td>\n",
       "      <td>7797da74-ddff-451d-88ed-83b8624e5ae3</td>\n",
       "      <td>293fe8ea-1c04-4813-aa30-27ccb0c4cda3</td>\n",
       "      <td>24d95a18-9e27-44b1-bf71-d729b88e9876</td>\n",
       "      <td>2022-11-18 13:01:14</td>\n",
       "      <td>completed</td>\n",
       "      <td>False</td>\n",
       "      <td>2022-11-18 13:10:09</td>\n",
       "      <td>19.012371</td>\n",
       "      <td>72.82622</td>\n",
       "      <td>19.0993</td>\n",
       "      <td>72.82622</td>\n",
       "      <td>2022-11-18 13:43:12</td>\n",
       "      <td>19.100027</td>\n",
       "      <td>72.874855</td>\n",
       "    </tr>\n",
       "    <tr>\n",
       "      <th>2</th>\n",
       "      <td>2022-11-18 0:00:00</td>\n",
       "      <td>215</td>\n",
       "      <td>0007e579-cbb8-44c4-a32d-bbde59b4ef1f</td>\n",
       "      <td>7797da74-ddff-451d-88ed-83b8624e5ae3</td>\n",
       "      <td>293fe8ea-1c04-4813-aa30-27ccb0c4cda3</td>\n",
       "      <td>93887b79-8f51-4468-b830-894666383774</td>\n",
       "      <td>2022-11-18 13:43:15</td>\n",
       "      <td>completed</td>\n",
       "      <td>False</td>\n",
       "      <td>2022-11-18 13:52:20</td>\n",
       "      <td>19.100563</td>\n",
       "      <td>72.874374</td>\n",
       "      <td>19.195038</td>\n",
       "      <td>72.874374</td>\n",
       "      <td>2022-11-18 14:53:20</td>\n",
       "      <td>19.19511</td>\n",
       "      <td>72.86757</td>\n",
       "    </tr>\n",
       "    <tr>\n",
       "      <th>3</th>\n",
       "      <td>2022-11-18 0:00:00</td>\n",
       "      <td>215</td>\n",
       "      <td>0007e579-cbb8-44c4-a32d-bbde59b4ef1f</td>\n",
       "      <td>7797da74-ddff-451d-88ed-83b8624e5ae3</td>\n",
       "      <td>293fe8ea-1c04-4813-aa30-27ccb0c4cda3</td>\n",
       "      <td>9e55aea4-c2a5-424d-ae4c-9c11fc68c34d</td>\n",
       "      <td>2022-11-18 14:30:57</td>\n",
       "      <td>rider_canceled</td>\n",
       "      <td>False</td>\n",
       "      <td>\\N</td>\n",
       "      <td>19.175734</td>\n",
       "      <td>72.85916</td>\n",
       "      <td>19.112806</td>\n",
       "      <td>72.85916</td>\n",
       "      <td>\\N</td>\n",
       "      <td>19.18237865</td>\n",
       "      <td>72.85835731</td>\n",
       "    </tr>\n",
       "    <tr>\n",
       "      <th>4</th>\n",
       "      <td>2022-11-18 0:00:00</td>\n",
       "      <td>215</td>\n",
       "      <td>0007e579-cbb8-44c4-a32d-bbde59b4ef1f</td>\n",
       "      <td>7797da74-ddff-451d-88ed-83b8624e5ae3</td>\n",
       "      <td>293fe8ea-1c04-4813-aa30-27ccb0c4cda3</td>\n",
       "      <td>fdde5c96-3539-4677-9d4c-c750b74e9bc4</td>\n",
       "      <td>2022-11-18 14:32:34</td>\n",
       "      <td>completed</td>\n",
       "      <td>False</td>\n",
       "      <td>2022-11-18 14:59:29</td>\n",
       "      <td>19.197891</td>\n",
       "      <td>72.872314</td>\n",
       "      <td>19.026173</td>\n",
       "      <td>72.872314</td>\n",
       "      <td>2022-11-18 15:43:51</td>\n",
       "      <td>19.025806</td>\n",
       "      <td>72.842026</td>\n",
       "    </tr>\n",
       "  </tbody>\n",
       "</table>\n",
       "</div>"
      ],
      "text/plain": [
       "                day_b  city_id                           driver_uuid  \\\n",
       "0  2022-11-18 0:00:00      215  0007e579-cbb8-44c4-a32d-bbde59b4ef1f   \n",
       "1  2022-11-18 0:00:00      215  0007e579-cbb8-44c4-a32d-bbde59b4ef1f   \n",
       "2  2022-11-18 0:00:00      215  0007e579-cbb8-44c4-a32d-bbde59b4ef1f   \n",
       "3  2022-11-18 0:00:00      215  0007e579-cbb8-44c4-a32d-bbde59b4ef1f   \n",
       "4  2022-11-18 0:00:00      215  0007e579-cbb8-44c4-a32d-bbde59b4ef1f   \n",
       "\n",
       "                           vehicle_uuid                          partner_uuid  \\\n",
       "0  7797da74-ddff-451d-88ed-83b8624e5ae3  293fe8ea-1c04-4813-aa30-27ccb0c4cda3   \n",
       "1  7797da74-ddff-451d-88ed-83b8624e5ae3  293fe8ea-1c04-4813-aa30-27ccb0c4cda3   \n",
       "2  7797da74-ddff-451d-88ed-83b8624e5ae3  293fe8ea-1c04-4813-aa30-27ccb0c4cda3   \n",
       "3  7797da74-ddff-451d-88ed-83b8624e5ae3  293fe8ea-1c04-4813-aa30-27ccb0c4cda3   \n",
       "4  7797da74-ddff-451d-88ed-83b8624e5ae3  293fe8ea-1c04-4813-aa30-27ccb0c4cda3   \n",
       "\n",
       "                                   uuid request_timestamp_local  \\\n",
       "0  ae67d6e6-be1b-4dd9-924d-8993d4b14995     2022-11-18 12:19:45   \n",
       "1  24d95a18-9e27-44b1-bf71-d729b88e9876     2022-11-18 13:01:14   \n",
       "2  93887b79-8f51-4468-b830-894666383774     2022-11-18 13:43:15   \n",
       "3  9e55aea4-c2a5-424d-ae4c-9c11fc68c34d     2022-11-18 14:30:57   \n",
       "4  fdde5c96-3539-4677-9d4c-c750b74e9bc4     2022-11-18 14:32:34   \n",
       "\n",
       "           status  is_cash_trip begintrip_timestamp_local begintrip_lat  \\\n",
       "0       completed         False       2022-11-18 12:36:19     19.021305   \n",
       "1       completed         False       2022-11-18 13:10:09     19.012371   \n",
       "2       completed         False       2022-11-18 13:52:20     19.100563   \n",
       "3  rider_canceled         False                        \\N     19.175734   \n",
       "4       completed         False       2022-11-18 14:59:29     19.197891   \n",
       "\n",
       "  begintrip_lng destination_lat begintrip_lng.1 dropoff_timestamp_local  \\\n",
       "0      72.85987        19.00718        72.85987     2022-11-18 12:58:31   \n",
       "1      72.82622         19.0993        72.82622     2022-11-18 13:43:12   \n",
       "2     72.874374       19.195038       72.874374     2022-11-18 14:53:20   \n",
       "3      72.85916       19.112806        72.85916                      \\N   \n",
       "4     72.872314       19.026173       72.872314     2022-11-18 15:43:51   \n",
       "\n",
       "   dropoff_lat  dropoff_lng  \n",
       "0    19.006836    72.824844  \n",
       "1    19.100027    72.874855  \n",
       "2     19.19511     72.86757  \n",
       "3  19.18237865  72.85835731  \n",
       "4    19.025806    72.842026  "
      ]
     },
     "execution_count": 4,
     "metadata": {},
     "output_type": "execute_result"
    }
   ],
   "source": [
    "everest.head()"
   ]
  },
  {
   "cell_type": "code",
   "execution_count": 5,
   "id": "f42aa43f-c8ed-49dc-92f3-1ad501ced731",
   "metadata": {
    "tags": []
   },
   "outputs": [
    {
     "data": {
      "text/plain": [
       "(20827, 17)"
      ]
     },
     "execution_count": 5,
     "metadata": {},
     "output_type": "execute_result"
    }
   ],
   "source": [
    "# Check the shape of the dataset\n",
    "everest.shape\n"
   ]
  },
  {
   "cell_type": "code",
   "execution_count": 6,
   "id": "aa99ebd4-bcaa-454b-beff-bc464e21e785",
   "metadata": {
    "tags": []
   },
   "outputs": [
    {
     "data": {
      "text/plain": [
       "Index(['day_b', 'city_id', 'driver_uuid', 'vehicle_uuid', 'partner_uuid',\n",
       "       'uuid', 'request_timestamp_local', 'status', 'is_cash_trip',\n",
       "       'begintrip_timestamp_local', 'begintrip_lat', 'begintrip_lng',\n",
       "       'destination_lat', 'begintrip_lng.1', 'dropoff_timestamp_local',\n",
       "       'dropoff_lat', 'dropoff_lng'],\n",
       "      dtype='object')"
      ]
     },
     "execution_count": 6,
     "metadata": {},
     "output_type": "execute_result"
    }
   ],
   "source": [
    "everest.columns"
   ]
  },
  {
   "cell_type": "code",
   "execution_count": 7,
   "id": "b017b149-a3ca-4e20-9a29-f4389f4892b4",
   "metadata": {
    "tags": []
   },
   "outputs": [
    {
     "name": "stdout",
     "output_type": "stream",
     "text": [
      "<class 'pandas.core.frame.DataFrame'>\n",
      "RangeIndex: 20827 entries, 0 to 20826\n",
      "Data columns (total 17 columns):\n",
      " #   Column                     Non-Null Count  Dtype \n",
      "---  ------                     --------------  ----- \n",
      " 0   day_b                      20827 non-null  object\n",
      " 1   city_id                    20827 non-null  int64 \n",
      " 2   driver_uuid                20827 non-null  object\n",
      " 3   vehicle_uuid               20827 non-null  object\n",
      " 4   partner_uuid               20827 non-null  object\n",
      " 5   uuid                       20827 non-null  object\n",
      " 6   request_timestamp_local    20827 non-null  object\n",
      " 7   status                     20827 non-null  object\n",
      " 8   is_cash_trip               20827 non-null  bool  \n",
      " 9   begintrip_timestamp_local  20827 non-null  object\n",
      " 10  begintrip_lat              20827 non-null  object\n",
      " 11  begintrip_lng              20827 non-null  object\n",
      " 12  destination_lat            20827 non-null  object\n",
      " 13  begintrip_lng.1            20827 non-null  object\n",
      " 14  dropoff_timestamp_local    20827 non-null  object\n",
      " 15  dropoff_lat                20827 non-null  object\n",
      " 16  dropoff_lng                20827 non-null  object\n",
      "dtypes: bool(1), int64(1), object(15)\n",
      "memory usage: 2.6+ MB\n"
     ]
    }
   ],
   "source": [
    "# Display information about the dataset, such as column data types and missing values\n",
    "everest.info()"
   ]
  },
  {
   "cell_type": "code",
   "execution_count": 8,
   "id": "1faedaa4-7e0c-45c5-8985-270f969200f3",
   "metadata": {
    "tags": []
   },
   "outputs": [],
   "source": [
    "\n",
    "# List of columns to convert\n",
    "columns_to_convert = ['begintrip_lat', 'begintrip_lng', 'dropoff_lat', 'dropoff_lng']\n",
    "\n",
    "# Replace '\\\\N' values with NaN and convert the columns to float\n",
    "everest[columns_to_convert] = everest[columns_to_convert].apply(pd.to_numeric, errors='coerce')\n"
   ]
  },
  {
   "cell_type": "code",
   "execution_count": 9,
   "id": "69806632-cc61-450f-8800-c1d3f63d8b90",
   "metadata": {
    "tags": []
   },
   "outputs": [
    {
     "data": {
      "text/plain": [
       "day_b                         object\n",
       "city_id                        int64\n",
       "driver_uuid                   object\n",
       "vehicle_uuid                  object\n",
       "partner_uuid                  object\n",
       "uuid                          object\n",
       "request_timestamp_local       object\n",
       "status                        object\n",
       "is_cash_trip                    bool\n",
       "begintrip_timestamp_local     object\n",
       "begintrip_lat                float64\n",
       "begintrip_lng                float64\n",
       "destination_lat               object\n",
       "begintrip_lng.1               object\n",
       "dropoff_timestamp_local       object\n",
       "dropoff_lat                  float64\n",
       "dropoff_lng                  float64\n",
       "dtype: object"
      ]
     },
     "execution_count": 9,
     "metadata": {},
     "output_type": "execute_result"
    }
   ],
   "source": [
    "everest.dtypes"
   ]
  },
  {
   "cell_type": "code",
   "execution_count": 10,
   "id": "86543535-23bb-44f6-ae61-467fbf481949",
   "metadata": {
    "tags": []
   },
   "outputs": [
    {
     "data": {
      "text/html": [
       "<div>\n",
       "<style scoped>\n",
       "    .dataframe tbody tr th:only-of-type {\n",
       "        vertical-align: middle;\n",
       "    }\n",
       "\n",
       "    .dataframe tbody tr th {\n",
       "        vertical-align: top;\n",
       "    }\n",
       "\n",
       "    .dataframe thead th {\n",
       "        text-align: right;\n",
       "    }\n",
       "</style>\n",
       "<table border=\"1\" class=\"dataframe\">\n",
       "  <thead>\n",
       "    <tr style=\"text-align: right;\">\n",
       "      <th></th>\n",
       "      <th>day_b</th>\n",
       "      <th>city_id</th>\n",
       "      <th>driver_uuid</th>\n",
       "      <th>vehicle_uuid</th>\n",
       "      <th>partner_uuid</th>\n",
       "      <th>uuid</th>\n",
       "      <th>request_timestamp_local</th>\n",
       "      <th>status</th>\n",
       "      <th>is_cash_trip</th>\n",
       "      <th>begintrip_timestamp_local</th>\n",
       "      <th>begintrip_lat</th>\n",
       "      <th>begintrip_lng</th>\n",
       "      <th>destination_lat</th>\n",
       "      <th>begintrip_lng.1</th>\n",
       "      <th>dropoff_timestamp_local</th>\n",
       "      <th>dropoff_lat</th>\n",
       "      <th>dropoff_lng</th>\n",
       "    </tr>\n",
       "  </thead>\n",
       "  <tbody>\n",
       "    <tr>\n",
       "      <th>0</th>\n",
       "      <td>2022-11-18</td>\n",
       "      <td>215</td>\n",
       "      <td>0007e579-cbb8-44c4-a32d-bbde59b4ef1f</td>\n",
       "      <td>7797da74-ddff-451d-88ed-83b8624e5ae3</td>\n",
       "      <td>293fe8ea-1c04-4813-aa30-27ccb0c4cda3</td>\n",
       "      <td>ae67d6e6-be1b-4dd9-924d-8993d4b14995</td>\n",
       "      <td>2022-11-18 12:19:45</td>\n",
       "      <td>completed</td>\n",
       "      <td>False</td>\n",
       "      <td>2022-11-18 12:36:19</td>\n",
       "      <td>19.021305</td>\n",
       "      <td>72.859870</td>\n",
       "      <td>19.00718</td>\n",
       "      <td>72.85987</td>\n",
       "      <td>2022-11-18 12:58:31</td>\n",
       "      <td>19.006836</td>\n",
       "      <td>72.824844</td>\n",
       "    </tr>\n",
       "    <tr>\n",
       "      <th>1</th>\n",
       "      <td>2022-11-18</td>\n",
       "      <td>215</td>\n",
       "      <td>0007e579-cbb8-44c4-a32d-bbde59b4ef1f</td>\n",
       "      <td>7797da74-ddff-451d-88ed-83b8624e5ae3</td>\n",
       "      <td>293fe8ea-1c04-4813-aa30-27ccb0c4cda3</td>\n",
       "      <td>24d95a18-9e27-44b1-bf71-d729b88e9876</td>\n",
       "      <td>2022-11-18 13:01:14</td>\n",
       "      <td>completed</td>\n",
       "      <td>False</td>\n",
       "      <td>2022-11-18 13:10:09</td>\n",
       "      <td>19.012371</td>\n",
       "      <td>72.826220</td>\n",
       "      <td>19.0993</td>\n",
       "      <td>72.82622</td>\n",
       "      <td>2022-11-18 13:43:12</td>\n",
       "      <td>19.100027</td>\n",
       "      <td>72.874855</td>\n",
       "    </tr>\n",
       "    <tr>\n",
       "      <th>2</th>\n",
       "      <td>2022-11-18</td>\n",
       "      <td>215</td>\n",
       "      <td>0007e579-cbb8-44c4-a32d-bbde59b4ef1f</td>\n",
       "      <td>7797da74-ddff-451d-88ed-83b8624e5ae3</td>\n",
       "      <td>293fe8ea-1c04-4813-aa30-27ccb0c4cda3</td>\n",
       "      <td>93887b79-8f51-4468-b830-894666383774</td>\n",
       "      <td>2022-11-18 13:43:15</td>\n",
       "      <td>completed</td>\n",
       "      <td>False</td>\n",
       "      <td>2022-11-18 13:52:20</td>\n",
       "      <td>19.100563</td>\n",
       "      <td>72.874374</td>\n",
       "      <td>19.195038</td>\n",
       "      <td>72.874374</td>\n",
       "      <td>2022-11-18 14:53:20</td>\n",
       "      <td>19.195110</td>\n",
       "      <td>72.867570</td>\n",
       "    </tr>\n",
       "    <tr>\n",
       "      <th>3</th>\n",
       "      <td>2022-11-18</td>\n",
       "      <td>215</td>\n",
       "      <td>0007e579-cbb8-44c4-a32d-bbde59b4ef1f</td>\n",
       "      <td>7797da74-ddff-451d-88ed-83b8624e5ae3</td>\n",
       "      <td>293fe8ea-1c04-4813-aa30-27ccb0c4cda3</td>\n",
       "      <td>9e55aea4-c2a5-424d-ae4c-9c11fc68c34d</td>\n",
       "      <td>2022-11-18 14:30:57</td>\n",
       "      <td>rider_canceled</td>\n",
       "      <td>False</td>\n",
       "      <td>NaT</td>\n",
       "      <td>19.175734</td>\n",
       "      <td>72.859160</td>\n",
       "      <td>19.112806</td>\n",
       "      <td>72.85916</td>\n",
       "      <td>NaT</td>\n",
       "      <td>19.182379</td>\n",
       "      <td>72.858357</td>\n",
       "    </tr>\n",
       "    <tr>\n",
       "      <th>4</th>\n",
       "      <td>2022-11-18</td>\n",
       "      <td>215</td>\n",
       "      <td>0007e579-cbb8-44c4-a32d-bbde59b4ef1f</td>\n",
       "      <td>7797da74-ddff-451d-88ed-83b8624e5ae3</td>\n",
       "      <td>293fe8ea-1c04-4813-aa30-27ccb0c4cda3</td>\n",
       "      <td>fdde5c96-3539-4677-9d4c-c750b74e9bc4</td>\n",
       "      <td>2022-11-18 14:32:34</td>\n",
       "      <td>completed</td>\n",
       "      <td>False</td>\n",
       "      <td>2022-11-18 14:59:29</td>\n",
       "      <td>19.197891</td>\n",
       "      <td>72.872314</td>\n",
       "      <td>19.026173</td>\n",
       "      <td>72.872314</td>\n",
       "      <td>2022-11-18 15:43:51</td>\n",
       "      <td>19.025806</td>\n",
       "      <td>72.842026</td>\n",
       "    </tr>\n",
       "    <tr>\n",
       "      <th>5</th>\n",
       "      <td>2022-11-18</td>\n",
       "      <td>215</td>\n",
       "      <td>0007e579-cbb8-44c4-a32d-bbde59b4ef1f</td>\n",
       "      <td>7797da74-ddff-451d-88ed-83b8624e5ae3</td>\n",
       "      <td>293fe8ea-1c04-4813-aa30-27ccb0c4cda3</td>\n",
       "      <td>5dd48559-63b8-48e2-a515-f075300184ff</td>\n",
       "      <td>2022-11-18 15:30:59</td>\n",
       "      <td>completed</td>\n",
       "      <td>True</td>\n",
       "      <td>2022-11-18 15:53:04</td>\n",
       "      <td>19.030243</td>\n",
       "      <td>72.837480</td>\n",
       "      <td>18.995346</td>\n",
       "      <td>72.83748</td>\n",
       "      <td>2022-11-18 16:09:32</td>\n",
       "      <td>18.995134</td>\n",
       "      <td>72.819336</td>\n",
       "    </tr>\n",
       "    <tr>\n",
       "      <th>6</th>\n",
       "      <td>2022-11-18</td>\n",
       "      <td>215</td>\n",
       "      <td>0007e579-cbb8-44c4-a32d-bbde59b4ef1f</td>\n",
       "      <td>7797da74-ddff-451d-88ed-83b8624e5ae3</td>\n",
       "      <td>293fe8ea-1c04-4813-aa30-27ccb0c4cda3</td>\n",
       "      <td>74861692-661d-487f-8bfe-dc4b7e4bdff5</td>\n",
       "      <td>2022-11-18 16:02:39</td>\n",
       "      <td>completed</td>\n",
       "      <td>False</td>\n",
       "      <td>2022-11-18 16:15:16</td>\n",
       "      <td>18.996128</td>\n",
       "      <td>72.819590</td>\n",
       "      <td>18.953926</td>\n",
       "      <td>72.81959</td>\n",
       "      <td>2022-11-18 16:58:34</td>\n",
       "      <td>18.953753</td>\n",
       "      <td>72.800470</td>\n",
       "    </tr>\n",
       "    <tr>\n",
       "      <th>7</th>\n",
       "      <td>2022-11-18</td>\n",
       "      <td>215</td>\n",
       "      <td>0007e579-cbb8-44c4-a32d-bbde59b4ef1f</td>\n",
       "      <td>7797da74-ddff-451d-88ed-83b8624e5ae3</td>\n",
       "      <td>293fe8ea-1c04-4813-aa30-27ccb0c4cda3</td>\n",
       "      <td>c41c7d72-7c91-4e69-85e8-6136f5484e91</td>\n",
       "      <td>2022-11-18 16:50:55</td>\n",
       "      <td>rider_canceled</td>\n",
       "      <td>True</td>\n",
       "      <td>NaT</td>\n",
       "      <td>18.963036</td>\n",
       "      <td>72.802986</td>\n",
       "      <td>18.993952</td>\n",
       "      <td>72.802986</td>\n",
       "      <td>NaT</td>\n",
       "      <td>18.954721</td>\n",
       "      <td>72.798417</td>\n",
       "    </tr>\n",
       "    <tr>\n",
       "      <th>8</th>\n",
       "      <td>2022-11-18</td>\n",
       "      <td>215</td>\n",
       "      <td>0007e579-cbb8-44c4-a32d-bbde59b4ef1f</td>\n",
       "      <td>7797da74-ddff-451d-88ed-83b8624e5ae3</td>\n",
       "      <td>293fe8ea-1c04-4813-aa30-27ccb0c4cda3</td>\n",
       "      <td>fe147222-1f71-4aec-bd0d-ad831bc65023</td>\n",
       "      <td>2022-11-18 16:57:24</td>\n",
       "      <td>completed</td>\n",
       "      <td>False</td>\n",
       "      <td>2022-11-18 17:06:35</td>\n",
       "      <td>18.953610</td>\n",
       "      <td>72.796814</td>\n",
       "      <td>18.934574</td>\n",
       "      <td>72.796814</td>\n",
       "      <td>2022-11-18 17:36:57</td>\n",
       "      <td>18.935163</td>\n",
       "      <td>72.835365</td>\n",
       "    </tr>\n",
       "    <tr>\n",
       "      <th>9</th>\n",
       "      <td>2022-11-18</td>\n",
       "      <td>215</td>\n",
       "      <td>0007e579-cbb8-44c4-a32d-bbde59b4ef1f</td>\n",
       "      <td>7797da74-ddff-451d-88ed-83b8624e5ae3</td>\n",
       "      <td>293fe8ea-1c04-4813-aa30-27ccb0c4cda3</td>\n",
       "      <td>8174e7d6-8c54-4318-85e1-899399bf0257</td>\n",
       "      <td>2022-11-18 17:26:40</td>\n",
       "      <td>completed</td>\n",
       "      <td>True</td>\n",
       "      <td>2022-11-18 17:41:28</td>\n",
       "      <td>18.934532</td>\n",
       "      <td>72.835820</td>\n",
       "      <td>19.064255</td>\n",
       "      <td>72.83582</td>\n",
       "      <td>2022-11-18 18:55:28</td>\n",
       "      <td>19.064093</td>\n",
       "      <td>72.841850</td>\n",
       "    </tr>\n",
       "  </tbody>\n",
       "</table>\n",
       "</div>"
      ],
      "text/plain": [
       "       day_b  city_id                           driver_uuid  \\\n",
       "0 2022-11-18      215  0007e579-cbb8-44c4-a32d-bbde59b4ef1f   \n",
       "1 2022-11-18      215  0007e579-cbb8-44c4-a32d-bbde59b4ef1f   \n",
       "2 2022-11-18      215  0007e579-cbb8-44c4-a32d-bbde59b4ef1f   \n",
       "3 2022-11-18      215  0007e579-cbb8-44c4-a32d-bbde59b4ef1f   \n",
       "4 2022-11-18      215  0007e579-cbb8-44c4-a32d-bbde59b4ef1f   \n",
       "5 2022-11-18      215  0007e579-cbb8-44c4-a32d-bbde59b4ef1f   \n",
       "6 2022-11-18      215  0007e579-cbb8-44c4-a32d-bbde59b4ef1f   \n",
       "7 2022-11-18      215  0007e579-cbb8-44c4-a32d-bbde59b4ef1f   \n",
       "8 2022-11-18      215  0007e579-cbb8-44c4-a32d-bbde59b4ef1f   \n",
       "9 2022-11-18      215  0007e579-cbb8-44c4-a32d-bbde59b4ef1f   \n",
       "\n",
       "                           vehicle_uuid                          partner_uuid  \\\n",
       "0  7797da74-ddff-451d-88ed-83b8624e5ae3  293fe8ea-1c04-4813-aa30-27ccb0c4cda3   \n",
       "1  7797da74-ddff-451d-88ed-83b8624e5ae3  293fe8ea-1c04-4813-aa30-27ccb0c4cda3   \n",
       "2  7797da74-ddff-451d-88ed-83b8624e5ae3  293fe8ea-1c04-4813-aa30-27ccb0c4cda3   \n",
       "3  7797da74-ddff-451d-88ed-83b8624e5ae3  293fe8ea-1c04-4813-aa30-27ccb0c4cda3   \n",
       "4  7797da74-ddff-451d-88ed-83b8624e5ae3  293fe8ea-1c04-4813-aa30-27ccb0c4cda3   \n",
       "5  7797da74-ddff-451d-88ed-83b8624e5ae3  293fe8ea-1c04-4813-aa30-27ccb0c4cda3   \n",
       "6  7797da74-ddff-451d-88ed-83b8624e5ae3  293fe8ea-1c04-4813-aa30-27ccb0c4cda3   \n",
       "7  7797da74-ddff-451d-88ed-83b8624e5ae3  293fe8ea-1c04-4813-aa30-27ccb0c4cda3   \n",
       "8  7797da74-ddff-451d-88ed-83b8624e5ae3  293fe8ea-1c04-4813-aa30-27ccb0c4cda3   \n",
       "9  7797da74-ddff-451d-88ed-83b8624e5ae3  293fe8ea-1c04-4813-aa30-27ccb0c4cda3   \n",
       "\n",
       "                                   uuid request_timestamp_local  \\\n",
       "0  ae67d6e6-be1b-4dd9-924d-8993d4b14995     2022-11-18 12:19:45   \n",
       "1  24d95a18-9e27-44b1-bf71-d729b88e9876     2022-11-18 13:01:14   \n",
       "2  93887b79-8f51-4468-b830-894666383774     2022-11-18 13:43:15   \n",
       "3  9e55aea4-c2a5-424d-ae4c-9c11fc68c34d     2022-11-18 14:30:57   \n",
       "4  fdde5c96-3539-4677-9d4c-c750b74e9bc4     2022-11-18 14:32:34   \n",
       "5  5dd48559-63b8-48e2-a515-f075300184ff     2022-11-18 15:30:59   \n",
       "6  74861692-661d-487f-8bfe-dc4b7e4bdff5     2022-11-18 16:02:39   \n",
       "7  c41c7d72-7c91-4e69-85e8-6136f5484e91     2022-11-18 16:50:55   \n",
       "8  fe147222-1f71-4aec-bd0d-ad831bc65023     2022-11-18 16:57:24   \n",
       "9  8174e7d6-8c54-4318-85e1-899399bf0257     2022-11-18 17:26:40   \n",
       "\n",
       "           status  is_cash_trip begintrip_timestamp_local  begintrip_lat  \\\n",
       "0       completed         False       2022-11-18 12:36:19      19.021305   \n",
       "1       completed         False       2022-11-18 13:10:09      19.012371   \n",
       "2       completed         False       2022-11-18 13:52:20      19.100563   \n",
       "3  rider_canceled         False                       NaT      19.175734   \n",
       "4       completed         False       2022-11-18 14:59:29      19.197891   \n",
       "5       completed          True       2022-11-18 15:53:04      19.030243   \n",
       "6       completed         False       2022-11-18 16:15:16      18.996128   \n",
       "7  rider_canceled          True                       NaT      18.963036   \n",
       "8       completed         False       2022-11-18 17:06:35      18.953610   \n",
       "9       completed          True       2022-11-18 17:41:28      18.934532   \n",
       "\n",
       "   begintrip_lng destination_lat begintrip_lng.1 dropoff_timestamp_local  \\\n",
       "0      72.859870        19.00718        72.85987     2022-11-18 12:58:31   \n",
       "1      72.826220         19.0993        72.82622     2022-11-18 13:43:12   \n",
       "2      72.874374       19.195038       72.874374     2022-11-18 14:53:20   \n",
       "3      72.859160       19.112806        72.85916                     NaT   \n",
       "4      72.872314       19.026173       72.872314     2022-11-18 15:43:51   \n",
       "5      72.837480       18.995346        72.83748     2022-11-18 16:09:32   \n",
       "6      72.819590       18.953926        72.81959     2022-11-18 16:58:34   \n",
       "7      72.802986       18.993952       72.802986                     NaT   \n",
       "8      72.796814       18.934574       72.796814     2022-11-18 17:36:57   \n",
       "9      72.835820       19.064255        72.83582     2022-11-18 18:55:28   \n",
       "\n",
       "   dropoff_lat  dropoff_lng  \n",
       "0    19.006836    72.824844  \n",
       "1    19.100027    72.874855  \n",
       "2    19.195110    72.867570  \n",
       "3    19.182379    72.858357  \n",
       "4    19.025806    72.842026  \n",
       "5    18.995134    72.819336  \n",
       "6    18.953753    72.800470  \n",
       "7    18.954721    72.798417  \n",
       "8    18.935163    72.835365  \n",
       "9    19.064093    72.841850  "
      ]
     },
     "execution_count": 10,
     "metadata": {},
     "output_type": "execute_result"
    }
   ],
   "source": [
    "\n",
    "# Convert timestamps from object to datetime\n",
    "\n",
    "everest['day_b']=pd.to_datetime(everest['day_b'], errors='coerce')\n",
    "everest['request_timestamp_local']=pd.to_datetime(everest['request_timestamp_local'], errors='coerce')\n",
    "everest['begintrip_timestamp_local']=pd.to_datetime(everest['begintrip_timestamp_local'], errors='coerce')\n",
    "everest['dropoff_timestamp_local']=pd.to_datetime(everest['dropoff_timestamp_local'], errors='coerce')\n",
    "everest.head(10)"
   ]
  },
  {
   "cell_type": "code",
   "execution_count": 11,
   "id": "0d33fbbd-efc6-426f-8fec-b01e91eeb46d",
   "metadata": {
    "tags": []
   },
   "outputs": [],
   "source": [
    "# Correct the apparent typo in column name 'begintrip_lng.1' to 'destination_lng'\n",
    "\n",
    "everest.rename(columns={'begintrip_lng.1': 'destination_lng'}, inplace=True)"
   ]
  },
  {
   "cell_type": "code",
   "execution_count": 12,
   "id": "cd853bb1-f182-4184-9cd9-647a716a3bd2",
   "metadata": {
    "tags": []
   },
   "outputs": [
    {
     "data": {
      "text/plain": [
       "Index(['day_b', 'city_id', 'driver_uuid', 'vehicle_uuid', 'partner_uuid',\n",
       "       'uuid', 'request_timestamp_local', 'status', 'is_cash_trip',\n",
       "       'begintrip_timestamp_local', 'begintrip_lat', 'begintrip_lng',\n",
       "       'destination_lat', 'destination_lng', 'dropoff_timestamp_local',\n",
       "       'dropoff_lat', 'dropoff_lng'],\n",
       "      dtype='object')"
      ]
     },
     "execution_count": 12,
     "metadata": {},
     "output_type": "execute_result"
    }
   ],
   "source": [
    "everest.columns"
   ]
  },
  {
   "cell_type": "code",
   "execution_count": 13,
   "id": "9a8e279e-27f5-4711-9a41-7af2cfe2e920",
   "metadata": {
    "tags": []
   },
   "outputs": [],
   "source": [
    "# Ensure latitude and longitude are of float type\n",
    "lat_lng_cols = ['begintrip_lat', 'begintrip_lng', 'destination_lat', 'destination_lng', 'dropoff_lat', 'dropoff_lng']\n",
    "# Replace '\\\\N' with NaN\n",
    "everest[lat_lng_cols] = everest[lat_lng_cols].replace('\\\\N', np.nan)\n",
    "\n",
    "# Now try converting to float again\n",
    "everest[lat_lng_cols] = everest[lat_lng_cols].astype(float)"
   ]
  },
  {
   "cell_type": "code",
   "execution_count": 14,
   "id": "aa259b08-438b-4b55-87d1-d8ebddc9b3de",
   "metadata": {
    "tags": []
   },
   "outputs": [
    {
     "name": "stdout",
     "output_type": "stream",
     "text": [
      "       city_id  begintrip_lat  begintrip_lng  destination_lat  \\\n",
      "count  20827.0   20822.000000   20822.000000     20824.000000   \n",
      "mean     215.0      19.097572      72.889153        19.095674   \n",
      "std        0.0       0.094394       0.078149         0.132370   \n",
      "min      215.0      18.897755      72.759520        12.948336   \n",
      "25%      215.0      19.033869      72.836461        19.025118   \n",
      "50%      215.0      19.093132      72.861692        19.092161   \n",
      "75%      215.0      19.153624      72.909294        19.152706   \n",
      "max      215.0      19.484816      73.262350        28.558794   \n",
      "\n",
      "       destination_lng   dropoff_lat   dropoff_lng  \n",
      "count     20822.000000  20822.000000  20822.000000  \n",
      "mean         72.889153     19.096779     72.890072  \n",
      "std           0.078149      0.099012      0.085295  \n",
      "min          72.759520     18.448076     72.761840  \n",
      "25%          72.836461     19.031022     72.835713  \n",
      "50%          72.861692     19.093417     72.861532  \n",
      "75%          72.909294     19.153079     72.907973  \n",
      "max          73.262350     20.372366     74.025980  \n"
     ]
    }
   ],
   "source": [
    "# Summary statistics for numerical columns\n",
    "print(everest.describe())"
   ]
  },
  {
   "cell_type": "code",
   "execution_count": 15,
   "id": "910a0efb-df01-4bb8-93ff-fbac2e9c6323",
   "metadata": {
    "tags": []
   },
   "outputs": [
    {
     "name": "stdout",
     "output_type": "stream",
     "text": [
      "day_b                           0\n",
      "city_id                         0\n",
      "driver_uuid                     0\n",
      "vehicle_uuid                    0\n",
      "partner_uuid                    0\n",
      "uuid                            0\n",
      "request_timestamp_local         0\n",
      "status                          0\n",
      "is_cash_trip                    0\n",
      "begintrip_timestamp_local    5953\n",
      "begintrip_lat                   5\n",
      "begintrip_lng                   5\n",
      "destination_lat                 3\n",
      "destination_lng                 5\n",
      "dropoff_timestamp_local      5986\n",
      "dropoff_lat                     5\n",
      "dropoff_lng                     5\n",
      "dtype: int64\n"
     ]
    }
   ],
   "source": [
    "# Check for missing values\n",
    "\n",
    "print(everest.isnull().sum())\n",
    "\n",
    "# There is null values present in the column begintrip_timestamp_local and dropoff_timestamp_local"
   ]
  },
  {
   "cell_type": "code",
   "execution_count": 16,
   "id": "ca724179-c11f-4ee4-b361-04966d3b0cf2",
   "metadata": {
    "tags": []
   },
   "outputs": [],
   "source": [
    "duplicate=everest.duplicated()"
   ]
  },
  {
   "cell_type": "code",
   "execution_count": 17,
   "id": "5450cf28-6516-400a-a50d-17c60edc7811",
   "metadata": {
    "tags": []
   },
   "outputs": [
    {
     "data": {
      "text/plain": [
       "0        False\n",
       "1        False\n",
       "2        False\n",
       "3        False\n",
       "4        False\n",
       "         ...  \n",
       "20822    False\n",
       "20823    False\n",
       "20824    False\n",
       "20825    False\n",
       "20826    False\n",
       "Length: 20827, dtype: bool"
      ]
     },
     "execution_count": 17,
     "metadata": {},
     "output_type": "execute_result"
    }
   ],
   "source": [
    "duplicate"
   ]
  },
  {
   "cell_type": "code",
   "execution_count": 18,
   "id": "7b7353ab-3949-4dad-8fe9-7ad9dc55c626",
   "metadata": {
    "tags": []
   },
   "outputs": [
    {
     "data": {
      "text/plain": [
       "0"
      ]
     },
     "execution_count": 18,
     "metadata": {},
     "output_type": "execute_result"
    }
   ],
   "source": [
    "sum(duplicate)"
   ]
  },
  {
   "cell_type": "code",
   "execution_count": 19,
   "id": "574b7ec7-1bcc-447b-a8fa-017c2bb83c24",
   "metadata": {
    "tags": []
   },
   "outputs": [
    {
     "name": "stdout",
     "output_type": "stream",
     "text": [
      "['completed' 'rider_canceled' 'unfulfilled' 'driver_canceled']\n"
     ]
    }
   ],
   "source": [
    "# Unique values in 'status' column\n",
    "print(everest['status'].unique())"
   ]
  },
  {
   "cell_type": "code",
   "execution_count": 20,
   "id": "73193c56-aac3-4742-9666-bef493ce2e04",
   "metadata": {
    "tags": []
   },
   "outputs": [
    {
     "name": "stdout",
     "output_type": "stream",
     "text": [
      "completed          14841\n",
      "rider_canceled      5122\n",
      "driver_canceled      503\n",
      "unfulfilled          361\n",
      "Name: status, dtype: int64\n"
     ]
    }
   ],
   "source": [
    "# Count of trips by 'status'\n",
    "print(everest['status'].value_counts())"
   ]
  },
  {
   "cell_type": "code",
   "execution_count": 21,
   "id": "0ced7f73-251c-4fca-bc9a-184e732c9090",
   "metadata": {
    "tags": []
   },
   "outputs": [
    {
     "name": "stdout",
     "output_type": "stream",
     "text": [
      "1969\n"
     ]
    }
   ],
   "source": [
    "# Unique values in 'driver_uuid' column\n",
    "\n",
    "unique_driver_id = np.unique(everest['driver_uuid'])\n",
    "print(len(unique_driver_id))"
   ]
  },
  {
   "cell_type": "code",
   "execution_count": 22,
   "id": "55c567ae-edd8-475f-bb73-a134742de210",
   "metadata": {
    "tags": []
   },
   "outputs": [
    {
     "data": {
      "text/plain": [
       "array(['2022-11-18T00:00:00.000000000', '2022-11-19T00:00:00.000000000'],\n",
       "      dtype='datetime64[ns]')"
      ]
     },
     "execution_count": 22,
     "metadata": {},
     "output_type": "execute_result"
    }
   ],
   "source": [
    "# Unique values in 'day_b' column\n",
    "\n",
    "np.unique(everest['day_b'])"
   ]
  },
  {
   "cell_type": "code",
   "execution_count": 37,
   "id": "f0e574ee-970c-42b7-a62e-781f4695ae7d",
   "metadata": {
    "tags": []
   },
   "outputs": [
    {
     "name": "stdout",
     "output_type": "stream",
     "text": [
      "2022-11-18    19031\n",
      "2022-11-19     1791\n",
      "Name: day_b, dtype: int64\n"
     ]
    }
   ],
   "source": [
    "# Count of trips by 'day_b'\n",
    "\n",
    "print(everest['day_b'].value_counts())"
   ]
  },
  {
   "cell_type": "code",
   "execution_count": 38,
   "id": "5083f13c",
   "metadata": {},
   "outputs": [
    {
     "data": {
      "text/html": [
       "<div>\n",
       "<style scoped>\n",
       "    .dataframe tbody tr th:only-of-type {\n",
       "        vertical-align: middle;\n",
       "    }\n",
       "\n",
       "    .dataframe tbody tr th {\n",
       "        vertical-align: top;\n",
       "    }\n",
       "\n",
       "    .dataframe thead th {\n",
       "        text-align: right;\n",
       "    }\n",
       "</style>\n",
       "<table border=\"1\" class=\"dataframe\">\n",
       "  <thead>\n",
       "    <tr style=\"text-align: right;\">\n",
       "      <th></th>\n",
       "      <th>inputDate</th>\n",
       "      <th>dayOfWeek</th>\n",
       "    </tr>\n",
       "  </thead>\n",
       "  <tbody>\n",
       "    <tr>\n",
       "      <th>0</th>\n",
       "      <td>2022-11-18</td>\n",
       "      <td>Friday</td>\n",
       "    </tr>\n",
       "    <tr>\n",
       "      <th>1</th>\n",
       "      <td>2022-11-19</td>\n",
       "      <td>Saturday</td>\n",
       "    </tr>\n",
       "  </tbody>\n",
       "</table>\n",
       "</div>"
      ],
      "text/plain": [
       "   inputDate dayOfWeek\n",
       "0 2022-11-18    Friday\n",
       "1 2022-11-19  Saturday"
      ]
     },
     "execution_count": 38,
     "metadata": {},
     "output_type": "execute_result"
    }
   ],
   "source": [
    "date = pd.DataFrame({'inputDate':['2022-11-18', '2022-11-19']}) \n",
    "date['inputDate'] = pd.to_datetime(date['inputDate']) \n",
    "date['dayOfWeek'] = date['inputDate'].dt.day_name() \n",
    "  \n",
    "date "
   ]
  },
  {
   "cell_type": "code",
   "execution_count": 25,
   "id": "7bcabdba",
   "metadata": {},
   "outputs": [
    {
     "data": {
      "text/plain": [
       "<Axes: >"
      ]
     },
     "execution_count": 25,
     "metadata": {},
     "output_type": "execute_result"
    },
    {
     "data": {
      "image/png": "[encoded data removed]",
      "text/plain": [
       "<Figure size 1000x600 with 1 Axes>"
      ]
     },
     "metadata": {},
     "output_type": "display_data"
    }
   ],
   "source": [
    "sns.boxplot(everest.begintrip_lat)"
   ]
  },
  {
   "cell_type": "code",
   "execution_count": 26,
   "id": "dd451309",
   "metadata": {},
   "outputs": [
    {
     "data": {
      "text/plain": [
       "<Axes: >"
      ]
     },
     "execution_count": 26,
     "metadata": {},
     "output_type": "execute_result"
    },
    {
     "data": {
      "image/png": "[encoded data removed]",
      "text/plain": [
       "<Figure size 1000x600 with 1 Axes>"
      ]
     },
     "metadata": {},
     "output_type": "display_data"
    }
   ],
   "source": [
    "sns.boxplot(everest.begintrip_lng)"
   ]
  },
  {
   "cell_type": "code",
   "execution_count": 27,
   "id": "092d9df8",
   "metadata": {},
   "outputs": [
    {
     "data": {
      "text/plain": [
       "<Axes: >"
      ]
     },
     "execution_count": 27,
     "metadata": {},
     "output_type": "execute_result"
    },
    {
     "data": {
      "image/png": "[encoded data removed]",
      "text/plain": [
       "<Figure size 1000x600 with 1 Axes>"
      ]
     },
     "metadata": {},
     "output_type": "display_data"
    }
   ],
   "source": [
    "sns.boxplot(everest.destination_lat)"
   ]
  },
  {
   "cell_type": "code",
   "execution_count": 28,
   "id": "74a1a447",
   "metadata": {},
   "outputs": [
    {
     "data": {
      "text/plain": [
       "<Axes: >"
      ]
     },
     "execution_count": 28,
     "metadata": {},
     "output_type": "execute_result"
    },
    {
     "data": {
      "image/png": "[encoded data removed]",
      "text/plain": [
       "<Figure size 1000x600 with 1 Axes>"
      ]
     },
     "metadata": {},
     "output_type": "display_data"
    }
   ],
   "source": [
    "sns.boxplot(everest.dropoff_lat)"
   ]
  },
  {
   "cell_type": "code",
   "execution_count": 29,
   "id": "2edef1c1",
   "metadata": {},
   "outputs": [
    {
     "data": {
      "text/plain": [
       "<Axes: >"
      ]
     },
     "execution_count": 29,
     "metadata": {},
     "output_type": "execute_result"
    },
    {
     "data": {
      "image/png": "[encoded data removed]",
      "text/plain": [
       "<Figure size 1000x600 with 1 Axes>"
      ]
     },
     "metadata": {},
     "output_type": "display_data"
    }
   ],
   "source": [
    "sns.boxplot(everest.dropoff_lng)"
   ]
  },
  {
   "cell_type": "markdown",
   "id": "d19a6dc2-b3a1-4590-8e0b-ee5a4fdd207c",
   "metadata": {},
   "source": [
    "# Data Cleaning"
   ]
  },
  {
   "cell_type": "code",
   "execution_count": 33,
   "id": "f9babafa-9bd1-4eb4-92f8-bfad6b53110a",
   "metadata": {
    "tags": []
   },
   "outputs": [],
   "source": [
    "# Drop rows where both the begin trip and dropoff lat/lng are NaN\n",
    "everest.dropna(subset=['begintrip_lat', 'begintrip_lng', 'dropoff_lat', 'dropoff_lng'], how='all', inplace=True)"
   ]
  },
  {
   "cell_type": "code",
   "execution_count": 34,
   "id": "de5faa2e-cb80-4478-b365-372f7f92851e",
   "metadata": {
    "tags": []
   },
   "outputs": [
    {
     "data": {
      "text/plain": [
       "(20822, 17)"
      ]
     },
     "execution_count": 34,
     "metadata": {},
     "output_type": "execute_result"
    }
   ],
   "source": [
    "everest.shape"
   ]
  },
  {
   "cell_type": "markdown",
   "id": "dbfd19e0-76aa-4318-940a-fb6e5277a8d8",
   "metadata": {},
   "source": [
    "#Below is an approach to implement this imputation strategy. It imputes missing begintrip latitudes and longitudes with the dropoff latitudes and longitudes when the begin trip data is missing, and vice versa. This approach assumes that the trip's start and end points are close enough that using one in place of the other won't significantly distort the analysis.\n"
   ]
  },
  {
   "cell_type": "code",
   "execution_count": 35,
   "id": "5a72be3a-cdbd-41ec-ba87-41f6705f81b8",
   "metadata": {
    "tags": []
   },
   "outputs": [],
   "source": [
    "\n",
    "# Function to impute missing begintrip data with dropoff data\n",
    "def impute_begin_with_dropoff(row):\n",
    "    if pd.isnull(row['begintrip_lat']) and not pd.isnull(row['dropoff_lat']):\n",
    "        row['begintrip_lat'] = row['dropoff_lat']\n",
    "        row['begintrip_lng'] = row['dropoff_lng']\n",
    "    return row\n",
    "\n",
    "# Function to impute missing dropoff data with begintrip data\n",
    "def impute_dropoff_with_begin(row):\n",
    "    if pd.isnull(row['dropoff_lat']) and not pd.isnull(row['begintrip_lat']):\n",
    "        row['dropoff_lat'] = row['begintrip_lat']\n",
    "        row['dropoff_lng'] = row['begintrip_lng']\n",
    "    return row\n",
    "\n",
    "# Apply the imputation functions\n",
    "everest = everest.apply(impute_begin_with_dropoff, axis=1)\n",
    "everest = everest.apply(impute_dropoff_with_begin, axis=1)\n",
    "\n",
    "# Convert latitude and longitude columns to float, now that missing values have been addressed\n",
    "lat_lng_cols = ['begintrip_lat', 'begintrip_lng', 'dropoff_lat', 'dropoff_lng']\n",
    "everest[lat_lng_cols] = everest[lat_lng_cols].astype(float)\n",
    "\n",
    "# At this point, the dataset should have fewer missing geolocation values, with the assumption that \n",
    "# begin and end points can substitute for each other in the context of short trips within a confined"
   ]
  },
  {
   "cell_type": "code",
   "execution_count": null,
   "id": "f5479aec",
   "metadata": {},
   "outputs": [],
   "source": []
  },
  {
   "cell_type": "markdown",
   "id": "adb781d7-695d-4c08-a3be-ef37af4ec802",
   "metadata": {},
   "source": [
    "# Visualize the Data"
   ]
  },
  {
   "cell_type": "code",
   "execution_count": 36,
   "id": "46df3b30-77e2-4f7e-b93e-90dea8fed610",
   "metadata": {
    "tags": []
   },
   "outputs": [
    {
     "data": {
      "image/png": "[encoded data removed]",
      "text/plain": [
       "<Figure size 1000x600 with 1 Axes>"
      ]
     },
     "metadata": {},
     "output_type": "display_data"
    }
   ],
   "source": [
    "# Trip Status Distribution\n",
    "sns.countplot(data=everest, x='status')\n",
    "plt.title('Trip Status Distribution')\n",
    "plt.show()\n",
    "\n",
    "# As there are few around 200-250 rides that are not fullfilled and also some are cancelled by driver as \n",
    "# well as customer but there percentage is very low "
   ]
  },
  {
   "cell_type": "code",
   "execution_count": null,
   "id": "80da9aea-36bd-48ab-bc0d-64f1d95ff88d",
   "metadata": {},
   "outputs": [],
   "source": []
  },
  {
   "cell_type": "markdown",
   "id": "069a0f53-ec86-4c5a-b2e5-84e865cae88d",
   "metadata": {},
   "source": [
    "# EDA ON  trip_activity DATASET"
   ]
  },
  {
   "cell_type": "code",
   "execution_count": 39,
   "id": "ebb6016f-1221-489e-aef8-be29bcbd901f",
   "metadata": {
    "tags": []
   },
   "outputs": [],
   "source": [
    "import pandas as pd\n",
    "import numpy as np\n",
    "import matplotlib.pyplot as plt\n",
    "import seaborn as sns\n"
   ]
  },
  {
   "cell_type": "code",
   "execution_count": 40,
   "id": "004e1312-470c-426a-9965-39fa073659e6",
   "metadata": {
    "tags": []
   },
   "outputs": [],
   "source": [
    "trip_activity=pd.read_csv('trip_activity_Everest_Master.csv')"
   ]
  },
  {
   "cell_type": "code",
   "execution_count": 41,
   "id": "e95b7436-c913-4c08-a374-a6fd38e341fa",
   "metadata": {
    "tags": []
   },
   "outputs": [
    {
     "data": {
      "text/html": [
       "<div>\n",
       "<style scoped>\n",
       "    .dataframe tbody tr th:only-of-type {\n",
       "        vertical-align: middle;\n",
       "    }\n",
       "\n",
       "    .dataframe tbody tr th {\n",
       "        vertical-align: top;\n",
       "    }\n",
       "\n",
       "    .dataframe thead th {\n",
       "        text-align: right;\n",
       "    }\n",
       "</style>\n",
       "<table border=\"1\" class=\"dataframe\">\n",
       "  <thead>\n",
       "    <tr style=\"text-align: right;\">\n",
       "      <th></th>\n",
       "      <th>Trip UUID</th>\n",
       "      <th>Driver UUID</th>\n",
       "      <th>Driver first name</th>\n",
       "      <th>Driver surname</th>\n",
       "      <th>Vehicle UUID</th>\n",
       "      <th>Number plate</th>\n",
       "      <th>Service type</th>\n",
       "      <th>Trip request time</th>\n",
       "      <th>Trip drop-off time</th>\n",
       "      <th>Pick-up address</th>\n",
       "      <th>Drop-off address</th>\n",
       "      <th>Trip distance</th>\n",
       "      <th>Trip status</th>\n",
       "    </tr>\n",
       "  </thead>\n",
       "  <tbody>\n",
       "    <tr>\n",
       "      <th>0</th>\n",
       "      <td>4edb1859-fc8a-4d83-be1a-023a7ad445a4</td>\n",
       "      <td>521625b4-aaae-45da-b3e6-3f93f950a310</td>\n",
       "      <td>SOURABH</td>\n",
       "      <td>-</td>\n",
       "      <td>05c4353c-5f97-4663-ab70-20468365acd2</td>\n",
       "      <td>HR38AD2105</td>\n",
       "      <td>personal_transport</td>\n",
       "      <td>2022-11-19 03:58:38</td>\n",
       "      <td>2022-11-19 04:45:44</td>\n",
       "      <td>Pink Apartments, H2PJ+952, Sector 18, Sector 1...</td>\n",
       "      <td>Terminal 2, Indira Gandhi International Airpor...</td>\n",
       "      <td>20.98</td>\n",
       "      <td>completed</td>\n",
       "    </tr>\n",
       "    <tr>\n",
       "      <th>1</th>\n",
       "      <td>659ceeb3-2709-4f32-af65-101e67b57d16</td>\n",
       "      <td>e39a932b-8e91-4b88-b348-10981d313f88</td>\n",
       "      <td>MD AZAD HUSSAIN</td>\n",
       "      <td>-</td>\n",
       "      <td>48204ab1-c9d4-4ca4-90ad-c75e7d97d2ee</td>\n",
       "      <td>HR38AD5948</td>\n",
       "      <td>personal_transport</td>\n",
       "      <td>2022-11-19 03:55:40</td>\n",
       "      <td>2022-11-19 05:04:21</td>\n",
       "      <td>G110, near Mother Dairy, Pocket 1, Block G, Di...</td>\n",
       "      <td>Terminal 3, Indira Gandhi International Airpor...</td>\n",
       "      <td>40.42</td>\n",
       "      <td>completed</td>\n",
       "    </tr>\n",
       "    <tr>\n",
       "      <th>2</th>\n",
       "      <td>2788c6e0-e97b-4079-8cbf-17d819ad6402</td>\n",
       "      <td>b83f3218-bb24-4aee-b00a-d2ff43434f8f</td>\n",
       "      <td>Sagar</td>\n",
       "      <td>kumar</td>\n",
       "      <td>1888e79b-ed4f-4f10-b8e7-650b06b0263d</td>\n",
       "      <td>HR38AD3911</td>\n",
       "      <td>personal_transport</td>\n",
       "      <td>2022-11-19 03:52:13</td>\n",
       "      <td>2022-11-19 04:30:12</td>\n",
       "      <td>Plot # 8, Central Rd, Sector 6, Sector 10 Dwar...</td>\n",
       "      <td>Terminal 2, Indira Gandhi International Airpor...</td>\n",
       "      <td>17.80</td>\n",
       "      <td>completed</td>\n",
       "    </tr>\n",
       "    <tr>\n",
       "      <th>3</th>\n",
       "      <td>a6f81491-0be1-40f2-89e5-249403571ac8</td>\n",
       "      <td>25ed7228-6fda-450d-9a43-66dff0f8630a</td>\n",
       "      <td>Joginder</td>\n",
       "      <td>Singh</td>\n",
       "      <td>6e32f554-e19c-4533-979b-eac1d075f9ee</td>\n",
       "      <td>HR38AD7780</td>\n",
       "      <td>personal_transport</td>\n",
       "      <td>2022-11-19 03:51:05</td>\n",
       "      <td>2022-11-19 04:32:59</td>\n",
       "      <td>D Block, Nivedita Kunj, Sector 10, Rama Krishn...</td>\n",
       "      <td>Shyama Prasad Mukherjee Marg, Mori Gate, New D...</td>\n",
       "      <td>16.78</td>\n",
       "      <td>completed</td>\n",
       "    </tr>\n",
       "    <tr>\n",
       "      <th>4</th>\n",
       "      <td>1dacc5c5-b114-46e9-87d1-9da07ad61848</td>\n",
       "      <td>a23c0328-bb38-42b6-a8cc-bd8f2f2d2d30</td>\n",
       "      <td>RIHAN</td>\n",
       "      <td>NAEEM</td>\n",
       "      <td>e25f9c11-35ad-4539-9793-aca3aacf90fd</td>\n",
       "      <td>HR38AD4967</td>\n",
       "      <td>personal_transport</td>\n",
       "      <td>2022-11-19 03:50:31</td>\n",
       "      <td>2022-11-19 04:15:29</td>\n",
       "      <td>Old Delhi Railway station</td>\n",
       "      <td>Dev Prakash Shastri Marg Opp. Pusa, J4JW+C3P, ...</td>\n",
       "      <td>14.85</td>\n",
       "      <td>completed</td>\n",
       "    </tr>\n",
       "    <tr>\n",
       "      <th>...</th>\n",
       "      <td>...</td>\n",
       "      <td>...</td>\n",
       "      <td>...</td>\n",
       "      <td>...</td>\n",
       "      <td>...</td>\n",
       "      <td>...</td>\n",
       "      <td>...</td>\n",
       "      <td>...</td>\n",
       "      <td>...</td>\n",
       "      <td>...</td>\n",
       "      <td>...</td>\n",
       "      <td>...</td>\n",
       "      <td>...</td>\n",
       "    </tr>\n",
       "    <tr>\n",
       "      <th>55659</th>\n",
       "      <td>b4252e9f-5cf8-4742-b350-1d543f4c4e76</td>\n",
       "      <td>dbe360ef-41ac-479d-9d3f-5be7e3bc3aa9</td>\n",
       "      <td>Aftab</td>\n",
       "      <td>Alam</td>\n",
       "      <td>b270f6d6-f58d-4e56-989f-c11ef965b03d</td>\n",
       "      <td>MH01DR5210</td>\n",
       "      <td>personal_transport</td>\n",
       "      <td>2022-11-18 08:57:53</td>\n",
       "      <td>2022-11-18 09:25:21</td>\n",
       "      <td>Vahatuk Bhavan (M SRTC), R.B.I Branch, Dr Anan...</td>\n",
       "      <td>42, L. Jagmohandas Marg (Old Nepean Sea Road, ...</td>\n",
       "      <td>3.36</td>\n",
       "      <td>completed</td>\n",
       "    </tr>\n",
       "    <tr>\n",
       "      <th>55660</th>\n",
       "      <td>c9adf130-31af-4e3e-bd38-1a1cd32e7c77</td>\n",
       "      <td>dbe360ef-41ac-479d-9d3f-5be7e3bc3aa9</td>\n",
       "      <td>Aftab</td>\n",
       "      <td>Alam</td>\n",
       "      <td>b270f6d6-f58d-4e56-989f-c11ef965b03d</td>\n",
       "      <td>MH01DR5210</td>\n",
       "      <td>personal_transport</td>\n",
       "      <td>2022-11-18 08:05:09</td>\n",
       "      <td>2022-11-18 09:00:23</td>\n",
       "      <td>Military Camp, Air India Rd, Kolivery Village,...</td>\n",
       "      <td>Nathani Heights Commercial,B'Wing,Shop no 57 G...</td>\n",
       "      <td>18.26</td>\n",
       "      <td>completed</td>\n",
       "    </tr>\n",
       "    <tr>\n",
       "      <th>55661</th>\n",
       "      <td>5e4faabd-11b5-439e-b175-8ffe83fdeb8c</td>\n",
       "      <td>e6bd4d87-b0b9-4d42-bad9-16545a1be242</td>\n",
       "      <td>Mo Shahjad</td>\n",
       "      <td>-</td>\n",
       "      <td>b270f6d6-f58d-4e56-989f-c11ef965b03d</td>\n",
       "      <td>MH01DR5210</td>\n",
       "      <td>personal_transport</td>\n",
       "      <td>2022-11-18 06:00:53</td>\n",
       "      <td>2022-11-18 06:39:08</td>\n",
       "      <td>Bhogilal Fadia Rd, adjoining to Kandivali Recr...</td>\n",
       "      <td>Akal Society, J.B. Nagar, Tarun Bharat, Andher...</td>\n",
       "      <td>13.59</td>\n",
       "      <td>completed</td>\n",
       "    </tr>\n",
       "    <tr>\n",
       "      <th>55662</th>\n",
       "      <td>b2718945-91cd-448f-bb13-f17ce58fd0cb</td>\n",
       "      <td>e6bd4d87-b0b9-4d42-bad9-16545a1be242</td>\n",
       "      <td>Mo Shahjad</td>\n",
       "      <td>-</td>\n",
       "      <td>b270f6d6-f58d-4e56-989f-c11ef965b03d</td>\n",
       "      <td>MH01DR5210</td>\n",
       "      <td>personal_transport</td>\n",
       "      <td>2022-11-18 05:26:26</td>\n",
       "      <td>2022-11-18 05:55:59</td>\n",
       "      <td>Domestic</td>\n",
       "      <td>Nisarg Rd, Kandivali, Satya Nagar, Kandivali W...</td>\n",
       "      <td>17.96</td>\n",
       "      <td>completed</td>\n",
       "    </tr>\n",
       "    <tr>\n",
       "      <th>55663</th>\n",
       "      <td>fab3fd64-f516-4b87-a5df-843f1d73e40c</td>\n",
       "      <td>e6bd4d87-b0b9-4d42-bad9-16545a1be242</td>\n",
       "      <td>Mo Shahjad</td>\n",
       "      <td>-</td>\n",
       "      <td>b270f6d6-f58d-4e56-989f-c11ef965b03d</td>\n",
       "      <td>MH01DR5210</td>\n",
       "      <td>personal_transport</td>\n",
       "      <td>2022-11-18 04:59:33</td>\n",
       "      <td>2022-11-18 05:23:51</td>\n",
       "      <td>Ground Floor, Ali Dada Estate, Survey No. 267,...</td>\n",
       "      <td>T1, Navpada, Chhatrapati Shivaji International...</td>\n",
       "      <td>10.16</td>\n",
       "      <td>completed</td>\n",
       "    </tr>\n",
       "  </tbody>\n",
       "</table>\n",
       "<p>55664 rows × 13 columns</p>\n",
       "</div>"
      ],
      "text/plain": [
       "                                  Trip UUID  \\\n",
       "0      4edb1859-fc8a-4d83-be1a-023a7ad445a4   \n",
       "1      659ceeb3-2709-4f32-af65-101e67b57d16   \n",
       "2      2788c6e0-e97b-4079-8cbf-17d819ad6402   \n",
       "3      a6f81491-0be1-40f2-89e5-249403571ac8   \n",
       "4      1dacc5c5-b114-46e9-87d1-9da07ad61848   \n",
       "...                                     ...   \n",
       "55659  b4252e9f-5cf8-4742-b350-1d543f4c4e76   \n",
       "55660  c9adf130-31af-4e3e-bd38-1a1cd32e7c77   \n",
       "55661  5e4faabd-11b5-439e-b175-8ffe83fdeb8c   \n",
       "55662  b2718945-91cd-448f-bb13-f17ce58fd0cb   \n",
       "55663  fab3fd64-f516-4b87-a5df-843f1d73e40c   \n",
       "\n",
       "                                Driver UUID Driver first name Driver surname  \\\n",
       "0      521625b4-aaae-45da-b3e6-3f93f950a310           SOURABH              -   \n",
       "1      e39a932b-8e91-4b88-b348-10981d313f88   MD AZAD HUSSAIN              -   \n",
       "2      b83f3218-bb24-4aee-b00a-d2ff43434f8f             Sagar          kumar   \n",
       "3      25ed7228-6fda-450d-9a43-66dff0f8630a          Joginder          Singh   \n",
       "4      a23c0328-bb38-42b6-a8cc-bd8f2f2d2d30             RIHAN          NAEEM   \n",
       "...                                     ...               ...            ...   \n",
       "55659  dbe360ef-41ac-479d-9d3f-5be7e3bc3aa9             Aftab           Alam   \n",
       "55660  dbe360ef-41ac-479d-9d3f-5be7e3bc3aa9             Aftab           Alam   \n",
       "55661  e6bd4d87-b0b9-4d42-bad9-16545a1be242        Mo Shahjad              -   \n",
       "55662  e6bd4d87-b0b9-4d42-bad9-16545a1be242        Mo Shahjad              -   \n",
       "55663  e6bd4d87-b0b9-4d42-bad9-16545a1be242        Mo Shahjad              -   \n",
       "\n",
       "                               Vehicle UUID Number plate        Service type  \\\n",
       "0      05c4353c-5f97-4663-ab70-20468365acd2   HR38AD2105  personal_transport   \n",
       "1      48204ab1-c9d4-4ca4-90ad-c75e7d97d2ee   HR38AD5948  personal_transport   \n",
       "2      1888e79b-ed4f-4f10-b8e7-650b06b0263d   HR38AD3911  personal_transport   \n",
       "3      6e32f554-e19c-4533-979b-eac1d075f9ee   HR38AD7780  personal_transport   \n",
       "4      e25f9c11-35ad-4539-9793-aca3aacf90fd   HR38AD4967  personal_transport   \n",
       "...                                     ...          ...                 ...   \n",
       "55659  b270f6d6-f58d-4e56-989f-c11ef965b03d   MH01DR5210  personal_transport   \n",
       "55660  b270f6d6-f58d-4e56-989f-c11ef965b03d   MH01DR5210  personal_transport   \n",
       "55661  b270f6d6-f58d-4e56-989f-c11ef965b03d   MH01DR5210  personal_transport   \n",
       "55662  b270f6d6-f58d-4e56-989f-c11ef965b03d   MH01DR5210  personal_transport   \n",
       "55663  b270f6d6-f58d-4e56-989f-c11ef965b03d   MH01DR5210  personal_transport   \n",
       "\n",
       "         Trip request time   Trip drop-off time  \\\n",
       "0      2022-11-19 03:58:38  2022-11-19 04:45:44   \n",
       "1      2022-11-19 03:55:40  2022-11-19 05:04:21   \n",
       "2      2022-11-19 03:52:13  2022-11-19 04:30:12   \n",
       "3      2022-11-19 03:51:05  2022-11-19 04:32:59   \n",
       "4      2022-11-19 03:50:31  2022-11-19 04:15:29   \n",
       "...                    ...                  ...   \n",
       "55659  2022-11-18 08:57:53  2022-11-18 09:25:21   \n",
       "55660  2022-11-18 08:05:09  2022-11-18 09:00:23   \n",
       "55661  2022-11-18 06:00:53  2022-11-18 06:39:08   \n",
       "55662  2022-11-18 05:26:26  2022-11-18 05:55:59   \n",
       "55663  2022-11-18 04:59:33  2022-11-18 05:23:51   \n",
       "\n",
       "                                         Pick-up address  \\\n",
       "0      Pink Apartments, H2PJ+952, Sector 18, Sector 1...   \n",
       "1      G110, near Mother Dairy, Pocket 1, Block G, Di...   \n",
       "2      Plot # 8, Central Rd, Sector 6, Sector 10 Dwar...   \n",
       "3      D Block, Nivedita Kunj, Sector 10, Rama Krishn...   \n",
       "4                              Old Delhi Railway station   \n",
       "...                                                  ...   \n",
       "55659  Vahatuk Bhavan (M SRTC), R.B.I Branch, Dr Anan...   \n",
       "55660  Military Camp, Air India Rd, Kolivery Village,...   \n",
       "55661  Bhogilal Fadia Rd, adjoining to Kandivali Recr...   \n",
       "55662                                           Domestic   \n",
       "55663  Ground Floor, Ali Dada Estate, Survey No. 267,...   \n",
       "\n",
       "                                        Drop-off address  Trip distance  \\\n",
       "0      Terminal 2, Indira Gandhi International Airpor...          20.98   \n",
       "1      Terminal 3, Indira Gandhi International Airpor...          40.42   \n",
       "2      Terminal 2, Indira Gandhi International Airpor...          17.80   \n",
       "3      Shyama Prasad Mukherjee Marg, Mori Gate, New D...          16.78   \n",
       "4      Dev Prakash Shastri Marg Opp. Pusa, J4JW+C3P, ...          14.85   \n",
       "...                                                  ...            ...   \n",
       "55659  42, L. Jagmohandas Marg (Old Nepean Sea Road, ...           3.36   \n",
       "55660  Nathani Heights Commercial,B'Wing,Shop no 57 G...          18.26   \n",
       "55661  Akal Society, J.B. Nagar, Tarun Bharat, Andher...          13.59   \n",
       "55662  Nisarg Rd, Kandivali, Satya Nagar, Kandivali W...          17.96   \n",
       "55663  T1, Navpada, Chhatrapati Shivaji International...          10.16   \n",
       "\n",
       "      Trip status  \n",
       "0       completed  \n",
       "1       completed  \n",
       "2       completed  \n",
       "3       completed  \n",
       "4       completed  \n",
       "...           ...  \n",
       "55659   completed  \n",
       "55660   completed  \n",
       "55661   completed  \n",
       "55662   completed  \n",
       "55663   completed  \n",
       "\n",
       "[55664 rows x 13 columns]"
      ]
     },
     "execution_count": 41,
     "metadata": {},
     "output_type": "execute_result"
    }
   ],
   "source": [
    "trip_activity"
   ]
  },
  {
   "cell_type": "code",
   "execution_count": 42,
   "id": "7713764b-ccb7-468d-8280-e27141ecbf4f",
   "metadata": {
    "tags": []
   },
   "outputs": [
    {
     "data": {
      "text/plain": [
       "Index(['Trip UUID', 'Driver UUID', 'Driver first name', 'Driver surname',\n",
       "       'Vehicle UUID', 'Number plate', 'Service type', 'Trip request time',\n",
       "       'Trip drop-off time', 'Pick-up address', 'Drop-off address',\n",
       "       'Trip distance', 'Trip status'],\n",
       "      dtype='object')"
      ]
     },
     "execution_count": 42,
     "metadata": {},
     "output_type": "execute_result"
    }
   ],
   "source": [
    "trip_activity.columns"
   ]
  },
  {
   "cell_type": "code",
   "execution_count": 43,
   "id": "fa58ac78-dfde-449b-b0d0-a681b3abfa8d",
   "metadata": {
    "tags": []
   },
   "outputs": [
    {
     "data": {
      "text/plain": [
       "(55664, 13)"
      ]
     },
     "execution_count": 43,
     "metadata": {},
     "output_type": "execute_result"
    }
   ],
   "source": [
    "trip_activity.shape"
   ]
  },
  {
   "cell_type": "code",
   "execution_count": 44,
   "id": "b3f22c6b-0f51-48c6-a916-243249b59527",
   "metadata": {
    "tags": []
   },
   "outputs": [
    {
     "data": {
      "text/html": [
       "<div>\n",
       "<style scoped>\n",
       "    .dataframe tbody tr th:only-of-type {\n",
       "        vertical-align: middle;\n",
       "    }\n",
       "\n",
       "    .dataframe tbody tr th {\n",
       "        vertical-align: top;\n",
       "    }\n",
       "\n",
       "    .dataframe thead th {\n",
       "        text-align: right;\n",
       "    }\n",
       "</style>\n",
       "<table border=\"1\" class=\"dataframe\">\n",
       "  <thead>\n",
       "    <tr style=\"text-align: right;\">\n",
       "      <th></th>\n",
       "      <th>Trip UUID</th>\n",
       "      <th>Driver UUID</th>\n",
       "      <th>Driver first name</th>\n",
       "      <th>Driver surname</th>\n",
       "      <th>Vehicle UUID</th>\n",
       "      <th>Number plate</th>\n",
       "      <th>Service type</th>\n",
       "      <th>Trip request time</th>\n",
       "      <th>Trip drop-off time</th>\n",
       "      <th>Pick-up address</th>\n",
       "      <th>Drop-off address</th>\n",
       "      <th>Trip distance</th>\n",
       "      <th>Trip status</th>\n",
       "    </tr>\n",
       "  </thead>\n",
       "  <tbody>\n",
       "    <tr>\n",
       "      <th>0</th>\n",
       "      <td>4edb1859-fc8a-4d83-be1a-023a7ad445a4</td>\n",
       "      <td>521625b4-aaae-45da-b3e6-3f93f950a310</td>\n",
       "      <td>SOURABH</td>\n",
       "      <td>-</td>\n",
       "      <td>05c4353c-5f97-4663-ab70-20468365acd2</td>\n",
       "      <td>HR38AD2105</td>\n",
       "      <td>personal_transport</td>\n",
       "      <td>2022-11-19 03:58:38</td>\n",
       "      <td>2022-11-19 04:45:44</td>\n",
       "      <td>Pink Apartments, H2PJ+952, Sector 18, Sector 1...</td>\n",
       "      <td>Terminal 2, Indira Gandhi International Airpor...</td>\n",
       "      <td>20.98</td>\n",
       "      <td>completed</td>\n",
       "    </tr>\n",
       "    <tr>\n",
       "      <th>1</th>\n",
       "      <td>659ceeb3-2709-4f32-af65-101e67b57d16</td>\n",
       "      <td>e39a932b-8e91-4b88-b348-10981d313f88</td>\n",
       "      <td>MD AZAD HUSSAIN</td>\n",
       "      <td>-</td>\n",
       "      <td>48204ab1-c9d4-4ca4-90ad-c75e7d97d2ee</td>\n",
       "      <td>HR38AD5948</td>\n",
       "      <td>personal_transport</td>\n",
       "      <td>2022-11-19 03:55:40</td>\n",
       "      <td>2022-11-19 05:04:21</td>\n",
       "      <td>G110, near Mother Dairy, Pocket 1, Block G, Di...</td>\n",
       "      <td>Terminal 3, Indira Gandhi International Airpor...</td>\n",
       "      <td>40.42</td>\n",
       "      <td>completed</td>\n",
       "    </tr>\n",
       "    <tr>\n",
       "      <th>2</th>\n",
       "      <td>2788c6e0-e97b-4079-8cbf-17d819ad6402</td>\n",
       "      <td>b83f3218-bb24-4aee-b00a-d2ff43434f8f</td>\n",
       "      <td>Sagar</td>\n",
       "      <td>kumar</td>\n",
       "      <td>1888e79b-ed4f-4f10-b8e7-650b06b0263d</td>\n",
       "      <td>HR38AD3911</td>\n",
       "      <td>personal_transport</td>\n",
       "      <td>2022-11-19 03:52:13</td>\n",
       "      <td>2022-11-19 04:30:12</td>\n",
       "      <td>Plot # 8, Central Rd, Sector 6, Sector 10 Dwar...</td>\n",
       "      <td>Terminal 2, Indira Gandhi International Airpor...</td>\n",
       "      <td>17.80</td>\n",
       "      <td>completed</td>\n",
       "    </tr>\n",
       "    <tr>\n",
       "      <th>3</th>\n",
       "      <td>a6f81491-0be1-40f2-89e5-249403571ac8</td>\n",
       "      <td>25ed7228-6fda-450d-9a43-66dff0f8630a</td>\n",
       "      <td>Joginder</td>\n",
       "      <td>Singh</td>\n",
       "      <td>6e32f554-e19c-4533-979b-eac1d075f9ee</td>\n",
       "      <td>HR38AD7780</td>\n",
       "      <td>personal_transport</td>\n",
       "      <td>2022-11-19 03:51:05</td>\n",
       "      <td>2022-11-19 04:32:59</td>\n",
       "      <td>D Block, Nivedita Kunj, Sector 10, Rama Krishn...</td>\n",
       "      <td>Shyama Prasad Mukherjee Marg, Mori Gate, New D...</td>\n",
       "      <td>16.78</td>\n",
       "      <td>completed</td>\n",
       "    </tr>\n",
       "    <tr>\n",
       "      <th>4</th>\n",
       "      <td>1dacc5c5-b114-46e9-87d1-9da07ad61848</td>\n",
       "      <td>a23c0328-bb38-42b6-a8cc-bd8f2f2d2d30</td>\n",
       "      <td>RIHAN</td>\n",
       "      <td>NAEEM</td>\n",
       "      <td>e25f9c11-35ad-4539-9793-aca3aacf90fd</td>\n",
       "      <td>HR38AD4967</td>\n",
       "      <td>personal_transport</td>\n",
       "      <td>2022-11-19 03:50:31</td>\n",
       "      <td>2022-11-19 04:15:29</td>\n",
       "      <td>Old Delhi Railway station</td>\n",
       "      <td>Dev Prakash Shastri Marg Opp. Pusa, J4JW+C3P, ...</td>\n",
       "      <td>14.85</td>\n",
       "      <td>completed</td>\n",
       "    </tr>\n",
       "    <tr>\n",
       "      <th>5</th>\n",
       "      <td>7d60e4c1-51e8-452f-9311-13f71e054f31</td>\n",
       "      <td>8a10f25f-dd64-45bd-a738-c849ddd830a9</td>\n",
       "      <td>DEEPANSHU</td>\n",
       "      <td>-</td>\n",
       "      <td>76dcd037-4fda-4d4d-b789-37ab137264cc</td>\n",
       "      <td>HR38AD9273</td>\n",
       "      <td>personal_transport</td>\n",
       "      <td>2022-11-19 03:50:02</td>\n",
       "      <td>NaN</td>\n",
       "      <td>NaN</td>\n",
       "      <td>H-9 15, Arya Samaj Rd, Vijay Vihar, Block O, U...</td>\n",
       "      <td>0.00</td>\n",
       "      <td>rider_cancelled</td>\n",
       "    </tr>\n",
       "    <tr>\n",
       "      <th>6</th>\n",
       "      <td>882ebde4-61ad-479a-ac05-ed8746935f41</td>\n",
       "      <td>74cc7f71-672a-4b4e-9284-ccc5676669c9</td>\n",
       "      <td>Mohd</td>\n",
       "      <td>Ali</td>\n",
       "      <td>7f6c64df-a5e8-4be0-9b14-9a7a08c81050</td>\n",
       "      <td>HR38AD8292</td>\n",
       "      <td>personal_transport</td>\n",
       "      <td>2022-11-19 03:48:14</td>\n",
       "      <td>NaN</td>\n",
       "      <td>NaN</td>\n",
       "      <td>1st, The India Mall, Community Center, New Fri...</td>\n",
       "      <td>0.00</td>\n",
       "      <td>rider_cancelled</td>\n",
       "    </tr>\n",
       "    <tr>\n",
       "      <th>7</th>\n",
       "      <td>587058c2-501d-4df5-bf01-c6f07b85834e</td>\n",
       "      <td>fd193bf1-e712-48ca-8366-28c219b4da29</td>\n",
       "      <td>Kapil</td>\n",
       "      <td>Kumar</td>\n",
       "      <td>ac9575c9-91e7-4ba4-be7e-d61dac02ef92</td>\n",
       "      <td>HR38AD1359</td>\n",
       "      <td>personal_transport</td>\n",
       "      <td>2022-11-19 03:47:30</td>\n",
       "      <td>NaN</td>\n",
       "      <td>NaN</td>\n",
       "      <td>Terminal 3, Indira Gandhi International Airpor...</td>\n",
       "      <td>0.00</td>\n",
       "      <td>rider_cancelled</td>\n",
       "    </tr>\n",
       "    <tr>\n",
       "      <th>8</th>\n",
       "      <td>468dabbc-7715-4d15-83ea-5ba8606596e0</td>\n",
       "      <td>b09ae719-4d4b-480e-bc0c-506aa08dfe00</td>\n",
       "      <td>Abid</td>\n",
       "      <td>Abid</td>\n",
       "      <td>8b6df369-ea4a-4ed6-813d-1d63f9eda4fc</td>\n",
       "      <td>HR38AD6334</td>\n",
       "      <td>personal_transport</td>\n",
       "      <td>2022-11-19 03:47:26</td>\n",
       "      <td>2022-11-19 04:27:08</td>\n",
       "      <td>H-1, Vijay Chowk Rd, Block L, Laxmi Nagar, Del...</td>\n",
       "      <td>Terminal 3, Indira Gandhi International Airpor...</td>\n",
       "      <td>25.88</td>\n",
       "      <td>completed</td>\n",
       "    </tr>\n",
       "    <tr>\n",
       "      <th>9</th>\n",
       "      <td>3d9be466-7ca1-4ef8-b4f7-c3f0472be2b3</td>\n",
       "      <td>ad3c2282-37fb-4f3e-94b9-004995d0fef3</td>\n",
       "      <td>akash</td>\n",
       "      <td>singh</td>\n",
       "      <td>c5f84622-7e80-4bc9-818a-0c410c223682</td>\n",
       "      <td>HR38AD4107</td>\n",
       "      <td>personal_transport</td>\n",
       "      <td>2022-11-19 03:44:52</td>\n",
       "      <td>2022-11-19 04:30:39</td>\n",
       "      <td>166, Santosh Nagar, Sector 32, Faridabad, Hary...</td>\n",
       "      <td>Bhavbhuti Marg, Ratan Lal Market, Kamla Market...</td>\n",
       "      <td>24.31</td>\n",
       "      <td>completed</td>\n",
       "    </tr>\n",
       "  </tbody>\n",
       "</table>\n",
       "</div>"
      ],
      "text/plain": [
       "                              Trip UUID                           Driver UUID  \\\n",
       "0  4edb1859-fc8a-4d83-be1a-023a7ad445a4  521625b4-aaae-45da-b3e6-3f93f950a310   \n",
       "1  659ceeb3-2709-4f32-af65-101e67b57d16  e39a932b-8e91-4b88-b348-10981d313f88   \n",
       "2  2788c6e0-e97b-4079-8cbf-17d819ad6402  b83f3218-bb24-4aee-b00a-d2ff43434f8f   \n",
       "3  a6f81491-0be1-40f2-89e5-249403571ac8  25ed7228-6fda-450d-9a43-66dff0f8630a   \n",
       "4  1dacc5c5-b114-46e9-87d1-9da07ad61848  a23c0328-bb38-42b6-a8cc-bd8f2f2d2d30   \n",
       "5  7d60e4c1-51e8-452f-9311-13f71e054f31  8a10f25f-dd64-45bd-a738-c849ddd830a9   \n",
       "6  882ebde4-61ad-479a-ac05-ed8746935f41  74cc7f71-672a-4b4e-9284-ccc5676669c9   \n",
       "7  587058c2-501d-4df5-bf01-c6f07b85834e  fd193bf1-e712-48ca-8366-28c219b4da29   \n",
       "8  468dabbc-7715-4d15-83ea-5ba8606596e0  b09ae719-4d4b-480e-bc0c-506aa08dfe00   \n",
       "9  3d9be466-7ca1-4ef8-b4f7-c3f0472be2b3  ad3c2282-37fb-4f3e-94b9-004995d0fef3   \n",
       "\n",
       "  Driver first name Driver surname                          Vehicle UUID  \\\n",
       "0           SOURABH              -  05c4353c-5f97-4663-ab70-20468365acd2   \n",
       "1   MD AZAD HUSSAIN              -  48204ab1-c9d4-4ca4-90ad-c75e7d97d2ee   \n",
       "2             Sagar          kumar  1888e79b-ed4f-4f10-b8e7-650b06b0263d   \n",
       "3          Joginder          Singh  6e32f554-e19c-4533-979b-eac1d075f9ee   \n",
       "4             RIHAN          NAEEM  e25f9c11-35ad-4539-9793-aca3aacf90fd   \n",
       "5         DEEPANSHU              -  76dcd037-4fda-4d4d-b789-37ab137264cc   \n",
       "6              Mohd            Ali  7f6c64df-a5e8-4be0-9b14-9a7a08c81050   \n",
       "7             Kapil          Kumar  ac9575c9-91e7-4ba4-be7e-d61dac02ef92   \n",
       "8              Abid           Abid  8b6df369-ea4a-4ed6-813d-1d63f9eda4fc   \n",
       "9             akash          singh  c5f84622-7e80-4bc9-818a-0c410c223682   \n",
       "\n",
       "  Number plate        Service type    Trip request time   Trip drop-off time  \\\n",
       "0   HR38AD2105  personal_transport  2022-11-19 03:58:38  2022-11-19 04:45:44   \n",
       "1   HR38AD5948  personal_transport  2022-11-19 03:55:40  2022-11-19 05:04:21   \n",
       "2   HR38AD3911  personal_transport  2022-11-19 03:52:13  2022-11-19 04:30:12   \n",
       "3   HR38AD7780  personal_transport  2022-11-19 03:51:05  2022-11-19 04:32:59   \n",
       "4   HR38AD4967  personal_transport  2022-11-19 03:50:31  2022-11-19 04:15:29   \n",
       "5   HR38AD9273  personal_transport  2022-11-19 03:50:02                  NaN   \n",
       "6   HR38AD8292  personal_transport  2022-11-19 03:48:14                  NaN   \n",
       "7   HR38AD1359  personal_transport  2022-11-19 03:47:30                  NaN   \n",
       "8   HR38AD6334  personal_transport  2022-11-19 03:47:26  2022-11-19 04:27:08   \n",
       "9   HR38AD4107  personal_transport  2022-11-19 03:44:52  2022-11-19 04:30:39   \n",
       "\n",
       "                                     Pick-up address  \\\n",
       "0  Pink Apartments, H2PJ+952, Sector 18, Sector 1...   \n",
       "1  G110, near Mother Dairy, Pocket 1, Block G, Di...   \n",
       "2  Plot # 8, Central Rd, Sector 6, Sector 10 Dwar...   \n",
       "3  D Block, Nivedita Kunj, Sector 10, Rama Krishn...   \n",
       "4                          Old Delhi Railway station   \n",
       "5                                                NaN   \n",
       "6                                                NaN   \n",
       "7                                                NaN   \n",
       "8  H-1, Vijay Chowk Rd, Block L, Laxmi Nagar, Del...   \n",
       "9  166, Santosh Nagar, Sector 32, Faridabad, Hary...   \n",
       "\n",
       "                                    Drop-off address  Trip distance  \\\n",
       "0  Terminal 2, Indira Gandhi International Airpor...          20.98   \n",
       "1  Terminal 3, Indira Gandhi International Airpor...          40.42   \n",
       "2  Terminal 2, Indira Gandhi International Airpor...          17.80   \n",
       "3  Shyama Prasad Mukherjee Marg, Mori Gate, New D...          16.78   \n",
       "4  Dev Prakash Shastri Marg Opp. Pusa, J4JW+C3P, ...          14.85   \n",
       "5  H-9 15, Arya Samaj Rd, Vijay Vihar, Block O, U...           0.00   \n",
       "6  1st, The India Mall, Community Center, New Fri...           0.00   \n",
       "7  Terminal 3, Indira Gandhi International Airpor...           0.00   \n",
       "8  Terminal 3, Indira Gandhi International Airpor...          25.88   \n",
       "9  Bhavbhuti Marg, Ratan Lal Market, Kamla Market...          24.31   \n",
       "\n",
       "       Trip status  \n",
       "0        completed  \n",
       "1        completed  \n",
       "2        completed  \n",
       "3        completed  \n",
       "4        completed  \n",
       "5  rider_cancelled  \n",
       "6  rider_cancelled  \n",
       "7  rider_cancelled  \n",
       "8        completed  \n",
       "9        completed  "
      ]
     },
     "execution_count": 44,
     "metadata": {},
     "output_type": "execute_result"
    }
   ],
   "source": [
    "trip_activity.head(10)"
   ]
  },
  {
   "cell_type": "code",
   "execution_count": 45,
   "id": "bf0941c7-9bcc-45f2-90d1-0b05c02dc515",
   "metadata": {
    "tags": []
   },
   "outputs": [
    {
     "name": "stdout",
     "output_type": "stream",
     "text": [
      "<class 'pandas.core.frame.DataFrame'>\n",
      "RangeIndex: 55664 entries, 0 to 55663\n",
      "Data columns (total 13 columns):\n",
      " #   Column              Non-Null Count  Dtype  \n",
      "---  ------              --------------  -----  \n",
      " 0   Trip UUID           55664 non-null  object \n",
      " 1   Driver UUID         55664 non-null  object \n",
      " 2   Driver first name   55664 non-null  object \n",
      " 3   Driver surname      55664 non-null  object \n",
      " 4   Vehicle UUID        55659 non-null  object \n",
      " 5   Number plate        55659 non-null  object \n",
      " 6   Service type        55664 non-null  object \n",
      " 7   Trip request time   55664 non-null  object \n",
      " 8   Trip drop-off time  41627 non-null  object \n",
      " 9   Pick-up address     41684 non-null  object \n",
      " 10  Drop-off address    55650 non-null  object \n",
      " 11  Trip distance       55664 non-null  float64\n",
      " 12  Trip status         55664 non-null  object \n",
      "dtypes: float64(1), object(12)\n",
      "memory usage: 5.5+ MB\n"
     ]
    }
   ],
   "source": [
    "trip_activity.info()"
   ]
  },
  {
   "cell_type": "code",
   "execution_count": 46,
   "id": "faf0f35a-2062-47d0-aee1-d5b524d0631f",
   "metadata": {
    "tags": []
   },
   "outputs": [
    {
     "data": {
      "text/plain": [
       "Trip UUID              object\n",
       "Driver UUID            object\n",
       "Driver first name      object\n",
       "Driver surname         object\n",
       "Vehicle UUID           object\n",
       "Number plate           object\n",
       "Service type           object\n",
       "Trip request time      object\n",
       "Trip drop-off time     object\n",
       "Pick-up address        object\n",
       "Drop-off address       object\n",
       "Trip distance         float64\n",
       "Trip status            object\n",
       "dtype: object"
      ]
     },
     "execution_count": 46,
     "metadata": {},
     "output_type": "execute_result"
    }
   ],
   "source": [
    "trip_activity.dtypes"
   ]
  },
  {
   "cell_type": "code",
   "execution_count": null,
   "id": "ad3d3299",
   "metadata": {},
   "outputs": [],
   "source": []
  },
  {
   "cell_type": "code",
   "execution_count": 47,
   "id": "9f6fda76-ffe6-4653-916e-d90199e26d88",
   "metadata": {
    "tags": []
   },
   "outputs": [],
   "source": [
    "duplicate1=trip_activity.duplicated()"
   ]
  },
  {
   "cell_type": "code",
   "execution_count": 48,
   "id": "3d254928-6ccf-4329-9099-24118fa34494",
   "metadata": {
    "tags": []
   },
   "outputs": [
    {
     "data": {
      "text/plain": [
       "0        False\n",
       "1        False\n",
       "2        False\n",
       "3        False\n",
       "4        False\n",
       "         ...  \n",
       "55659    False\n",
       "55660    False\n",
       "55661    False\n",
       "55662    False\n",
       "55663    False\n",
       "Length: 55664, dtype: bool"
      ]
     },
     "execution_count": 48,
     "metadata": {},
     "output_type": "execute_result"
    }
   ],
   "source": [
    "duplicate1"
   ]
  },
  {
   "cell_type": "code",
   "execution_count": 49,
   "id": "0d3186cd-1b92-4a20-b01a-8a4203e5ade9",
   "metadata": {
    "tags": []
   },
   "outputs": [
    {
     "data": {
      "text/html": [
       "<div>\n",
       "<style scoped>\n",
       "    .dataframe tbody tr th:only-of-type {\n",
       "        vertical-align: middle;\n",
       "    }\n",
       "\n",
       "    .dataframe tbody tr th {\n",
       "        vertical-align: top;\n",
       "    }\n",
       "\n",
       "    .dataframe thead th {\n",
       "        text-align: right;\n",
       "    }\n",
       "</style>\n",
       "<table border=\"1\" class=\"dataframe\">\n",
       "  <thead>\n",
       "    <tr style=\"text-align: right;\">\n",
       "      <th></th>\n",
       "      <th>Trip distance</th>\n",
       "    </tr>\n",
       "  </thead>\n",
       "  <tbody>\n",
       "    <tr>\n",
       "      <th>count</th>\n",
       "      <td>55664.000000</td>\n",
       "    </tr>\n",
       "    <tr>\n",
       "      <th>mean</th>\n",
       "      <td>10.391885</td>\n",
       "    </tr>\n",
       "    <tr>\n",
       "      <th>std</th>\n",
       "      <td>11.757426</td>\n",
       "    </tr>\n",
       "    <tr>\n",
       "      <th>min</th>\n",
       "      <td>0.000000</td>\n",
       "    </tr>\n",
       "    <tr>\n",
       "      <th>25%</th>\n",
       "      <td>0.000000</td>\n",
       "    </tr>\n",
       "    <tr>\n",
       "      <th>50%</th>\n",
       "      <td>7.560000</td>\n",
       "    </tr>\n",
       "    <tr>\n",
       "      <th>75%</th>\n",
       "      <td>15.160000</td>\n",
       "    </tr>\n",
       "    <tr>\n",
       "      <th>max</th>\n",
       "      <td>355.080000</td>\n",
       "    </tr>\n",
       "  </tbody>\n",
       "</table>\n",
       "</div>"
      ],
      "text/plain": [
       "       Trip distance\n",
       "count   55664.000000\n",
       "mean       10.391885\n",
       "std        11.757426\n",
       "min         0.000000\n",
       "25%         0.000000\n",
       "50%         7.560000\n",
       "75%        15.160000\n",
       "max       355.080000"
      ]
     },
     "execution_count": 49,
     "metadata": {},
     "output_type": "execute_result"
    }
   ],
   "source": [
    "# Summary statistics for numerical columns\n",
    "trip_activity.describe()\n",
    "# There is diffrence in the mean and median values so the data is more scatter from the median and\n",
    "# also the standard deviation is greater than the 1 so it will also indicate the scatterness of data\n"
   ]
  },
  {
   "cell_type": "code",
   "execution_count": 50,
   "id": "38aec3ba-2509-425e-a29a-b0df7206758e",
   "metadata": {
    "tags": []
   },
   "outputs": [
    {
     "data": {
      "text/html": [
       "<div>\n",
       "<style scoped>\n",
       "    .dataframe tbody tr th:only-of-type {\n",
       "        vertical-align: middle;\n",
       "    }\n",
       "\n",
       "    .dataframe tbody tr th {\n",
       "        vertical-align: top;\n",
       "    }\n",
       "\n",
       "    .dataframe thead th {\n",
       "        text-align: right;\n",
       "    }\n",
       "</style>\n",
       "<table border=\"1\" class=\"dataframe\">\n",
       "  <thead>\n",
       "    <tr style=\"text-align: right;\">\n",
       "      <th></th>\n",
       "      <th>Trip UUID</th>\n",
       "      <th>Driver UUID</th>\n",
       "      <th>Driver first name</th>\n",
       "      <th>Driver surname</th>\n",
       "      <th>Vehicle UUID</th>\n",
       "      <th>Number plate</th>\n",
       "      <th>Service type</th>\n",
       "      <th>Trip request time</th>\n",
       "      <th>Trip drop-off time</th>\n",
       "      <th>Pick-up address</th>\n",
       "      <th>Drop-off address</th>\n",
       "      <th>Trip distance</th>\n",
       "      <th>Trip status</th>\n",
       "    </tr>\n",
       "  </thead>\n",
       "  <tbody>\n",
       "    <tr>\n",
       "      <th>0</th>\n",
       "      <td>4edb1859-fc8a-4d83-be1a-023a7ad445a4</td>\n",
       "      <td>521625b4-aaae-45da-b3e6-3f93f950a310</td>\n",
       "      <td>SOURABH</td>\n",
       "      <td>-</td>\n",
       "      <td>05c4353c-5f97-4663-ab70-20468365acd2</td>\n",
       "      <td>HR38AD2105</td>\n",
       "      <td>personal_transport</td>\n",
       "      <td>2022-11-19 03:58:38</td>\n",
       "      <td>2022-11-19 04:45:44</td>\n",
       "      <td>Pink Apartments, H2PJ+952, Sector 18, Sector 1...</td>\n",
       "      <td>Terminal 2, Indira Gandhi International Airpor...</td>\n",
       "      <td>20.98</td>\n",
       "      <td>completed</td>\n",
       "    </tr>\n",
       "    <tr>\n",
       "      <th>1</th>\n",
       "      <td>659ceeb3-2709-4f32-af65-101e67b57d16</td>\n",
       "      <td>e39a932b-8e91-4b88-b348-10981d313f88</td>\n",
       "      <td>MD AZAD HUSSAIN</td>\n",
       "      <td>-</td>\n",
       "      <td>48204ab1-c9d4-4ca4-90ad-c75e7d97d2ee</td>\n",
       "      <td>HR38AD5948</td>\n",
       "      <td>personal_transport</td>\n",
       "      <td>2022-11-19 03:55:40</td>\n",
       "      <td>2022-11-19 05:04:21</td>\n",
       "      <td>G110, near Mother Dairy, Pocket 1, Block G, Di...</td>\n",
       "      <td>Terminal 3, Indira Gandhi International Airpor...</td>\n",
       "      <td>40.42</td>\n",
       "      <td>completed</td>\n",
       "    </tr>\n",
       "    <tr>\n",
       "      <th>2</th>\n",
       "      <td>2788c6e0-e97b-4079-8cbf-17d819ad6402</td>\n",
       "      <td>b83f3218-bb24-4aee-b00a-d2ff43434f8f</td>\n",
       "      <td>Sagar</td>\n",
       "      <td>kumar</td>\n",
       "      <td>1888e79b-ed4f-4f10-b8e7-650b06b0263d</td>\n",
       "      <td>HR38AD3911</td>\n",
       "      <td>personal_transport</td>\n",
       "      <td>2022-11-19 03:52:13</td>\n",
       "      <td>2022-11-19 04:30:12</td>\n",
       "      <td>Plot # 8, Central Rd, Sector 6, Sector 10 Dwar...</td>\n",
       "      <td>Terminal 2, Indira Gandhi International Airpor...</td>\n",
       "      <td>17.80</td>\n",
       "      <td>completed</td>\n",
       "    </tr>\n",
       "    <tr>\n",
       "      <th>3</th>\n",
       "      <td>a6f81491-0be1-40f2-89e5-249403571ac8</td>\n",
       "      <td>25ed7228-6fda-450d-9a43-66dff0f8630a</td>\n",
       "      <td>Joginder</td>\n",
       "      <td>Singh</td>\n",
       "      <td>6e32f554-e19c-4533-979b-eac1d075f9ee</td>\n",
       "      <td>HR38AD7780</td>\n",
       "      <td>personal_transport</td>\n",
       "      <td>2022-11-19 03:51:05</td>\n",
       "      <td>2022-11-19 04:32:59</td>\n",
       "      <td>D Block, Nivedita Kunj, Sector 10, Rama Krishn...</td>\n",
       "      <td>Shyama Prasad Mukherjee Marg, Mori Gate, New D...</td>\n",
       "      <td>16.78</td>\n",
       "      <td>completed</td>\n",
       "    </tr>\n",
       "    <tr>\n",
       "      <th>4</th>\n",
       "      <td>1dacc5c5-b114-46e9-87d1-9da07ad61848</td>\n",
       "      <td>a23c0328-bb38-42b6-a8cc-bd8f2f2d2d30</td>\n",
       "      <td>RIHAN</td>\n",
       "      <td>NAEEM</td>\n",
       "      <td>e25f9c11-35ad-4539-9793-aca3aacf90fd</td>\n",
       "      <td>HR38AD4967</td>\n",
       "      <td>personal_transport</td>\n",
       "      <td>2022-11-19 03:50:31</td>\n",
       "      <td>2022-11-19 04:15:29</td>\n",
       "      <td>Old Delhi Railway station</td>\n",
       "      <td>Dev Prakash Shastri Marg Opp. Pusa, J4JW+C3P, ...</td>\n",
       "      <td>14.85</td>\n",
       "      <td>completed</td>\n",
       "    </tr>\n",
       "    <tr>\n",
       "      <th>5</th>\n",
       "      <td>7d60e4c1-51e8-452f-9311-13f71e054f31</td>\n",
       "      <td>8a10f25f-dd64-45bd-a738-c849ddd830a9</td>\n",
       "      <td>DEEPANSHU</td>\n",
       "      <td>-</td>\n",
       "      <td>76dcd037-4fda-4d4d-b789-37ab137264cc</td>\n",
       "      <td>HR38AD9273</td>\n",
       "      <td>personal_transport</td>\n",
       "      <td>2022-11-19 03:50:02</td>\n",
       "      <td>NaT</td>\n",
       "      <td>NaN</td>\n",
       "      <td>H-9 15, Arya Samaj Rd, Vijay Vihar, Block O, U...</td>\n",
       "      <td>0.00</td>\n",
       "      <td>rider_cancelled</td>\n",
       "    </tr>\n",
       "    <tr>\n",
       "      <th>6</th>\n",
       "      <td>882ebde4-61ad-479a-ac05-ed8746935f41</td>\n",
       "      <td>74cc7f71-672a-4b4e-9284-ccc5676669c9</td>\n",
       "      <td>Mohd</td>\n",
       "      <td>Ali</td>\n",
       "      <td>7f6c64df-a5e8-4be0-9b14-9a7a08c81050</td>\n",
       "      <td>HR38AD8292</td>\n",
       "      <td>personal_transport</td>\n",
       "      <td>2022-11-19 03:48:14</td>\n",
       "      <td>NaT</td>\n",
       "      <td>NaN</td>\n",
       "      <td>1st, The India Mall, Community Center, New Fri...</td>\n",
       "      <td>0.00</td>\n",
       "      <td>rider_cancelled</td>\n",
       "    </tr>\n",
       "    <tr>\n",
       "      <th>7</th>\n",
       "      <td>587058c2-501d-4df5-bf01-c6f07b85834e</td>\n",
       "      <td>fd193bf1-e712-48ca-8366-28c219b4da29</td>\n",
       "      <td>Kapil</td>\n",
       "      <td>Kumar</td>\n",
       "      <td>ac9575c9-91e7-4ba4-be7e-d61dac02ef92</td>\n",
       "      <td>HR38AD1359</td>\n",
       "      <td>personal_transport</td>\n",
       "      <td>2022-11-19 03:47:30</td>\n",
       "      <td>NaT</td>\n",
       "      <td>NaN</td>\n",
       "      <td>Terminal 3, Indira Gandhi International Airpor...</td>\n",
       "      <td>0.00</td>\n",
       "      <td>rider_cancelled</td>\n",
       "    </tr>\n",
       "    <tr>\n",
       "      <th>8</th>\n",
       "      <td>468dabbc-7715-4d15-83ea-5ba8606596e0</td>\n",
       "      <td>b09ae719-4d4b-480e-bc0c-506aa08dfe00</td>\n",
       "      <td>Abid</td>\n",
       "      <td>Abid</td>\n",
       "      <td>8b6df369-ea4a-4ed6-813d-1d63f9eda4fc</td>\n",
       "      <td>HR38AD6334</td>\n",
       "      <td>personal_transport</td>\n",
       "      <td>2022-11-19 03:47:26</td>\n",
       "      <td>2022-11-19 04:27:08</td>\n",
       "      <td>H-1, Vijay Chowk Rd, Block L, Laxmi Nagar, Del...</td>\n",
       "      <td>Terminal 3, Indira Gandhi International Airpor...</td>\n",
       "      <td>25.88</td>\n",
       "      <td>completed</td>\n",
       "    </tr>\n",
       "    <tr>\n",
       "      <th>9</th>\n",
       "      <td>3d9be466-7ca1-4ef8-b4f7-c3f0472be2b3</td>\n",
       "      <td>ad3c2282-37fb-4f3e-94b9-004995d0fef3</td>\n",
       "      <td>akash</td>\n",
       "      <td>singh</td>\n",
       "      <td>c5f84622-7e80-4bc9-818a-0c410c223682</td>\n",
       "      <td>HR38AD4107</td>\n",
       "      <td>personal_transport</td>\n",
       "      <td>2022-11-19 03:44:52</td>\n",
       "      <td>2022-11-19 04:30:39</td>\n",
       "      <td>166, Santosh Nagar, Sector 32, Faridabad, Hary...</td>\n",
       "      <td>Bhavbhuti Marg, Ratan Lal Market, Kamla Market...</td>\n",
       "      <td>24.31</td>\n",
       "      <td>completed</td>\n",
       "    </tr>\n",
       "  </tbody>\n",
       "</table>\n",
       "</div>"
      ],
      "text/plain": [
       "                              Trip UUID                           Driver UUID  \\\n",
       "0  4edb1859-fc8a-4d83-be1a-023a7ad445a4  521625b4-aaae-45da-b3e6-3f93f950a310   \n",
       "1  659ceeb3-2709-4f32-af65-101e67b57d16  e39a932b-8e91-4b88-b348-10981d313f88   \n",
       "2  2788c6e0-e97b-4079-8cbf-17d819ad6402  b83f3218-bb24-4aee-b00a-d2ff43434f8f   \n",
       "3  a6f81491-0be1-40f2-89e5-249403571ac8  25ed7228-6fda-450d-9a43-66dff0f8630a   \n",
       "4  1dacc5c5-b114-46e9-87d1-9da07ad61848  a23c0328-bb38-42b6-a8cc-bd8f2f2d2d30   \n",
       "5  7d60e4c1-51e8-452f-9311-13f71e054f31  8a10f25f-dd64-45bd-a738-c849ddd830a9   \n",
       "6  882ebde4-61ad-479a-ac05-ed8746935f41  74cc7f71-672a-4b4e-9284-ccc5676669c9   \n",
       "7  587058c2-501d-4df5-bf01-c6f07b85834e  fd193bf1-e712-48ca-8366-28c219b4da29   \n",
       "8  468dabbc-7715-4d15-83ea-5ba8606596e0  b09ae719-4d4b-480e-bc0c-506aa08dfe00   \n",
       "9  3d9be466-7ca1-4ef8-b4f7-c3f0472be2b3  ad3c2282-37fb-4f3e-94b9-004995d0fef3   \n",
       "\n",
       "  Driver first name Driver surname                          Vehicle UUID  \\\n",
       "0           SOURABH              -  05c4353c-5f97-4663-ab70-20468365acd2   \n",
       "1   MD AZAD HUSSAIN              -  48204ab1-c9d4-4ca4-90ad-c75e7d97d2ee   \n",
       "2             Sagar          kumar  1888e79b-ed4f-4f10-b8e7-650b06b0263d   \n",
       "3          Joginder          Singh  6e32f554-e19c-4533-979b-eac1d075f9ee   \n",
       "4             RIHAN          NAEEM  e25f9c11-35ad-4539-9793-aca3aacf90fd   \n",
       "5         DEEPANSHU              -  76dcd037-4fda-4d4d-b789-37ab137264cc   \n",
       "6              Mohd            Ali  7f6c64df-a5e8-4be0-9b14-9a7a08c81050   \n",
       "7             Kapil          Kumar  ac9575c9-91e7-4ba4-be7e-d61dac02ef92   \n",
       "8              Abid           Abid  8b6df369-ea4a-4ed6-813d-1d63f9eda4fc   \n",
       "9             akash          singh  c5f84622-7e80-4bc9-818a-0c410c223682   \n",
       "\n",
       "  Number plate        Service type   Trip request time  Trip drop-off time  \\\n",
       "0   HR38AD2105  personal_transport 2022-11-19 03:58:38 2022-11-19 04:45:44   \n",
       "1   HR38AD5948  personal_transport 2022-11-19 03:55:40 2022-11-19 05:04:21   \n",
       "2   HR38AD3911  personal_transport 2022-11-19 03:52:13 2022-11-19 04:30:12   \n",
       "3   HR38AD7780  personal_transport 2022-11-19 03:51:05 2022-11-19 04:32:59   \n",
       "4   HR38AD4967  personal_transport 2022-11-19 03:50:31 2022-11-19 04:15:29   \n",
       "5   HR38AD9273  personal_transport 2022-11-19 03:50:02                 NaT   \n",
       "6   HR38AD8292  personal_transport 2022-11-19 03:48:14                 NaT   \n",
       "7   HR38AD1359  personal_transport 2022-11-19 03:47:30                 NaT   \n",
       "8   HR38AD6334  personal_transport 2022-11-19 03:47:26 2022-11-19 04:27:08   \n",
       "9   HR38AD4107  personal_transport 2022-11-19 03:44:52 2022-11-19 04:30:39   \n",
       "\n",
       "                                     Pick-up address  \\\n",
       "0  Pink Apartments, H2PJ+952, Sector 18, Sector 1...   \n",
       "1  G110, near Mother Dairy, Pocket 1, Block G, Di...   \n",
       "2  Plot # 8, Central Rd, Sector 6, Sector 10 Dwar...   \n",
       "3  D Block, Nivedita Kunj, Sector 10, Rama Krishn...   \n",
       "4                          Old Delhi Railway station   \n",
       "5                                                NaN   \n",
       "6                                                NaN   \n",
       "7                                                NaN   \n",
       "8  H-1, Vijay Chowk Rd, Block L, Laxmi Nagar, Del...   \n",
       "9  166, Santosh Nagar, Sector 32, Faridabad, Hary...   \n",
       "\n",
       "                                    Drop-off address  Trip distance  \\\n",
       "0  Terminal 2, Indira Gandhi International Airpor...          20.98   \n",
       "1  Terminal 3, Indira Gandhi International Airpor...          40.42   \n",
       "2  Terminal 2, Indira Gandhi International Airpor...          17.80   \n",
       "3  Shyama Prasad Mukherjee Marg, Mori Gate, New D...          16.78   \n",
       "4  Dev Prakash Shastri Marg Opp. Pusa, J4JW+C3P, ...          14.85   \n",
       "5  H-9 15, Arya Samaj Rd, Vijay Vihar, Block O, U...           0.00   \n",
       "6  1st, The India Mall, Community Center, New Fri...           0.00   \n",
       "7  Terminal 3, Indira Gandhi International Airpor...           0.00   \n",
       "8  Terminal 3, Indira Gandhi International Airpor...          25.88   \n",
       "9  Bhavbhuti Marg, Ratan Lal Market, Kamla Market...          24.31   \n",
       "\n",
       "       Trip status  \n",
       "0        completed  \n",
       "1        completed  \n",
       "2        completed  \n",
       "3        completed  \n",
       "4        completed  \n",
       "5  rider_cancelled  \n",
       "6  rider_cancelled  \n",
       "7  rider_cancelled  \n",
       "8        completed  \n",
       "9        completed  "
      ]
     },
     "execution_count": 50,
     "metadata": {},
     "output_type": "execute_result"
    }
   ],
   "source": [
    "trip_activity['Trip request time']=pd.to_datetime(trip_activity['Trip request time'], errors='coerce')\n",
    "trip_activity['Trip drop-off time']=pd.to_datetime(trip_activity['Trip drop-off time'], errors='coerce')\n",
    "trip_activity.head(10)"
   ]
  },
  {
   "cell_type": "code",
   "execution_count": 51,
   "id": "7d06bbcb-d358-4e82-853b-53db93b18b2f",
   "metadata": {
    "tags": []
   },
   "outputs": [
    {
     "data": {
      "text/plain": [
       "Trip UUID                     object\n",
       "Driver UUID                   object\n",
       "Driver first name             object\n",
       "Driver surname                object\n",
       "Vehicle UUID                  object\n",
       "Number plate                  object\n",
       "Service type                  object\n",
       "Trip request time     datetime64[ns]\n",
       "Trip drop-off time    datetime64[ns]\n",
       "Pick-up address               object\n",
       "Drop-off address              object\n",
       "Trip distance                float64\n",
       "Trip status                   object\n",
       "dtype: object"
      ]
     },
     "execution_count": 51,
     "metadata": {},
     "output_type": "execute_result"
    }
   ],
   "source": [
    "trip_activity.dtypes"
   ]
  },
  {
   "cell_type": "code",
   "execution_count": 52,
   "id": "df1ee810-9341-4408-a19e-cb192edb6d79",
   "metadata": {
    "tags": []
   },
   "outputs": [
    {
     "name": "stdout",
     "output_type": "stream",
     "text": [
      "completed           41627\n",
      "rider_cancelled     12227\n",
      "driver_cancelled     1195\n",
      "delivery_failed       615\n",
      "Name: Trip status, dtype: int64\n"
     ]
    }
   ],
   "source": [
    "# Trip status distribution\n",
    "trip_status_counts = trip_activity['Trip status'].value_counts()\n",
    "print(trip_status_counts)"
   ]
  },
  {
   "cell_type": "markdown",
   "id": "8bccfeae-54ce-4cd4-a746-9cd35e41d55f",
   "metadata": {},
   "source": [
    "# Data Cleaning"
   ]
  },
  {
   "cell_type": "code",
   "execution_count": 53,
   "id": "3db001e3-e5ee-4822-b9d0-a29f8b8cc36c",
   "metadata": {
    "tags": []
   },
   "outputs": [],
   "source": [
    "# Handling missing values\n",
    "# For 'Vehicle UUID' and 'Number plate', we'll fill missing values with a placeholder\n",
    "trip_activity['Vehicle UUID'].fillna('Unknown', inplace=True)\n",
    "trip_activity['Number plate'].fillna('Unknown', inplace=True)"
   ]
  },
  {
   "cell_type": "code",
   "execution_count": 54,
   "id": "237bcfc1-a17b-4ae9-9775-f65e919446ae",
   "metadata": {
    "tags": []
   },
   "outputs": [],
   "source": [
    "# Filter the DataFrame based on the conditions\n",
    "filtered_new_data = trip_activity[\n",
    "    (trip_activity['Pick-up address'].isnull()) & \n",
    "    (~trip_activity['Drop-off address'].isnull()) & \n",
    "    (trip_activity['Trip distance'] == 0) & \n",
    "    (trip_activity['Trip status'].isin(['driver_cancelled', 'rider_cancelled', 'delivery_failed']))\n",
    "]\n",
    "\n",
    "# If the conditions are met, assign the values from 'Drop-off address' column of filtered_new_data to 'Pick-up address' column of trip_activity\n",
    "if not filtered_new_data.empty:\n",
    "    trip_activity.loc[filtered_new_data.index, 'Pick-up address'] = filtered_new_data['Drop-off address'].values\n"
   ]
  },
  {
   "cell_type": "code",
   "execution_count": 55,
   "id": "e063388d-2b3e-4ffd-8dc3-8e0b99aad145",
   "metadata": {
    "tags": []
   },
   "outputs": [
    {
     "name": "stdout",
     "output_type": "stream",
     "text": [
      "Trip UUID                 0\n",
      "Driver UUID               0\n",
      "Driver first name         0\n",
      "Driver surname            0\n",
      "Vehicle UUID              0\n",
      "Number plate              0\n",
      "Service type              0\n",
      "Trip request time         0\n",
      "Trip drop-off time    14037\n",
      "Pick-up address          10\n",
      "Drop-off address         14\n",
      "Trip distance             0\n",
      "Trip status               0\n",
      "dtype: int64\n"
     ]
    }
   ],
   "source": [
    "# Confirming missing value handling\n",
    "print(trip_activity.isnull().sum())"
   ]
  },
  {
   "cell_type": "code",
   "execution_count": 56,
   "id": "f951e811-1e8d-47e0-be42-7ba921d4c5ba",
   "metadata": {
    "tags": []
   },
   "outputs": [],
   "source": [
    "trip_activity.fillna(0, inplace=True)"
   ]
  },
  {
   "cell_type": "code",
   "execution_count": 57,
   "id": "84c31b86-ccfd-4a44-9b7e-b9f8215139ca",
   "metadata": {
    "tags": []
   },
   "outputs": [
    {
     "name": "stdout",
     "output_type": "stream",
     "text": [
      "Trip UUID             0\n",
      "Driver UUID           0\n",
      "Driver first name     0\n",
      "Driver surname        0\n",
      "Vehicle UUID          0\n",
      "Number plate          0\n",
      "Service type          0\n",
      "Trip request time     0\n",
      "Trip drop-off time    0\n",
      "Pick-up address       0\n",
      "Drop-off address      0\n",
      "Trip distance         0\n",
      "Trip status           0\n",
      "dtype: int64\n"
     ]
    }
   ],
   "source": [
    "# Confirming missing value handling\n",
    "print(trip_activity.isnull().sum())"
   ]
  },
  {
   "cell_type": "markdown",
   "id": "e21385c8-76e9-45b3-b30b-1498ee5ecd54",
   "metadata": {},
   "source": [
    "# Visualize the Data"
   ]
  },
  {
   "cell_type": "code",
   "execution_count": 58,
   "id": "34667729-bafe-4d4d-b8c6-5c53d7bf9b87",
   "metadata": {
    "tags": []
   },
   "outputs": [
    {
     "data": {
      "image/png": "[encoded data removed]",
      "text/plain": [
       "<Figure size 1000x600 with 1 Axes>"
      ]
     },
     "metadata": {},
     "output_type": "display_data"
    }
   ],
   "source": [
    "# Trip distance distribution\n",
    "plt.figure(figsize=(10, 6))\n",
    "sns.histplot(trip_activity['Trip distance'], bins=30, kde=True)\n",
    "plt.title('Distribution of Trip Distance')\n",
    "plt.xlabel('Trip Distance')\n",
    "plt.ylabel('Frequency')\n",
    "plt.show()\n",
    "\n",
    "# As we see the most of the distance travelled by the driver is of 0-10 km \n",
    "# The data showing the rightskew nature so we can see thatthere is some misproperness in the data\n"
   ]
  },
  {
   "cell_type": "code",
   "execution_count": 59,
   "id": "2108f9af-bba0-4349-8370-aad6404dc32f",
   "metadata": {
    "tags": []
   },
   "outputs": [],
   "source": [
    "# Analysis of trip request time\n",
    "# Convert trip request time to datetime format\n",
    "trip_activity['Trip request time'] = pd.to_datetime(trip_activity['Trip request time'])\n",
    "# Extract hour and day of week information\n",
    "trip_activity['Hour'] = trip_activity['Trip request time'].dt.hour\n",
    "trip_activity['DayOfWeek'] = trip_activity['Trip request time'].dt.day_name()\n"
   ]
  },
  {
   "cell_type": "code",
   "execution_count": 60,
   "id": "28940ca5-c62e-4eb3-8a74-12484b795798",
   "metadata": {
    "tags": []
   },
   "outputs": [
    {
     "data": {
      "image/png": "[encoded data removed]",
      "text/plain": [
       "<Figure size 1000x600 with 1 Axes>"
      ]
     },
     "metadata": {},
     "output_type": "display_data"
    }
   ],
   "source": [
    "# Hourly patterns analysis\n",
    "hourly_counts = trip_activity['Hour'].value_counts().sort_index()\n",
    "plt.figure(figsize=(10, 6))\n",
    "sns.barplot(x=hourly_counts.index, y=hourly_counts.values)\n",
    "plt.title('Hourly Trip Requests')\n",
    "plt.xlabel('Hour of Day')\n",
    "plt.ylabel('Number of Trips')\n",
    "plt.show()  \n",
    "# As wee see that there is more trip after the 8 pm as the working of the people starts"
   ]
  },
  {
   "cell_type": "code",
   "execution_count": 61,
   "id": "5128d1c0-d5c4-49d2-8361-b839af8300ac",
   "metadata": {
    "tags": []
   },
   "outputs": [
    {
     "data": {
      "image/png": "[encoded data removed]",
      "text/plain": [
       "<Figure size 1000x600 with 1 Axes>"
      ]
     },
     "metadata": {},
     "output_type": "display_data"
    }
   ],
   "source": [
    "# Day of week analysis\n",
    "day_counts = trip_activity['DayOfWeek'].value_counts().sort_index()\n",
    "plt.figure(figsize=(10, 6))\n",
    "sns.barplot(x=day_counts.index, y=day_counts.values)\n",
    "plt.title('Trip Requests by Day of Week')\n",
    "plt.xlabel('Day of Week')\n",
    "plt.ylabel('Number of Trips')\n",
    "plt.show()\n",
    "# as observed from the graph wee can see that the friday having more trip than the saturday as the saturday having the corporate holiday\n",
    "# so there is less number of tripin saturday than the sunday\n"
   ]
  },
  {
   "cell_type": "markdown",
   "id": "40b6a003-2227-4049-aff5-0134e19a2b01",
   "metadata": {},
   "source": [
    "# MERGED THE BOTH DATASETS"
   ]
  },
  {
   "cell_type": "code",
   "execution_count": 62,
   "id": "d4a7a94d-f775-4ad3-8526-829820c93a12",
   "metadata": {
    "tags": []
   },
   "outputs": [
    {
     "data": {
      "text/html": [
       "<div>\n",
       "<style scoped>\n",
       "    .dataframe tbody tr th:only-of-type {\n",
       "        vertical-align: middle;\n",
       "    }\n",
       "\n",
       "    .dataframe tbody tr th {\n",
       "        vertical-align: top;\n",
       "    }\n",
       "\n",
       "    .dataframe thead th {\n",
       "        text-align: right;\n",
       "    }\n",
       "</style>\n",
       "<table border=\"1\" class=\"dataframe\">\n",
       "  <thead>\n",
       "    <tr style=\"text-align: right;\">\n",
       "      <th></th>\n",
       "      <th>day_b</th>\n",
       "      <th>city_id</th>\n",
       "      <th>driver_uuid</th>\n",
       "      <th>vehicle_uuid</th>\n",
       "      <th>partner_uuid</th>\n",
       "      <th>uuid</th>\n",
       "      <th>request_timestamp_local</th>\n",
       "      <th>status</th>\n",
       "      <th>is_cash_trip</th>\n",
       "      <th>begintrip_timestamp_local</th>\n",
       "      <th>...</th>\n",
       "      <th>Number plate</th>\n",
       "      <th>Service type</th>\n",
       "      <th>Trip request time</th>\n",
       "      <th>Trip drop-off time</th>\n",
       "      <th>Pick-up address</th>\n",
       "      <th>Drop-off address</th>\n",
       "      <th>Trip distance</th>\n",
       "      <th>Trip status</th>\n",
       "      <th>Hour</th>\n",
       "      <th>DayOfWeek</th>\n",
       "    </tr>\n",
       "  </thead>\n",
       "  <tbody>\n",
       "    <tr>\n",
       "      <th>0</th>\n",
       "      <td>2022-11-18</td>\n",
       "      <td>215</td>\n",
       "      <td>0007e579-cbb8-44c4-a32d-bbde59b4ef1f</td>\n",
       "      <td>7797da74-ddff-451d-88ed-83b8624e5ae3</td>\n",
       "      <td>293fe8ea-1c04-4813-aa30-27ccb0c4cda3</td>\n",
       "      <td>ae67d6e6-be1b-4dd9-924d-8993d4b14995</td>\n",
       "      <td>2022-11-18 12:19:45</td>\n",
       "      <td>completed</td>\n",
       "      <td>False</td>\n",
       "      <td>2022-11-18 12:36:19</td>\n",
       "      <td>...</td>\n",
       "      <td>MH01DR8898</td>\n",
       "      <td>personal_transport</td>\n",
       "      <td>2022-11-18 12:19:45</td>\n",
       "      <td>2022-11-18 12:58:31</td>\n",
       "      <td>Surya Sadan, Rd Number 14, Kasturba Gandhi Nag...</td>\n",
       "      <td>Pandurang Budhkar Marg, Worli Century Mills Co...</td>\n",
       "      <td>5.90</td>\n",
       "      <td>completed</td>\n",
       "      <td>12</td>\n",
       "      <td>Friday</td>\n",
       "    </tr>\n",
       "    <tr>\n",
       "      <th>1</th>\n",
       "      <td>2022-11-18</td>\n",
       "      <td>215</td>\n",
       "      <td>0007e579-cbb8-44c4-a32d-bbde59b4ef1f</td>\n",
       "      <td>7797da74-ddff-451d-88ed-83b8624e5ae3</td>\n",
       "      <td>293fe8ea-1c04-4813-aa30-27ccb0c4cda3</td>\n",
       "      <td>24d95a18-9e27-44b1-bf71-d729b88e9876</td>\n",
       "      <td>2022-11-18 13:01:14</td>\n",
       "      <td>completed</td>\n",
       "      <td>False</td>\n",
       "      <td>2022-11-18 13:10:09</td>\n",
       "      <td>...</td>\n",
       "      <td>MH01DR8898</td>\n",
       "      <td>personal_transport</td>\n",
       "      <td>2022-11-18 13:01:14</td>\n",
       "      <td>2022-11-18 13:43:12</td>\n",
       "      <td>#A2, 4th Floor, Cnergy IT Park, Old Standard M...</td>\n",
       "      <td>Mumbai, Maharashtra 400099, India</td>\n",
       "      <td>19.10</td>\n",
       "      <td>completed</td>\n",
       "      <td>13</td>\n",
       "      <td>Friday</td>\n",
       "    </tr>\n",
       "    <tr>\n",
       "      <th>2</th>\n",
       "      <td>2022-11-18</td>\n",
       "      <td>215</td>\n",
       "      <td>0007e579-cbb8-44c4-a32d-bbde59b4ef1f</td>\n",
       "      <td>7797da74-ddff-451d-88ed-83b8624e5ae3</td>\n",
       "      <td>293fe8ea-1c04-4813-aa30-27ccb0c4cda3</td>\n",
       "      <td>93887b79-8f51-4468-b830-894666383774</td>\n",
       "      <td>2022-11-18 13:43:15</td>\n",
       "      <td>completed</td>\n",
       "      <td>False</td>\n",
       "      <td>2022-11-18 13:52:20</td>\n",
       "      <td>...</td>\n",
       "      <td>MH01DR8898</td>\n",
       "      <td>personal_transport</td>\n",
       "      <td>2022-11-18 13:43:15</td>\n",
       "      <td>2022-11-18 14:53:20</td>\n",
       "      <td>International</td>\n",
       "      <td>Akurli Cross Rd, Kandivali, Gokul Nagar, Kandi...</td>\n",
       "      <td>15.70</td>\n",
       "      <td>completed</td>\n",
       "      <td>13</td>\n",
       "      <td>Friday</td>\n",
       "    </tr>\n",
       "    <tr>\n",
       "      <th>3</th>\n",
       "      <td>2022-11-18</td>\n",
       "      <td>215</td>\n",
       "      <td>0007e579-cbb8-44c4-a32d-bbde59b4ef1f</td>\n",
       "      <td>7797da74-ddff-451d-88ed-83b8624e5ae3</td>\n",
       "      <td>293fe8ea-1c04-4813-aa30-27ccb0c4cda3</td>\n",
       "      <td>9e55aea4-c2a5-424d-ae4c-9c11fc68c34d</td>\n",
       "      <td>2022-11-18 14:30:57</td>\n",
       "      <td>rider_canceled</td>\n",
       "      <td>False</td>\n",
       "      <td>NaT</td>\n",
       "      <td>...</td>\n",
       "      <td>MH01DR8898</td>\n",
       "      <td>personal_transport</td>\n",
       "      <td>2022-11-18 14:30:57</td>\n",
       "      <td>0</td>\n",
       "      <td>1st Floor, North Wing, S 14, Solitaire Corpora...</td>\n",
       "      <td>1st Floor, North Wing, S 14, Solitaire Corpora...</td>\n",
       "      <td>0.00</td>\n",
       "      <td>rider_cancelled</td>\n",
       "      <td>14</td>\n",
       "      <td>Friday</td>\n",
       "    </tr>\n",
       "    <tr>\n",
       "      <th>4</th>\n",
       "      <td>2022-11-18</td>\n",
       "      <td>215</td>\n",
       "      <td>0007e579-cbb8-44c4-a32d-bbde59b4ef1f</td>\n",
       "      <td>7797da74-ddff-451d-88ed-83b8624e5ae3</td>\n",
       "      <td>293fe8ea-1c04-4813-aa30-27ccb0c4cda3</td>\n",
       "      <td>fdde5c96-3539-4677-9d4c-c750b74e9bc4</td>\n",
       "      <td>2022-11-18 14:32:34</td>\n",
       "      <td>completed</td>\n",
       "      <td>False</td>\n",
       "      <td>2022-11-18 14:59:29</td>\n",
       "      <td>...</td>\n",
       "      <td>MH01DR8898</td>\n",
       "      <td>personal_transport</td>\n",
       "      <td>2022-11-18 14:32:34</td>\n",
       "      <td>2022-11-18 15:43:51</td>\n",
       "      <td>Whispering Palms Xxclusive, Kandivali, Alika N...</td>\n",
       "      <td>BRAMHADEV SOCIETY, C/WING, Padmabai Thakkar Ma...</td>\n",
       "      <td>23.55</td>\n",
       "      <td>completed</td>\n",
       "      <td>14</td>\n",
       "      <td>Friday</td>\n",
       "    </tr>\n",
       "    <tr>\n",
       "      <th>...</th>\n",
       "      <td>...</td>\n",
       "      <td>...</td>\n",
       "      <td>...</td>\n",
       "      <td>...</td>\n",
       "      <td>...</td>\n",
       "      <td>...</td>\n",
       "      <td>...</td>\n",
       "      <td>...</td>\n",
       "      <td>...</td>\n",
       "      <td>...</td>\n",
       "      <td>...</td>\n",
       "      <td>...</td>\n",
       "      <td>...</td>\n",
       "      <td>...</td>\n",
       "      <td>...</td>\n",
       "      <td>...</td>\n",
       "      <td>...</td>\n",
       "      <td>...</td>\n",
       "      <td>...</td>\n",
       "      <td>...</td>\n",
       "      <td>...</td>\n",
       "    </tr>\n",
       "    <tr>\n",
       "      <th>19796</th>\n",
       "      <td>2022-11-18</td>\n",
       "      <td>215</td>\n",
       "      <td>ff8c4b08-8a0e-4106-aab1-e0a092487ff6</td>\n",
       "      <td>3d6d5fdd-1b24-49d6-bd2b-8e250eb7f557</td>\n",
       "      <td>cc02d9ec-aa51-46b5-aeb3-af0516e988ab</td>\n",
       "      <td>32c25ca8-38ed-4b93-b951-453fef3dd649</td>\n",
       "      <td>2022-11-18 12:24:45</td>\n",
       "      <td>completed</td>\n",
       "      <td>False</td>\n",
       "      <td>2022-11-18 12:37:46</td>\n",
       "      <td>...</td>\n",
       "      <td>MH01DR9413</td>\n",
       "      <td>personal_transport</td>\n",
       "      <td>2022-11-18 12:24:45</td>\n",
       "      <td>2022-11-18 13:19:07</td>\n",
       "      <td>5, Sahar Airport Rd, Santosh Mata Nagar, Ashok...</td>\n",
       "      <td>6V5C+XG9, Next to Miraj Cinemas Thakur Mall, K...</td>\n",
       "      <td>16.36</td>\n",
       "      <td>completed</td>\n",
       "      <td>12</td>\n",
       "      <td>Friday</td>\n",
       "    </tr>\n",
       "    <tr>\n",
       "      <th>19797</th>\n",
       "      <td>2022-11-18</td>\n",
       "      <td>215</td>\n",
       "      <td>ff8c4b08-8a0e-4106-aab1-e0a092487ff6</td>\n",
       "      <td>3d6d5fdd-1b24-49d6-bd2b-8e250eb7f557</td>\n",
       "      <td>cc02d9ec-aa51-46b5-aeb3-af0516e988ab</td>\n",
       "      <td>7c5144af-8fc4-4aa9-b1fd-da5beb66b871</td>\n",
       "      <td>2022-11-18 13:00:49</td>\n",
       "      <td>completed</td>\n",
       "      <td>True</td>\n",
       "      <td>2022-11-18 13:28:53</td>\n",
       "      <td>...</td>\n",
       "      <td>MH01DR9413</td>\n",
       "      <td>personal_transport</td>\n",
       "      <td>2022-11-18 13:00:49</td>\n",
       "      <td>2022-11-18 14:59:02</td>\n",
       "      <td>EMP-33, Thakur Village Rd, near Andhra Bank, K...</td>\n",
       "      <td>Sheikh Memon St, Fanas Wadi, Kalbadevi, Mumbai...</td>\n",
       "      <td>35.01</td>\n",
       "      <td>completed</td>\n",
       "      <td>13</td>\n",
       "      <td>Friday</td>\n",
       "    </tr>\n",
       "    <tr>\n",
       "      <th>19798</th>\n",
       "      <td>2022-11-18</td>\n",
       "      <td>215</td>\n",
       "      <td>ff8c4b08-8a0e-4106-aab1-e0a092487ff6</td>\n",
       "      <td>3d6d5fdd-1b24-49d6-bd2b-8e250eb7f557</td>\n",
       "      <td>cc02d9ec-aa51-46b5-aeb3-af0516e988ab</td>\n",
       "      <td>133965f4-2e84-414b-89ba-9dace3d77e0a</td>\n",
       "      <td>2022-11-18 22:51:55</td>\n",
       "      <td>completed</td>\n",
       "      <td>True</td>\n",
       "      <td>2022-11-18 23:08:37</td>\n",
       "      <td>...</td>\n",
       "      <td>MH01DR9413</td>\n",
       "      <td>personal_transport</td>\n",
       "      <td>2022-11-18 22:51:55</td>\n",
       "      <td>2022-11-19 00:48:04</td>\n",
       "      <td>Jain Society, Sion, Mumbai, Maharashtra 400022...</td>\n",
       "      <td>Badlapur Railway Station, Badlapur, Maharashtr...</td>\n",
       "      <td>53.42</td>\n",
       "      <td>completed</td>\n",
       "      <td>22</td>\n",
       "      <td>Friday</td>\n",
       "    </tr>\n",
       "    <tr>\n",
       "      <th>19799</th>\n",
       "      <td>2022-11-18</td>\n",
       "      <td>215</td>\n",
       "      <td>ff8c4b08-8a0e-4106-aab1-e0a092487ff6</td>\n",
       "      <td>3d6d5fdd-1b24-49d6-bd2b-8e250eb7f557</td>\n",
       "      <td>cc02d9ec-aa51-46b5-aeb3-af0516e988ab</td>\n",
       "      <td>2742250f-fa69-4b48-96a3-eff3e90ab79f</td>\n",
       "      <td>2022-11-18 22:52:50</td>\n",
       "      <td>rider_canceled</td>\n",
       "      <td>True</td>\n",
       "      <td>NaT</td>\n",
       "      <td>...</td>\n",
       "      <td>MH01DR9413</td>\n",
       "      <td>personal_transport</td>\n",
       "      <td>2022-11-18 22:52:50</td>\n",
       "      <td>0</td>\n",
       "      <td>Bandra Terminus, Naupada, Bandra East, Mumbai,...</td>\n",
       "      <td>Bandra Terminus, Naupada, Bandra East, Mumbai,...</td>\n",
       "      <td>0.00</td>\n",
       "      <td>rider_cancelled</td>\n",
       "      <td>22</td>\n",
       "      <td>Friday</td>\n",
       "    </tr>\n",
       "    <tr>\n",
       "      <th>19800</th>\n",
       "      <td>2022-11-18</td>\n",
       "      <td>215</td>\n",
       "      <td>ff8c4b08-8a0e-4106-aab1-e0a092487ff6</td>\n",
       "      <td>3d6d5fdd-1b24-49d6-bd2b-8e250eb7f557</td>\n",
       "      <td>cc02d9ec-aa51-46b5-aeb3-af0516e988ab</td>\n",
       "      <td>ba0c86bd-57bf-413a-aa1d-80bb58640f16</td>\n",
       "      <td>2022-11-18 22:53:58</td>\n",
       "      <td>rider_canceled</td>\n",
       "      <td>True</td>\n",
       "      <td>NaT</td>\n",
       "      <td>...</td>\n",
       "      <td>MH01DR9413</td>\n",
       "      <td>personal_transport</td>\n",
       "      <td>2022-11-18 22:53:58</td>\n",
       "      <td>0</td>\n",
       "      <td>Bandra Terminus, Naupada, Bandra East, Mumbai,...</td>\n",
       "      <td>Bandra Terminus, Naupada, Bandra East, Mumbai,...</td>\n",
       "      <td>0.00</td>\n",
       "      <td>rider_cancelled</td>\n",
       "      <td>22</td>\n",
       "      <td>Friday</td>\n",
       "    </tr>\n",
       "  </tbody>\n",
       "</table>\n",
       "<p>19801 rows × 32 columns</p>\n",
       "</div>"
      ],
      "text/plain": [
       "           day_b  city_id                           driver_uuid  \\\n",
       "0     2022-11-18      215  0007e579-cbb8-44c4-a32d-bbde59b4ef1f   \n",
       "1     2022-11-18      215  0007e579-cbb8-44c4-a32d-bbde59b4ef1f   \n",
       "2     2022-11-18      215  0007e579-cbb8-44c4-a32d-bbde59b4ef1f   \n",
       "3     2022-11-18      215  0007e579-cbb8-44c4-a32d-bbde59b4ef1f   \n",
       "4     2022-11-18      215  0007e579-cbb8-44c4-a32d-bbde59b4ef1f   \n",
       "...          ...      ...                                   ...   \n",
       "19796 2022-11-18      215  ff8c4b08-8a0e-4106-aab1-e0a092487ff6   \n",
       "19797 2022-11-18      215  ff8c4b08-8a0e-4106-aab1-e0a092487ff6   \n",
       "19798 2022-11-18      215  ff8c4b08-8a0e-4106-aab1-e0a092487ff6   \n",
       "19799 2022-11-18      215  ff8c4b08-8a0e-4106-aab1-e0a092487ff6   \n",
       "19800 2022-11-18      215  ff8c4b08-8a0e-4106-aab1-e0a092487ff6   \n",
       "\n",
       "                               vehicle_uuid  \\\n",
       "0      7797da74-ddff-451d-88ed-83b8624e5ae3   \n",
       "1      7797da74-ddff-451d-88ed-83b8624e5ae3   \n",
       "2      7797da74-ddff-451d-88ed-83b8624e5ae3   \n",
       "3      7797da74-ddff-451d-88ed-83b8624e5ae3   \n",
       "4      7797da74-ddff-451d-88ed-83b8624e5ae3   \n",
       "...                                     ...   \n",
       "19796  3d6d5fdd-1b24-49d6-bd2b-8e250eb7f557   \n",
       "19797  3d6d5fdd-1b24-49d6-bd2b-8e250eb7f557   \n",
       "19798  3d6d5fdd-1b24-49d6-bd2b-8e250eb7f557   \n",
       "19799  3d6d5fdd-1b24-49d6-bd2b-8e250eb7f557   \n",
       "19800  3d6d5fdd-1b24-49d6-bd2b-8e250eb7f557   \n",
       "\n",
       "                               partner_uuid  \\\n",
       "0      293fe8ea-1c04-4813-aa30-27ccb0c4cda3   \n",
       "1      293fe8ea-1c04-4813-aa30-27ccb0c4cda3   \n",
       "2      293fe8ea-1c04-4813-aa30-27ccb0c4cda3   \n",
       "3      293fe8ea-1c04-4813-aa30-27ccb0c4cda3   \n",
       "4      293fe8ea-1c04-4813-aa30-27ccb0c4cda3   \n",
       "...                                     ...   \n",
       "19796  cc02d9ec-aa51-46b5-aeb3-af0516e988ab   \n",
       "19797  cc02d9ec-aa51-46b5-aeb3-af0516e988ab   \n",
       "19798  cc02d9ec-aa51-46b5-aeb3-af0516e988ab   \n",
       "19799  cc02d9ec-aa51-46b5-aeb3-af0516e988ab   \n",
       "19800  cc02d9ec-aa51-46b5-aeb3-af0516e988ab   \n",
       "\n",
       "                                       uuid request_timestamp_local  \\\n",
       "0      ae67d6e6-be1b-4dd9-924d-8993d4b14995     2022-11-18 12:19:45   \n",
       "1      24d95a18-9e27-44b1-bf71-d729b88e9876     2022-11-18 13:01:14   \n",
       "2      93887b79-8f51-4468-b830-894666383774     2022-11-18 13:43:15   \n",
       "3      9e55aea4-c2a5-424d-ae4c-9c11fc68c34d     2022-11-18 14:30:57   \n",
       "4      fdde5c96-3539-4677-9d4c-c750b74e9bc4     2022-11-18 14:32:34   \n",
       "...                                     ...                     ...   \n",
       "19796  32c25ca8-38ed-4b93-b951-453fef3dd649     2022-11-18 12:24:45   \n",
       "19797  7c5144af-8fc4-4aa9-b1fd-da5beb66b871     2022-11-18 13:00:49   \n",
       "19798  133965f4-2e84-414b-89ba-9dace3d77e0a     2022-11-18 22:51:55   \n",
       "19799  2742250f-fa69-4b48-96a3-eff3e90ab79f     2022-11-18 22:52:50   \n",
       "19800  ba0c86bd-57bf-413a-aa1d-80bb58640f16     2022-11-18 22:53:58   \n",
       "\n",
       "               status  is_cash_trip begintrip_timestamp_local  ...  \\\n",
       "0           completed         False       2022-11-18 12:36:19  ...   \n",
       "1           completed         False       2022-11-18 13:10:09  ...   \n",
       "2           completed         False       2022-11-18 13:52:20  ...   \n",
       "3      rider_canceled         False                       NaT  ...   \n",
       "4           completed         False       2022-11-18 14:59:29  ...   \n",
       "...               ...           ...                       ...  ...   \n",
       "19796       completed         False       2022-11-18 12:37:46  ...   \n",
       "19797       completed          True       2022-11-18 13:28:53  ...   \n",
       "19798       completed          True       2022-11-18 23:08:37  ...   \n",
       "19799  rider_canceled          True                       NaT  ...   \n",
       "19800  rider_canceled          True                       NaT  ...   \n",
       "\n",
       "       Number plate        Service type   Trip request time  \\\n",
       "0        MH01DR8898  personal_transport 2022-11-18 12:19:45   \n",
       "1        MH01DR8898  personal_transport 2022-11-18 13:01:14   \n",
       "2        MH01DR8898  personal_transport 2022-11-18 13:43:15   \n",
       "3        MH01DR8898  personal_transport 2022-11-18 14:30:57   \n",
       "4        MH01DR8898  personal_transport 2022-11-18 14:32:34   \n",
       "...             ...                 ...                 ...   \n",
       "19796    MH01DR9413  personal_transport 2022-11-18 12:24:45   \n",
       "19797    MH01DR9413  personal_transport 2022-11-18 13:00:49   \n",
       "19798    MH01DR9413  personal_transport 2022-11-18 22:51:55   \n",
       "19799    MH01DR9413  personal_transport 2022-11-18 22:52:50   \n",
       "19800    MH01DR9413  personal_transport 2022-11-18 22:53:58   \n",
       "\n",
       "        Trip drop-off time                                    Pick-up address  \\\n",
       "0      2022-11-18 12:58:31  Surya Sadan, Rd Number 14, Kasturba Gandhi Nag...   \n",
       "1      2022-11-18 13:43:12  #A2, 4th Floor, Cnergy IT Park, Old Standard M...   \n",
       "2      2022-11-18 14:53:20                                      International   \n",
       "3                        0  1st Floor, North Wing, S 14, Solitaire Corpora...   \n",
       "4      2022-11-18 15:43:51  Whispering Palms Xxclusive, Kandivali, Alika N...   \n",
       "...                    ...                                                ...   \n",
       "19796  2022-11-18 13:19:07  5, Sahar Airport Rd, Santosh Mata Nagar, Ashok...   \n",
       "19797  2022-11-18 14:59:02  EMP-33, Thakur Village Rd, near Andhra Bank, K...   \n",
       "19798  2022-11-19 00:48:04  Jain Society, Sion, Mumbai, Maharashtra 400022...   \n",
       "19799                    0  Bandra Terminus, Naupada, Bandra East, Mumbai,...   \n",
       "19800                    0  Bandra Terminus, Naupada, Bandra East, Mumbai,...   \n",
       "\n",
       "                                        Drop-off address  Trip distance  \\\n",
       "0      Pandurang Budhkar Marg, Worli Century Mills Co...           5.90   \n",
       "1                      Mumbai, Maharashtra 400099, India          19.10   \n",
       "2      Akurli Cross Rd, Kandivali, Gokul Nagar, Kandi...          15.70   \n",
       "3      1st Floor, North Wing, S 14, Solitaire Corpora...           0.00   \n",
       "4      BRAMHADEV SOCIETY, C/WING, Padmabai Thakkar Ma...          23.55   \n",
       "...                                                  ...            ...   \n",
       "19796  6V5C+XG9, Next to Miraj Cinemas Thakur Mall, K...          16.36   \n",
       "19797  Sheikh Memon St, Fanas Wadi, Kalbadevi, Mumbai...          35.01   \n",
       "19798  Badlapur Railway Station, Badlapur, Maharashtr...          53.42   \n",
       "19799  Bandra Terminus, Naupada, Bandra East, Mumbai,...           0.00   \n",
       "19800  Bandra Terminus, Naupada, Bandra East, Mumbai,...           0.00   \n",
       "\n",
       "           Trip status Hour DayOfWeek  \n",
       "0            completed   12    Friday  \n",
       "1            completed   13    Friday  \n",
       "2            completed   13    Friday  \n",
       "3      rider_cancelled   14    Friday  \n",
       "4            completed   14    Friday  \n",
       "...                ...  ...       ...  \n",
       "19796        completed   12    Friday  \n",
       "19797        completed   13    Friday  \n",
       "19798        completed   22    Friday  \n",
       "19799  rider_cancelled   22    Friday  \n",
       "19800  rider_cancelled   22    Friday  \n",
       "\n",
       "[19801 rows x 32 columns]"
      ]
     },
     "execution_count": 62,
     "metadata": {},
     "output_type": "execute_result"
    }
   ],
   "source": [
    "\n",
    "merged_data1 = pd.merge(everest, trip_activity, how='inner', left_on='uuid', right_on='Trip UUID')\n",
    "\n"
   ]
  },
  {
   "cell_type": "code",
   "execution_count": 63,
   "id": "d434d9ba-5ef6-4a93-a650-d75088b5ed58",
   "metadata": {
    "tags": []
   },
   "outputs": [],
   "source": [
    "merged_data1.to_csv('merged_data1.csv', index=False)"
   ]
  },
  {
   "cell_type": "code",
   "execution_count": 64,
   "id": "ca09a80a-c08d-4ac1-b3b5-d747973e96c9",
   "metadata": {
    "tags": []
   },
   "outputs": [
    {
     "name": "stdout",
     "output_type": "stream",
     "text": [
      "1909\n"
     ]
    }
   ],
   "source": [
    "unique_driver_id = np.unique(merged_data1['driver_uuid'])\n",
    "print(len(unique_driver_id))"
   ]
  },
  {
   "cell_type": "code",
   "execution_count": 65,
   "id": "16ba819f-82b0-40ce-acb2-291031a8619a",
   "metadata": {
    "tags": []
   },
   "outputs": [
    {
     "name": "stdout",
     "output_type": "stream",
     "text": [
      "<class 'pandas.core.frame.DataFrame'>\n",
      "Int64Index: 19801 entries, 0 to 19800\n",
      "Data columns (total 32 columns):\n",
      " #   Column                     Non-Null Count  Dtype         \n",
      "---  ------                     --------------  -----         \n",
      " 0   day_b                      19801 non-null  datetime64[ns]\n",
      " 1   city_id                    19801 non-null  int64         \n",
      " 2   driver_uuid                19801 non-null  object        \n",
      " 3   vehicle_uuid               19801 non-null  object        \n",
      " 4   partner_uuid               19801 non-null  object        \n",
      " 5   uuid                       19801 non-null  object        \n",
      " 6   request_timestamp_local    19801 non-null  datetime64[ns]\n",
      " 7   status                     19801 non-null  object        \n",
      " 8   is_cash_trip               19801 non-null  bool          \n",
      " 9   begintrip_timestamp_local  14148 non-null  datetime64[ns]\n",
      " 10  begintrip_lat              19801 non-null  float64       \n",
      " 11  begintrip_lng              19801 non-null  float64       \n",
      " 12  destination_lat            19798 non-null  float64       \n",
      " 13  destination_lng            19801 non-null  float64       \n",
      " 14  dropoff_timestamp_local    14115 non-null  datetime64[ns]\n",
      " 15  dropoff_lat                19801 non-null  float64       \n",
      " 16  dropoff_lng                19801 non-null  float64       \n",
      " 17  Trip UUID                  19801 non-null  object        \n",
      " 18  Driver UUID                19801 non-null  object        \n",
      " 19  Driver first name          19801 non-null  object        \n",
      " 20  Driver surname             19801 non-null  object        \n",
      " 21  Vehicle UUID               19801 non-null  object        \n",
      " 22  Number plate               19801 non-null  object        \n",
      " 23  Service type               19801 non-null  object        \n",
      " 24  Trip request time          19801 non-null  datetime64[ns]\n",
      " 25  Trip drop-off time         19801 non-null  object        \n",
      " 26  Pick-up address            19801 non-null  object        \n",
      " 27  Drop-off address           19801 non-null  object        \n",
      " 28  Trip distance              19801 non-null  float64       \n",
      " 29  Trip status                19801 non-null  object        \n",
      " 30  Hour                       19801 non-null  int64         \n",
      " 31  DayOfWeek                  19801 non-null  object        \n",
      "dtypes: bool(1), datetime64[ns](5), float64(7), int64(2), object(17)\n",
      "memory usage: 4.9+ MB\n"
     ]
    }
   ],
   "source": [
    "merged_data1.info()"
   ]
  },
  {
   "cell_type": "code",
   "execution_count": 66,
   "id": "ba8e0afa-25cc-40a0-ac11-240e1e85bc9d",
   "metadata": {
    "tags": []
   },
   "outputs": [
    {
     "data": {
      "text/plain": [
       "19801"
      ]
     },
     "execution_count": 66,
     "metadata": {},
     "output_type": "execute_result"
    }
   ],
   "source": [
    "len(np.unique(merged_data1['Trip UUID']))"
   ]
  },
  {
   "cell_type": "code",
   "execution_count": 67,
   "id": "ce896e56-ebb5-4b2a-a5fa-e0324c9fec4c",
   "metadata": {
    "tags": []
   },
   "outputs": [
    {
     "data": {
      "text/plain": [
       "19801"
      ]
     },
     "execution_count": 67,
     "metadata": {},
     "output_type": "execute_result"
    }
   ],
   "source": [
    "len(np.unique(merged_data1['uuid']))"
   ]
  },
  {
   "cell_type": "code",
   "execution_count": 68,
   "id": "9072cd89-ddef-4541-943f-056a74e59fb2",
   "metadata": {
    "tags": []
   },
   "outputs": [
    {
     "data": {
      "text/plain": [
       "Index(['day_b', 'city_id', 'driver_uuid', 'vehicle_uuid', 'partner_uuid',\n",
       "       'uuid', 'request_timestamp_local', 'status', 'is_cash_trip',\n",
       "       'begintrip_timestamp_local', 'begintrip_lat', 'begintrip_lng',\n",
       "       'destination_lat', 'destination_lng', 'dropoff_timestamp_local',\n",
       "       'dropoff_lat', 'dropoff_lng', 'Trip UUID', 'Driver UUID',\n",
       "       'Driver first name', 'Driver surname', 'Vehicle UUID', 'Number plate',\n",
       "       'Service type', 'Trip request time', 'Trip drop-off time',\n",
       "       'Pick-up address', 'Drop-off address', 'Trip distance', 'Trip status',\n",
       "       'Hour', 'DayOfWeek'],\n",
       "      dtype='object')"
      ]
     },
     "execution_count": 68,
     "metadata": {},
     "output_type": "execute_result"
    }
   ],
   "source": [
    "new_data=pd.read_csv(\"merged_data1.csv\")\n",
    "new_data.columns"
   ]
  },
  {
   "cell_type": "code",
   "execution_count": 69,
   "id": "6a5ad2f1-57ac-4f58-a766-3b3b7e3192a3",
   "metadata": {
    "tags": []
   },
   "outputs": [
    {
     "data": {
      "text/plain": [
       "day_b                           0\n",
       "city_id                         0\n",
       "driver_uuid                     0\n",
       "vehicle_uuid                    0\n",
       "partner_uuid                    0\n",
       "uuid                            0\n",
       "request_timestamp_local         0\n",
       "status                          0\n",
       "is_cash_trip                    0\n",
       "begintrip_timestamp_local    5653\n",
       "begintrip_lat                   0\n",
       "begintrip_lng                   0\n",
       "destination_lat                 3\n",
       "destination_lng                 0\n",
       "dropoff_timestamp_local      5686\n",
       "dropoff_lat                     0\n",
       "dropoff_lng                     0\n",
       "Trip UUID                       0\n",
       "Driver UUID                     0\n",
       "Driver first name               0\n",
       "Driver surname                  0\n",
       "Vehicle UUID                    0\n",
       "Number plate                    0\n",
       "Service type                    0\n",
       "Trip request time               0\n",
       "Trip drop-off time              0\n",
       "Pick-up address                 0\n",
       "Drop-off address                0\n",
       "Trip distance                   0\n",
       "Trip status                     0\n",
       "Hour                            0\n",
       "DayOfWeek                       0\n",
       "dtype: int64"
      ]
     },
     "execution_count": 69,
     "metadata": {},
     "output_type": "execute_result"
    }
   ],
   "source": [
    "new_data.isna().sum()"
   ]
  },
  {
   "cell_type": "code",
   "execution_count": 70,
   "id": "a64b9752-7e4e-499f-8943-140c09052046",
   "metadata": {},
   "outputs": [
    {
     "data": {
      "text/plain": [
       "1909"
      ]
     },
     "execution_count": 70,
     "metadata": {},
     "output_type": "execute_result"
    }
   ],
   "source": [
    "len(np.unique(merged_data1['driver_uuid']))"
   ]
  },
  {
   "cell_type": "code",
   "execution_count": 71,
   "id": "43903861-055a-490a-9b6a-2c373434c713",
   "metadata": {
    "tags": []
   },
   "outputs": [
    {
     "data": {
      "text/plain": [
       "array(['0007e579-cbb8-44c4-a32d-bbde59b4ef1f',\n",
       "       '001797d7-5f2b-48be-8b62-29635edbe124',\n",
       "       '0018f72f-581f-4506-9092-2beafbd41ca1', ...,\n",
       "       'ff7a3d4d-9a6d-4dae-bdcc-dc244750ba2e',\n",
       "       'ff7e2962-fe2c-4f11-bffc-3cb4f908a493',\n",
       "       'ff8c4b08-8a0e-4106-aab1-e0a092487ff6'], dtype=object)"
      ]
     },
     "execution_count": 71,
     "metadata": {},
     "output_type": "execute_result"
    }
   ],
   "source": [
    "np.unique(merged_data1['driver_uuid'])"
   ]
  },
  {
   "cell_type": "code",
   "execution_count": 72,
   "id": "6d294036-c605-4293-a97c-3db6b70114a0",
   "metadata": {
    "tags": []
   },
   "outputs": [
    {
     "data": {
      "text/plain": [
       "1969"
      ]
     },
     "execution_count": 72,
     "metadata": {},
     "output_type": "execute_result"
    }
   ],
   "source": [
    "len(np.unique(everest['driver_uuid']))"
   ]
  },
  {
   "cell_type": "markdown",
   "id": "700324cc-fbca-4c32-97b4-5e97902cbc16",
   "metadata": {},
   "source": [
    "# now we want Store each Driver info in csv file"
   ]
  },
  {
   "cell_type": "code",
   "execution_count": 73,
   "id": "308c74ea-18cb-4d70-b369-8cf27b9badfb",
   "metadata": {
    "tags": []
   },
   "outputs": [
    {
     "name": "stdout",
     "output_type": "stream",
     "text": [
      "File saved: Drivers\\0007e579-cbb8-44c4-a32d-bbde59b4ef1f.csv\n",
      "File saved: Drivers\\001797d7-5f2b-48be-8b62-29635edbe124.csv\n",
      "File saved: Drivers\\0018f72f-581f-4506-9092-2beafbd41ca1.csv\n",
      "File saved: Drivers\\0077c44a-fcbf-494f-ba03-4a6afccda61b.csv\n",
      "File saved: Drivers\\00b32f06-a162-4bd4-8f41-7c5f4b530ac5.csv\n",
      "File saved: Drivers\\00cc1737-d708-4ddf-ad73-ea915df3845a.csv\n",
      "File saved: Drivers\\00d5d322-1a72-4dc9-b097-eff583f15540.csv\n",
      "File saved: Drivers\\00f0c75d-9cbf-42b0-9b81-93b770d5d0a8.csv\n",
      "File saved: Drivers\\01052d4d-50e3-4331-82b3-e2093d480eeb.csv\n",
      "File saved: Drivers\\01284ad1-f6a1-4fb7-8d35-ceefb5b0ced9.csv\n",
      "File saved: Drivers\\0143f3da-4cd2-4284-a3c4-1da04923ea63.csv\n",
      "File saved: Drivers\\018606be-3565-4f3c-96e1-047316260ca5.csv\n",
      "File saved: Drivers\\018d1e7e-d177-4741-925d-7953df2dfe73.csv\n",
      "File saved: Drivers\\01d03159-c10e-43ff-a9c8-a23a7794e069.csv\n",
      "File saved: Drivers\\01d38adb-7318-44e2-acb1-cc475921d250.csv\n",
      "File saved: Drivers\\01d49152-c62c-4d85-926b-1c2cb1c7c1b8.csv\n",
      "File saved: Drivers\\01d4c5fd-1c81-4525-8dbd-f1329e982ff1.csv\n",
      "File saved: Drivers\\01dbf846-3890-4fcb-a70f-b1eb4f536fef.csv\n",
      "File saved: Drivers\\01de2a4e-13da-47d1-aca7-40642a11a262.csv\n",
      "File saved: Drivers\\01df956b-6da1-4822-846f-d3d130c10307.csv\n",
      "File saved: Drivers\\021e1996-9c72-4ad2-8604-b5ae43b7a380.csv\n",
      "File saved: Drivers\\0239112a-fab4-43bb-a239-d479b0d99fcf.csv\n",
      "File saved: Drivers\\02b05dd1-6459-48d5-9eab-214f99b88374.csv\n",
      "File saved: Drivers\\02c439f6-c877-4ece-a81a-48fa013fa062.csv\n",
      "File saved: Drivers\\02d1cbcc-ef5e-4fcf-a8dd-e71e7d285f7c.csv\n",
      "File saved: Drivers\\02f7939c-be8e-4f19-82c5-78d1d84b0264.csv\n",
      "File saved: Drivers\\03a7d519-7578-4312-825b-3acd5d207735.csv\n",
      "File saved: Drivers\\03a88183-483d-4dde-95eb-b2728c8ee276.csv\n",
      "File saved: Drivers\\03c0b652-3a85-4d3f-bd31-05fe1b54988a.csv\n",
      "File saved: Drivers\\040f29ab-951b-44f5-a181-9333abca58dd.csv\n",
      "File saved: Drivers\\04308c2e-ae5b-4322-9ec4-3628a5db418d.csv\n",
      "File saved: Drivers\\0494b71e-bbeb-4d70-80c5-c782e74f1e57.csv\n",
      "File saved: Drivers\\04ada93d-8437-4c99-bddc-c76cd56825db.csv\n",
      "File saved: Drivers\\04cbbb92-f65f-4942-b8d3-5e6e9047b8ea.csv\n",
      "File saved: Drivers\\04e28e97-8667-4ca2-99f1-7a8c4fe71b70.csv\n",
      "File saved: Drivers\\04e95902-3a21-44f4-a706-7c6cc57e63c8.csv\n",
      "File saved: Drivers\\058185e2-2034-4be2-aa91-a176b3994797.csv\n",
      "File saved: Drivers\\05b5fad8-378a-4ef3-905d-b0661755ea24.csv\n",
      "File saved: Drivers\\05f4170d-cc29-4616-be5b-95d0e319b54f.csv\n",
      "File saved: Drivers\\06465336-f4b5-4cb1-b06a-30545bb6315b.csv\n",
      "File saved: Drivers\\0667c8c2-2bad-4b1f-be0b-3aa225daebf3.csv\n",
      "File saved: Drivers\\0695d0e8-3f58-492e-b0ed-718b63871f28.csv\n",
      "File saved: Drivers\\06fd065f-d098-42c2-a49c-1d23b61f3644.csv\n",
      "File saved: Drivers\\07210510-6267-48fc-8b80-a1fb2abcf9e8.csv\n",
      "File saved: Drivers\\079bdf3a-2356-4944-b277-d9c007bf1305.csv\n",
      "File saved: Drivers\\07a9ce6d-f4be-4183-b048-03187b4f4487.csv\n",
      "File saved: Drivers\\07ab2b39-b773-4cb7-a031-bacd712a26dc.csv\n",
      "File saved: Drivers\\07d29409-11ca-46d4-a2bc-11fe8a663c3e.csv\n",
      "File saved: Drivers\\07e5a131-132f-4b5a-843d-be849760c3ab.csv\n",
      "File saved: Drivers\\081314a2-710b-4cff-972c-e5036993a252.csv\n",
      "File saved: Drivers\\081fdb6a-4fc2-43fd-8632-42bb5a074bf2.csv\n",
      "File saved: Drivers\\0824b75e-fa98-4b86-8be0-f629e27d5e1c.csv\n",
      "File saved: Drivers\\082dfee4-e63e-4143-bbf5-b3d2f56bc8da.csv\n",
      "File saved: Drivers\\083243c7-e925-41e2-ae82-3f091c645b25.csv\n",
      "File saved: Drivers\\0887c5f7-f632-4a7e-ad69-cdaba11bb2ef.csv\n",
      "File saved: Drivers\\089779e8-ce72-42ba-b31c-ce9e0af3ac0c.csv\n",
      "File saved: Drivers\\089de94d-7772-491c-b587-700d65cfdbab.csv\n",
      "File saved: Drivers\\08b55e21-ad4f-49a3-8784-485fec49d880.csv\n",
      "File saved: Drivers\\08bc1c0b-ca2e-414f-b02a-050be98b1c54.csv\n",
      "File saved: Drivers\\0935e6bc-6edf-4d75-a5ce-f44a77117cd1.csv\n",
      "File saved: Drivers\\094b26d8-9e0b-451b-955b-38d4b2dfe37c.csv\n",
      "File saved: Drivers\\094c4f4e-1a28-4aac-8526-a6f3dd5d4850.csv\n",
      "File saved: Drivers\\0954f211-a693-4f6c-a269-d9fc16c6fb0e.csv\n",
      "File saved: Drivers\\095828cd-b3e7-4f30-9ebb-ff6c618c52bd.csv\n",
      "File saved: Drivers\\0978607e-e300-4057-9010-7b3922913f84.csv\n",
      "File saved: Drivers\\09d856cb-88d9-4977-a823-7aabbd2afb6e.csv\n",
      "File saved: Drivers\\09e6eb07-8da4-4549-b3c2-97e59e9d1b1c.csv\n",
      "File saved: Drivers\\09f13488-5600-4d18-898f-392c4c51f996.csv\n",
      "File saved: Drivers\\0a0b5e9e-a75b-4ade-a1cf-17f97fac008c.csv\n",
      "File saved: Drivers\\0a1ad3e7-e737-457a-93cd-b5298faf44a7.csv\n",
      "File saved: Drivers\\0a24fbad-ce55-48e2-8ace-7dacb3751bf5.csv\n",
      "File saved: Drivers\\0a63defc-1226-4c0b-a6d8-e78c008f56a8.csv\n",
      "File saved: Drivers\\0a686524-a75f-418c-8cff-edb517707ce0.csv\n",
      "File saved: Drivers\\0a6b4ee2-f948-4d36-a861-17b4dd6bca66.csv\n",
      "File saved: Drivers\\0a9f8f16-b6a9-410c-94bd-9570aee6d701.csv\n",
      "File saved: Drivers\\0abb6470-5b07-44f4-9dac-73faeb741d7e.csv\n",
      "File saved: Drivers\\0b0a3332-5e31-4e95-b823-5258917350db.csv\n",
      "File saved: Drivers\\0b266925-c915-4015-8494-672bca967eea.csv\n",
      "File saved: Drivers\\0b529b12-3a12-4be7-b4ed-66069e8eddd5.csv\n",
      "File saved: Drivers\\0b664f7c-1d3b-41f3-875c-537aaaa3bc24.csv\n",
      "File saved: Drivers\\0b6b934a-b706-4417-9a64-0b782c0fcc3f.csv\n",
      "File saved: Drivers\\0b9092e8-e921-4469-803b-a394e71de805.csv\n",
      "File saved: Drivers\\0b92a3dd-2a1e-4e72-a9e0-2fae66a5c169.csv\n",
      "File saved: Drivers\\0bd70b70-e7d6-4b94-a44a-88b39c3276d6.csv\n",
      "File saved: Drivers\\0c49a8cc-02d5-412a-b02d-40ade6f4be85.csv\n",
      "File saved: Drivers\\0c4dcb91-a67d-4683-81d3-6124f851010d.csv\n",
      "File saved: Drivers\\0c5bcff1-9484-43b1-a4b5-02d1786273cd.csv\n",
      "File saved: Drivers\\0c5d907a-b667-4d10-8e64-d3f7b73d63f0.csv\n",
      "File saved: Drivers\\0c633646-7266-4b9b-a9b6-729a636b6f4b.csv\n",
      "File saved: Drivers\\0c74d917-b0b9-4359-b231-a8150aefab1a.csv\n",
      "File saved: Drivers\\0cb27b26-197e-475a-bb16-018f1cdfe836.csv\n",
      "File saved: Drivers\\0ccbbd30-73e2-45ef-9bbe-75639449940e.csv\n",
      "File saved: Drivers\\0cf7e2d0-c495-41fe-a1b8-3f00e0be8b0a.csv\n",
      "File saved: Drivers\\0d29c179-33f3-4172-948e-05f42985dcb1.csv\n",
      "File saved: Drivers\\0d44d97d-0aaa-42c7-a289-fa9574a4cf46.csv\n",
      "File saved: Drivers\\0d4aaf3e-10da-4019-88d5-6ae021dba69c.csv\n",
      "File saved: Drivers\\0d533363-4e48-4461-8031-d23a83531f25.csv\n",
      "File saved: Drivers\\0de42deb-eb3a-4187-bc17-5982084e9dea.csv\n",
      "File saved: Drivers\\0deddc39-d589-433b-8463-4f44fdd1ed34.csv\n",
      "File saved: Drivers\\0dfb5a6e-dee6-43e9-92a9-025e556e5591.csv\n",
      "File saved: Drivers\\0e377dd0-3441-4778-8eb0-3a76f6c3976d.csv\n",
      "File saved: Drivers\\0e43986e-19d1-493e-b35a-87fdc529cd62.csv\n",
      "File saved: Drivers\\0e542119-1c77-4149-932d-44060bfb9089.csv\n",
      "File saved: Drivers\\0e54a95a-a122-46ee-80a9-7f285eb12a53.csv\n",
      "File saved: Drivers\\0e75fff9-c749-44ff-b749-0f7fe74881ba.csv\n",
      "File saved: Drivers\\0e784e34-eb53-411d-98c4-6c620d0d6db4.csv\n",
      "File saved: Drivers\\0e7a6f5e-b7aa-4888-85e1-ffc5fe8af648.csv\n",
      "File saved: Drivers\\0e856a9d-4b61-45ab-b1aa-f3d91cd69990.csv\n",
      "File saved: Drivers\\0e8b19fb-04e6-4dea-b2f3-4f0bf2420571.csv\n",
      "File saved: Drivers\\0e94b9bf-d93b-43d9-a5a2-8aa602c6ceaf.csv\n",
      "File saved: Drivers\\0ec9f517-29d7-40be-8b50-b2214b0138c6.csv\n",
      "File saved: Drivers\\0ecba0d1-5ac2-48de-b261-f2235f849d03.csv\n",
      "File saved: Drivers\\0edbfb68-5dc6-495a-ad54-99aef7e88035.csv\n",
      "File saved: Drivers\\0f040a1a-39af-432c-a86b-968327750243.csv\n",
      "File saved: Drivers\\0f0c2662-024d-4a04-a06c-b014a667796d.csv\n",
      "File saved: Drivers\\0f482389-8183-495a-affa-054f1ebe5753.csv\n",
      "File saved: Drivers\\0f5ab106-855c-413c-b22e-ad933c8a6a1f.csv\n",
      "File saved: Drivers\\0f72a569-9bab-420f-b768-bd51f6c94db9.csv\n",
      "File saved: Drivers\\0f767d3d-5a8e-4502-8583-e90c043da99e.csv\n",
      "File saved: Drivers\\0f7d3c21-f4dd-4da4-aacf-70c3aaa71ac2.csv\n",
      "File saved: Drivers\\0f9ac974-746d-4a8f-b58b-ef53fbacf1a3.csv\n",
      "File saved: Drivers\\0ff6b524-9d80-45f7-864c-47f7c4c96c3d.csv\n",
      "File saved: Drivers\\0ff9bd86-0cef-418e-b911-ba336875950b.csv\n",
      "File saved: Drivers\\100cca6e-42fa-40e5-b357-dc021bb5405e.csv\n",
      "File saved: Drivers\\10463326-3ef2-45cf-afc0-6d4a8421657f.csv\n",
      "File saved: Drivers\\10a8be4b-c055-485d-bd37-c6828bb94812.csv\n",
      "File saved: Drivers\\10b86b1a-fab4-4df5-9c48-5b766cc49274.csv\n",
      "File saved: Drivers\\11397f39-6702-40b3-b646-10e995134402.csv\n",
      "File saved: Drivers\\11673d8c-6f95-4ccb-b1b6-d5af6e36b23f.csv\n",
      "File saved: Drivers\\119c1e77-222b-47a9-90ec-05eb6521e573.csv\n",
      "File saved: Drivers\\11e5957a-42aa-4a4a-94b7-a534c65ed7bb.csv\n",
      "File saved: Drivers\\121f4ea9-f542-48a5-98cf-b7c2e358ad0a.csv\n",
      "File saved: Drivers\\1229a396-0714-49c2-8a72-21bd3f9ebb7d.csv\n",
      "File saved: Drivers\\12333014-2213-4972-9705-dc365a140950.csv\n",
      "File saved: Drivers\\123573bf-d8ae-45bb-97dc-1186ce5da47d.csv\n",
      "File saved: Drivers\\12414495-5b9a-4c77-86dc-4e7c3b48c540.csv\n",
      "File saved: Drivers\\12493869-7cd4-4323-9442-7bf86bd20252.csv\n",
      "File saved: Drivers\\1258f3e6-ec53-40a5-ab0e-d940b7164bcd.csv\n",
      "File saved: Drivers\\125abe12-1638-44b6-94aa-e5413f5417f0.csv\n",
      "File saved: Drivers\\127ce5e9-2a0a-4ee3-a027-1dc8711180b8.csv\n",
      "File saved: Drivers\\12c93990-edfd-4b7a-81ba-4bd4adeee2c9.csv\n",
      "File saved: Drivers\\12d4ea0e-bee0-4bc7-8bca-e9b7c75aa6d8.csv\n",
      "File saved: Drivers\\130ae5a2-ecd2-4970-8f07-a9aac9f550fe.csv\n",
      "File saved: Drivers\\134cd54a-6b6a-4c52-96fd-c9f0b9e2f830.csv\n",
      "File saved: Drivers\\135fb00c-add8-44dd-8439-7f5ed699d6a6.csv\n",
      "File saved: Drivers\\13a849b6-d114-431b-88a5-7820ed8bc28a.csv\n",
      "File saved: Drivers\\13aa6098-8f0e-4b3a-a21e-5b026a632a03.csv\n",
      "File saved: Drivers\\13aa96aa-57c1-49ec-a19b-a13ae1e0080f.csv\n",
      "File saved: Drivers\\13ab629d-6c41-43ad-9469-b4b8d287a27f.csv\n",
      "File saved: Drivers\\13b1a911-676c-42bc-92a0-08154e759cfa.csv\n",
      "File saved: Drivers\\13ce7b30-c6c4-40a0-9df2-08857dc586ce.csv\n",
      "File saved: Drivers\\13d3b337-e830-483b-a4df-90794697f7e2.csv\n",
      "File saved: Drivers\\13f1b972-f36a-4400-8f2d-53cf8ab772d1.csv\n",
      "File saved: Drivers\\13f936ce-2301-4b27-a8a8-df7473ccb389.csv\n",
      "File saved: Drivers\\14454632-636e-4ca5-b185-fdb3a6868e54.csv\n",
      "File saved: Drivers\\1464608d-53dc-44c1-b25a-19d1a3fd7b9c.csv\n",
      "File saved: Drivers\\1495f8d3-59d7-47eb-84dc-92f8b259d0f9.csv\n",
      "File saved: Drivers\\14ad6b22-e81e-4476-bf2b-2da462ffc244.csv\n",
      "File saved: Drivers\\14b05d1e-3b27-411c-8e96-2e5fe282f448.csv\n",
      "File saved: Drivers\\14dcbeeb-eaeb-40a3-8c14-74b43f5b0145.csv\n",
      "File saved: Drivers\\15aaddc3-06b9-4316-8a34-6ebcf1f23fc9.csv\n",
      "File saved: Drivers\\15c7b6e0-be6b-4129-a8b3-e95f29c291a2.csv\n",
      "File saved: Drivers\\15d5a5b2-607d-4d92-bfa6-c19948f947df.csv\n",
      "File saved: Drivers\\15e85449-8d5c-441c-b6b5-0e35bc3299a8.csv\n",
      "File saved: Drivers\\15f30e58-de24-4c0a-a52a-ccba97df29a3.csv\n",
      "File saved: Drivers\\1628d43f-abc3-402a-bb30-9a5ebe1800da.csv\n",
      "File saved: Drivers\\1636ffc6-fdbd-41e8-ac9d-b421d1e7ca91.csv\n",
      "File saved: Drivers\\16395028-8cef-4dec-bda7-e4a726a8299a.csv\n",
      "File saved: Drivers\\165926f4-3741-4626-91ff-2541b2dd6524.csv\n",
      "File saved: Drivers\\1659af5c-54ca-4ae8-8fa3-57d554ac0c57.csv\n"
     ]
    },
    {
     "name": "stdout",
     "output_type": "stream",
     "text": [
      "File saved: Drivers\\16852d7d-1fde-4096-816b-6a5a23be5696.csv\n",
      "File saved: Drivers\\16e52854-347d-4e4b-9e5a-0af01a1cf9a9.csv\n",
      "File saved: Drivers\\16eac740-45c8-4d61-8eb5-d112a88c57cb.csv\n",
      "File saved: Drivers\\173b06eb-b335-43ab-9d93-9987c6213f1c.csv\n",
      "File saved: Drivers\\175a125d-d777-4c52-8e44-d4861f6a96c3.csv\n",
      "File saved: Drivers\\1811412f-d6b2-4abf-aadf-8ced042485a0.csv\n",
      "File saved: Drivers\\184191a8-449e-4115-af0f-36ac3ae93756.csv\n",
      "File saved: Drivers\\184d4a65-37bf-49e2-9698-10a774c16131.csv\n",
      "File saved: Drivers\\18b372e6-045b-4ea7-957d-61a5450b5475.csv\n",
      "File saved: Drivers\\18b7202d-254b-4e6e-9bac-165248ada0b2.csv\n",
      "File saved: Drivers\\18e7741c-3ad3-4d86-9802-0b45686578d0.csv\n",
      "File saved: Drivers\\18ea0cf9-3836-47f6-b2fe-dd7d0c2a321c.csv\n",
      "File saved: Drivers\\18f00e80-dce9-4596-8096-48490d9a1229.csv\n",
      "File saved: Drivers\\190d24f4-c2d6-404a-82ca-2446622eaedf.csv\n",
      "File saved: Drivers\\191cd97b-b321-4bf7-b84f-eafbd5d0250b.csv\n",
      "File saved: Drivers\\19385544-9fbf-408c-825e-458615b41a0b.csv\n",
      "File saved: Drivers\\196cd52f-2017-4f52-95f0-6e469fc89d31.csv\n",
      "File saved: Drivers\\19b18cb8-3705-4420-9d9b-15ce11479459.csv\n",
      "File saved: Drivers\\1a290ef9-4978-47e9-84bf-fdf4b96a6fbe.csv\n",
      "File saved: Drivers\\1a5b2fc3-65e0-44bd-8077-e8019bf2ee1c.csv\n",
      "File saved: Drivers\\1a997f57-46a6-4668-8b2a-c829e8ffca18.csv\n",
      "File saved: Drivers\\1ae03781-6298-4b32-8c5b-42cac9bd066c.csv\n",
      "File saved: Drivers\\1b05172f-4d39-471a-9a2b-f18c84a06970.csv\n",
      "File saved: Drivers\\1b2142c4-e9b8-437d-b390-d339f0b69f70.csv\n",
      "File saved: Drivers\\1b4c9e55-8770-4348-97a5-7608e591dcde.csv\n",
      "File saved: Drivers\\1baeca01-0858-4388-b4e8-266519c1132d.csv\n",
      "File saved: Drivers\\1bdd5c3d-c45f-4ae5-b028-54cdf330f67c.csv\n",
      "File saved: Drivers\\1bf26072-a1b9-404a-a44c-759724fc8492.csv\n",
      "File saved: Drivers\\1c038918-93c3-4ee0-9b10-83a64706687d.csv\n",
      "File saved: Drivers\\1c08ebd3-3465-4b98-93e5-d8210df80a66.csv\n",
      "File saved: Drivers\\1c20579f-7d72-4039-8986-32de8c85d8d6.csv\n",
      "File saved: Drivers\\1c21aa8a-b9a1-47d2-9b60-1f8cb4a65765.csv\n",
      "File saved: Drivers\\1c3ff1ea-ec81-4b45-867a-69c40a2404da.csv\n",
      "File saved: Drivers\\1c6c714d-b348-4545-ac57-0c938138ac67.csv\n",
      "File saved: Drivers\\1c7b427c-832a-465f-8c14-fab9658e74a0.csv\n",
      "File saved: Drivers\\1c7e831a-f9d4-4205-8545-350c7aacce74.csv\n",
      "File saved: Drivers\\1c90ca57-cd5a-4317-878c-23a9aff35d3d.csv\n",
      "File saved: Drivers\\1c920bf5-17e2-4dfd-93b4-387fa4b90cd3.csv\n",
      "File saved: Drivers\\1ca40b61-eb92-4300-bd90-3ce62b37f995.csv\n",
      "File saved: Drivers\\1ca94ec9-e04f-4dbd-b3d0-ccaf1479f795.csv\n",
      "File saved: Drivers\\1d21d50f-70b9-4d7f-92ad-f70eb3572057.csv\n",
      "File saved: Drivers\\1d2a9cf8-771e-4f43-a33f-ac6ecc6e1355.csv\n",
      "File saved: Drivers\\1d414254-c83e-47c6-8530-a5c30ac39b2b.csv\n",
      "File saved: Drivers\\1d53440d-aee2-4441-906c-3df8fd4fd8a7.csv\n",
      "File saved: Drivers\\1d619807-b79d-4ee0-b6aa-0829ad94c3da.csv\n",
      "File saved: Drivers\\1d6c7f1e-26d1-4fee-8add-d15c1a0dc6f2.csv\n",
      "File saved: Drivers\\1dabddf8-bbc5-40b8-a1ec-a974ae62aed8.csv\n",
      "File saved: Drivers\\1daf6c54-1a8e-4474-a084-859596c7ca4e.csv\n",
      "File saved: Drivers\\1dc199d2-5d74-4a0a-87a4-65fd6b0e54fd.csv\n",
      "File saved: Drivers\\1de8c44f-ab1a-4e49-a511-965b8d8f34b8.csv\n",
      "File saved: Drivers\\1df62514-c067-4e88-b848-2174ae4ad324.csv\n",
      "File saved: Drivers\\1dfca482-49f3-4713-87e5-83bff5ed1dc9.csv\n",
      "File saved: Drivers\\1e02aa84-805f-48ff-b441-300813447f84.csv\n",
      "File saved: Drivers\\1e0418a1-6978-4afb-81dd-399ab68e99d8.csv\n",
      "File saved: Drivers\\1ecb18af-c6d2-4ea4-a532-0cd6340af5b4.csv\n",
      "File saved: Drivers\\1edf4089-d703-4a04-acf1-1b42b26f64de.csv\n",
      "File saved: Drivers\\1f0855d6-4f55-4ce7-abe7-6834efbe7307.csv\n",
      "File saved: Drivers\\1f09102d-9502-4206-a7d2-703c9b037d08.csv\n",
      "File saved: Drivers\\1f3400ff-be67-48a2-99a4-56121dff785e.csv\n",
      "File saved: Drivers\\1f6a52c7-fc29-4ca4-bc6b-b86e1bb9bf11.csv\n",
      "File saved: Drivers\\1fbac35f-4332-4a1b-9a3c-0cb285e4f58c.csv\n",
      "File saved: Drivers\\1fbf7990-a586-4b9e-939f-d373e60ed93e.csv\n",
      "File saved: Drivers\\201f0cad-6b37-4a84-a50c-90930530c41e.csv\n",
      "File saved: Drivers\\20690abd-15ab-40a3-9b76-968a09cf31d9.csv\n",
      "File saved: Drivers\\20af6940-d351-4539-bb76-caabef854353.csv\n",
      "File saved: Drivers\\20bb5a65-f2fa-413f-a5fc-f6e213707329.csv\n",
      "File saved: Drivers\\20c4a9d5-35b9-49d5-9148-aa569b32d632.csv\n",
      "File saved: Drivers\\2102314c-7e2b-4e28-9c9f-aaefe7a17a87.csv\n",
      "File saved: Drivers\\213644c5-9557-445b-a42e-a28e86cfd769.csv\n",
      "File saved: Drivers\\218e0a74-cce8-4ccc-a353-eb57cd82952b.csv\n",
      "File saved: Drivers\\21963060-4bbe-4d32-a3a6-0dc2c2fc14dd.csv\n",
      "File saved: Drivers\\21ac894d-b938-475f-bc5e-bca2bd0553e2.csv\n",
      "File saved: Drivers\\21c43307-4aa3-4c85-90fa-ed3e5f98a06d.csv\n",
      "File saved: Drivers\\22066cfd-e555-4f56-a7d1-fa2e8a5ebce0.csv\n",
      "File saved: Drivers\\22118de6-78f5-4fa1-a152-45cdc1fe9f34.csv\n",
      "File saved: Drivers\\2232fd1c-55ae-4cb5-96fb-af0976277dfa.csv\n",
      "File saved: Drivers\\22413fcf-d1a9-4ed2-882f-60f263b18df5.csv\n",
      "File saved: Drivers\\2260b05a-cf6a-4b07-81f1-fd137cead50b.csv\n",
      "File saved: Drivers\\226f0504-ae9c-4b2f-ad6f-607484a4fee7.csv\n",
      "File saved: Drivers\\2293c17c-b39a-4a27-a8dc-d5f8fc577ad5.csv\n",
      "File saved: Drivers\\22c9cd63-197a-45bf-9ed2-e1daf12364f6.csv\n",
      "File saved: Drivers\\22f16522-45b2-4d18-b5c4-538a39444af2.csv\n",
      "File saved: Drivers\\234dc222-c860-4fe8-9265-ab8181b698aa.csv\n",
      "File saved: Drivers\\237724a6-406b-4540-a96a-1ddf5be3685d.csv\n",
      "File saved: Drivers\\2391ea97-b5fb-47fa-b9af-1727d6333d82.csv\n",
      "File saved: Drivers\\23a3d171-32d9-49d6-b096-8eb2bf1c75d8.csv\n",
      "File saved: Drivers\\2423f3db-ebae-4e0a-a20b-3e82136a6069.csv\n",
      "File saved: Drivers\\243a0694-f377-462b-b2ec-af0bdb66be02.csv\n",
      "File saved: Drivers\\24675176-6da0-483d-9ecc-a8daa111178d.csv\n",
      "File saved: Drivers\\24a802a6-a551-4a8b-9620-bc15a64d22a9.csv\n",
      "File saved: Drivers\\24b2788a-662d-499d-9250-6a426dee76b6.csv\n",
      "File saved: Drivers\\24d351dd-65e6-469c-b6df-c504db473cac.csv\n",
      "File saved: Drivers\\24d79e21-539e-4e85-8677-dc4f328d16f9.csv\n",
      "File saved: Drivers\\250daff2-42cc-43d0-bb5c-06b5ce95f837.csv\n",
      "File saved: Drivers\\25317bab-07aa-4ba4-8983-0a563ab9dfbc.csv\n",
      "File saved: Drivers\\2566ddc7-92eb-47e7-920f-c4d16da0c9cf.csv\n",
      "File saved: Drivers\\25ab14cb-a3c5-4a23-94f9-4ca7b9efd4a8.csv\n",
      "File saved: Drivers\\2626aeef-773e-4013-bd1a-f9c333055dec.csv\n",
      "File saved: Drivers\\2638af77-ff0d-4c1b-a93d-aeefbe5c8668.csv\n",
      "File saved: Drivers\\26452cad-368c-4827-8562-d735e6cf1b51.csv\n",
      "File saved: Drivers\\267d0eae-3130-4589-82ad-6baf4a569fca.csv\n",
      "File saved: Drivers\\2682341c-089b-43ba-ae32-1a15ae47f9ae.csv\n",
      "File saved: Drivers\\2683ce3c-096b-4606-a2eb-fadaee99c2df.csv\n",
      "File saved: Drivers\\26a00832-cad0-41a3-b6ea-1729e2d1da22.csv\n",
      "File saved: Drivers\\27278c74-78d6-4c3d-a18d-3d32bb9206a5.csv\n",
      "File saved: Drivers\\27644393-704a-4e12-908f-a257765a3dc0.csv\n",
      "File saved: Drivers\\2774fec3-f73b-4783-9fc6-dfd49a9f4b19.csv\n",
      "File saved: Drivers\\279aba28-a2db-4588-9bb3-ffa99550ff9b.csv\n",
      "File saved: Drivers\\27b02b29-498b-480e-a40a-cac56b036bf8.csv\n",
      "File saved: Drivers\\27db31aa-8c2b-4ae2-932b-af2a309fc4c1.csv\n",
      "File saved: Drivers\\27dbfb88-245f-4c90-8e84-265f0c6405fd.csv\n",
      "File saved: Drivers\\2886a70c-93e8-400a-8cf6-7d03b0a2e461.csv\n",
      "File saved: Drivers\\289821bb-dfc2-4c3b-8fe9-6c4263253d5c.csv\n",
      "File saved: Drivers\\28b7a9da-0eec-45b6-9c5c-c723d5b39af5.csv\n",
      "File saved: Drivers\\291ff063-32d2-4933-a88f-977b3dadb907.csv\n",
      "File saved: Drivers\\292651d4-3862-4ed6-860a-c546c35f9085.csv\n",
      "File saved: Drivers\\293a665f-d582-44c9-b48c-82459484a932.csv\n",
      "File saved: Drivers\\2946fc74-5ce5-48c3-8c0e-946acd143e8f.csv\n",
      "File saved: Drivers\\295f9d3f-9c52-48bd-8d76-c13606d5d89c.csv\n",
      "File saved: Drivers\\29622091-bab0-419a-8daf-8ffffadcb9ae.csv\n",
      "File saved: Drivers\\29637881-8c6c-46ca-8fa7-e0e2db991062.csv\n",
      "File saved: Drivers\\29725366-35d0-41ab-8879-e9705392544d.csv\n",
      "File saved: Drivers\\29728764-6e56-4e63-b37a-e1481168781b.csv\n",
      "File saved: Drivers\\29da89e7-c69e-4e29-96ee-19b83c5f1b00.csv\n",
      "File saved: Drivers\\2a01cdb2-7809-4997-8e2b-f171aa265335.csv\n",
      "File saved: Drivers\\2a0eee82-8cae-4491-8a4d-b0ccea14cc27.csv\n",
      "File saved: Drivers\\2a17d55d-9354-4b15-861e-050945742a84.csv\n",
      "File saved: Drivers\\2a1f2c10-7fbe-4af2-8462-1c6b043638b8.csv\n",
      "File saved: Drivers\\2a276d77-a70a-40e7-9573-e036dd71f827.csv\n",
      "File saved: Drivers\\2a4e6cff-8a9e-4fe7-be28-e593ac27a68b.csv\n",
      "File saved: Drivers\\2a6e3903-ed4e-4ee8-9322-1fcf4f5ec0c4.csv\n",
      "File saved: Drivers\\2abf18f4-ba71-4878-b697-67482e8c1afe.csv\n",
      "File saved: Drivers\\2ae14b1b-6f93-410d-9542-7e33cf110471.csv\n",
      "File saved: Drivers\\2af5d3fa-d063-405c-b25b-ed35d66b75fa.csv\n",
      "File saved: Drivers\\2afcdcee-109e-4d0e-951b-e84809767a5b.csv\n",
      "File saved: Drivers\\2b0e8a12-2e55-4ff4-acdc-6192e74382e3.csv\n",
      "File saved: Drivers\\2b451bc2-670d-490b-b126-407b4bf4d82b.csv\n"
     ]
    },
    {
     "name": "stdout",
     "output_type": "stream",
     "text": [
      "File saved: Drivers\\2b48e922-7254-42a5-9319-49b2f59c3f0f.csv\n",
      "File saved: Drivers\\2b4b4697-3d2b-429a-b5f9-b9d5c8dde176.csv\n",
      "File saved: Drivers\\2b5798d7-25fe-428b-a782-a696b1848026.csv\n",
      "File saved: Drivers\\2b6b9aa0-2fb5-40d5-bc06-c656eeb74349.csv\n",
      "File saved: Drivers\\2b75b7f7-2032-492b-9c00-f0e479e3b8a2.csv\n",
      "File saved: Drivers\\2b88c5e2-07b3-4226-91f9-040e037f634e.csv\n",
      "File saved: Drivers\\2b9eeddf-a86c-491b-b04c-5f4bafd5f55c.csv\n",
      "File saved: Drivers\\2ba7099c-4e03-48eb-8625-7fe542e86e14.csv\n",
      "File saved: Drivers\\2ba9458f-fb2c-4fad-9aba-f0b9fd800799.csv\n",
      "File saved: Drivers\\2bc6f0fa-634b-4457-be1a-0d1a8a7b5026.csv\n",
      "File saved: Drivers\\2bcb284c-de3b-4d85-a0c4-5c73e4a3a2dd.csv\n",
      "File saved: Drivers\\2bcc0d12-18b5-46b3-87d6-0a1c2b17515f.csv\n",
      "File saved: Drivers\\2c128a04-ad84-45a6-ad1c-7565f216ba8c.csv\n",
      "File saved: Drivers\\2c5a211a-f7ba-47d7-8c5d-13c674c21400.csv\n",
      "File saved: Drivers\\2c9549b1-3206-4283-9225-2f748ee2e3d1.csv\n",
      "File saved: Drivers\\2ce18424-987e-4a76-bf75-4efad962aa21.csv\n",
      "File saved: Drivers\\2d2babd7-da91-49ab-b6d0-50edd334297b.csv\n",
      "File saved: Drivers\\2d9f5d45-7c32-4acf-a66e-04ec1d35e747.csv\n",
      "File saved: Drivers\\2dd18714-ba77-4900-ab2f-7358bce5444c.csv\n",
      "File saved: Drivers\\2e18ce75-d641-4e84-b824-4983626bb57d.csv\n",
      "File saved: Drivers\\2e304f08-2288-4a7d-8775-d104d13775cf.csv\n",
      "File saved: Drivers\\2e4f538b-b826-4b11-b0aa-64bac1c2da1f.csv\n",
      "File saved: Drivers\\2edd6df9-cadb-4ebb-ac6f-17c26dee74b1.csv\n",
      "File saved: Drivers\\2ef3f19b-3154-4f45-94c7-c12584767d7a.csv\n",
      "File saved: Drivers\\2ef5a8ce-feef-45d3-943b-bab8b4e92b1f.csv\n",
      "File saved: Drivers\\2ef755d2-5e59-4a30-91f4-8df97cead8e6.csv\n",
      "File saved: Drivers\\2f16f668-fb63-4529-a02e-085ab348d678.csv\n",
      "File saved: Drivers\\2f297596-3d28-4698-a712-aebb447bb3f8.csv\n",
      "File saved: Drivers\\2f33ec8a-eaa5-409d-b08b-f16c1e6a4ba4.csv\n",
      "File saved: Drivers\\2f3c26ea-91c1-4a47-8da9-a349551c1833.csv\n",
      "File saved: Drivers\\2f5a345f-7828-404a-b700-b79c7070cb3e.csv\n",
      "File saved: Drivers\\2f723634-1965-48ef-9bba-f3048b8a5d9a.csv\n",
      "File saved: Drivers\\2f74f84b-7d69-42d2-bc6e-e059d0ccc3a2.csv\n",
      "File saved: Drivers\\2f78f2bc-1d2c-4397-8198-c5e6b93af148.csv\n",
      "File saved: Drivers\\2f7a783f-2706-4e71-9c0f-7849b389e5d3.csv\n",
      "File saved: Drivers\\2f903460-be96-4196-909b-712ba58aaec3.csv\n",
      "File saved: Drivers\\2fac3e76-e820-4587-9bd4-c24cbcbe84c3.csv\n",
      "File saved: Drivers\\2fd724a6-d39d-4b63-9842-b646b393486d.csv\n",
      "File saved: Drivers\\3005d3f2-7b90-4ba5-9aee-c338cfa4d874.csv\n",
      "File saved: Drivers\\3031a6f9-8b4b-4ded-94a4-c6b06075de0a.csv\n",
      "File saved: Drivers\\3040194a-3d9d-45e8-8dc3-5d0436ba7da0.csv\n",
      "File saved: Drivers\\30535792-8644-4943-81cd-dee8db20728e.csv\n",
      "File saved: Drivers\\3055982a-a3a0-41d5-b3f0-99f3481c9044.csv\n",
      "File saved: Drivers\\3088ce6b-ed9d-4edb-8872-e60a72d22be0.csv\n",
      "File saved: Drivers\\30ae5152-5ce3-4b1d-8e95-378b1938ab68.csv\n",
      "File saved: Drivers\\30b8b50e-b149-48e0-91d1-2e78530f786e.csv\n",
      "File saved: Drivers\\30c1c653-e3f8-41d5-b309-744598b0bd81.csv\n",
      "File saved: Drivers\\30d4803f-e5b9-45cb-b863-bcab5ab2187b.csv\n",
      "File saved: Drivers\\30f9d4a7-b457-4dd5-9ba1-cc93150d6285.csv\n",
      "File saved: Drivers\\312dc6b4-0d3c-4503-8945-10828477ab30.csv\n",
      "File saved: Drivers\\314cb392-3d7b-4898-965e-86c830f4208b.csv\n",
      "File saved: Drivers\\315dc6ea-8992-4cb1-9836-9a7c7515dc03.csv\n",
      "File saved: Drivers\\31802015-354a-4f11-a0e5-44b009d5c6f8.csv\n",
      "File saved: Drivers\\31b5da3b-bad4-4fea-bf43-a823f3718f24.csv\n",
      "File saved: Drivers\\31c6d2f9-cc4d-41b2-a840-476a1c34b5d4.csv\n",
      "File saved: Drivers\\31f2a65f-4159-433e-931a-46fdd8672720.csv\n",
      "File saved: Drivers\\325a6985-7899-4d65-872c-0fa05574a42d.csv\n",
      "File saved: Drivers\\32e69b1f-81a4-4fd6-82cb-1530553e152d.csv\n",
      "File saved: Drivers\\32f8db9a-fc6d-460b-8a0d-0add2a146792.csv\n",
      "File saved: Drivers\\33231a78-3aef-4dec-9666-0d905a4449c0.csv\n",
      "File saved: Drivers\\3331c8c9-54f6-4bab-96ac-061f4a29aee9.csv\n",
      "File saved: Drivers\\3355abd8-cf2f-4292-81b6-29e935b24293.csv\n",
      "File saved: Drivers\\33864551-fc5f-4079-9b58-7e91135c059d.csv\n",
      "File saved: Drivers\\33a22cb5-0c78-4c5c-b4a7-25295734960c.csv\n",
      "File saved: Drivers\\33a63170-0400-455c-b8ee-d8cb3044a694.csv\n",
      "File saved: Drivers\\33de2a67-1dca-40b6-86b2-ba1157530da5.csv\n",
      "File saved: Drivers\\33df93ec-43b8-454f-86a2-927cee1b8719.csv\n",
      "File saved: Drivers\\33f2ace9-3bc1-4df0-912e-e953a83ffdbb.csv\n",
      "File saved: Drivers\\341b7734-0de3-4056-8235-3f03c0e55ee6.csv\n",
      "File saved: Drivers\\34bd881c-d217-4298-aec5-0e1a5a4dacc7.csv\n",
      "File saved: Drivers\\34cca81f-15cd-4379-b8bb-a8698283d393.csv\n",
      "File saved: Drivers\\34ef38e1-4f06-413c-a196-edb1d9f2ce6c.csv\n",
      "File saved: Drivers\\35102fe8-f805-44de-a5b5-d9b2d8c76302.csv\n",
      "File saved: Drivers\\351ef8a6-37c0-432a-b7a6-762f09d29474.csv\n",
      "File saved: Drivers\\353cc85a-c62b-4268-b8c4-186bc9ecd2f1.csv\n",
      "File saved: Drivers\\354bbed0-dcf5-47d3-9c46-8cdeadd2928b.csv\n",
      "File saved: Drivers\\35735950-f70e-43cc-88b7-bd953eb93cc0.csv\n",
      "File saved: Drivers\\35d39fbc-190d-4558-a4c6-e72380f1be6b.csv\n",
      "File saved: Drivers\\35efd470-97c5-4bf2-b5a6-96ed7f630974.csv\n",
      "File saved: Drivers\\35f6d429-d469-4efb-880b-249f22f25c19.csv\n",
      "File saved: Drivers\\3626a797-770f-406e-8935-9a70c489c606.csv\n",
      "File saved: Drivers\\362e7424-acf8-46f3-983b-808c1a916c9a.csv\n",
      "File saved: Drivers\\362f70a6-6545-45e0-808b-d4970faeacab.csv\n",
      "File saved: Drivers\\3653ae94-bd35-4213-8910-01b8afeb8bac.csv\n",
      "File saved: Drivers\\3653c5ec-3466-4f68-8d4e-3a341a5a878a.csv\n",
      "File saved: Drivers\\3663d7c4-f2fb-4106-a362-9c91b85061a4.csv\n",
      "File saved: Drivers\\369b3687-aeac-4427-be3e-15b3e4c83a1e.csv\n",
      "File saved: Drivers\\36a2e8c5-794d-47fb-9da9-26869d214253.csv\n",
      "File saved: Drivers\\36a83dc1-8354-4287-ac62-c2f4f93dae1b.csv\n",
      "File saved: Drivers\\36e1217a-430f-44c0-97a2-e862080dfa51.csv\n",
      "File saved: Drivers\\37020388-9af4-43aa-8e46-6b0eae1a12f1.csv\n",
      "File saved: Drivers\\370322c9-f7f0-466e-b444-63b5e153e491.csv\n",
      "File saved: Drivers\\37457604-ec49-4e7d-aee0-20e700c7b7b4.csv\n",
      "File saved: Drivers\\377d9673-1b9a-4f34-a527-0c5eb3c79faa.csv\n",
      "File saved: Drivers\\378c763b-d8ec-4899-9c18-a597b5de77f0.csv\n",
      "File saved: Drivers\\37fdba1c-29b6-4ad1-98c7-522e3ad40686.csv\n",
      "File saved: Drivers\\380ea857-4e02-472d-a3c7-7d14e8fe0da4.csv\n",
      "File saved: Drivers\\380fdc4a-ba8a-4462-9e7e-311feccdbd74.csv\n",
      "File saved: Drivers\\382343a5-87fc-4cf9-b98f-acf2d1e6eda8.csv\n",
      "File saved: Drivers\\38248f39-8c10-4521-b9d3-8193136311cf.csv\n",
      "File saved: Drivers\\38299d71-ec14-43da-a928-2b7f612803a0.csv\n",
      "File saved: Drivers\\3857204e-bbc5-4658-8774-13bc219232c6.csv\n",
      "File saved: Drivers\\386124d5-6aef-422f-9944-3e33133dc804.csv\n",
      "File saved: Drivers\\389d098f-602f-4ece-995e-e5fcabff8eb4.csv\n",
      "File saved: Drivers\\38c76760-6dcc-453c-ab2c-22893e32ad8f.csv\n",
      "File saved: Drivers\\38d36c50-b6b2-4028-8047-89d8c4de9717.csv\n",
      "File saved: Drivers\\38ef5fb4-5ecd-4d23-8495-3039c46224e3.csv\n",
      "File saved: Drivers\\38f26179-f185-4a0d-a9d7-53e61ac6a2cb.csv\n",
      "File saved: Drivers\\3943fade-1b69-4a22-9dc1-2fdbdecc3c22.csv\n",
      "File saved: Drivers\\39473d4e-7e66-4519-8acf-8d5b19404aa4.csv\n",
      "File saved: Drivers\\3973d12d-2803-4257-a12d-cc4726e52251.csv\n",
      "File saved: Drivers\\399a9143-3c2e-4217-be7d-041c540f894d.csv\n",
      "File saved: Drivers\\39ae798e-a39e-4735-aa93-3b2df2b7a5d9.csv\n",
      "File saved: Drivers\\39c170b7-9a73-4073-bdfc-de9dacf14a0b.csv\n",
      "File saved: Drivers\\39dd72d1-f2c4-4b91-810a-b6a98d5df3f7.csv\n",
      "File saved: Drivers\\3a1586e7-9789-4023-b29e-5efa9d0a24bb.csv\n",
      "File saved: Drivers\\3a2a81a5-3852-4076-910c-165d0562f5bb.csv\n",
      "File saved: Drivers\\3a4a3159-469b-46cf-be9d-644daaef84e8.csv\n",
      "File saved: Drivers\\3a5c3c32-50c5-4e6f-b055-f2de7d5c21fa.csv\n",
      "File saved: Drivers\\3aa88c3c-e554-4e2e-9280-8d816b3a0005.csv\n",
      "File saved: Drivers\\3ae3c421-980f-4525-b2b1-ba9c88b630f4.csv\n",
      "File saved: Drivers\\3b0715b9-a925-40b7-a57e-aef11bfdd16e.csv\n",
      "File saved: Drivers\\3b3aaeaa-3e74-449a-ac32-5495d3e797e4.csv\n",
      "File saved: Drivers\\3b3b26e4-e441-4c84-9e80-eb212d6dd9cc.csv\n",
      "File saved: Drivers\\3b4e4721-4381-40e0-81c5-12f89766cddc.csv\n",
      "File saved: Drivers\\3b873718-a61f-45f4-8e00-3c37f3fdcf0f.csv\n",
      "File saved: Drivers\\3c0c3c6f-4b15-4960-b35f-f8a71a1ece0f.csv\n",
      "File saved: Drivers\\3c63dade-2c17-4d93-bb03-67cccdeb3dd4.csv\n",
      "File saved: Drivers\\3c7bf47e-624c-4884-a5d8-2dc785be35e5.csv\n",
      "File saved: Drivers\\3c9120dd-af35-49f4-b95d-74eb79197ee1.csv\n",
      "File saved: Drivers\\3d475283-4471-4aad-a98e-fb4ab15cb93d.csv\n",
      "File saved: Drivers\\3d9b60dd-d5d7-4cda-980d-b10a61ad69f1.csv\n",
      "File saved: Drivers\\3dea252b-8def-40ae-ac65-477ab9e0455f.csv\n",
      "File saved: Drivers\\3e0335ba-9b33-4fe4-a7ba-5a99fe3d4f94.csv\n",
      "File saved: Drivers\\3e46e8e1-b028-48de-b905-105388465c20.csv\n",
      "File saved: Drivers\\3e64883f-e13f-4fdb-9643-c3bd1d6bd40e.csv\n",
      "File saved: Drivers\\3eac25e8-7ea3-42aa-9ae4-af57fc987345.csv\n",
      "File saved: Drivers\\3ecb984a-a204-46f3-aa4f-a290498ca3e4.csv\n",
      "File saved: Drivers\\3f4349e9-9a52-4748-95ba-5f0fe44f0088.csv\n",
      "File saved: Drivers\\3f53d9d7-8d5f-4a0b-8711-d13e4b55adc7.csv\n",
      "File saved: Drivers\\3fb73a8d-8bcb-4cd7-9c29-9c97d1eabe84.csv\n",
      "File saved: Drivers\\3ffbe874-d792-4b3c-bc21-9866e072095c.csv\n",
      "File saved: Drivers\\40255b9e-7e56-4d80-94f8-da9c202a2680.csv\n"
     ]
    },
    {
     "name": "stdout",
     "output_type": "stream",
     "text": [
      "File saved: Drivers\\402b283c-e8fb-47c9-9156-83bc65058fd6.csv\n",
      "File saved: Drivers\\402d119e-6cd1-40df-9858-b428c08706f3.csv\n",
      "File saved: Drivers\\402de162-76d8-4544-8f78-d6b5cb965e7f.csv\n",
      "File saved: Drivers\\405bebe7-f734-4e36-ac47-73deff76430c.csv\n",
      "File saved: Drivers\\408333f7-b799-487d-aae9-168cd589e9f1.csv\n",
      "File saved: Drivers\\409a1a9f-31ce-4493-9a1b-a95dd74659aa.csv\n",
      "File saved: Drivers\\409ae594-55d5-4707-bb3f-69fdfc79e88b.csv\n",
      "File saved: Drivers\\409fedfb-5bf0-4053-8f98-d6fede9f9544.csv\n",
      "File saved: Drivers\\40d69488-6934-4158-8204-e04cd78fcb74.csv\n",
      "File saved: Drivers\\40db2f1e-cb7b-4352-b0bf-651e54ddca13.csv\n",
      "File saved: Drivers\\40f2516a-9c8e-4523-b412-b9718d8118c1.csv\n",
      "File saved: Drivers\\40f6eb68-0763-4b42-9963-77ece925ed34.csv\n",
      "File saved: Drivers\\4120e2ce-3271-43ff-bcaa-5cb565d6c46f.csv\n",
      "File saved: Drivers\\41322a14-82fe-40fc-aa40-f1759edb5970.csv\n",
      "File saved: Drivers\\416a59e8-0dbf-479b-808d-67884d2bc324.csv\n",
      "File saved: Drivers\\41844a30-bc7b-4b4d-9f50-605cdb100baf.csv\n",
      "File saved: Drivers\\4192372d-e502-49c9-8486-574af1930a4a.csv\n",
      "File saved: Drivers\\41968ff4-3b0a-441a-9a99-de28f93a28fb.csv\n",
      "File saved: Drivers\\41991f75-5763-4820-a3a8-36efcd827040.csv\n",
      "File saved: Drivers\\41bd84f3-e5b8-43ec-913a-d3ca0ef186e2.csv\n",
      "File saved: Drivers\\42583b84-88fd-4610-bfaf-2ccae3029648.csv\n",
      "File saved: Drivers\\42d6ed46-889b-451c-9f78-2db1d768793a.csv\n",
      "File saved: Drivers\\430400df-34e4-4823-83a7-62fe15db2e37.csv\n",
      "File saved: Drivers\\4353222e-9f6a-449a-9033-689f2009255e.csv\n",
      "File saved: Drivers\\438f0009-5050-43b7-836d-7520c7fcb6f0.csv\n",
      "File saved: Drivers\\43b98192-31f7-41b2-984b-a6a7a294ed04.csv\n",
      "File saved: Drivers\\43c3bba3-e1fc-45f0-9558-5faeaae0a915.csv\n",
      "File saved: Drivers\\44238561-01ad-462a-b088-7f77094da8b3.csv\n",
      "File saved: Drivers\\44325796-ae87-4b8f-98d5-3d95d29237cc.csv\n",
      "File saved: Drivers\\443c0355-dd21-4bff-b3ac-601457b7dab0.csv\n",
      "File saved: Drivers\\44500bf6-22cd-4f30-bee4-7b31e43c8d97.csv\n",
      "File saved: Drivers\\446fb45f-3594-45d3-ae8d-1a0676c5ad28.csv\n",
      "File saved: Drivers\\448b27fc-f6d7-429b-81d5-4adf67fb33e6.csv\n",
      "File saved: Drivers\\44a05796-03e4-4749-8c7e-befc7fc2838a.csv\n",
      "File saved: Drivers\\44cfee42-1b28-4781-87eb-f32c27bba8a6.csv\n",
      "File saved: Drivers\\44d1921b-32b6-4346-b75c-7682989c2c59.csv\n",
      "File saved: Drivers\\44f70e65-e563-4560-b965-4146a577e52b.csv\n",
      "File saved: Drivers\\4509854b-5af9-4c35-847c-4bf45fc1ef7c.csv\n",
      "File saved: Drivers\\455c9398-68d1-4c1d-948c-38194b19b336.csv\n",
      "File saved: Drivers\\45b83d85-1186-4175-a6fa-66a0cdc10e70.csv\n",
      "File saved: Drivers\\45e81086-46ae-4a10-9717-9320986bb393.csv\n",
      "File saved: Drivers\\4602fb40-4217-48fb-b93a-ee892e58333d.csv\n",
      "File saved: Drivers\\461f9102-3777-465d-8918-1a5727e03a39.csv\n",
      "File saved: Drivers\\4689a391-7bdd-4985-a7e5-0b0b8c23ff64.csv\n",
      "File saved: Drivers\\468b4536-6ffa-4a36-b712-62a533c14f74.csv\n",
      "File saved: Drivers\\46b1ac89-8ddf-4c27-89d6-cd1c5a5c462f.csv\n",
      "File saved: Drivers\\46be4ee7-7239-4ff8-bf68-dd2de6bdc004.csv\n",
      "File saved: Drivers\\46bfdc85-cf3b-4068-95a2-b9e27b0adc25.csv\n",
      "File saved: Drivers\\46e01fff-149d-4686-946f-727ac43e86eb.csv\n",
      "File saved: Drivers\\46e1565a-1022-44b5-a6c3-073777e8d9a7.csv\n",
      "File saved: Drivers\\46e9de08-0fc4-406d-906c-ec44e2105d99.csv\n",
      "File saved: Drivers\\470a06ab-9428-42b3-badb-724b6b3a22eb.csv\n",
      "File saved: Drivers\\470ec29b-fec2-4a4f-90df-a0d229f4ba6c.csv\n",
      "File saved: Drivers\\4727f581-fef2-4957-9224-5ae253a20694.csv\n",
      "File saved: Drivers\\472a3afa-4c21-4cfd-b134-cc5137d50116.csv\n",
      "File saved: Drivers\\474fa688-1c5f-4751-b91c-60ff0fe3efc3.csv\n",
      "File saved: Drivers\\47612a41-37a2-44eb-a361-f8cb2f236a37.csv\n",
      "File saved: Drivers\\47845a62-040a-4095-900a-78e81d65f78d.csv\n",
      "File saved: Drivers\\479a545d-03db-475e-9c02-ab679b8c5058.csv\n",
      "File saved: Drivers\\47a5e001-6d81-4c87-9d4f-9ab24052c9bd.csv\n",
      "File saved: Drivers\\47bbbd5e-ff30-4e3d-b116-04b89b272756.csv\n",
      "File saved: Drivers\\47c19c54-509f-4da5-b9c7-c9b740c8b6f3.csv\n",
      "File saved: Drivers\\47c2ddc1-1d27-49e4-aa31-bd9501db6f64.csv\n",
      "File saved: Drivers\\47c6cbc2-632c-4eef-8ae8-7b0f5ab4f360.csv\n",
      "File saved: Drivers\\47ccb9d9-280a-49b0-968c-f81352fc7267.csv\n",
      "File saved: Drivers\\47d06df5-20f1-4575-9c51-0e17958b289e.csv\n",
      "File saved: Drivers\\47d799fd-dc09-438b-91bd-aeb250a990d1.csv\n",
      "File saved: Drivers\\4828b4b6-8929-453d-b8c8-34d56d7a1915.csv\n",
      "File saved: Drivers\\484cf8b4-da28-46b1-9113-4db9e689551c.csv\n",
      "File saved: Drivers\\485e227d-8f8c-4095-92de-d41aacf89ced.csv\n",
      "File saved: Drivers\\48c925ff-d610-4bff-8e5e-36c29d7ea081.csv\n",
      "File saved: Drivers\\48e31a39-a5e1-4986-ab36-02a6f70978ff.csv\n",
      "File saved: Drivers\\48ecae24-3222-42ee-9291-2f0f5d61262d.csv\n",
      "File saved: Drivers\\48fa36c5-cc8b-4e73-b829-b2367c904809.csv\n",
      "File saved: Drivers\\490f43eb-22f2-4f82-9ba0-944c952991af.csv\n",
      "File saved: Drivers\\492b8506-8973-44c3-83f3-73d485d0dbd9.csv\n",
      "File saved: Drivers\\4978056c-de4f-4a88-84ed-af2354aae0c7.csv\n",
      "File saved: Drivers\\497ea585-aca8-43c6-bcb1-4cbd6cac2db8.csv\n",
      "File saved: Drivers\\49cf91cb-af06-4aa5-8568-ade5c7fbef45.csv\n",
      "File saved: Drivers\\49d52dc2-5dce-44f0-a7d5-f2b8406649cf.csv\n",
      "File saved: Drivers\\49eaefc6-0d2a-422b-9e6a-5e4af4a45858.csv\n",
      "File saved: Drivers\\4a00bf66-494e-4a8e-b145-b3c354398fff.csv\n",
      "File saved: Drivers\\4a32c4ca-4c5f-49a3-98cf-8b8425540290.csv\n",
      "File saved: Drivers\\4a782c6a-2d5e-49ae-bb64-a7e128a663fa.csv\n",
      "File saved: Drivers\\4a8cc57f-4957-4e0d-92eb-0c03bdc8cbaa.csv\n",
      "File saved: Drivers\\4a94e20f-8113-4ce6-9c2e-b530690825f6.csv\n",
      "File saved: Drivers\\4ab996d6-a051-4131-8e4f-f2039e82f7fe.csv\n",
      "File saved: Drivers\\4ac5de2a-183b-45d9-8020-0e89572296f4.csv\n",
      "File saved: Drivers\\4af95e76-ad3f-4855-adce-b2f761b5e42d.csv\n",
      "File saved: Drivers\\4b04b4c2-9ac0-450a-85f8-4d53e0f11a30.csv\n",
      "File saved: Drivers\\4b05d048-377f-4c51-9d41-a82c27cc1f00.csv\n",
      "File saved: Drivers\\4b07945e-7d9c-46c2-aa1d-19d094242e4e.csv\n",
      "File saved: Drivers\\4b10ae44-5bfd-4a04-aff4-77426acc96c3.csv\n",
      "File saved: Drivers\\4b256400-1ae0-4528-bdd8-faf10cce4f30.csv\n",
      "File saved: Drivers\\4b281016-cfc8-436d-bbeb-e038430b3287.csv\n",
      "File saved: Drivers\\4bad7826-353d-466f-a306-7293a292efd6.csv\n",
      "File saved: Drivers\\4bf1bd01-b9e5-44fc-a5d6-1f07461c454a.csv\n",
      "File saved: Drivers\\4bf50f7a-0e2a-4a11-ae9b-b6089856583d.csv\n",
      "File saved: Drivers\\4c0a844b-0359-40c3-b769-80d8e7664e15.csv\n",
      "File saved: Drivers\\4c268041-1907-46b7-84ef-6a232f69e9bc.csv\n",
      "File saved: Drivers\\4c35bc8b-6d99-4df6-a1b5-c1a086dad77e.csv\n",
      "File saved: Drivers\\4c4c25a8-278b-4666-b0a0-1a65d25d4265.csv\n",
      "File saved: Drivers\\4c54a389-cf8a-4f16-8fee-10b5c226a304.csv\n",
      "File saved: Drivers\\4c769515-66e8-4ae0-a206-0550dfe4e073.csv\n",
      "File saved: Drivers\\4c85b201-8f0d-4346-bbfd-2c9e89426f7a.csv\n",
      "File saved: Drivers\\4c9dfae4-7c3d-4874-a46b-7c3dfe998e63.csv\n",
      "File saved: Drivers\\4cabea3b-f018-4ef1-abbe-18b3e60dc0b2.csv\n",
      "File saved: Drivers\\4cf67c74-50de-4046-bc15-bcf055e7df2e.csv\n",
      "File saved: Drivers\\4d161419-4756-48a6-a608-6787ae498e3b.csv\n",
      "File saved: Drivers\\4d19b8f3-e585-473e-a09a-f8dd6d1bb69e.csv\n",
      "File saved: Drivers\\4d2590eb-c666-4d19-bebc-92c1f72a5075.csv\n",
      "File saved: Drivers\\4d2f82e2-54fa-45ef-805b-2d37bea9d871.csv\n",
      "File saved: Drivers\\4d35227b-df19-4f40-b118-22b59343ac7b.csv\n",
      "File saved: Drivers\\4d60bc88-9dda-40d9-8351-b1e5cb838397.csv\n",
      "File saved: Drivers\\4d829fb5-e2cb-429d-950c-fa0023aab967.csv\n",
      "File saved: Drivers\\4d839a96-b0aa-4ffe-93f5-b9d51df2a2b0.csv\n",
      "File saved: Drivers\\4da8b56b-0e09-44cb-9d4b-72cedc755d11.csv\n",
      "File saved: Drivers\\4dc97942-7b9e-418e-bb18-3de084db544b.csv\n",
      "File saved: Drivers\\4dd7dfa0-d05e-4263-82d8-6d23bd4234ea.csv\n",
      "File saved: Drivers\\4de09a56-0b8a-4233-8366-5947d09d4767.csv\n",
      "File saved: Drivers\\4e07d9d4-ce66-443e-be88-b1100a131cd4.csv\n",
      "File saved: Drivers\\4e19ea74-6807-4c9b-b95f-1506f6d313eb.csv\n",
      "File saved: Drivers\\4e26bc3c-bb0f-4611-849a-a4154d376432.csv\n",
      "File saved: Drivers\\4e7e77ab-7c8f-403e-adab-47cc4e9bf87b.csv\n",
      "File saved: Drivers\\4e860440-f933-4d73-8042-7e7a902c27c4.csv\n",
      "File saved: Drivers\\4e91a4d1-d0ff-4d8d-9215-94ad89606aab.csv\n",
      "File saved: Drivers\\4ea8e108-561d-4ade-943a-6760d0774c45.csv\n",
      "File saved: Drivers\\4ea9b4b9-ce29-4a47-8f5e-7155c7db1970.csv\n",
      "File saved: Drivers\\4ed9be4e-29f5-40eb-93d8-f9eafc4cba8b.csv\n",
      "File saved: Drivers\\4ef884a0-cfea-4e6a-897e-fd43407b8e45.csv\n",
      "File saved: Drivers\\4f062701-32d6-46a6-96b8-b6e27ecbc2e5.csv\n",
      "File saved: Drivers\\4f31e3c8-77be-4610-957f-aedabcf18990.csv\n",
      "File saved: Drivers\\4f823ecf-c7ea-47a2-99f7-dcef66a0564c.csv\n",
      "File saved: Drivers\\4f9d0e4e-c6ec-45e8-8322-5bb0ee0f862e.csv\n",
      "File saved: Drivers\\4fa80f87-d862-43ef-b000-fb3450eb4d7f.csv\n",
      "File saved: Drivers\\4fbbd262-21fb-4e5c-b7a9-0686946e1296.csv\n",
      "File saved: Drivers\\4fed2f82-3f8a-4ae3-8fbd-076ef4af9eab.csv\n",
      "File saved: Drivers\\500f5d99-308f-4abc-b96e-52a63772f718.csv\n",
      "File saved: Drivers\\502c48e7-c132-46a0-bf47-e2b1867c05a9.csv\n",
      "File saved: Drivers\\5075fa3f-abd7-4fe9-87e2-db5661c22a62.csv\n",
      "File saved: Drivers\\50830d94-2ba0-49ba-9fce-3097ca114a9c.csv\n",
      "File saved: Drivers\\508a0577-028a-44fd-9d7c-7b407286b0eb.csv\n",
      "File saved: Drivers\\509a7a40-f87d-423b-8d44-df78ecb7c065.csv\n",
      "File saved: Drivers\\50c9affb-1a8a-4bb6-8ea6-21ceb1056207.csv\n",
      "File saved: Drivers\\50e63648-8ee5-4069-833d-eca6bb3c6405.csv\n",
      "File saved: Drivers\\51006d7c-6779-4d89-897b-a2ac55ba21f2.csv\n",
      "File saved: Drivers\\511e7bc0-2ee3-4b06-bfb4-d657d4e05dfd.csv\n",
      "File saved: Drivers\\513cba30-b094-446b-8a63-f6383d9ee89d.csv\n",
      "File saved: Drivers\\514e8914-e4be-4006-906c-bc5c51ccc477.csv\n",
      "File saved: Drivers\\515bddbc-f6af-467d-9ad2-43a2e55a2db4.csv\n",
      "File saved: Drivers\\519665ea-5b0a-4a42-b5d4-548938ee2acc.csv\n",
      "File saved: Drivers\\51a72f65-0446-4df6-a563-a666347f33db.csv\n",
      "File saved: Drivers\\51c61a3f-7661-46ff-9d6e-3c72572d2c55.csv\n",
      "File saved: Drivers\\51dc2535-8d51-42b8-be88-e71085fa013c.csv\n",
      "File saved: Drivers\\51f1f00f-2462-40fc-8243-ae98801189a9.csv\n",
      "File saved: Drivers\\51f6633f-6f30-4bd0-9664-54ea3f477eb7.csv\n",
      "File saved: Drivers\\52580765-6f98-4aed-9675-9a12c397b20d.csv\n",
      "File saved: Drivers\\52780f4c-abbf-4498-ad29-6bde41b36664.csv\n",
      "File saved: Drivers\\52809d92-e7f1-46d8-99b1-da152d0e600d.csv\n",
      "File saved: Drivers\\52aa17f1-7e89-446e-b7c5-3ba29c5e4184.csv\n",
      "File saved: Drivers\\52aad6b8-15a8-48bf-8957-842f0efd3054.csv\n",
      "File saved: Drivers\\52d3d1fd-d592-4026-ada3-3cb184c93bd0.csv\n",
      "File saved: Drivers\\53589096-c30b-4cd8-b507-c2aed90818c5.csv\n"
     ]
    },
    {
     "name": "stdout",
     "output_type": "stream",
     "text": [
      "File saved: Drivers\\53701300-b49e-4304-883f-7bbd52d8548c.csv\n",
      "File saved: Drivers\\53a36c5d-a73a-433b-8f57-e41c4b2b8539.csv\n",
      "File saved: Drivers\\53bf037b-6499-4298-a276-f0a18c6e6c8e.csv\n",
      "File saved: Drivers\\53c59684-03e3-4825-b95c-c17eccbf69aa.csv\n",
      "File saved: Drivers\\53de51e9-69ba-43af-9629-64f1b24359f6.csv\n",
      "File saved: Drivers\\53e8b99c-f9d3-4e7d-99e7-79441f8e17ab.csv\n",
      "File saved: Drivers\\53ffe868-5c0b-4b1b-9fa6-b7b3243906f8.csv\n",
      "File saved: Drivers\\541e8919-3106-4515-99cb-8283143adabe.csv\n",
      "File saved: Drivers\\545b9ad0-9fbd-467f-b5fa-202f33580090.csv\n",
      "File saved: Drivers\\54a6715e-6b59-4d8b-8e60-94210c8565ee.csv\n",
      "File saved: Drivers\\551171d9-4105-4084-9ed6-903f41749db0.csv\n",
      "File saved: Drivers\\55476f23-c422-480f-8b2f-c489f749e7b9.csv\n",
      "File saved: Drivers\\55862f7a-bd53-45bd-bc98-3a959d87c4e5.csv\n",
      "File saved: Drivers\\55ae915c-5303-4163-9460-ad90f4a1cd74.csv\n",
      "File saved: Drivers\\55ddce50-a976-437f-aca3-5e0ef7df4a99.csv\n",
      "File saved: Drivers\\55f4f9bc-811e-4893-ba64-a244c990da5c.csv\n",
      "File saved: Drivers\\56a0f784-9ef1-49f7-b085-802c2d2febcd.csv\n",
      "File saved: Drivers\\56c1b12e-c769-49a9-b033-43dc396e2cd7.csv\n",
      "File saved: Drivers\\56e119e8-b152-4dbb-be55-2b52a3eceac5.csv\n",
      "File saved: Drivers\\56e31fae-bdc7-47e5-bee4-f5ecfdb8ae2e.csv\n",
      "File saved: Drivers\\56fab023-14d4-4a6a-a96a-7804adf8eeda.csv\n",
      "File saved: Drivers\\570b2bc6-3cf8-40d7-8f80-ce28a7e2630c.csv\n",
      "File saved: Drivers\\5710a0e7-a653-427d-adba-50e977ee531e.csv\n",
      "File saved: Drivers\\572e8b1f-6195-4633-8fd8-44771e5e4ee9.csv\n",
      "File saved: Drivers\\575899ec-d32e-49f8-b90e-42ce073501d7.csv\n",
      "File saved: Drivers\\57763608-f401-4114-9bb0-9f746233dd59.csv\n",
      "File saved: Drivers\\578905c7-d6d9-45e0-b34d-425de5859757.csv\n",
      "File saved: Drivers\\578917af-d495-4ebd-a4f9-5ee969c461a1.csv\n",
      "File saved: Drivers\\578bda2c-a815-47bb-8859-ddc97e6bc9f7.csv\n",
      "File saved: Drivers\\57a6db63-354e-498a-963b-f721455ae243.csv\n",
      "File saved: Drivers\\57aa5f8f-4f65-469e-bda6-9153824b3bf8.csv\n",
      "File saved: Drivers\\57d6aa7c-2d3d-4923-9fae-9b445f311a8d.csv\n",
      "File saved: Drivers\\580d78d1-7c5e-4b13-91bb-1c2e58bda11e.csv\n",
      "File saved: Drivers\\5840b5de-49b3-47c1-aae6-acd64b3f4964.csv\n",
      "File saved: Drivers\\5846133d-8d8c-4ca9-a8fd-3c5a2270c801.csv\n",
      "File saved: Drivers\\58541bc7-de55-4266-a9b9-dfa46afaa3af.csv\n",
      "File saved: Drivers\\5863d220-6eea-4df1-9560-fe921bb3dd7c.csv\n",
      "File saved: Drivers\\58b1d41e-b320-46fc-96a1-040b8e305a89.csv\n",
      "File saved: Drivers\\58b50416-2b3e-4c14-8ab7-0e684d44a8d6.csv\n",
      "File saved: Drivers\\58ed2efc-35d4-4da8-a1e0-a8b08acf35d7.csv\n",
      "File saved: Drivers\\5938d2b0-3544-4d0d-b3b2-45c03991128a.csv\n",
      "File saved: Drivers\\599462ff-fc29-44e0-aa9b-1c4149641a9e.csv\n",
      "File saved: Drivers\\59bd5ce2-f0b2-4ade-93d3-f21c1c8c62c2.csv\n",
      "File saved: Drivers\\59c5ac00-63df-4991-bf06-f54d37f823de.csv\n",
      "File saved: Drivers\\5a3f581f-0c07-4c8d-bf43-47d4d67b6206.csv\n",
      "File saved: Drivers\\5a47e75b-23d3-486e-a952-82a3f592a517.csv\n",
      "File saved: Drivers\\5a4eb1e9-9403-4f2b-b0e9-a024d1d0476c.csv\n",
      "File saved: Drivers\\5a54dc6a-2808-4711-bb15-db63cb5dd130.csv\n",
      "File saved: Drivers\\5a7d5692-9ac5-4839-b599-5e531ef56a3c.csv\n",
      "File saved: Drivers\\5a9250b8-0404-47ad-85c2-cfe4fabebbd2.csv\n",
      "File saved: Drivers\\5aaaffb5-76e3-415e-9f27-6f2a3a92ee60.csv\n",
      "File saved: Drivers\\5ab46ce3-6895-4a42-a6b2-643755aa2d29.csv\n",
      "File saved: Drivers\\5ab4b176-d8b8-49d5-a43b-f016338eb222.csv\n",
      "File saved: Drivers\\5abfb31f-caef-4348-9bc1-d8898c538e31.csv\n",
      "File saved: Drivers\\5ad60a88-6cfe-4503-ac9a-dad3ae0dcda4.csv\n",
      "File saved: Drivers\\5af86000-781a-41c2-bc93-e0e4ef52e8f4.csv\n",
      "File saved: Drivers\\5b2baa6e-a266-493e-9dd0-867194446ca6.csv\n",
      "File saved: Drivers\\5b55119c-abea-4833-98e9-c204e631db20.csv\n",
      "File saved: Drivers\\5b654372-36ad-476a-b12c-e273aa569217.csv\n",
      "File saved: Drivers\\5b68aebc-0749-4083-bf52-ba92189cf6ab.csv\n",
      "File saved: Drivers\\5b71b9cf-96c2-41ca-9484-5a231212a837.csv\n",
      "File saved: Drivers\\5b7d5d0a-0354-4d2a-84e6-0ad844006bb5.csv\n",
      "File saved: Drivers\\5b80f1db-c5b1-4771-adba-edb039ac437c.csv\n",
      "File saved: Drivers\\5b8ca814-0396-40b1-9984-282a911be567.csv\n",
      "File saved: Drivers\\5bc3f29a-a037-4e61-ace6-3934562470c9.csv\n",
      "File saved: Drivers\\5bdcf1ab-f9b1-4e09-bff1-c9460628ed21.csv\n",
      "File saved: Drivers\\5beecd2f-95e1-4798-8f2c-79bedaac9d2c.csv\n",
      "File saved: Drivers\\5bf4f7b1-41a4-4f40-a8b6-57f818b0cc63.csv\n",
      "File saved: Drivers\\5bffaad9-4825-4d47-9f08-5e4ae18d0e59.csv\n",
      "File saved: Drivers\\5c086c0d-686a-4bda-a1f1-9c0ed7093125.csv\n",
      "File saved: Drivers\\5c22f4d7-5163-441d-af9d-00250a1bbf3c.csv\n",
      "File saved: Drivers\\5c5473ae-2ab7-4ecc-897f-4d565723c7c5.csv\n",
      "File saved: Drivers\\5c907f4f-ddda-4411-8d76-89634f8fce66.csv\n",
      "File saved: Drivers\\5d13ff68-d1fb-4b4f-8b40-71f092090d35.csv\n",
      "File saved: Drivers\\5d407232-0b19-469d-a13e-ed8dba143db1.csv\n",
      "File saved: Drivers\\5d4214f0-72bb-4dcf-a6a8-434e22a18073.csv\n",
      "File saved: Drivers\\5d4e1373-be9a-49ed-9899-a947ba32eca0.csv\n",
      "File saved: Drivers\\5d7a647c-f433-4791-992e-0d0f07525973.csv\n",
      "File saved: Drivers\\5d80c267-5771-46a6-a603-3e8744825564.csv\n",
      "File saved: Drivers\\5d8c5414-db90-4b66-ac6d-f6bd399de95c.csv\n",
      "File saved: Drivers\\5de8bbf9-5769-4ae0-af80-e3c9b65e8361.csv\n",
      "File saved: Drivers\\5e25d493-c80a-474c-a7a9-5408c038b971.csv\n",
      "File saved: Drivers\\5e4f7bb5-b36b-4197-8b80-070fd265c5a3.csv\n",
      "File saved: Drivers\\5ebf2baf-4a48-4d9c-9215-ce90f7ba3452.csv\n",
      "File saved: Drivers\\5efd85b7-9c5e-494b-a8d4-4efde8c2b341.csv\n",
      "File saved: Drivers\\5f04899b-540e-4275-bba1-ad1d44de341e.csv\n",
      "File saved: Drivers\\5f2746a6-27de-4571-a699-ad189b32d842.csv\n",
      "File saved: Drivers\\5f4c2d6f-1faf-4fa6-b74b-762d49a15336.csv\n",
      "File saved: Drivers\\5f52d1fa-85a7-4e63-97f4-d59f00b0c634.csv\n",
      "File saved: Drivers\\5f7a22a9-1952-4d5a-b68a-eeb84fe2d80c.csv\n",
      "File saved: Drivers\\5f84440b-b42c-4513-8446-17e768f61829.csv\n",
      "File saved: Drivers\\5f907b13-4056-404e-8eee-c8e25ff5f45f.csv\n",
      "File saved: Drivers\\5fa4096a-6bd1-4f8d-9daf-de6d7d20147e.csv\n",
      "File saved: Drivers\\5fd06b01-a17e-45ca-9697-47a1060aebe2.csv\n",
      "File saved: Drivers\\5feb8635-e9f2-4200-aece-f7af906569d9.csv\n",
      "File saved: Drivers\\60049594-35a3-48e8-9222-59084fcb53a0.csv\n",
      "File saved: Drivers\\6042a2ed-2e9b-4724-9cbe-6d855a256c9e.csv\n",
      "File saved: Drivers\\60651d97-7053-487d-b33c-e13ccb520f21.csv\n",
      "File saved: Drivers\\6096eecc-e42f-4df7-a497-2607fd565324.csv\n",
      "File saved: Drivers\\60999914-8478-4561-bc88-07fb3b2d5dd9.csv\n",
      "File saved: Drivers\\60ca21f9-2842-4e86-af9e-1420c8ac1c4d.csv\n",
      "File saved: Drivers\\60cd81da-1365-4a55-9589-e1f444881070.csv\n",
      "File saved: Drivers\\60e88a74-3dad-4a9f-a2ed-809f037efee6.csv\n",
      "File saved: Drivers\\60e9b2fb-2087-407b-9104-5126d35e5790.csv\n",
      "File saved: Drivers\\610783da-bd47-4b77-8382-df93422d37b7.csv\n",
      "File saved: Drivers\\61256a48-e790-498d-a239-b3f9f7bce340.csv\n",
      "File saved: Drivers\\61300920-523e-405c-ba6f-26f91779fa58.csv\n",
      "File saved: Drivers\\6147d42e-9cec-4ef7-92bc-67edd91065a0.csv\n",
      "File saved: Drivers\\616dbeb9-5072-43f1-9727-5b460f69ae81.csv\n",
      "File saved: Drivers\\6178e150-4478-4874-b9fc-4c2d10b22d2c.csv\n",
      "File saved: Drivers\\617e694e-c338-43bf-ba75-e5bd6af41bdc.csv\n",
      "File saved: Drivers\\6182c60d-3bab-4842-b9fb-462b347f5f7b.csv\n",
      "File saved: Drivers\\618774ec-e448-4ed5-8d38-78f0c2d3ac19.csv\n",
      "File saved: Drivers\\61a162e9-9047-4a15-9479-438691d81f46.csv\n",
      "File saved: Drivers\\61a4f19f-e03b-4ae6-8e08-2fb215a4831e.csv\n",
      "File saved: Drivers\\61aa88ee-645e-4695-8b85-42e82a21ae05.csv\n",
      "File saved: Drivers\\61b2c6ec-a266-4af2-91c3-3461e971d924.csv\n",
      "File saved: Drivers\\61ba7773-acc6-46fc-933c-bb7c2d7d98c1.csv\n",
      "File saved: Drivers\\61c9c6f8-9211-4e05-9938-da82203836c7.csv\n",
      "File saved: Drivers\\61d7e04a-3838-4fec-b525-be7070129582.csv\n",
      "File saved: Drivers\\622cadd5-58a5-43ad-833b-4d3eff81e633.csv\n",
      "File saved: Drivers\\623ac172-6dc2-4a15-a81a-a36e0f35fab5.csv\n",
      "File saved: Drivers\\62801e97-21c7-4e71-9e53-e8d7ef45900a.csv\n",
      "File saved: Drivers\\631e44af-b914-401e-a57d-187c63a6a0f0.csv\n",
      "File saved: Drivers\\6337a728-6687-4318-885f-bfa52b1b632a.csv\n",
      "File saved: Drivers\\6358d7fb-022a-4402-ade5-af3d1984876e.csv\n",
      "File saved: Drivers\\6387c560-620c-43cc-8688-008b636b967d.csv\n",
      "File saved: Drivers\\639ca2db-1304-4149-971b-37b124b59ca8.csv\n",
      "File saved: Drivers\\63a2047c-e9b8-4f90-8d21-b073a3cde949.csv\n",
      "File saved: Drivers\\63a77cdc-2c28-4f56-9ec3-afad27cfb61a.csv\n",
      "File saved: Drivers\\64075d59-2391-4ad1-a908-cbfe92f0da11.csv\n",
      "File saved: Drivers\\6407cfd8-31ca-4b8b-98c2-abfdb4735e1d.csv\n",
      "File saved: Drivers\\6414961f-5dd7-49b6-ad24-819d7e3db7e5.csv\n",
      "File saved: Drivers\\6448349c-0ec4-40cc-901a-efc4ff40dd60.csv\n",
      "File saved: Drivers\\6488e7a7-b1c3-458b-9b20-a08c0e7966fb.csv\n",
      "File saved: Drivers\\64a570b7-1d97-41bb-90f8-02c6a38f51c4.csv\n",
      "File saved: Drivers\\64ba6ba2-65c9-4543-98ca-ed276bf1fea6.csv\n",
      "File saved: Drivers\\64dbfc69-2873-449e-b06e-fd5b08ff4a62.csv\n",
      "File saved: Drivers\\64fd52b6-e312-47e4-bc01-2b35e6156bba.csv\n",
      "File saved: Drivers\\65a4abc5-91a0-49f1-b288-d48b36d576c4.csv\n",
      "File saved: Drivers\\65a6b239-bed6-4f68-ab19-9ec81b4b81b8.csv\n",
      "File saved: Drivers\\65b29a35-0105-4718-9da6-f2e8b5ca69c2.csv\n",
      "File saved: Drivers\\6609c5fd-fd40-433e-bc67-3ae82fff0aff.csv\n",
      "File saved: Drivers\\662525bb-72f3-42fc-a3a2-ede2709d3ffe.csv\n",
      "File saved: Drivers\\6638edd6-1e52-447c-9c3a-23b981da175b.csv\n",
      "File saved: Drivers\\66437d39-5f2f-40aa-8282-302279a38076.csv\n",
      "File saved: Drivers\\6656fbc3-b964-4424-9f39-cbd79bbc6791.csv\n",
      "File saved: Drivers\\665e1607-5976-41c2-a97d-279a076ff9f5.csv\n",
      "File saved: Drivers\\665fab52-76b2-4c6d-81cc-7a6d35a3f040.csv\n",
      "File saved: Drivers\\667a3034-6fd8-4eb6-9770-0a9bb1ca0f5e.csv\n",
      "File saved: Drivers\\667e33c8-3811-44f9-9547-e86b40f95933.csv\n",
      "File saved: Drivers\\6687c9ac-857c-46fc-be5e-09bac2f5f860.csv\n",
      "File saved: Drivers\\66958461-6269-4396-a47a-d0861ebd0f14.csv\n",
      "File saved: Drivers\\669cd711-b79e-4f60-a9ca-161ee4275a09.csv\n",
      "File saved: Drivers\\66a58f75-2acd-41e7-a714-274faf026eb6.csv\n",
      "File saved: Drivers\\66b13b87-caa6-4ab9-994f-84955fb0b447.csv\n",
      "File saved: Drivers\\66c83126-70d6-485f-b4f3-6ff7787a325b.csv\n",
      "File saved: Drivers\\66e20f25-c707-41af-89b5-dd099e77f97c.csv\n",
      "File saved: Drivers\\6715c17d-58d9-4f6e-a17a-3a922501aa1e.csv\n",
      "File saved: Drivers\\67248fdb-d6d5-4ecc-abf7-79e11fea3e08.csv\n",
      "File saved: Drivers\\67aa60f0-0b3e-435e-baf1-387b342d7942.csv\n",
      "File saved: Drivers\\6814ab4c-f848-466d-82d5-44dc6d19e547.csv\n",
      "File saved: Drivers\\683bb333-8d44-4ae7-97aa-91c1c766e0dd.csv\n",
      "File saved: Drivers\\683da2fe-f769-4f8c-b714-f553db1e52b1.csv\n",
      "File saved: Drivers\\68484aee-4827-49f3-bbca-a09f36dd3d36.csv\n",
      "File saved: Drivers\\6848fd5b-b61b-44ed-8b95-742af2219c57.csv\n",
      "File saved: Drivers\\689ad48e-4ffa-463b-b32c-e82bccf28587.csv\n",
      "File saved: Drivers\\689e99df-fd22-404f-92e9-b4adaef70eb2.csv\n",
      "File saved: Drivers\\68b815d3-5e68-4ce8-91cc-c5d7154d85ae.csv\n",
      "File saved: Drivers\\68c214ec-f5e3-4524-a941-e1f5605d0a71.csv\n",
      "File saved: Drivers\\68f8d8f8-0def-4b75-916e-c27afc4b65c0.csv\n",
      "File saved: Drivers\\68fb4774-1104-455a-8760-fad54f2241af.csv\n"
     ]
    },
    {
     "name": "stdout",
     "output_type": "stream",
     "text": [
      "File saved: Drivers\\690d8840-b7d9-4d0c-a0b8-f38825d2958f.csv\n",
      "File saved: Drivers\\6937fd0a-ac5e-49a1-94a4-50eee3ff2bd7.csv\n",
      "File saved: Drivers\\6940bae0-0511-4544-8986-1508f27cc1cc.csv\n",
      "File saved: Drivers\\696ea676-372a-4a9a-9fb4-693e9502b7e1.csv\n",
      "File saved: Drivers\\697013a3-62fb-46f3-9898-08fa3a611e08.csv\n",
      "File saved: Drivers\\69bd3f1b-160b-47d6-ab94-31dc0f39277b.csv\n",
      "File saved: Drivers\\69c98371-7bf0-4bcb-aa5d-18a297a8ec50.csv\n",
      "File saved: Drivers\\69d5da44-5121-4642-8744-73a55e3bf7bd.csv\n",
      "File saved: Drivers\\69feba80-4137-4ef7-aa7b-b7071b159a90.csv\n",
      "File saved: Drivers\\6a0a6443-0660-460f-a965-124ee978e7d0.csv\n",
      "File saved: Drivers\\6a1b4257-7748-4870-8b2b-29559fd27bd6.csv\n",
      "File saved: Drivers\\6a2ce056-e711-4ff5-8d0f-eca4ccee6128.csv\n",
      "File saved: Drivers\\6a5e6409-b6ff-4f2f-bebb-7480eb84030d.csv\n",
      "File saved: Drivers\\6ac6a2a8-c353-4c85-b166-7a2ed8655e71.csv\n",
      "File saved: Drivers\\6ac8b94a-08cf-4885-a1f2-02c610d20841.csv\n",
      "File saved: Drivers\\6aeb6e77-a820-4380-84b6-7d6d95d23d35.csv\n",
      "File saved: Drivers\\6aeded4f-3285-4583-bb09-e9d287147d52.csv\n",
      "File saved: Drivers\\6afaface-c867-466a-a856-be802b618461.csv\n",
      "File saved: Drivers\\6b021557-ad53-43a2-ac17-c7616098241f.csv\n",
      "File saved: Drivers\\6b4c424b-cb90-4a3a-9823-8f4a851a46eb.csv\n",
      "File saved: Drivers\\6b5226e1-257f-4725-8bb7-5f2cd58fc6e6.csv\n",
      "File saved: Drivers\\6b56fe98-0d7d-44bf-8cb7-2b38fb8874c4.csv\n",
      "File saved: Drivers\\6b6d9158-5ba4-4d94-9f49-267be35f7ccf.csv\n",
      "File saved: Drivers\\6b720872-f9ce-4a64-ba5e-ff56ccdddab3.csv\n",
      "File saved: Drivers\\6b7cceb4-5a89-4b75-b5bb-249168bb86d2.csv\n",
      "File saved: Drivers\\6ba60eae-654f-42cb-a7e3-a918fb66b7b9.csv\n",
      "File saved: Drivers\\6bb2a4b2-a3e2-4a63-8883-6c27218eafad.csv\n",
      "File saved: Drivers\\6be8c0d4-ac8d-4b71-b116-ec3bbca51d78.csv\n",
      "File saved: Drivers\\6bea804e-ed08-42a5-aa88-44cb9860413b.csv\n",
      "File saved: Drivers\\6c27e65e-747c-4a85-9dcd-6854b99e81db.csv\n",
      "File saved: Drivers\\6c35378d-ac81-4728-af98-f4cf9f588855.csv\n",
      "File saved: Drivers\\6c4048a6-ca51-4dea-8b65-112b47a2da19.csv\n",
      "File saved: Drivers\\6c4de239-7a70-469e-946f-03ba60620cbe.csv\n",
      "File saved: Drivers\\6c56319e-09f7-4a2f-8110-49559bb1feed.csv\n",
      "File saved: Drivers\\6c862bb5-939b-4dd4-9538-c97e8e376e89.csv\n",
      "File saved: Drivers\\6c8fe4e6-4684-4671-a19d-6db17c578f36.csv\n",
      "File saved: Drivers\\6c96898e-57af-46bf-8851-953d2f6ea66e.csv\n",
      "File saved: Drivers\\6cb32030-35d3-412e-8a77-5c3b0e6ae9ca.csv\n",
      "File saved: Drivers\\6ce49a5a-f0df-4d59-98e1-9c2318d29744.csv\n",
      "File saved: Drivers\\6cebfd91-61b7-4787-b3f7-268d900dac2d.csv\n",
      "File saved: Drivers\\6ceef50f-53c2-4f84-a0f7-3752c5e2eabd.csv\n",
      "File saved: Drivers\\6cf25e8a-ca0f-4878-9c59-6c78c9f3306f.csv\n",
      "File saved: Drivers\\6cfe927f-45b7-4ee5-b8f9-6f2722c99fd2.csv\n",
      "File saved: Drivers\\6d2ab38b-0dc6-4550-98ad-1470638ed155.csv\n",
      "File saved: Drivers\\6d627981-1e68-4a18-a2f0-a7cf2417ae38.csv\n",
      "File saved: Drivers\\6da4a410-5dae-46fa-b186-d14e05a6686b.csv\n",
      "File saved: Drivers\\6db273b0-9020-409a-b22f-c3fdf4a586ad.csv\n",
      "File saved: Drivers\\6dca2170-81f6-4c42-96cc-9b127d832146.csv\n",
      "File saved: Drivers\\6ded1f02-8ac2-4f38-afba-0888b406d564.csv\n",
      "File saved: Drivers\\6e04c5a7-b923-47c1-8479-8c0115c3408b.csv\n",
      "File saved: Drivers\\6e1c9e4d-5190-4dea-b924-da2450c664a9.csv\n",
      "File saved: Drivers\\6eba0b57-76d7-45e2-9b0c-025f15074a1d.csv\n",
      "File saved: Drivers\\6ebe1139-dc42-4653-accd-bd089d275870.csv\n",
      "File saved: Drivers\\6ec0b843-6209-4aff-8bb7-a0ad899063a9.csv\n",
      "File saved: Drivers\\6f0fc03e-8f03-47be-b642-25f9deecc4b2.csv\n",
      "File saved: Drivers\\6f4a485e-53d1-4edd-b66c-d5fe38cf00ed.csv\n",
      "File saved: Drivers\\6fd077f5-9cae-44de-bbbf-e89a442b6287.csv\n",
      "File saved: Drivers\\6fec34c5-e1b1-4a60-9615-1f44ce51d634.csv\n",
      "File saved: Drivers\\70306540-0f38-4ce6-8865-717c1ee052c4.csv\n",
      "File saved: Drivers\\704b5d4d-4cc0-4fb0-a85f-9d84dc6571cd.csv\n",
      "File saved: Drivers\\70508c81-cec2-442d-a011-2b5e9a6b2641.csv\n",
      "File saved: Drivers\\70549f4d-799c-4f71-b0f1-25ced58ac793.csv\n",
      "File saved: Drivers\\7073de12-5ca6-450f-a83b-dc96e9bade3d.csv\n",
      "File saved: Drivers\\70ded071-7f84-40ac-a1a6-cac57ec20695.csv\n",
      "File saved: Drivers\\70fee0a0-59ec-487e-9018-38d40e994435.csv\n",
      "File saved: Drivers\\71125332-93af-44ef-bb72-e19c97dbcca3.csv\n",
      "File saved: Drivers\\711a13a9-2b09-4540-bcba-c55195f39bda.csv\n",
      "File saved: Drivers\\7132ea85-87dc-4680-a819-fdc925d5bd9a.csv\n",
      "File saved: Drivers\\713f3bb2-3812-492e-84ec-a5e7e78f8ce3.csv\n",
      "File saved: Drivers\\713ffc16-339a-401a-9d86-fb56b42141e1.csv\n",
      "File saved: Drivers\\716c6914-f90a-4c45-b000-14067ccf6950.csv\n",
      "File saved: Drivers\\71867592-f98f-4611-ae3d-adfa0704189b.csv\n",
      "File saved: Drivers\\71893680-2422-4a44-ae30-eeb9910b3a4b.csv\n",
      "File saved: Drivers\\71930ca2-6a0c-4182-a955-d94bded5be14.csv\n",
      "File saved: Drivers\\71a46203-36b9-4de8-abf0-e1c54c02a2df.csv\n",
      "File saved: Drivers\\71ffad8a-9fec-494e-931c-aefb7162eff6.csv\n",
      "File saved: Drivers\\72246f3d-442e-4ff5-bb4f-7ef8d6b8d96a.csv\n",
      "File saved: Drivers\\72300418-358b-4d25-a795-25cb728d1fad.csv\n",
      "File saved: Drivers\\72910a17-6d3d-4d82-a4c6-01de65c22cdb.csv\n",
      "File saved: Drivers\\72f5cf35-4b82-4ee6-8ac0-19407046410d.csv\n",
      "File saved: Drivers\\72f83909-36b8-416b-bc3a-83e8993a6ddc.csv\n",
      "File saved: Drivers\\72fbdbb9-eec6-4708-a64e-fb1a8b6c2b2d.csv\n",
      "File saved: Drivers\\7354c3ef-347e-4671-a186-22f6358d2c57.csv\n",
      "File saved: Drivers\\737b33fb-9387-4dd4-902b-a86e23a579bf.csv\n",
      "File saved: Drivers\\73b3e51b-ff47-45c2-90c0-2a77fdd9dbdd.csv\n",
      "File saved: Drivers\\73cf7193-80e2-4811-98ad-f50ed0dbcc8a.csv\n",
      "File saved: Drivers\\73d93c42-8b6e-4ece-a09a-529fa67da83b.csv\n",
      "File saved: Drivers\\7401e3be-cfb1-4588-87f0-da77e2505304.csv\n",
      "File saved: Drivers\\74472ea4-06ab-4c72-be3a-afaa50f1a14d.csv\n",
      "File saved: Drivers\\745f863e-f326-4728-b5ae-a88cdbeedd1a.csv\n",
      "File saved: Drivers\\74704916-6629-4238-b662-de81669d19bd.csv\n",
      "File saved: Drivers\\74989df1-9e3d-4fe2-9dcf-2aef92c03de3.csv\n",
      "File saved: Drivers\\74b77994-8932-4d7a-9ecd-f613c98be403.csv\n",
      "File saved: Drivers\\74b7ad73-78a4-4d36-95fb-68888dcac52b.csv\n",
      "File saved: Drivers\\74c384cd-0eb9-4dd8-af84-20a2683f3753.csv\n",
      "File saved: Drivers\\74c6a27b-b5ed-4347-8747-3864ae39cb80.csv\n",
      "File saved: Drivers\\74d1f690-270b-4c54-9e57-333757b1efc5.csv\n",
      "File saved: Drivers\\74e5e7d2-579e-47b3-b5c7-490c9c6b3b40.csv\n",
      "File saved: Drivers\\74fccd4b-5187-4f0f-a22d-65be619f2ff2.csv\n",
      "File saved: Drivers\\750d1834-08a3-410d-acdb-393b5806dbf8.csv\n",
      "File saved: Drivers\\75355193-7bf9-4224-965d-7676a7278850.csv\n",
      "File saved: Drivers\\753f7ec7-e05d-4633-b5de-b87d18b966f1.csv\n",
      "File saved: Drivers\\756f31d0-f841-460f-9002-20fcc9e01567.csv\n",
      "File saved: Drivers\\75804ef0-2cd1-4dd9-9e08-5a0edaf0c4ba.csv\n",
      "File saved: Drivers\\7594dff7-7535-4dc8-9039-db3924256515.csv\n",
      "File saved: Drivers\\759e0bea-0249-4833-84c0-ed92196c50f8.csv\n",
      "File saved: Drivers\\75c53046-8b06-4ed5-a8ad-bcf956fb7c3e.csv\n",
      "File saved: Drivers\\75dac98d-111b-4862-b751-3be0f93ae6f8.csv\n",
      "File saved: Drivers\\75f2fb66-9a71-4d99-a9ef-c45fdd52b0d9.csv\n",
      "File saved: Drivers\\763d28f1-f4c9-446a-bb6c-54e5c928a6ce.csv\n",
      "File saved: Drivers\\763f9dae-3b32-491e-aedb-e8ba2d7c72e6.csv\n",
      "File saved: Drivers\\76413905-56c2-443d-ad58-a84a6864db95.csv\n",
      "File saved: Drivers\\76aa0e6a-1f73-4b98-bed5-5693f49f1193.csv\n",
      "File saved: Drivers\\76d4ee16-e17f-42b4-a428-d1a0db6a3edf.csv\n",
      "File saved: Drivers\\76de0ba3-8733-4d7b-bd9c-8c51e8c2a78c.csv\n",
      "File saved: Drivers\\76ee2998-2cca-47a0-ad8d-366a73f6a391.csv\n",
      "File saved: Drivers\\77071f59-8a4d-4080-8cad-37a881d74a48.csv\n",
      "File saved: Drivers\\7712277d-4ea3-4395-859d-04f05e44a801.csv\n",
      "File saved: Drivers\\772dc018-7388-4d5a-8ac1-0c0ae0c23c23.csv\n",
      "File saved: Drivers\\775b9849-51dc-4124-94b0-9200a81ad9cf.csv\n",
      "File saved: Drivers\\7761340f-9632-4268-9ba7-40e1f163598e.csv\n",
      "File saved: Drivers\\7776d314-455e-4df3-b5e3-209a7de2ee1e.csv\n",
      "File saved: Drivers\\77821061-0dbc-4483-834d-f1cf5b0df619.csv\n",
      "File saved: Drivers\\7798d1f6-9991-4b0c-ab5e-c4d5252d3857.csv\n",
      "File saved: Drivers\\779fbe78-350c-4ba9-8f0d-adbe7ddcccd4.csv\n",
      "File saved: Drivers\\77cca2a7-4d21-4004-9dd3-57925245a273.csv\n",
      "File saved: Drivers\\784a8b0b-095a-462c-8bb9-49523bf6c03c.csv\n",
      "File saved: Drivers\\789acc5d-7aca-4382-bc35-6106f7651439.csv\n",
      "File saved: Drivers\\78eb49c1-851d-4a00-8b6d-eb8941288946.csv\n",
      "File saved: Drivers\\7919a5a8-5acc-490a-8afd-9c521145eb6d.csv\n",
      "File saved: Drivers\\791abfa2-ba9b-443a-b47f-57fabe844049.csv\n",
      "File saved: Drivers\\7977756b-cc6e-40fe-b817-abff545e7ece.csv\n",
      "File saved: Drivers\\79a5bf9d-c0f6-4401-8b94-7be33caa55c5.csv\n",
      "File saved: Drivers\\79aff6a3-8597-4bd4-999b-65cc0ba076a1.csv\n",
      "File saved: Drivers\\79d082c2-526f-4303-824c-56995d38fd25.csv\n",
      "File saved: Drivers\\79deca4c-6738-48c5-a26d-5dda726758db.csv\n",
      "File saved: Drivers\\79e2a0ec-29da-43db-9cfe-8a03399c91db.csv\n",
      "File saved: Drivers\\79f41747-c5d0-4f02-9721-c421eb0926b5.csv\n",
      "File saved: Drivers\\79fd49c6-a94f-4e8d-8503-bce38c412476.csv\n",
      "File saved: Drivers\\7a179f43-2080-4259-9411-5b2a3fa350cf.csv\n"
     ]
    },
    {
     "name": "stdout",
     "output_type": "stream",
     "text": [
      "File saved: Drivers\\7a825dde-1aa9-44fc-ad8a-1f2144661ab5.csv\n",
      "File saved: Drivers\\7a861caa-ac53-49c7-afc6-9c4c540a7db4.csv\n",
      "File saved: Drivers\\7a93bf4d-c4a4-40ac-8262-d6a891f94d74.csv\n",
      "File saved: Drivers\\7aaeb994-2ed9-4262-b0ed-74e25a1c487e.csv\n",
      "File saved: Drivers\\7ade75d3-8f36-4954-a777-8a1044e05a40.csv\n",
      "File saved: Drivers\\7b1563bb-414b-4efb-87a0-d3a2604be66b.csv\n",
      "File saved: Drivers\\7b589c29-1ff7-4f4d-9b34-e6f6ecbfb2c6.csv\n",
      "File saved: Drivers\\7b8a14ef-43f7-4f3f-9e95-b2311ec6f76e.csv\n",
      "File saved: Drivers\\7bab7f4c-e65e-4263-944f-64c1ac1957a1.csv\n",
      "File saved: Drivers\\7bc21488-a19b-44cb-a183-9828b8e04b98.csv\n",
      "File saved: Drivers\\7be1a8b9-c201-448e-a39c-34838322a31d.csv\n",
      "File saved: Drivers\\7c095632-9971-42c1-b9c1-c8f194fc06e9.csv\n",
      "File saved: Drivers\\7c340e82-7610-4263-94f9-1b853dea2422.csv\n",
      "File saved: Drivers\\7c512508-f14b-478b-b78a-828b484dce73.csv\n",
      "File saved: Drivers\\7c5570da-b8a5-4562-8910-0855f7e898d6.csv\n",
      "File saved: Drivers\\7ce77fac-bd91-48f2-932a-04d08d13e220.csv\n",
      "File saved: Drivers\\7cf066bd-0195-4459-96a6-73942e6609db.csv\n",
      "File saved: Drivers\\7cf0f8f1-8e42-4fe9-be7e-c648367dee86.csv\n",
      "File saved: Drivers\\7d0a91d2-d630-4ed6-a952-ff151d5635a8.csv\n",
      "File saved: Drivers\\7d0c6bbf-3469-439c-9d7c-fa9e8b4b1593.csv\n",
      "File saved: Drivers\\7d1ac1c6-2b16-40ad-b334-136554272cf0.csv\n",
      "File saved: Drivers\\7d3276f2-0563-44bc-85f9-a477a936d2ad.csv\n",
      "File saved: Drivers\\7d34533a-4693-4918-ade8-4c7b18d8e7d6.csv\n",
      "File saved: Drivers\\7d52c208-c661-4371-8740-e4ddebb0d4a0.csv\n",
      "File saved: Drivers\\7d90fe76-4736-48dd-9be7-8da2f12c0798.csv\n",
      "File saved: Drivers\\7d9ca8b3-5b47-4570-bd5f-ca9c14d57e0c.csv\n",
      "File saved: Drivers\\7daa186c-56f6-40a6-aef8-1f5733a08b68.csv\n",
      "File saved: Drivers\\7dae77bd-7dca-4f1d-abc0-bebd3539ebc8.csv\n",
      "File saved: Drivers\\7ddb99e4-94b0-47ce-aa92-3feb64057b28.csv\n",
      "File saved: Drivers\\7de56314-1026-49a2-bb58-2ecba81dfbff.csv\n",
      "File saved: Drivers\\7e5f712f-0f4d-46b5-b57f-a20712f055f9.csv\n",
      "File saved: Drivers\\7e7868a4-2905-4557-a7f0-3033cba3cf81.csv\n",
      "File saved: Drivers\\7eb9172f-0fef-49bb-b990-5d981e7496da.csv\n",
      "File saved: Drivers\\7ef6b28a-eca7-4dda-a5b8-209fcd43440b.csv\n",
      "File saved: Drivers\\7f2b1fbb-01f5-4878-af63-76d11426fbde.csv\n",
      "File saved: Drivers\\7f2bb777-8c88-4ccf-8cf3-a30852605e3e.csv\n",
      "File saved: Drivers\\7f6baa76-aef3-4bbe-922b-1a320c886b38.csv\n",
      "File saved: Drivers\\7f7ae747-82aa-45fd-b638-1eab339dc0c4.csv\n",
      "File saved: Drivers\\80299926-8607-4722-af77-b95046a8f5da.csv\n",
      "File saved: Drivers\\8034a4af-20dc-42bc-a3f8-a0ba6753d752.csv\n",
      "File saved: Drivers\\80492065-1868-4b6e-92c4-19d2828409fe.csv\n",
      "File saved: Drivers\\80533209-f585-4c15-8182-0c14500b718e.csv\n",
      "File saved: Drivers\\80acc825-e1fd-4140-adcf-acacc33ffb9e.csv\n",
      "File saved: Drivers\\80afc2ce-45a5-4b25-b0e5-589e16246a78.csv\n",
      "File saved: Drivers\\80eafcfb-7d50-4066-8a3f-78d143bae6b2.csv\n",
      "File saved: Drivers\\80f92d7d-ac22-4e96-be72-16ab51686ebc.csv\n",
      "File saved: Drivers\\80f9d93e-5c03-4329-bf05-ed6b53407588.csv\n",
      "File saved: Drivers\\8109e767-7317-433c-9ec5-4d528c608f33.csv\n",
      "File saved: Drivers\\813a84b7-6f34-412e-bf85-9e8527e3e564.csv\n",
      "File saved: Drivers\\818f608b-6240-42ff-a9e3-5504b6226117.csv\n",
      "File saved: Drivers\\8215b724-354c-4a50-b090-d23eaa51205c.csv\n",
      "File saved: Drivers\\823220bc-a4d9-4965-9025-701cd6c5fcc4.csv\n",
      "File saved: Drivers\\82604dc3-2d79-4a23-bd6c-9e8f0922dd8b.csv\n",
      "File saved: Drivers\\82610a3f-058b-4903-81fe-cab21efab3fb.csv\n",
      "File saved: Drivers\\828ff505-b71f-4565-bef0-d3d2f6a8588e.csv\n",
      "File saved: Drivers\\829aaf4b-2e41-40ef-a81d-517e82bb4111.csv\n",
      "File saved: Drivers\\82bc4763-b798-4ab3-b78b-4d3c3e76bbba.csv\n",
      "File saved: Drivers\\82e2f5fa-8a2c-4b1f-a0bc-d9e6cebec65f.csv\n",
      "File saved: Drivers\\833c5815-c3d3-495d-bef0-839bbb478186.csv\n",
      "File saved: Drivers\\833c8522-be5e-44f7-8ebb-056889fb6769.csv\n",
      "File saved: Drivers\\8351ab1f-c7ee-425a-9c42-acceb3bca4ab.csv\n",
      "File saved: Drivers\\8356e6aa-cbdb-4e94-b817-a96d9750618c.csv\n",
      "File saved: Drivers\\83a34292-c41f-4a52-be20-cd7648c0c453.csv\n",
      "File saved: Drivers\\83f4b127-1f4b-43bd-a95f-cbaa53208e26.csv\n",
      "File saved: Drivers\\843afdd9-abeb-449b-8809-cc1ba6203029.csv\n",
      "File saved: Drivers\\843d8067-eb34-48aa-9396-bf3fb1ada9d1.csv\n",
      "File saved: Drivers\\844fe45b-c573-4232-97d5-d78cd9fa56f1.csv\n",
      "File saved: Drivers\\84b48bc0-233a-4842-a46e-a659a2c9ab3e.csv\n",
      "File saved: Drivers\\85229689-a9cf-446b-892f-5ddbc1ea86f6.csv\n",
      "File saved: Drivers\\852d8888-d16f-4d69-a938-4a31f647a8fb.csv\n",
      "File saved: Drivers\\859efb55-56a6-49d3-86fb-333718c06deb.csv\n",
      "File saved: Drivers\\85b32c22-2016-4f2c-9c4e-438fb154a2b1.csv\n",
      "File saved: Drivers\\85e23d2c-247b-400c-bb71-635408ec4fbc.csv\n",
      "File saved: Drivers\\86164ded-4534-412e-b74d-53193c6ce149.csv\n",
      "File saved: Drivers\\8619e5d7-0392-48e5-8793-11473cb0c4cf.csv\n",
      "File saved: Drivers\\86334e16-418e-466b-bee6-6f259bfff62f.csv\n",
      "File saved: Drivers\\864307a2-ca4e-4f3f-a77e-93cb825f49a9.csv\n",
      "File saved: Drivers\\865aef1e-7c28-45f0-a9c3-851147a1b2cb.csv\n",
      "File saved: Drivers\\8683240e-6a7c-4d03-b3a7-95392e9c2c77.csv\n",
      "File saved: Drivers\\869139be-554d-45eb-bfb4-2a28da1a039b.csv\n",
      "File saved: Drivers\\86c03c6e-7eda-4beb-96ce-f71efe5353e1.csv\n",
      "File saved: Drivers\\874dfb55-d5d7-45a5-9ef3-82f1905eeb15.csv\n",
      "File saved: Drivers\\876b28c4-c83b-4b67-b9b0-058de78e5f57.csv\n",
      "File saved: Drivers\\879e5f92-3ce0-4883-a287-077577523a18.csv\n",
      "File saved: Drivers\\87a948d2-8dd2-4e84-aac7-532a99ef014e.csv\n",
      "File saved: Drivers\\87cc512a-0d39-4868-b6fe-8a4720586d15.csv\n",
      "File saved: Drivers\\880e9fdc-2583-426b-aa67-beb62747ecee.csv\n",
      "File saved: Drivers\\8852145c-375a-4082-a600-fd47521573aa.csv\n",
      "File saved: Drivers\\8884a762-83de-46bc-8fa5-c32c6d6e8e37.csv\n",
      "File saved: Drivers\\888b473c-855b-4fab-ab24-ee13ba4dd0ce.csv\n",
      "File saved: Drivers\\88b4548d-e41e-4953-acec-d55bd16999fd.csv\n",
      "File saved: Drivers\\88f9d699-3018-42d7-b45b-a5bbcd9e88a9.csv\n",
      "File saved: Drivers\\88ff29fb-982f-4450-882b-11d1af754dc6.csv\n",
      "File saved: Drivers\\891bc4ba-439a-4fde-9d00-c1ec62890018.csv\n",
      "File saved: Drivers\\8924a557-3b5a-4c1d-9c0a-f3cd15cf41d0.csv\n",
      "File saved: Drivers\\89356ed4-b59f-4449-adb3-89b55d8c0288.csv\n",
      "File saved: Drivers\\893f07de-cc5d-4fcf-91a0-a49d85447936.csv\n",
      "File saved: Drivers\\896864a2-ecca-4336-87cd-7de18d3a2dc5.csv\n",
      "File saved: Drivers\\89686f3e-f451-4146-9dc0-333ce8479fce.csv\n",
      "File saved: Drivers\\89a9c3f6-2009-4d82-8d6a-e274a8f3d3f2.csv\n",
      "File saved: Drivers\\89ae511a-e9fc-4da8-8776-062abf50857d.csv\n",
      "File saved: Drivers\\89b48ab4-4557-491f-ae62-e25c0c54529b.csv\n",
      "File saved: Drivers\\89c57bee-28fd-45b1-bb10-e8d0d162eddc.csv\n",
      "File saved: Drivers\\89d8b129-c6a1-4c27-87c2-190166f32ac8.csv\n",
      "File saved: Drivers\\89daa2b3-43f9-48fb-a796-34a02c3fbbb0.csv\n",
      "File saved: Drivers\\89fcbf48-212b-413f-96ff-c48a17c8217d.csv\n",
      "File saved: Drivers\\8a1ee1f6-78b1-43db-9cf1-fa16a4fa2ba4.csv\n",
      "File saved: Drivers\\8aa5c7d2-b678-48f5-973f-abc37b08243b.csv\n",
      "File saved: Drivers\\8abc87b3-abbb-4035-bfee-f13b52c98b5e.csv\n",
      "File saved: Drivers\\8ad1a4ba-6fb3-461b-a6f9-139433152fd2.csv\n",
      "File saved: Drivers\\8b1900ff-b05b-4043-b469-094581460bce.csv\n",
      "File saved: Drivers\\8b287173-1c1e-46b5-b803-35acab0c2457.csv\n",
      "File saved: Drivers\\8b4304f3-c80f-4b54-a27e-1a2850c35bf5.csv\n",
      "File saved: Drivers\\8b4ae3d0-5010-491d-9ed0-6ae84a47ce74.csv\n",
      "File saved: Drivers\\8b615c6f-5ec5-4298-8774-7e5a2add4927.csv\n",
      "File saved: Drivers\\8b62a45a-94f8-4578-b51a-e88f8b45beb6.csv\n",
      "File saved: Drivers\\8b6a7ef2-347f-415e-b725-e861b50c1645.csv\n",
      "File saved: Drivers\\8bc3f8e4-ac16-454a-96bf-8d80b124e179.csv\n",
      "File saved: Drivers\\8bf44f00-98a2-49d2-a8e7-d7faca3c2730.csv\n",
      "File saved: Drivers\\8c2c38d0-db8d-43b8-8b6e-ed8c01c9a6a8.csv\n",
      "File saved: Drivers\\8c3830ac-c94b-426d-b804-58c4cc4e6274.csv\n",
      "File saved: Drivers\\8c4ce6e7-c7b6-4eed-a668-3bdf25fff419.csv\n",
      "File saved: Drivers\\8c8033cc-c145-4373-8671-e98a64a3145d.csv\n",
      "File saved: Drivers\\8cadfac1-5ce0-4ed6-b8ed-9e9f58542cdc.csv\n",
      "File saved: Drivers\\8cb6954a-3632-479d-8d38-48f645e4ff32.csv\n",
      "File saved: Drivers\\8cd056d8-fb1b-4016-b233-c46957a86fcb.csv\n",
      "File saved: Drivers\\8cf4577d-d9c4-49c9-be1a-b01068ee1bbf.csv\n",
      "File saved: Drivers\\8d069318-3129-48dd-ad14-1efbb4b61ec1.csv\n",
      "File saved: Drivers\\8d16b7ed-cc84-47c5-8712-9c132d86b0b8.csv\n",
      "File saved: Drivers\\8d62989b-777a-48fb-a26a-f939c9b868f7.csv\n",
      "File saved: Drivers\\8d8dfb35-2273-4c99-b35e-fdad9386fee4.csv\n",
      "File saved: Drivers\\8da91657-d12e-4ae4-8611-1bd77902756e.csv\n",
      "File saved: Drivers\\8dab2da0-b1b2-4d58-8475-523770dd3193.csv\n",
      "File saved: Drivers\\8dde9db9-f3f5-4cdd-bae5-6a03342f6be8.csv\n",
      "File saved: Drivers\\8df0b99e-f7a2-4662-9304-ed93c7587416.csv\n",
      "File saved: Drivers\\8dfa7d06-6dfa-4b0e-a786-2548accf539a.csv\n"
     ]
    },
    {
     "name": "stdout",
     "output_type": "stream",
     "text": [
      "File saved: Drivers\\8e405365-2561-4ae4-954d-a6665902725b.csv\n",
      "File saved: Drivers\\8e53faac-4e5d-4741-aa7a-1c8573b529df.csv\n",
      "File saved: Drivers\\8ed4b1c7-1a19-454b-98c8-53b3d7d03967.csv\n",
      "File saved: Drivers\\8f1feac9-f57f-4f55-ae25-f2c009e4564e.csv\n",
      "File saved: Drivers\\8f3a9fe9-a78d-49b3-888d-5fbac48735b6.csv\n",
      "File saved: Drivers\\8f3dc451-b702-4c53-82de-f4ab5068cf77.csv\n",
      "File saved: Drivers\\8f510df3-79ce-4ca1-a15d-8720183aace9.csv\n",
      "File saved: Drivers\\8f6af4c9-2e72-402f-91db-f049a2914d27.csv\n",
      "File saved: Drivers\\8f71cc5f-e1a9-45fd-9c1b-818405151a5d.csv\n",
      "File saved: Drivers\\8f8e2b2b-0d0f-4c15-8b16-a4f0217522a9.csv\n",
      "File saved: Drivers\\8fb36ab2-9242-49a1-909f-adf346c8118f.csv\n",
      "File saved: Drivers\\8fc4b770-51af-4c9e-b6d2-9230904489fe.csv\n",
      "File saved: Drivers\\8fdc6d37-9ede-4cd9-8ee3-e9cb148f3e5e.csv\n",
      "File saved: Drivers\\8ff7381d-a7a9-4957-a0a0-f4a1e889fa7b.csv\n",
      "File saved: Drivers\\900b0e9e-ceb8-407b-bfd3-63f6960cc931.csv\n",
      "File saved: Drivers\\9032d957-b27c-4fe6-955a-6fd706e4762e.csv\n",
      "File saved: Drivers\\9048b428-1693-4efb-b346-bde6629824d3.csv\n",
      "File saved: Drivers\\907906f5-d2ee-4c1a-aaaa-688e8548103c.csv\n",
      "File saved: Drivers\\90de02dd-56dd-4dd7-8f76-1c00928103cc.csv\n",
      "File saved: Drivers\\912dcf4d-e29f-4dbc-9bbb-72b60aa44551.csv\n",
      "File saved: Drivers\\91388c5c-a4bd-42cc-a8ba-b314d5e50b18.csv\n",
      "File saved: Drivers\\918a798b-7d67-423f-bbeb-d7329a1b53d1.csv\n",
      "File saved: Drivers\\91b7bd3f-fbb2-42e9-94b2-d05d92bac1a5.csv\n",
      "File saved: Drivers\\91befd75-5e23-47ad-8627-58d958c71a1c.csv\n",
      "File saved: Drivers\\91c82c0e-d80d-4a36-abf4-2a3f9580f91e.csv\n",
      "File saved: Drivers\\91e72681-f693-442b-a9bd-3c85f16361aa.csv\n",
      "File saved: Drivers\\91fe25d1-166a-4ce6-8efe-180290d686b8.csv\n",
      "File saved: Drivers\\91fe91de-37b2-4489-b7c1-84d61f443c7a.csv\n",
      "File saved: Drivers\\921b7539-fe0c-4c3b-b2ac-d600f4786730.csv\n",
      "File saved: Drivers\\9228d855-c9ec-4a9e-b87f-734fb3a92bd7.csv\n",
      "File saved: Drivers\\925d9b9d-b717-44eb-b9cb-d1d61771c187.csv\n",
      "File saved: Drivers\\9265f943-7b7b-4d02-8321-c0e88c9adcd0.csv\n",
      "File saved: Drivers\\9270b140-5159-48f4-8c29-c7b6f2f447a4.csv\n",
      "File saved: Drivers\\928540fa-6f3f-425e-b79f-fb0a60dde0a2.csv\n",
      "File saved: Drivers\\92885460-42d4-4707-9508-6f03cb94e27a.csv\n",
      "File saved: Drivers\\929ebc7e-9f91-4105-a1f1-4ef780897fb8.csv\n",
      "File saved: Drivers\\92a4d56a-0397-40de-8c32-fa1be7a55590.csv\n",
      "File saved: Drivers\\92af851d-8680-454f-8d2d-12d253335ed3.csv\n",
      "File saved: Drivers\\92b316ef-3b1f-451f-a9f9-90923ffecba8.csv\n",
      "File saved: Drivers\\931a40fa-501e-4137-aeea-3269fc65b62d.csv\n",
      "File saved: Drivers\\932618ce-aa26-4b35-945c-11a0d96bc992.csv\n",
      "File saved: Drivers\\932b179a-7e57-4f95-a969-8ecd7aef65c0.csv\n",
      "File saved: Drivers\\9338f464-a6da-42dd-a3e8-75f30a06c883.csv\n",
      "File saved: Drivers\\9359af3b-c6e5-4853-ab12-d94a23affb69.csv\n",
      "File saved: Drivers\\935ae3ed-c5e2-4cd9-ba32-a1089d868d6d.csv\n",
      "File saved: Drivers\\93647323-2665-452b-b29a-8f86c8ac218d.csv\n",
      "File saved: Drivers\\93aaa3c1-b9f0-46d4-826c-cc0a4cde2eef.csv\n",
      "File saved: Drivers\\93bb7465-4350-4a6c-9120-3cf25376b2f1.csv\n",
      "File saved: Drivers\\93deca54-82ff-4c62-b614-5b1f4a721e11.csv\n",
      "File saved: Drivers\\93e900ca-e17f-4105-93cb-422bf9e55c38.csv\n",
      "File saved: Drivers\\93ea568c-a1b5-4919-9032-3a48e7c08806.csv\n",
      "File saved: Drivers\\93f9b25a-c33c-4366-b8a9-d6415bb9780d.csv\n",
      "File saved: Drivers\\93fc5af1-dc37-4bcb-866c-66ab51e2d46f.csv\n",
      "File saved: Drivers\\94364c72-12d1-4934-9ebe-11689b0fb4b8.csv\n",
      "File saved: Drivers\\943bac57-61b1-4f86-95ae-1a4d2d29d1b4.csv\n",
      "File saved: Drivers\\945c2a6c-3fcc-4ca2-adf3-2e67f066ec3c.csv\n",
      "File saved: Drivers\\946fa5ed-ef62-4dda-b843-160c1fad1aea.csv\n",
      "File saved: Drivers\\9477ecb0-c13e-4124-8e8c-ed361f66662b.csv\n",
      "File saved: Drivers\\9487d80b-b31c-4b5f-849e-306f7648aae9.csv\n",
      "File saved: Drivers\\950d55fe-2f31-4a27-8f78-6b68d43fb1b6.csv\n",
      "File saved: Drivers\\9514daf0-7301-4b30-ad8f-e47be0e1a47c.csv\n",
      "File saved: Drivers\\952fe7c6-55e2-422f-9b5b-1b48f3eded11.csv\n",
      "File saved: Drivers\\954463bf-23e1-476d-9b38-703e014d31f8.csv\n",
      "File saved: Drivers\\958a4d5e-b6f6-4049-bb73-c803119baf1d.csv\n",
      "File saved: Drivers\\958b2482-ff9f-4b64-a097-faff84c61063.csv\n",
      "File saved: Drivers\\95f2e335-4208-4df8-8267-8acc7f8bd60c.csv\n",
      "File saved: Drivers\\95f6764a-fc0f-41e5-9b34-595c4d89bec8.csv\n",
      "File saved: Drivers\\96109b1c-492a-4362-b84a-67778f62ffa5.csv\n",
      "File saved: Drivers\\9656063d-1695-4daf-9f89-1636c9bf657d.csv\n",
      "File saved: Drivers\\966ff838-d056-46c0-87d9-b02a5757ed01.csv\n",
      "File saved: Drivers\\96736a73-90cf-402b-ae41-13a0240ad3d6.csv\n",
      "File saved: Drivers\\96862929-b4a8-4cbf-b861-a7cb416a0564.csv\n",
      "File saved: Drivers\\9694345e-3811-4d44-b4ea-60925d2c10d3.csv\n",
      "File saved: Drivers\\96c75424-2bf6-4409-8b0c-18a2e6f7e4bc.csv\n",
      "File saved: Drivers\\96c8d846-4559-4bf3-90cf-6bd5e31582b1.csv\n",
      "File saved: Drivers\\971044bf-a86f-4032-8e67-eb0be368cdd4.csv\n",
      "File saved: Drivers\\97326cf8-79df-46c6-87bc-840cade928d8.csv\n",
      "File saved: Drivers\\977ad85f-a59e-435f-98ce-08fe701a1683.csv\n",
      "File saved: Drivers\\979749a2-68e6-45e7-91b4-d2f943483a3d.csv\n",
      "File saved: Drivers\\97b0711b-2ea8-48a3-8fb4-fdab8a1b67fe.csv\n",
      "File saved: Drivers\\97d517d6-6862-42b0-a014-c600bce15e44.csv\n",
      "File saved: Drivers\\98965333-0ac5-47bb-bf77-faa90e57bc5e.csv\n",
      "File saved: Drivers\\98a5dc6e-537e-4a32-b039-1c72124dfa0e.csv\n",
      "File saved: Drivers\\98edbb4f-50f6-43e6-a311-eb58800647e9.csv\n",
      "File saved: Drivers\\98fd6c71-6ed0-43a4-8710-5a33f7b881d2.csv\n",
      "File saved: Drivers\\990e3ece-36f0-4e34-9912-26989386b517.csv\n",
      "File saved: Drivers\\9914262f-1258-4533-96d1-cae682a6951b.csv\n",
      "File saved: Drivers\\9921b6a0-223e-4612-9bd1-5cf52e14d722.csv\n",
      "File saved: Drivers\\99457da8-e7f0-41b7-8c5c-fbadefecbb1f.csv\n",
      "File saved: Drivers\\9990296b-f881-4dee-ae61-885d902dea17.csv\n",
      "File saved: Drivers\\99d60d82-088c-4d8a-87cb-282e027cd5df.csv\n",
      "File saved: Drivers\\9a68b2d2-b6cd-4905-89c1-1b322a757586.csv\n",
      "File saved: Drivers\\9a892308-87fd-40b7-9ce0-93e7ce978f86.csv\n",
      "File saved: Drivers\\9a982c49-4f3a-436a-87ba-5d28e4d4220c.csv\n",
      "File saved: Drivers\\9aa28337-6513-4a20-aaf2-a41da01cfcf2.csv\n",
      "File saved: Drivers\\9aed3dc2-db2a-40d0-8979-361520a2362f.csv\n",
      "File saved: Drivers\\9b2075ba-87dd-46cd-a89c-69565236f413.csv\n",
      "File saved: Drivers\\9b5f50d0-5488-4f86-ba3b-fb2ff93af0a9.csv\n",
      "File saved: Drivers\\9b665f6a-e3fe-4f17-a795-b96df1b46c45.csv\n",
      "File saved: Drivers\\9b6ee9d8-cfbc-4e9b-9ddb-49c5d30dfba0.csv\n",
      "File saved: Drivers\\9b7f64df-5fb5-4c0c-9b1e-e2c3a15e1710.csv\n",
      "File saved: Drivers\\9ba2abf1-677b-4337-99c4-600c76ac77d1.csv\n",
      "File saved: Drivers\\9bccb197-63f0-47e1-b339-88d93568168d.csv\n",
      "File saved: Drivers\\9bcf6f36-f11a-4836-8f97-dcaceeb5cd0d.csv\n",
      "File saved: Drivers\\9bfe6aa6-2858-4368-89c5-284a93dc7395.csv\n",
      "File saved: Drivers\\9c140530-f7c1-45b8-81ac-f9626bbc0b6a.csv\n",
      "File saved: Drivers\\9c2ff155-fb0c-4729-a69e-2b6872f85310.csv\n",
      "File saved: Drivers\\9c32124d-403b-4d0f-b486-0b2dbf979b0c.csv\n",
      "File saved: Drivers\\9c580748-0bf2-4122-9867-37e5ca22f258.csv\n",
      "File saved: Drivers\\9c782bf0-b671-459c-8693-2b20e74fcb8f.csv\n",
      "File saved: Drivers\\9cdba827-c1ee-4fff-a758-597a787af5e3.csv\n",
      "File saved: Drivers\\9ce084ff-9267-4972-907d-d0798e48c6af.csv\n",
      "File saved: Drivers\\9cf7cb31-0d40-4755-b33c-3051ed99dd6a.csv\n",
      "File saved: Drivers\\9d0c3f83-fb23-42e6-9e63-12d1117ea3d9.csv\n",
      "File saved: Drivers\\9d18260c-0e89-4efe-9545-30f7a69c45e4.csv\n",
      "File saved: Drivers\\9d35ec9e-6d0e-4ae2-ae1f-227f46d97d4a.csv\n",
      "File saved: Drivers\\9d3b5e52-534d-4d6a-b380-9ec7f1a3004e.csv\n",
      "File saved: Drivers\\9d712c83-a37d-4d1c-9357-077a22cdb8e6.csv\n",
      "File saved: Drivers\\9d8d521a-75e8-4ef9-a9ec-deb7c6c14e3a.csv\n",
      "File saved: Drivers\\9d9f58ce-f94f-4e3e-8ecd-f87c025e9fdb.csv\n",
      "File saved: Drivers\\9db6de1c-6c78-48d2-a0dc-cf6d0d8ef001.csv\n",
      "File saved: Drivers\\9dffa484-0ee4-4c18-97d2-f6380cedf144.csv\n",
      "File saved: Drivers\\9e2f066f-07d5-4d2c-815c-c64827a21a02.csv\n",
      "File saved: Drivers\\9e30cfe4-ca39-4553-8f44-88a879f6b9ed.csv\n",
      "File saved: Drivers\\9e45209a-cf94-4072-862e-3e6fe017fe3a.csv\n",
      "File saved: Drivers\\9e63c055-8512-4525-9a62-28fa7400d83a.csv\n",
      "File saved: Drivers\\9e6b357b-4f12-459a-abe3-8a3949938038.csv\n",
      "File saved: Drivers\\9ebc42ce-184b-4f4c-bbd2-6e648aa1ca2f.csv\n",
      "File saved: Drivers\\9ec480a2-0fdd-4f2b-a7fa-015bdd4025b5.csv\n",
      "File saved: Drivers\\9f0210e1-f0b5-4ae6-8d5b-42185a73a03b.csv\n",
      "File saved: Drivers\\9f0bbfe8-d50e-4b3c-831b-f26d855cac2a.csv\n",
      "File saved: Drivers\\9f0d2b3f-a6fe-433f-aa54-2998dc794ea5.csv\n",
      "File saved: Drivers\\9f4bfb44-1fd4-40e9-a6ef-fbbc2b40956b.csv\n",
      "File saved: Drivers\\9f4f90e4-4837-4d9d-9da1-33ef591284ef.csv\n",
      "File saved: Drivers\\9f78fbb8-fc36-4286-a3f4-c06bc261189e.csv\n",
      "File saved: Drivers\\9f90c689-2cfb-47e0-9f0b-c8de1a2ffd28.csv\n"
     ]
    },
    {
     "name": "stdout",
     "output_type": "stream",
     "text": [
      "File saved: Drivers\\9fc3d068-2ac7-4d78-acfe-fa0aea0b9a8b.csv\n",
      "File saved: Drivers\\a01e9aed-979f-462e-a735-72b6e0733c06.csv\n",
      "File saved: Drivers\\a047e926-3584-4b5d-8523-6f26ff5dcb71.csv\n",
      "File saved: Drivers\\a058438f-fa2b-4fa9-a06e-f41728a68ba0.csv\n",
      "File saved: Drivers\\a078dd3c-59f9-4d08-87e8-8156ca50bfcd.csv\n",
      "File saved: Drivers\\a0c19e9c-d85a-47da-a3f7-25f6b4b611d1.csv\n",
      "File saved: Drivers\\a0ddb0a1-3f1a-42a4-b646-94e4d0499745.csv\n",
      "File saved: Drivers\\a12f5fb7-9c30-4e34-9fd4-daebb2566230.csv\n",
      "File saved: Drivers\\a14aa447-c3c3-4f73-b64b-f84d2584532d.csv\n",
      "File saved: Drivers\\a15f5b6e-0d7a-442f-aa4b-4b202a7929a5.csv\n",
      "File saved: Drivers\\a160fb6a-47ef-4de8-8f5c-99bd6bdbc8cf.csv\n",
      "File saved: Drivers\\a171dc89-9437-409c-b3a1-c68ab5504fc8.csv\n",
      "File saved: Drivers\\a181743d-8e67-4fa7-98c1-dcd0c3ab2a7c.csv\n",
      "File saved: Drivers\\a1b314bd-8636-4223-9494-0ddd0b049df5.csv\n",
      "File saved: Drivers\\a1de9f65-5a1d-4b22-8b8f-512753023395.csv\n",
      "File saved: Drivers\\a20820cc-51a2-490a-af05-90fd708d1061.csv\n",
      "File saved: Drivers\\a2191830-3b44-46f4-a70e-3de2c5510ce6.csv\n",
      "File saved: Drivers\\a220caf6-0c95-4148-809c-48d292bdd4da.csv\n",
      "File saved: Drivers\\a2306198-ab9c-4f36-a0ed-a9f7eae63f9d.csv\n",
      "File saved: Drivers\\a23cea88-9cd8-4f14-9b91-0122826df52f.csv\n",
      "File saved: Drivers\\a250e2a2-4408-4853-83cf-5837c923e939.csv\n",
      "File saved: Drivers\\a2a497b6-a322-4339-9d51-4b31a2338cf1.csv\n",
      "File saved: Drivers\\a2af4667-8ecf-4f73-aa56-2e2a381f2ce7.csv\n",
      "File saved: Drivers\\a2ca516c-1e7b-4e68-8c7b-68a9da0282a1.csv\n",
      "File saved: Drivers\\a2dcd77d-25f0-4345-be63-52f6341c4864.csv\n",
      "File saved: Drivers\\a3082957-2593-4ab6-aefc-100efccd4141.csv\n",
      "File saved: Drivers\\a34b8b32-56ce-48a1-9b94-1a44f9774aee.csv\n",
      "File saved: Drivers\\a3505acd-c62d-4bc0-bdd6-86d60faaf48c.csv\n",
      "File saved: Drivers\\a3d3da20-be4d-49e2-8d35-e48e5b04f01d.csv\n",
      "File saved: Drivers\\a3ec6ae2-8688-4f23-9399-0c8fad5b2148.csv\n",
      "File saved: Drivers\\a3f3238f-aec1-43e1-85a7-1742e11934ed.csv\n",
      "File saved: Drivers\\a44adda3-5856-4064-8ab0-f3b907a99b32.csv\n",
      "File saved: Drivers\\a4680a7a-5d23-48c7-a06f-55e801519878.csv\n",
      "File saved: Drivers\\a48b8eab-996e-4f3a-b75d-d343691186a8.csv\n",
      "File saved: Drivers\\a48d0ed7-391f-4cec-b2fd-178eb8a15ce0.csv\n",
      "File saved: Drivers\\a48d73f6-b1b9-495a-9b07-b13582b4dc1b.csv\n",
      "File saved: Drivers\\a48d8876-ee44-4f99-ab92-f2c0a3b425b2.csv\n",
      "File saved: Drivers\\a4a0de9c-0538-45dd-9d09-a06323d93d92.csv\n",
      "File saved: Drivers\\a4c5dd52-4907-4b2e-b941-d8ce0165c3a6.csv\n",
      "File saved: Drivers\\a4c6bcf2-e02b-47a5-8996-1703500d409f.csv\n",
      "File saved: Drivers\\a4cbed30-f98e-4520-ad0b-ccaedc3e497d.csv\n",
      "File saved: Drivers\\a4db8c88-2376-407f-8544-3ccaefb9db06.csv\n",
      "File saved: Drivers\\a4ebd894-3465-4638-8ac4-8dfdb0b14d7d.csv\n",
      "File saved: Drivers\\a50e3d6a-a47f-478f-b64a-f78c3ac62ea4.csv\n",
      "File saved: Drivers\\a5663a1f-dc9d-4817-bf00-0216bb67c963.csv\n",
      "File saved: Drivers\\a57b090a-d7b1-4a81-b236-8d1babadeb7c.csv\n",
      "File saved: Drivers\\a5b8ccc2-9a58-439f-967c-eec74222f69a.csv\n",
      "File saved: Drivers\\a5f79216-79a1-414e-85c7-18debaaea834.csv\n",
      "File saved: Drivers\\a631afa3-5694-434a-8e01-476cd080d770.csv\n",
      "File saved: Drivers\\a633de8d-6756-404d-a631-e50c391aca42.csv\n",
      "File saved: Drivers\\a63e38a3-c148-41ab-9436-d5c05b8b33ad.csv\n",
      "File saved: Drivers\\a65433f9-3829-47d3-a0ab-0a92424ad252.csv\n",
      "File saved: Drivers\\a6573201-cece-451c-830a-b29c89065740.csv\n",
      "File saved: Drivers\\a66fd0dd-8b28-4371-88fa-0969facc6be5.csv\n",
      "File saved: Drivers\\a6b2d8fb-be5c-4ecb-8516-77d7ffb9388c.csv\n",
      "File saved: Drivers\\a6c5353d-cd9c-4dd1-8925-b68604ae6908.csv\n",
      "File saved: Drivers\\a705c04f-aeaa-46d6-8289-a6109e28cafe.csv\n",
      "File saved: Drivers\\a737c59b-8d5d-47da-aef1-fa15b274a92f.csv\n",
      "File saved: Drivers\\a756a1be-baf0-49ad-8d9d-4a0fe5f9729b.csv\n",
      "File saved: Drivers\\a7651e23-fe88-4ee5-b3a7-e6764a26a191.csv\n",
      "File saved: Drivers\\a79fe75b-a66c-4d7b-9aaa-fc8cb3906411.csv\n",
      "File saved: Drivers\\a7afd43d-43c4-4ab9-abee-130336a99be6.csv\n",
      "File saved: Drivers\\a7b4a9f4-58d0-449f-89b9-94aa38d8ab36.csv\n",
      "File saved: Drivers\\a7b872f7-708b-4ff0-bdbd-8e32f57071d6.csv\n",
      "File saved: Drivers\\a7d50296-01a2-4361-8c81-6305cdfdb288.csv\n",
      "File saved: Drivers\\a8107664-fb6d-447a-bb3e-b16796fb212f.csv\n",
      "File saved: Drivers\\a82867cb-4b9d-4c71-8dd5-add6f941c99a.csv\n",
      "File saved: Drivers\\a872b430-56bb-4206-a778-9b6c4753383f.csv\n",
      "File saved: Drivers\\a8ee8113-e252-48b5-bdab-fd98a40e7f0b.csv\n",
      "File saved: Drivers\\a8f8ce8a-a50c-4a36-9648-f0abbadda2cc.csv\n",
      "File saved: Drivers\\a92a4fc8-e3cd-4656-b9bd-39fda34ba560.csv\n",
      "File saved: Drivers\\a9307012-362d-47fe-aeda-6e81da39b933.csv\n",
      "File saved: Drivers\\a94f2106-e1ac-4c1e-9145-6c430b0c077c.csv\n",
      "File saved: Drivers\\a94f5388-347c-4fff-8293-c96a31044e01.csv\n",
      "File saved: Drivers\\a9607302-c7a0-458d-8fd6-17bb1c165ff3.csv\n",
      "File saved: Drivers\\a96fd18e-1506-4bdb-8682-f746b633e340.csv\n",
      "File saved: Drivers\\a98e1792-b1fc-4e29-a3c8-c1001d1b7099.csv\n",
      "File saved: Drivers\\a9968d19-d7fe-4182-8e0e-a6de37718a71.csv\n",
      "File saved: Drivers\\a9a02142-276a-48c2-b542-cd4d724b2d9e.csv\n",
      "File saved: Drivers\\a9d82e5d-458f-405f-8cfe-d6d818986a07.csv\n",
      "File saved: Drivers\\a9fe1f82-bdeb-40f0-9b19-e77d8fe1813c.csv\n",
      "File saved: Drivers\\aa07e0df-4c8e-490c-a735-63e99e2b45b5.csv\n",
      "File saved: Drivers\\aa179e92-48b2-434e-b639-793e307e1aed.csv\n",
      "File saved: Drivers\\aa31721c-d8c4-4a4a-a246-03d7b3032f3c.csv\n",
      "File saved: Drivers\\aa4cba5e-6fc8-4153-8d0b-53d375ca257f.csv\n",
      "File saved: Drivers\\aa774de0-102a-40b7-8136-0cbedaf585af.csv\n",
      "File saved: Drivers\\aa778a21-481d-43fc-992a-955423692a34.csv\n",
      "File saved: Drivers\\aa854009-66b7-466f-b929-657cb2f7854a.csv\n",
      "File saved: Drivers\\aabbdd05-1f85-4083-bf9c-0543cf552a66.csv\n",
      "File saved: Drivers\\aabcb2b4-a184-4314-b494-6f14307381b5.csv\n",
      "File saved: Drivers\\ab455fda-2440-486e-9cf3-d4ead833f5e1.csv\n",
      "File saved: Drivers\\ab8b8a4c-951b-4c90-97c3-481f5874b3c3.csv\n",
      "File saved: Drivers\\abf45ec8-2f43-48fc-86b3-b150d1ea6cec.csv\n",
      "File saved: Drivers\\ac071cb3-8fd5-42c6-93b6-fd4981fb1c5f.csv\n",
      "File saved: Drivers\\ac1465a0-da43-405a-b296-45d26bef6d97.csv\n",
      "File saved: Drivers\\ac4403d5-0d1d-46e5-a6f6-e476a9e52dbb.csv\n",
      "File saved: Drivers\\ac4b0896-516f-43e2-86ca-46058a62eba3.csv\n",
      "File saved: Drivers\\ac859f00-3d90-4012-bd81-eccd01e4bfae.csv\n",
      "File saved: Drivers\\acc431d1-3591-4fa3-b51e-3a638944e548.csv\n",
      "File saved: Drivers\\acca68ec-5650-4559-9ec8-5f24337c6393.csv\n",
      "File saved: Drivers\\acdb527a-b804-42b8-adeb-903c871fb263.csv\n",
      "File saved: Drivers\\acdcbb12-8310-40d8-99cd-6a2f1c377cb6.csv\n",
      "File saved: Drivers\\ace4491f-04f0-4f11-b416-d810b2acb145.csv\n",
      "File saved: Drivers\\ad453482-90f6-43e0-a306-2650e987f07e.csv\n",
      "File saved: Drivers\\ad9a234e-a694-43b1-97ec-b7a0d61e9a43.csv\n",
      "File saved: Drivers\\ada7f179-9572-4575-8ce5-a2132bb28705.csv\n",
      "File saved: Drivers\\addffb5c-8276-4018-90db-e239e40dfe84.csv\n",
      "File saved: Drivers\\ae3803af-3778-4f89-bf4a-0c85d9765815.csv\n",
      "File saved: Drivers\\ae4ecaf6-2e6a-47b6-b50f-92b7dbae05b4.csv\n",
      "File saved: Drivers\\ae5f3fe7-6f57-4538-9f99-145a298d25f4.csv\n",
      "File saved: Drivers\\ae7ed9fe-abd4-4e16-a497-98e80b80029d.csv\n",
      "File saved: Drivers\\ae969059-6009-488e-b791-b3254ae572c8.csv\n",
      "File saved: Drivers\\aeac40dd-45ce-426b-974b-bc5542963751.csv\n",
      "File saved: Drivers\\aec869ca-938f-482e-8408-fccc8ea1a81c.csv\n",
      "File saved: Drivers\\afe848c0-535e-476c-9770-a1c602bcf572.csv\n",
      "File saved: Drivers\\affe35c3-ecc3-40ae-af48-61297ae393cc.csv\n",
      "File saved: Drivers\\b0536d08-9284-46e0-ae75-b73f1d97be87.csv\n",
      "File saved: Drivers\\b05d3ca5-e178-4caf-947a-45183a17ccbd.csv\n",
      "File saved: Drivers\\b09b31eb-c581-4070-b391-de0651d09d81.csv\n",
      "File saved: Drivers\\b106b4b4-e7b9-4fc0-b876-89ba0da0a5a9.csv\n",
      "File saved: Drivers\\b1a8068f-23a4-4566-a82d-e3c74eef14c2.csv\n",
      "File saved: Drivers\\b1b78306-92ab-4b59-964e-43947368ae75.csv\n",
      "File saved: Drivers\\b1bdce3d-19f6-4e5b-a3c0-00214f629031.csv\n",
      "File saved: Drivers\\b1c5a01b-68d0-4336-9775-9616e235e2ef.csv\n",
      "File saved: Drivers\\b22d781b-2568-4282-b12a-ba0c75fa4c05.csv\n",
      "File saved: Drivers\\b24db554-07dc-4d81-b561-f2860dcad92b.csv\n",
      "File saved: Drivers\\b25f6874-cd1a-4000-b43d-18670399014f.csv\n",
      "File saved: Drivers\\b2a732ca-1041-4b6d-9c75-623bcbd6ef3f.csv\n",
      "File saved: Drivers\\b2de9158-a537-4525-b392-629dcf33194b.csv\n",
      "File saved: Drivers\\b2e76579-5766-49df-b701-b2577d129c64.csv\n",
      "File saved: Drivers\\b2e99c99-a3be-4cb2-8ac0-597d901f2f52.csv\n",
      "File saved: Drivers\\b2f7c990-0774-4240-b787-1c593e9028b8.csv\n",
      "File saved: Drivers\\b2f92dfe-aac7-4dca-8d7c-02d2c0f176b4.csv\n",
      "File saved: Drivers\\b334d092-676d-48d7-a77d-da0616cfa1f3.csv\n",
      "File saved: Drivers\\b361995a-d989-4d42-aab7-4dae5e54e319.csv\n",
      "File saved: Drivers\\b36ad561-4b0f-4dae-b6df-2483421a80af.csv\n",
      "File saved: Drivers\\b36eb584-e63c-47cd-9d56-68961294b520.csv\n",
      "File saved: Drivers\\b37edcf8-c148-46a0-8274-dfd0d93b65e5.csv\n",
      "File saved: Drivers\\b389e4f4-c5d1-4a34-9475-b55010e0a6b7.csv\n",
      "File saved: Drivers\\b3c58ca6-e333-46b1-a9fa-109348ba35c5.csv\n",
      "File saved: Drivers\\b3cd6785-5698-439f-86f1-ca8a6f8c9a32.csv\n",
      "File saved: Drivers\\b3db9353-3f8f-437a-a970-5e6822838ea4.csv\n",
      "File saved: Drivers\\b3e501fe-6813-4f6a-b8c1-07423dca56ef.csv\n",
      "File saved: Drivers\\b3effac9-32d2-4f7f-9c3c-cd4f1855041e.csv\n",
      "File saved: Drivers\\b45201e8-9076-4469-a5c2-abf24e67083e.csv\n",
      "File saved: Drivers\\b458dc19-9eef-41dd-974e-059b9ca026a4.csv\n",
      "File saved: Drivers\\b45a6891-c476-45aa-8d12-61bd31072e62.csv\n",
      "File saved: Drivers\\b486ad6d-a4dc-40b2-b1f9-46caeabaedbb.csv\n",
      "File saved: Drivers\\b4edaae1-364f-4de5-a49f-8f5f7e7af406.csv\n"
     ]
    },
    {
     "name": "stdout",
     "output_type": "stream",
     "text": [
      "File saved: Drivers\\b4f14647-5017-4ff1-9978-2c60e42736b8.csv\n",
      "File saved: Drivers\\b4f5a0e0-a89e-496a-be05-cce457da2a16.csv\n",
      "File saved: Drivers\\b5007d7d-7b75-45a0-91fc-8ff968d69858.csv\n",
      "File saved: Drivers\\b54263b2-d44e-418d-8460-9ae225d2f897.csv\n",
      "File saved: Drivers\\b544fa73-5e32-461a-88a2-6799f7091ea7.csv\n",
      "File saved: Drivers\\b58fdab6-e803-4b39-9c0c-b8b46be01301.csv\n",
      "File saved: Drivers\\b5a0b50c-09af-4264-b97f-127d261f3b60.csv\n",
      "File saved: Drivers\\b5a7c2a0-697e-4104-82a3-478e20201c54.csv\n",
      "File saved: Drivers\\b6557965-f492-4dce-b26d-520dbe7b196a.csv\n",
      "File saved: Drivers\\b65eff1f-4504-4749-a930-0b205815d113.csv\n",
      "File saved: Drivers\\b6ab87ea-86d8-41f1-9868-5f289368f3b2.csv\n",
      "File saved: Drivers\\b6c0ea93-4b2c-4fe6-912b-d225a2cd78d2.csv\n",
      "File saved: Drivers\\b6ec6e8e-8f1b-4448-a905-a5cc1627381c.csv\n",
      "File saved: Drivers\\b70e5b03-76d0-47aa-9db1-b21ff3cf091b.csv\n",
      "File saved: Drivers\\b7743c62-1d11-46b4-b64f-7f336bcea571.csv\n",
      "File saved: Drivers\\b79ccb05-81af-48cc-92f2-0c5f75a9f949.csv\n",
      "File saved: Drivers\\b8676a58-4b10-4b28-8b30-7916d1e17b4e.csv\n",
      "File saved: Drivers\\b88496ac-ce28-4756-9d2a-12de40eb3cfd.csv\n",
      "File saved: Drivers\\b8a05379-720c-412f-8a49-af07055ad3f8.csv\n",
      "File saved: Drivers\\b9020a35-9e55-493e-86d8-d2b3c84b3267.csv\n",
      "File saved: Drivers\\b986c9c8-50c6-42d1-be3a-8725f4f4a531.csv\n",
      "File saved: Drivers\\b9b981f9-f31e-411f-b87e-d5a1b6b33bd0.csv\n",
      "File saved: Drivers\\b9d24ce4-58cf-4d80-8314-e68b08c29930.csv\n",
      "File saved: Drivers\\b9e219e2-f81d-4563-838e-96f998e5a251.csv\n",
      "File saved: Drivers\\b9f2fc09-f1be-4294-92f7-abb63c1a2f36.csv\n",
      "File saved: Drivers\\ba07affc-8579-4d33-be00-c817973b2097.csv\n",
      "File saved: Drivers\\ba32ea7e-90ef-4bf1-b6a2-1209d78e25dd.csv\n",
      "File saved: Drivers\\ba69a141-4085-4b9c-b17a-6ba79b656abd.csv\n",
      "File saved: Drivers\\ba869ee8-7582-4483-ac66-aea01f342541.csv\n",
      "File saved: Drivers\\ba880701-f127-410c-9426-bcd75a60f958.csv\n",
      "File saved: Drivers\\baaa3cd0-8575-481d-acbd-d0ac572ed9f6.csv\n",
      "File saved: Drivers\\bad39b8b-1be4-4742-be42-bc0b666973e9.csv\n",
      "File saved: Drivers\\bb24b0d6-2a2c-4cf7-9f03-02884b146e75.csv\n",
      "File saved: Drivers\\bb383c17-d88a-4f90-89fe-6c06554622c6.csv\n",
      "File saved: Drivers\\bbd9b5f6-672a-4fc4-ac14-f7ae5a0ae736.csv\n",
      "File saved: Drivers\\bc049a20-a0ee-477d-8905-128073c47a7d.csv\n",
      "File saved: Drivers\\bc1dd02c-7028-49ba-9580-dcaab2838ed8.csv\n",
      "File saved: Drivers\\bc2f9314-420a-46b8-9093-e4daa297d14c.csv\n",
      "File saved: Drivers\\bc41fe1c-f740-49fb-9316-f3e872e8b036.csv\n",
      "File saved: Drivers\\bc42e226-0a98-47dd-bb4b-6b721401846d.csv\n",
      "File saved: Drivers\\bc8a6838-c55d-44ed-9dff-6c4b5f589d38.csv\n",
      "File saved: Drivers\\bca278bf-0936-441a-94cc-dd46c1ccd90e.csv\n",
      "File saved: Drivers\\bcbc6094-6013-491e-bab9-20d45b4852e2.csv\n",
      "File saved: Drivers\\bcced02b-996b-46cf-a8b5-292fe64a5af5.csv\n",
      "File saved: Drivers\\bcedf9da-179e-4d33-9695-ba1da6494352.csv\n",
      "File saved: Drivers\\bd052787-d336-4aa9-8943-19210bdc6654.csv\n",
      "File saved: Drivers\\bd0c886a-41e3-418e-b446-a1b9c341e1ba.csv\n",
      "File saved: Drivers\\bd5ad5f3-23ad-4de9-aae2-96ca017f17c0.csv\n",
      "File saved: Drivers\\bd970b1f-22bd-494f-a80c-0e7e064a67aa.csv\n",
      "File saved: Drivers\\be00bd55-88e1-44e4-b4cc-835fc8ebf30b.csv\n",
      "File saved: Drivers\\be0f641c-7cc0-419a-9922-f461e13b7323.csv\n",
      "File saved: Drivers\\be3f7405-0ad4-41e7-9399-c936fa9c6478.csv\n",
      "File saved: Drivers\\be773d92-719a-4c10-8850-b781521c715c.csv\n",
      "File saved: Drivers\\be8aeaf0-3576-45fe-bac2-375c59017446.csv\n",
      "File saved: Drivers\\beb139fe-c129-4533-9c0e-1374dbcf78da.csv\n",
      "File saved: Drivers\\beb835cb-84ba-4f25-9645-ab48b8871d8a.csv\n",
      "File saved: Drivers\\bedc38bb-78a7-4e1b-b04d-8c60a9db452d.csv\n",
      "File saved: Drivers\\bf24440d-7166-488c-a57b-472da681e97d.csv\n",
      "File saved: Drivers\\bf871525-9284-435d-b996-567a297a8a3f.csv\n",
      "File saved: Drivers\\bf9f40bc-bd49-4f15-b158-c93eb996cd47.csv\n",
      "File saved: Drivers\\c036a869-de0f-4507-af85-848259431ec4.csv\n",
      "File saved: Drivers\\c03fc098-3c94-41a1-b995-3a2a8d2ec42c.csv\n",
      "File saved: Drivers\\c050822b-2806-47fb-bbcc-56e0a2a35819.csv\n",
      "File saved: Drivers\\c05f317b-c6df-4063-8503-02abe5a7f004.csv\n",
      "File saved: Drivers\\c0663cac-008c-4732-a6a3-fefa05ed2ef6.csv\n",
      "File saved: Drivers\\c069c2e8-69e1-46b5-b449-ce5c7486d371.csv\n",
      "File saved: Drivers\\c0a62536-65e0-4f25-895d-4be3650eeb25.csv\n",
      "File saved: Drivers\\c0a70c44-607b-41fd-af5f-2863c7c778b8.csv\n",
      "File saved: Drivers\\c0ac95e6-8207-49a9-b06e-5651e8cf2efe.csv\n",
      "File saved: Drivers\\c1039ff4-16bf-4f95-9948-5f63fb4a38a2.csv\n",
      "File saved: Drivers\\c11a2252-124f-4834-be14-f81b8b23ea15.csv\n",
      "File saved: Drivers\\c12fe1fc-4f69-4726-af8d-ccbfb33c3918.csv\n",
      "File saved: Drivers\\c17f9d3d-24ef-479b-ad89-ffbef4506718.csv\n",
      "File saved: Drivers\\c19652cd-a82d-4ba6-b796-dcd168a944d4.csv\n",
      "File saved: Drivers\\c19b05c3-a11e-4060-8312-1eb2b7cdf265.csv\n",
      "File saved: Drivers\\c19deea7-97cd-4436-9c8c-692b87f6917b.csv\n",
      "File saved: Drivers\\c1a28fac-cc39-4bee-bfa8-30ee65040566.csv\n",
      "File saved: Drivers\\c1bd07ca-fe12-4587-aefe-594c25892aa9.csv\n",
      "File saved: Drivers\\c1bf6c26-d145-48ea-a6cd-4b547e8134fd.csv\n",
      "File saved: Drivers\\c20e53fa-4815-472f-b3d7-11751569864d.csv\n",
      "File saved: Drivers\\c2105866-c52b-427a-844c-22430d2a7d94.csv\n",
      "File saved: Drivers\\c21a2a12-217c-46f1-9f17-723b07cadc66.csv\n",
      "File saved: Drivers\\c22ace1b-1cf1-4a0d-aa3e-12731c96d065.csv\n",
      "File saved: Drivers\\c2417b0e-7adc-4fd0-9862-458e89ed40b5.csv\n",
      "File saved: Drivers\\c2952d26-f677-4b46-86d2-3d37dc8d87a0.csv\n",
      "File saved: Drivers\\c2cd36da-d383-426f-bec6-e70de41fec29.csv\n",
      "File saved: Drivers\\c2e14fb1-2c6b-417f-b885-5e54067416d9.csv\n",
      "File saved: Drivers\\c2fedb50-107a-48fa-9514-6086cf74ce51.csv\n",
      "File saved: Drivers\\c3074495-efda-4d94-8330-30217468afb7.csv\n",
      "File saved: Drivers\\c34a5cc8-f4b2-4d7a-89d2-2e74f0ed15c3.csv\n",
      "File saved: Drivers\\c3780fbb-46bb-4d64-8afc-c47fed7c98b3.csv\n",
      "File saved: Drivers\\c383c6b0-2478-4464-acd1-73cff5c024c2.csv\n",
      "File saved: Drivers\\c3b88c38-d7cd-41d1-ad28-c2fa4ace4fdc.csv\n",
      "File saved: Drivers\\c3d52f94-e28a-4e2b-8a63-d3a049d9d045.csv\n",
      "File saved: Drivers\\c409d6a7-c50e-454e-9504-5b0c77ae7f0b.csv\n",
      "File saved: Drivers\\c442ac89-1050-44bf-8556-e9e8887bee68.csv\n",
      "File saved: Drivers\\c4524577-f482-410b-92dd-137131777ba4.csv\n",
      "File saved: Drivers\\c45c55e0-aa8b-45f3-a92c-4c5108827eef.csv\n",
      "File saved: Drivers\\c4779475-0c63-44de-a3a2-75584b0355f9.csv\n",
      "File saved: Drivers\\c49c0068-fee5-4771-a7c1-cd3e473ae33e.csv\n",
      "File saved: Drivers\\c49dabf8-cfce-46a9-8f32-20439f808098.csv\n",
      "File saved: Drivers\\c4bd8c46-2532-409d-a9fb-508ec029d3a8.csv\n",
      "File saved: Drivers\\c4c22526-6da9-4610-9a10-eb44ac33e10d.csv\n",
      "File saved: Drivers\\c4d31c4e-38bb-4bd0-bd4e-84a8e1b74407.csv\n",
      "File saved: Drivers\\c4d563c8-4456-4b50-b9b7-af662d5d4a58.csv\n",
      "File saved: Drivers\\c51d01f6-a482-4c3b-a634-32c5042ebddf.csv\n",
      "File saved: Drivers\\c520f8f6-71ff-4a09-a045-4a19a1ea1026.csv\n",
      "File saved: Drivers\\c550bb29-ed93-4c19-a14e-1f5249bcdf45.csv\n",
      "File saved: Drivers\\c5750f65-aca8-4ba9-b38c-5ecf13c7ec5f.csv\n",
      "File saved: Drivers\\c5a6c388-47f6-46ab-9028-7a05d817662f.csv\n",
      "File saved: Drivers\\c5bc4107-6387-4071-8b50-43f8efd86e58.csv\n",
      "File saved: Drivers\\c5c92b1d-e1b5-4cb8-83b6-46f3bbaf243f.csv\n",
      "File saved: Drivers\\c5d43cfc-c18a-4161-87bb-f10d32e857d4.csv\n",
      "File saved: Drivers\\c5f552c9-cdcf-429a-8e0d-363c4fe6ee25.csv\n",
      "File saved: Drivers\\c69cd82c-b992-4f02-8fa5-6f2db9d57cd7.csv\n",
      "File saved: Drivers\\c6dcf688-4f6d-494e-88bb-e00a3e9c4b23.csv\n",
      "File saved: Drivers\\c6f2639b-9eee-4b75-9854-08f36966dde0.csv\n",
      "File saved: Drivers\\c6fb634d-9f09-483b-950b-fed8ea87a07b.csv\n",
      "File saved: Drivers\\c70d95b0-9a29-424a-9ebb-efb1e2b132b0.csv\n",
      "File saved: Drivers\\c7164ba2-601a-4d1e-83de-fe9bb7a4918a.csv\n",
      "File saved: Drivers\\c7c43db5-e2b2-47d0-a978-0133c13eaadf.csv\n",
      "File saved: Drivers\\c7ceb58d-426e-44da-886a-5b54ad86be31.csv\n",
      "File saved: Drivers\\c7f7aef9-c8e0-40ca-9a8d-ce3058a3e748.csv\n",
      "File saved: Drivers\\c7fd03be-cd10-4056-9ed0-1c7a712595c3.csv\n",
      "File saved: Drivers\\c806681d-732e-4d5f-90e8-81f37c185138.csv\n",
      "File saved: Drivers\\c81f90dd-0d6c-4929-b9f9-e4397783a9d7.csv\n",
      "File saved: Drivers\\c8316376-5cdd-40ac-9c5d-2479ecd5822a.csv\n",
      "File saved: Drivers\\c8354a37-b4df-4574-a078-426a1c46197e.csv\n",
      "File saved: Drivers\\c837e4c7-0dc5-4fdf-bfa9-829b8b75db1c.csv\n",
      "File saved: Drivers\\c8457f7f-0877-46b3-8f62-db8e3f57048d.csv\n",
      "File saved: Drivers\\c8788c22-dedb-4265-94f4-b75f2a270122.csv\n",
      "File saved: Drivers\\c88a76a9-b0a5-4175-8f87-a370c1243a9f.csv\n",
      "File saved: Drivers\\c898a6aa-81a3-46d8-a82a-7170168f80ff.csv\n",
      "File saved: Drivers\\c8991021-e6a6-4371-8eab-c13151a94bf0.csv\n",
      "File saved: Drivers\\c89af173-6702-461e-9fd6-e521418a7ac5.csv\n",
      "File saved: Drivers\\c8a2af26-b233-427f-88e3-3fccdb4b3577.csv\n",
      "File saved: Drivers\\c8a8f079-9236-40f9-ab00-4403857375ab.csv\n",
      "File saved: Drivers\\c8e94c0d-8979-4691-a3ef-60a20875970c.csv\n",
      "File saved: Drivers\\c9078cb7-4911-44c3-bf1b-46d70f354db4.csv\n",
      "File saved: Drivers\\c907ca59-cbf4-464e-8ab6-022b8bacbac6.csv\n",
      "File saved: Drivers\\c9337606-3281-4fcc-90a5-6bad00191d62.csv\n",
      "File saved: Drivers\\c989c278-0a5c-421f-ae56-524b9df3f2a6.csv\n",
      "File saved: Drivers\\c9c41e58-5583-4131-b96b-137bb1fd1416.csv\n",
      "File saved: Drivers\\ca144075-8da7-4d06-bfd9-d0eef8269c95.csv\n",
      "File saved: Drivers\\ca2ab3cc-b40d-4468-ba9b-2b6d7304728d.csv\n",
      "File saved: Drivers\\ca35204c-2ffb-438c-b263-7afba53e0c40.csv\n",
      "File saved: Drivers\\ca5d3531-5bfa-4e8f-8858-2b460258c995.csv\n",
      "File saved: Drivers\\ca7f5ace-b74d-4ee9-b4d4-e9bde22d68f9.csv\n",
      "File saved: Drivers\\ca84dad5-2a34-4afa-9497-4bea665b91e2.csv\n",
      "File saved: Drivers\\ca8a9089-984d-4071-8442-5e8400db2694.csv\n",
      "File saved: Drivers\\cabf65a1-82ff-4b1d-a9b3-7a1bccc417be.csv\n",
      "File saved: Drivers\\cad3e492-2288-410c-8516-1f8e703ee21b.csv\n",
      "File saved: Drivers\\cad9ef6b-795e-45c3-bb7a-f72d0375bc43.csv\n",
      "File saved: Drivers\\cae1b307-39d5-4285-89ee-b01813ad9885.csv\n",
      "File saved: Drivers\\cae377aa-1f1e-45db-8dc0-47a9305a925d.csv\n",
      "File saved: Drivers\\caf14460-73c4-4aa8-ba9d-0ded8e01a49b.csv\n",
      "File saved: Drivers\\cb663008-f5c3-4f31-9a1c-2f3ba7dff437.csv\n",
      "File saved: Drivers\\cbbb9f7d-e270-4e6d-b7ab-48bedb470348.csv\n",
      "File saved: Drivers\\cbdb2a81-e9f8-47cb-b635-35a7b7e52be3.csv\n",
      "File saved: Drivers\\cbe8a770-df19-4312-8aee-322a0998eb7a.csv\n",
      "File saved: Drivers\\cbf5694c-54c0-4e99-9dd3-a91d8d393e6b.csv\n"
     ]
    },
    {
     "name": "stdout",
     "output_type": "stream",
     "text": [
      "File saved: Drivers\\cbfee6d3-50e0-4dfc-85ce-23a830a07915.csv\n",
      "File saved: Drivers\\cc6a568f-7c8c-4c9d-b409-eb83322cc6ec.csv\n",
      "File saved: Drivers\\cc9092c6-3cdd-4ad7-ad4b-71d88e125ba6.csv\n",
      "File saved: Drivers\\ccaccb8a-c5a1-4476-84ce-296c0971653d.csv\n",
      "File saved: Drivers\\ccfefad1-dcb0-4de8-ac47-19606343fa0c.csv\n",
      "File saved: Drivers\\cd16e2f9-5815-4c81-a144-136867f67d03.csv\n",
      "File saved: Drivers\\cd24f0e6-82f0-4d01-b3ae-a4f86dd959a8.csv\n",
      "File saved: Drivers\\cd49a6fd-ca3b-4f30-95e7-dc904000efe3.csv\n",
      "File saved: Drivers\\cd4c1d65-4d10-42e2-aa2a-f04f3985427c.csv\n",
      "File saved: Drivers\\cd66fd03-21ee-4e67-ae1f-0f0cbb5ad579.csv\n",
      "File saved: Drivers\\cd72e8bd-75eb-4e1b-9023-f92c2cb84fc2.csv\n",
      "File saved: Drivers\\cda4a276-50c6-493a-9bac-7eca83e63e1d.csv\n",
      "File saved: Drivers\\cde4a31a-3fc3-425f-8300-0efffa02e597.csv\n",
      "File saved: Drivers\\ce61869d-1c66-4ef4-909b-ef7d400a0adb.csv\n",
      "File saved: Drivers\\ce8be0ca-3687-4775-b34d-f18ee5d52186.csv\n",
      "File saved: Drivers\\ce94ddd9-c9d2-4579-8db1-e1e6d1d5c5c1.csv\n",
      "File saved: Drivers\\cebeb33a-1279-4f45-b005-94b35a74184c.csv\n",
      "File saved: Drivers\\ceddb1f3-d971-413c-b7bb-ebe80ffcfbfd.csv\n",
      "File saved: Drivers\\cf0382e5-383f-4173-8359-170b7250b3d2.csv\n",
      "File saved: Drivers\\cf448d18-8539-4bd8-a1e7-fc15def011f2.csv\n",
      "File saved: Drivers\\cf8d2a6c-f0ac-46f1-8b2e-3d73b2491a69.csv\n",
      "File saved: Drivers\\cfb73b2d-0990-429d-a803-9f23e4d53773.csv\n",
      "File saved: Drivers\\cfbd8c43-c48a-4087-af74-2e16dd3302a4.csv\n",
      "File saved: Drivers\\cfd37721-4b89-4af4-852e-2cc4f06d4a1b.csv\n",
      "File saved: Drivers\\cff1d91d-5a14-41bd-8db1-fe6f4415d8d8.csv\n",
      "File saved: Drivers\\d02a479b-c38c-4bf5-86aa-ee7c508fc376.csv\n",
      "File saved: Drivers\\d0366bdf-55f2-4a3c-b36b-4db887af668a.csv\n",
      "File saved: Drivers\\d04174ba-6338-47c9-a6f5-15da692d690e.csv\n",
      "File saved: Drivers\\d05002c2-a415-44bd-ade1-aa3dd9487f72.csv\n",
      "File saved: Drivers\\d0801262-fbec-46c6-8cb3-eb3b4abaf938.csv\n",
      "File saved: Drivers\\d0844749-cf1f-4e98-801b-76bd65295622.csv\n",
      "File saved: Drivers\\d0871fb8-a222-4b80-a063-4a0d8e542ffc.csv\n",
      "File saved: Drivers\\d08ab076-7886-49e9-bf3e-664b8f9c27bc.csv\n",
      "File saved: Drivers\\d0a40e7b-d2b7-4ac6-9f0b-efe3629d837e.csv\n",
      "File saved: Drivers\\d0f09e2e-926b-4baa-aac1-e1134c874a80.csv\n",
      "File saved: Drivers\\d0fd0d1a-39de-4b63-b381-514b408ecafb.csv\n",
      "File saved: Drivers\\d113d18c-bf1f-426a-ad15-daab22ac8087.csv\n",
      "File saved: Drivers\\d1424ffa-d297-4244-9c0d-efe5c0bf8906.csv\n",
      "File saved: Drivers\\d14df506-d626-4d48-ac5f-cf4025b44151.csv\n",
      "File saved: Drivers\\d18be992-d0ca-4505-b12a-6a3771c7bfa3.csv\n",
      "File saved: Drivers\\d19f5cf9-5f54-40a1-a0d8-b4c566224cbb.csv\n",
      "File saved: Drivers\\d1a32daf-b1bc-41ee-9191-2de250f2c759.csv\n",
      "File saved: Drivers\\d1b1693d-a187-4594-9868-deb3153ad304.csv\n",
      "File saved: Drivers\\d22d38e3-8094-4fce-ba83-c26a944d5f7a.csv\n",
      "File saved: Drivers\\d257c8dd-7370-4c55-8026-3282afa20975.csv\n",
      "File saved: Drivers\\d2bd8b33-8e86-4ff6-bac1-5a8128546872.csv\n",
      "File saved: Drivers\\d2e00f28-8f05-4a21-9b73-c479049f21a5.csv\n",
      "File saved: Drivers\\d2e282ab-b230-4665-9798-a6e752cf2b75.csv\n",
      "File saved: Drivers\\d2f638b9-b0b9-4ea1-acaf-8e5fb3ecdd30.csv\n",
      "File saved: Drivers\\d2f9bd66-97d9-49ab-bfa2-d0c8ec2c7e2a.csv\n",
      "File saved: Drivers\\d3003e81-a783-45f0-905f-44f0b4ecce79.csv\n",
      "File saved: Drivers\\d321f65c-0d0b-4538-b4d0-1cd475315ada.csv\n",
      "File saved: Drivers\\d3a06b71-61d5-4ec7-bf92-257c731989f0.csv\n",
      "File saved: Drivers\\d3a1c2f1-3289-420b-9deb-6660baaaafd7.csv\n",
      "File saved: Drivers\\d42100ba-a1f1-452d-87f6-e9325004caa4.csv\n",
      "File saved: Drivers\\d425a85f-bbcc-4449-b053-e4b46471c875.csv\n",
      "File saved: Drivers\\d43b5f8f-9256-4c81-bbd4-662292599841.csv\n",
      "File saved: Drivers\\d441b55d-dec8-4aac-8baa-d4461d34b7b5.csv\n",
      "File saved: Drivers\\d44db78c-26fb-4898-a825-9ff9f735d65e.csv\n",
      "File saved: Drivers\\d468c637-5910-417b-b0f5-4f1f1878cd40.csv\n",
      "File saved: Drivers\\d47c6b18-105f-41b6-acb9-c266aaf620c4.csv\n",
      "File saved: Drivers\\d4ab98eb-8d4d-41a8-a022-0bd09b5313a6.csv\n",
      "File saved: Drivers\\d4b04d04-f071-4edc-ae1b-6ab9185be780.csv\n",
      "File saved: Drivers\\d4c18929-6281-4cf8-91cf-37f54029a894.csv\n",
      "File saved: Drivers\\d4c262b6-0a72-46d9-9dcc-39f97d3d7f3e.csv\n",
      "File saved: Drivers\\d4ed337b-a866-497e-bb2a-bd0f87235eb7.csv\n",
      "File saved: Drivers\\d4f582ed-3108-4a98-9d60-92e670a2f234.csv\n",
      "File saved: Drivers\\d50050db-1b02-49ba-8724-81f16f69ad85.csv\n",
      "File saved: Drivers\\d53265a0-7b83-4022-a7e7-def0dc559d05.csv\n",
      "File saved: Drivers\\d5371bc7-5a06-4726-ac6b-c38a66ff430c.csv\n",
      "File saved: Drivers\\d54cf20f-e603-45df-a58b-c609f99e7eab.csv\n",
      "File saved: Drivers\\d566afd9-3d67-42cb-8cd3-03c337e764f4.csv\n",
      "File saved: Drivers\\d5a9e192-bd11-462c-8a03-76db887ddd4e.csv\n",
      "File saved: Drivers\\d5ada41b-6c2b-4350-a702-62dce41f6676.csv\n",
      "File saved: Drivers\\d5b4298e-feae-4701-be38-353f3c539dcc.csv\n",
      "File saved: Drivers\\d665417b-d0e4-41d2-8151-bcd788de164b.csv\n",
      "File saved: Drivers\\d66af64c-fbf4-443e-8989-29edaec08d73.csv\n",
      "File saved: Drivers\\d6b3d792-4a22-4c29-811e-f654f948433e.csv\n",
      "File saved: Drivers\\d6d257f4-4ecd-4d69-904c-c323c6298cd8.csv\n",
      "File saved: Drivers\\d6de6795-6403-42bd-aa23-ad45de0bab47.csv\n",
      "File saved: Drivers\\d6e0b608-6e40-466f-ab8e-c8e32e7ee805.csv\n",
      "File saved: Drivers\\d76e9727-24c6-4b6a-9e16-25bea7588863.csv\n",
      "File saved: Drivers\\d7906ae1-3fcb-47cc-bece-bd28db046e89.csv\n",
      "File saved: Drivers\\d7969936-a82b-4f99-a8fb-8edf56911d6b.csv\n",
      "File saved: Drivers\\d7970c2f-8dc1-41bf-97d9-a26d1e2381fd.csv\n",
      "File saved: Drivers\\d7b9ed04-f32d-4374-bd03-9cd0cb61c1e1.csv\n",
      "File saved: Drivers\\d7cb0d65-c558-4528-a00c-da1dfd9242c7.csv\n",
      "File saved: Drivers\\d7e7676d-f36b-456f-905c-ae99c5fc91a0.csv\n",
      "File saved: Drivers\\d7e8f1da-6dcc-467f-9337-e7b0aa0eeca0.csv\n",
      "File saved: Drivers\\d821987d-9225-4b29-b157-eef8844ba159.csv\n",
      "File saved: Drivers\\d823f329-0c2b-460e-9d1a-bf8ad3f6135f.csv\n",
      "File saved: Drivers\\d83c4a70-f66e-4aa9-a2db-b90209c0afdc.csv\n",
      "File saved: Drivers\\d8510453-60fa-4491-9777-081af1c9d1d7.csv\n",
      "File saved: Drivers\\d851edb2-3879-4d4c-bd4f-03fda442b9d5.csv\n",
      "File saved: Drivers\\d8572559-47e7-49de-b355-11c98168e03b.csv\n",
      "File saved: Drivers\\d872859b-af5e-41e4-bcd1-d9797a71e0fd.csv\n",
      "File saved: Drivers\\d883c173-70dc-4ffc-9c27-53dd9489832e.csv\n",
      "File saved: Drivers\\d899f1e6-821c-4af2-9887-6b829a75a8f5.csv\n",
      "File saved: Drivers\\d89b087a-6a9b-41d0-acfa-1187bc1cd4d3.csv\n",
      "File saved: Drivers\\d8bb8b99-6d93-4d9b-87b9-e78e24c9675f.csv\n",
      "File saved: Drivers\\d923709f-d4cb-4593-9ced-6257a5a04c6b.csv\n",
      "File saved: Drivers\\d929ac6e-72d7-4d50-9f13-602494253685.csv\n",
      "File saved: Drivers\\d96d4d1e-a063-4578-b730-3100cde87465.csv\n",
      "File saved: Drivers\\d9723190-41be-4755-985a-5ba3808d208f.csv\n",
      "File saved: Drivers\\d97bf8f2-8d5b-4f4f-948a-3971d26ebc2c.csv\n",
      "File saved: Drivers\\d98dc3b9-f9bd-47fb-a4d7-98d5063e4e2c.csv\n",
      "File saved: Drivers\\d9909f42-9874-4150-bcb6-883145a59dfe.csv\n",
      "File saved: Drivers\\da1cf13a-b806-426d-b833-37e8fdae4fa8.csv\n",
      "File saved: Drivers\\da292592-a7b9-4da1-9622-7731c6305c98.csv\n",
      "File saved: Drivers\\da9b1cd0-024e-46cc-b0b5-3c7ebacf7885.csv\n",
      "File saved: Drivers\\dac2f1d2-d7a8-4780-a478-132d5f606ac1.csv\n",
      "File saved: Drivers\\db01ba9b-6ce9-44c8-9709-5764d499e013.csv\n",
      "File saved: Drivers\\db31d686-028f-4771-924f-c17ef9624d6a.csv\n",
      "File saved: Drivers\\db9f3391-98ea-4996-955b-a83b6f509b8e.csv\n",
      "File saved: Drivers\\dbb18081-e146-42be-8f21-083f1c648fe1.csv\n",
      "File saved: Drivers\\dbe360ef-41ac-479d-9d3f-5be7e3bc3aa9.csv\n",
      "File saved: Drivers\\dc02758d-256f-404f-85ac-d5338aa91075.csv\n",
      "File saved: Drivers\\dc194293-0175-4752-b28a-501bf4bc2721.csv\n",
      "File saved: Drivers\\dc768ff5-76e3-4a81-8e84-9bef2477829b.csv\n",
      "File saved: Drivers\\dca49661-8809-4924-ab51-dabb6031b0e0.csv\n",
      "File saved: Drivers\\dcbe6cfa-5453-4b16-940e-0787ad0e5df6.csv\n",
      "File saved: Drivers\\dcc69ed3-caea-4dc4-b32d-b5976928b32d.csv\n",
      "File saved: Drivers\\dcd19bbb-8be1-4331-a49c-09480371be07.csv\n",
      "File saved: Drivers\\dcdedf60-3079-4bab-a501-5d0759f0f17a.csv\n",
      "File saved: Drivers\\dcfcd518-e601-4b87-851f-ceb1d0e5def5.csv\n",
      "File saved: Drivers\\dd37ab9a-6221-48f0-b5e8-0d1b04a79f54.csv\n",
      "File saved: Drivers\\dd39f902-9a39-4c4e-83f6-b9b439ce7c12.csv\n",
      "File saved: Drivers\\dd54b0b7-57bb-4978-89c0-6de59ff8c74b.csv\n",
      "File saved: Drivers\\dd795ee8-d395-456e-b132-a5c711536249.csv\n",
      "File saved: Drivers\\ddc54e15-23d9-498c-afb2-a05a1892929b.csv\n",
      "File saved: Drivers\\ddd3ed59-b515-419f-b2f4-ca76dcbc8676.csv\n",
      "File saved: Drivers\\ddda2fa1-f0e0-4cbc-9aa1-82e856f379a2.csv\n",
      "File saved: Drivers\\ddf542f4-5c8c-4652-99a0-6f9b16b67157.csv\n",
      "File saved: Drivers\\de067f85-4f54-4208-b7fe-d2eee66edb78.csv\n",
      "File saved: Drivers\\de1d6f09-057c-4590-ad3f-68bcb7c45ec5.csv\n",
      "File saved: Drivers\\de1de726-c260-4211-8452-988062b0bcae.csv\n",
      "File saved: Drivers\\de533cb8-6dc1-4309-a98f-453ea38a6419.csv\n",
      "File saved: Drivers\\de6e4f84-6495-4676-b33c-1529f7860b37.csv\n",
      "File saved: Drivers\\de983cc0-711f-4b7d-b2f5-d45ad2ef3471.csv\n",
      "File saved: Drivers\\deab0dd0-5d5a-4650-9586-6384bc99a56e.csv\n",
      "File saved: Drivers\\deb1dfed-f396-4ef2-b13a-79fa3d03a325.csv\n",
      "File saved: Drivers\\deb6053c-dec6-423b-afdc-933ba4ac50cb.csv\n",
      "File saved: Drivers\\ded142d3-e9a9-4c71-b454-9569f64c8df2.csv\n",
      "File saved: Drivers\\dee1360e-7f4f-4f86-b477-1886a2874b4e.csv\n",
      "File saved: Drivers\\def93203-3518-48e1-be74-4e752a7c3d75.csv\n",
      "File saved: Drivers\\df109941-17b4-443c-b11f-5497ad6a3ce5.csv\n",
      "File saved: Drivers\\df1d64a8-85d9-4ad4-b58f-3d699d9faee7.csv\n",
      "File saved: Drivers\\df4c6aa5-e0e0-496e-8aab-936e7256fc9e.csv\n",
      "File saved: Drivers\\df507dee-14a2-4583-b552-afda49d6afba.csv\n",
      "File saved: Drivers\\df647951-033b-490c-afee-5f580886d114.csv\n",
      "File saved: Drivers\\df73fa5b-0441-47dd-9842-dd32e5e07255.csv\n",
      "File saved: Drivers\\df7d83d3-6776-4cd6-8cae-09fe4dc93ab5.csv\n",
      "File saved: Drivers\\df8f63b6-903e-42df-9d00-6d0db861d585.csv\n",
      "File saved: Drivers\\dfd46079-c47f-4b25-a02d-813c9c7cef8a.csv\n",
      "File saved: Drivers\\dffac9d9-1f58-4f2a-a8f6-ebaee38503b6.csv\n",
      "File saved: Drivers\\e0249042-a66e-4c50-a1f2-4039d016a5c0.csv\n",
      "File saved: Drivers\\e03d62cd-7344-4017-8855-cc8981cd0473.csv\n",
      "File saved: Drivers\\e04d87a3-d619-45c1-9cbd-c822e48799d3.csv\n",
      "File saved: Drivers\\e09999ea-bdba-42ce-8955-fe8dce37f3ea.csv\n",
      "File saved: Drivers\\e13f06a8-0952-4095-819f-3643db5935b4.csv\n",
      "File saved: Drivers\\e154c117-7c36-432b-a3bd-d3b763b19c58.csv\n",
      "File saved: Drivers\\e1a1387d-79d7-4ea6-9565-123517cc3e2f.csv\n",
      "File saved: Drivers\\e1a8e5b2-d5f2-427b-b8f5-2148c7cc8cf2.csv\n",
      "File saved: Drivers\\e1b21a3a-1e10-4fd1-9720-06bc17e53ef4.csv\n",
      "File saved: Drivers\\e1da5d8a-1e81-4957-a69d-49fdf6982b4c.csv\n",
      "File saved: Drivers\\e217e25a-ac7f-4240-b8d2-07165f187826.csv\n",
      "File saved: Drivers\\e2297878-863e-472a-bc8b-7f8799e3851d.csv\n",
      "File saved: Drivers\\e248337a-f63a-48fa-bf50-fa736926b8fb.csv\n",
      "File saved: Drivers\\e25420d7-46bb-458b-bb5f-0ac2c786173f.csv\n",
      "File saved: Drivers\\e26fc372-9431-496e-bbc4-8b005caebcba.csv\n",
      "File saved: Drivers\\e2b5da56-88f5-421c-96f4-1d150b339def.csv\n",
      "File saved: Drivers\\e2ed4e54-90a0-4781-a174-8442c4e72137.csv\n",
      "File saved: Drivers\\e3220f4e-a3fe-40d8-8a9d-5c7f57bcde82.csv\n",
      "File saved: Drivers\\e3349887-3e16-4cc9-93c2-df76c91751e7.csv\n",
      "File saved: Drivers\\e3495f10-e015-47ae-af12-7a562aeb2dfe.csv\n",
      "File saved: Drivers\\e365b70a-54b1-4d88-9125-db51e5c12eca.csv\n",
      "File saved: Drivers\\e3da419f-45d6-4781-b30c-f8a48d0130e4.csv\n",
      "File saved: Drivers\\e3db6b34-ee55-4bf4-b4bd-a1c85e3ceda9.csv\n",
      "File saved: Drivers\\e45767ba-edb9-4201-b3c7-92a0890e0c02.csv\n",
      "File saved: Drivers\\e47bbf36-898f-4b75-9243-bf79e3298f89.csv\n",
      "File saved: Drivers\\e49bba7a-398b-4fde-b22d-f199e3b85550.csv\n",
      "File saved: Drivers\\e4a6330c-7b95-408e-9771-bb1496e15dee.csv\n",
      "File saved: Drivers\\e4ad73dd-2e23-4f7a-a610-d8b9a5255a4a.csv\n"
     ]
    },
    {
     "name": "stdout",
     "output_type": "stream",
     "text": [
      "File saved: Drivers\\e4b3f351-d4ee-40bf-88f4-03db28541953.csv\n",
      "File saved: Drivers\\e4c868dd-c583-48d7-8e8c-a4094431bd42.csv\n",
      "File saved: Drivers\\e4c8b71d-8a04-4db4-94d7-17a8b5cbe092.csv\n",
      "File saved: Drivers\\e4c9b707-f289-49e4-94b2-cb153f907719.csv\n",
      "File saved: Drivers\\e4ce51c3-44de-4f90-ae9f-34648afb11e9.csv\n",
      "File saved: Drivers\\e4ce5b06-150e-4854-85d4-07ee0167132f.csv\n",
      "File saved: Drivers\\e4d20b62-ad3f-4c49-b507-4ba16d053843.csv\n",
      "File saved: Drivers\\e4eb8e50-3250-46ea-b007-421c00c8aa26.csv\n",
      "File saved: Drivers\\e52438d7-29c5-4d4b-a74e-cfd373e89aa6.csv\n",
      "File saved: Drivers\\e53887fc-d9f1-4fd1-b858-1f2806aac3c1.csv\n",
      "File saved: Drivers\\e548778b-c1e9-4dbe-b377-cb565b20f8a4.csv\n",
      "File saved: Drivers\\e5495c78-77fe-498a-ad2e-75910a7a4486.csv\n",
      "File saved: Drivers\\e54b9adb-26cd-4eb2-b6f6-2edd26574753.csv\n",
      "File saved: Drivers\\e55b4619-e1dc-494e-b91e-af8b2647854d.csv\n",
      "File saved: Drivers\\e60cfdf5-0e61-4594-ad44-c05fc42db89d.csv\n",
      "File saved: Drivers\\e61227e8-fd87-4763-b505-2d0f285f67f6.csv\n",
      "File saved: Drivers\\e63c7ddf-32d6-4a6c-a1b5-060cd0fceb65.csv\n",
      "File saved: Drivers\\e65938d9-4e20-42c4-98a1-f12e7ab675e5.csv\n",
      "File saved: Drivers\\e6608ee9-2c88-475e-8337-5e3c8917b01c.csv\n",
      "File saved: Drivers\\e695e174-4ed5-40d0-82d7-21a3fb4a1f2a.csv\n",
      "File saved: Drivers\\e6a0be01-1c34-4163-b3ea-29e2d97e92eb.csv\n",
      "File saved: Drivers\\e6bd4d87-b0b9-4d42-bad9-16545a1be242.csv\n",
      "File saved: Drivers\\e6d2e696-c3a2-4e77-bfa8-19bc4790b075.csv\n",
      "File saved: Drivers\\e6fdfc30-a9db-4cc2-8511-470857740394.csv\n",
      "File saved: Drivers\\e70406c5-e7bd-4360-bdfe-712ca76bf9c0.csv\n",
      "File saved: Drivers\\e7089434-f3f7-4a4c-8db7-d47167c9a7b5.csv\n",
      "File saved: Drivers\\e7ce57c9-cd12-42a2-831c-88ca15d35995.csv\n",
      "File saved: Drivers\\e7d09e59-8668-4d55-9d37-772d1aae9f7e.csv\n",
      "File saved: Drivers\\e80a9bc7-2c51-4382-b2da-54d2d71d7441.csv\n",
      "File saved: Drivers\\e83eabeb-5d37-4db6-902c-b6d8f9ee17bd.csv\n",
      "File saved: Drivers\\e85ce910-902f-4492-80c4-53e40142a778.csv\n",
      "File saved: Drivers\\e85eaadc-4537-49d8-8d85-5e4ce9659832.csv\n",
      "File saved: Drivers\\e8783132-5c61-41b2-9358-3a42e2ad8de9.csv\n",
      "File saved: Drivers\\e8960cab-3e9e-46de-8248-5a94222f5a08.csv\n",
      "File saved: Drivers\\e898a4cb-c916-47be-877c-8ff8285d1b5c.csv\n",
      "File saved: Drivers\\e8afd32a-e367-44e9-8a89-8eb9a6581db6.csv\n",
      "File saved: Drivers\\e8b15b82-21d0-46ef-aba5-27fbc1f2c49b.csv\n",
      "File saved: Drivers\\e8ca7de6-8c61-49d7-9d98-fb92837a03b0.csv\n",
      "File saved: Drivers\\e8eb1ca4-523c-40c5-8261-42dc862193f7.csv\n",
      "File saved: Drivers\\e91758da-9411-4714-84f9-6e1977e64b06.csv\n",
      "File saved: Drivers\\e91d0a16-f1de-46ac-af12-c21416e8fbd0.csv\n",
      "File saved: Drivers\\e92119e8-dcd8-4806-b6cd-364437a14824.csv\n",
      "File saved: Drivers\\e93c53e0-dd47-4b79-8bb5-4995ba67cc16.csv\n",
      "File saved: Drivers\\e946d565-c23d-4681-b353-989b12d84bae.csv\n",
      "File saved: Drivers\\e957b19f-4a4b-4c8d-8238-cf07e1f59ea4.csv\n",
      "File saved: Drivers\\e969ae59-693e-4fa3-8fd6-13325edbe76a.csv\n",
      "File saved: Drivers\\e975ae6e-6faa-419c-b1b0-6de08172dbbf.csv\n",
      "File saved: Drivers\\e9c1111d-b21b-4112-9944-ca11de8ae3f8.csv\n",
      "File saved: Drivers\\ea20caad-b917-4917-b910-6abc8be7985d.csv\n",
      "File saved: Drivers\\ea5c6494-ba82-4b02-818e-394cce250529.csv\n",
      "File saved: Drivers\\ea5e70de-2877-416e-8be1-db49a51c37c7.csv\n",
      "File saved: Drivers\\ea9ad9ae-49d4-4a78-9eb9-3ea62aae44e2.csv\n",
      "File saved: Drivers\\ea9d7c0d-8af2-43d8-b4f3-c554630cc22d.csv\n",
      "File saved: Drivers\\eb04b0a8-3266-4a6b-ac0b-b441a78f9276.csv\n",
      "File saved: Drivers\\eb3bdfaf-a73d-49f3-abe8-f55e87d4d2a9.csv\n",
      "File saved: Drivers\\eb61ab9b-1b0b-46a8-8c11-1555b7f1e00f.csv\n",
      "File saved: Drivers\\eb97e5af-fc82-4352-9fd9-b6167d72e04b.csv\n",
      "File saved: Drivers\\eb9ac9e8-8e2c-4717-9e65-b6ba8bf62fe8.csv\n",
      "File saved: Drivers\\ebdab2b3-df85-4465-9f7c-d5ddc0dcf25c.csv\n",
      "File saved: Drivers\\ec257255-2bd2-480d-af76-266a7aa07063.csv\n",
      "File saved: Drivers\\ec69e433-caec-4833-8e1e-38cda949ffb7.csv\n",
      "File saved: Drivers\\ecafad84-7081-48e2-bec4-00f951553abb.csv\n",
      "File saved: Drivers\\ecb4d74a-bf4f-4d83-8cf5-0b00961f2169.csv\n",
      "File saved: Drivers\\ecbaa604-1fe7-49a1-810e-5f5d56b3b6eb.csv\n",
      "File saved: Drivers\\eccadfbd-15b7-4f57-a8da-969bef247e7a.csv\n",
      "File saved: Drivers\\ecd7960b-931c-4217-bc50-f7e93e9487ba.csv\n",
      "File saved: Drivers\\ed151c7f-dd9d-48ed-b9a2-c2be39018001.csv\n",
      "File saved: Drivers\\ed28e50e-a568-4f23-83eb-aacbad179cf1.csv\n",
      "File saved: Drivers\\ed41bb7b-08d7-4087-a492-cbb09e6d23e9.csv\n",
      "File saved: Drivers\\ed7fd440-c45b-4331-8687-0f91646232ce.csv\n",
      "File saved: Drivers\\ed86bccd-48e0-4c6a-abae-cbfc5ddf25ac.csv\n",
      "File saved: Drivers\\ed8ab189-185f-4c69-addf-86087ccb87e5.csv\n",
      "File saved: Drivers\\ed8d1f52-8178-4753-8c19-0a00c00a06da.csv\n",
      "File saved: Drivers\\ed97af2f-5b66-429a-ab57-9b2fc3dcc863.csv\n",
      "File saved: Drivers\\edbfa1ac-cc4d-4584-821a-01841788c630.csv\n",
      "File saved: Drivers\\edbfcb24-0164-4993-8896-d982d4fd0478.csv\n",
      "File saved: Drivers\\ede266b1-7a70-42bc-a0c0-0d9c0fabe533.csv\n",
      "File saved: Drivers\\ede4347b-2146-483d-8c48-1bc3549f591f.csv\n",
      "File saved: Drivers\\ee0fdf60-27b6-47c2-903b-388f62af8a91.csv\n",
      "File saved: Drivers\\ee3cc01b-0b07-4ce3-bf01-08778333b254.csv\n",
      "File saved: Drivers\\ee479677-1a80-4810-ba0a-745a089b117c.csv\n",
      "File saved: Drivers\\ee924b56-df86-4a4a-ab72-9c9ed38f747e.csv\n",
      "File saved: Drivers\\eeb2fdcd-6118-4cdd-96f1-c9c60a0fd3b4.csv\n",
      "File saved: Drivers\\eedbc493-2cc4-4767-aa04-23d13868d83a.csv\n",
      "File saved: Drivers\\ef1f0aa0-a93e-4ca1-ae9d-5493b3ffb088.csv\n",
      "File saved: Drivers\\ef674813-4024-4f0d-8260-3e3d5a582514.csv\n",
      "File saved: Drivers\\ef9e55ae-d8a0-4c3a-b0f6-f0309bbe21e5.csv\n",
      "File saved: Drivers\\efab537e-cec0-417b-bba4-3090a2876774.csv\n",
      "File saved: Drivers\\efca7967-e6d0-482b-af2f-6a5814032634.csv\n",
      "File saved: Drivers\\efd577af-60f3-4c40-af58-9cd310016e84.csv\n",
      "File saved: Drivers\\eff0746a-c437-433d-90ba-9af74795f0eb.csv\n",
      "File saved: Drivers\\f03dee96-809a-4364-ad5c-8dd0e35caa0f.csv\n",
      "File saved: Drivers\\f03ffe8d-7f9b-4661-9646-052ca41ebc80.csv\n",
      "File saved: Drivers\\f0450e9e-e1af-4db8-b68a-fbeef2e13613.csv\n",
      "File saved: Drivers\\f06373da-a8f5-4fdc-9dda-898897d3b3aa.csv\n",
      "File saved: Drivers\\f080141b-f0d1-4c47-a719-8d401063a7d2.csv\n",
      "File saved: Drivers\\f09d36b2-89ca-4539-95e2-5e0e660af9d7.csv\n",
      "File saved: Drivers\\f0bee66a-1cd8-4896-9a66-a07eee233d67.csv\n",
      "File saved: Drivers\\f0bf771d-7855-4c94-9662-4fa5348d957a.csv\n",
      "File saved: Drivers\\f0df37ba-e0b0-4f71-9c72-791d4f961ece.csv\n",
      "File saved: Drivers\\f0fffd5a-0dd2-4757-9537-fd9578ede178.csv\n",
      "File saved: Drivers\\f11f9e49-d28c-4a08-83b9-7f48491a4ed9.csv\n",
      "File saved: Drivers\\f1521259-f0b1-41aa-bd3d-c7bd535e9f6c.csv\n",
      "File saved: Drivers\\f17e841b-7841-4096-b799-425ab65696c1.csv\n",
      "File saved: Drivers\\f1871c3d-59a5-4e8e-8699-4d4bebf61ca9.csv\n",
      "File saved: Drivers\\f187c178-3a02-442d-a8e2-2c96825b2fce.csv\n",
      "File saved: Drivers\\f1eb0ba7-55ec-403e-8691-5688568d7e93.csv\n",
      "File saved: Drivers\\f2287253-bf48-46e2-b8a4-adda46d09283.csv\n",
      "File saved: Drivers\\f247b8e7-1f6c-4af7-bd01-bba8e72ef825.csv\n",
      "File saved: Drivers\\f24f28af-88af-40c4-821c-e9bdb0186fad.csv\n",
      "File saved: Drivers\\f26fd5f2-9dd0-4ea8-b8b8-5d266a0f0065.csv\n",
      "File saved: Drivers\\f28ff135-204a-45bb-aabf-6f0b5c2f0dcf.csv\n",
      "File saved: Drivers\\f2dfbd81-be6a-4e93-a899-f971d16f714c.csv\n",
      "File saved: Drivers\\f2e5767d-cdb5-4fc8-8934-8a8446cfcbf8.csv\n",
      "File saved: Drivers\\f2ffb553-334a-4947-94e3-ad62facd98b8.csv\n",
      "File saved: Drivers\\f3239782-2ae2-4540-a3a0-9cf20d30c592.csv\n",
      "File saved: Drivers\\f340e1e2-2c4f-4167-a40e-8bf56f9d81e2.csv\n",
      "File saved: Drivers\\f3702a77-f672-4749-8a94-820e582ffefe.csv\n",
      "File saved: Drivers\\f3a03224-1ac8-4e73-8402-37f84c441b21.csv\n",
      "File saved: Drivers\\f3caf704-c9b3-4fed-a7ee-5c79bd6499fe.csv\n",
      "File saved: Drivers\\f3cfb111-e636-4737-b7dd-9bb14fddbd8d.csv\n",
      "File saved: Drivers\\f43af674-dcb9-4486-bd13-11168e529233.csv\n",
      "File saved: Drivers\\f45144ff-0b28-4479-9898-9ada731caeb2.csv\n",
      "File saved: Drivers\\f460e2a5-b416-47e8-bfd5-46474a796d2f.csv\n",
      "File saved: Drivers\\f4746389-8388-418e-9f4c-ef91869a8fa7.csv\n",
      "File saved: Drivers\\f479c13f-c166-4a3e-b0b5-be1d668a3a09.csv\n",
      "File saved: Drivers\\f47fc665-db75-4bb0-ad3e-6a4fbf3fe492.csv\n",
      "File saved: Drivers\\f4ba77e8-96c8-4bb6-acc4-22c2f9e9fc19.csv\n",
      "File saved: Drivers\\f4bd1fb4-61ca-4ab5-9ade-59140dded141.csv\n",
      "File saved: Drivers\\f4d5847c-0599-43bb-98e9-7f98469e1e72.csv\n",
      "File saved: Drivers\\f5151174-1ea0-47bd-8b5a-7e3bdeccab91.csv\n",
      "File saved: Drivers\\f526cd65-1fee-4c98-8c00-4c622603be72.csv\n",
      "File saved: Drivers\\f5426570-c7fc-42d0-8551-89207310f625.csv\n",
      "File saved: Drivers\\f5557293-b0a4-4dc3-90c8-81aa6dfdb3a0.csv\n",
      "File saved: Drivers\\f55e0e7f-9188-49bb-8f4e-22d231366a19.csv\n",
      "File saved: Drivers\\f56eed06-b846-4603-9572-c3bb3698438b.csv\n",
      "File saved: Drivers\\f57b62d5-01b2-469a-9abe-3cf4a74e7718.csv\n",
      "File saved: Drivers\\f5a1bee8-8429-46be-a444-55b8b2b23f36.csv\n",
      "File saved: Drivers\\f5af8e27-43f0-4696-b9a8-c06c7d7792ae.csv\n",
      "File saved: Drivers\\f5b93817-e9d7-43d8-8701-011ef4313d16.csv\n",
      "File saved: Drivers\\f65851a4-e68e-4401-b90b-692085c61ca9.csv\n",
      "File saved: Drivers\\f69eed06-e0d4-418c-bcb8-945981c7cdce.csv\n",
      "File saved: Drivers\\f7107dc0-a392-43b9-9fa9-8964164dd5e1.csv\n",
      "File saved: Drivers\\f76f5432-3eda-4240-a738-4b829b207246.csv\n",
      "File saved: Drivers\\f78fb8c2-d76b-43d5-9228-d10a2f6fe2a1.csv\n",
      "File saved: Drivers\\f7be3113-30d6-4da1-a127-b8efd423d800.csv\n",
      "File saved: Drivers\\f7becb1f-cf45-42ff-a33e-17af5c898cfc.csv\n",
      "File saved: Drivers\\f7cd522a-0daf-449e-8d57-1db0e4ed8b4b.csv\n",
      "File saved: Drivers\\f801b179-c4ca-40ce-b957-fdfb8bce8313.csv\n",
      "File saved: Drivers\\f807b1e5-a901-428f-bbf5-c069464639ce.csv\n",
      "File saved: Drivers\\f812ec72-776c-4930-b1a5-438a9a9957ca.csv\n",
      "File saved: Drivers\\f815c6e0-17ee-42fd-80d7-7b5545c21c93.csv\n",
      "File saved: Drivers\\f83919a9-44e2-41a6-863d-e6ae68ebadd1.csv\n",
      "File saved: Drivers\\f843bcc2-49d1-46af-a73a-829eb0f7e7ac.csv\n",
      "File saved: Drivers\\f845ee45-83f8-4de2-9b5e-3732dae0dd21.csv\n",
      "File saved: Drivers\\f8b2c9f9-d527-4087-8c72-1ae731ec2030.csv\n",
      "File saved: Drivers\\f8b9cb3f-9f9b-414b-bdab-f8c48dd85cb9.csv\n",
      "File saved: Drivers\\f92c08e9-31c0-4a9e-820b-86f159800259.csv\n",
      "File saved: Drivers\\f956623c-8161-4457-91e2-9aff353a8d8e.csv\n",
      "File saved: Drivers\\f9914c84-f33a-4dff-ac29-7824045183a7.csv\n",
      "File saved: Drivers\\f99f4b20-2da9-4158-8735-2239657a5392.csv\n",
      "File saved: Drivers\\f9b37e83-418e-464c-9fb8-18f9db868fc9.csv\n",
      "File saved: Drivers\\f9cda99c-3eaf-419f-9723-735642d2079d.csv\n",
      "File saved: Drivers\\f9f25379-cbe8-44bf-b5cb-dc5b56b45d15.csv\n",
      "File saved: Drivers\\f9fd5399-6331-4678-9c12-24f4d197f806.csv\n",
      "File saved: Drivers\\fa0124c8-e5cb-427e-9e48-ec6dfb9205a3.csv\n",
      "File saved: Drivers\\fa12cae5-44c2-4a8c-9ac9-4a725f0235a0.csv\n",
      "File saved: Drivers\\fa3226da-bd27-4fab-9345-c378d1998ec4.csv\n",
      "File saved: Drivers\\fa41c8ae-5b49-49d2-9907-74dafd740bd1.csv\n"
     ]
    },
    {
     "name": "stdout",
     "output_type": "stream",
     "text": [
      "File saved: Drivers\\fa5233af-9497-4b43-92e4-ae6ddd7500d6.csv\n",
      "File saved: Drivers\\fa78a212-7181-439e-bdd1-fa9cb883243d.csv\n",
      "File saved: Drivers\\fa92748d-307c-4baa-a106-3232d0926ec2.csv\n",
      "File saved: Drivers\\fa95046c-909a-45c3-a716-4e31177fd9d5.csv\n",
      "File saved: Drivers\\fabfd8b6-55d5-48f9-a8e1-ebb0417d1c48.csv\n",
      "File saved: Drivers\\fada0d17-8f7e-45dd-b54c-4b47ecb9ac66.csv\n",
      "File saved: Drivers\\fb044a58-cad1-43eb-bfcc-1118707ccf60.csv\n",
      "File saved: Drivers\\fb26d3b1-f4f2-4bf8-b7f0-db4a596983ea.csv\n",
      "File saved: Drivers\\fb3b1b19-d3fe-440b-972c-ea07079afb74.csv\n",
      "File saved: Drivers\\fb72386c-f42c-49b7-9b37-9bd7792295e8.csv\n",
      "File saved: Drivers\\fb86a6f1-13e6-4048-9bac-a84076ea58d4.csv\n",
      "File saved: Drivers\\fbb80e30-1246-49d3-9d4f-31c475e5fdb4.csv\n",
      "File saved: Drivers\\fbf58238-6df4-422c-b9be-bc6b7b4d015a.csv\n",
      "File saved: Drivers\\fc1b2842-3da5-4043-bac4-eb612ba01cca.csv\n",
      "File saved: Drivers\\fc344bc6-3fe0-4d33-9381-4898fc20c6bb.csv\n",
      "File saved: Drivers\\fc3cfd94-9bdd-4a6c-8abf-92ebb5817c71.csv\n",
      "File saved: Drivers\\fc7cba7e-5ecd-4c10-a1fd-407776f3ec84.csv\n",
      "File saved: Drivers\\fc8f7d37-4f45-4fbe-b86a-ae38616973d8.csv\n",
      "File saved: Drivers\\fca15f09-3e5c-4bbf-8153-35209092dc92.csv\n",
      "File saved: Drivers\\fcc71df5-8609-4960-855b-414a19b5e84d.csv\n",
      "File saved: Drivers\\fccf754b-dc5c-44c2-adff-de445866e1ec.csv\n",
      "File saved: Drivers\\fce28845-0f48-4a63-832d-64d9ccf411f5.csv\n",
      "File saved: Drivers\\fd6d1aa9-5a53-4c63-b100-91751f05ff56.csv\n",
      "File saved: Drivers\\fd92f6bd-bda4-4dd4-8165-61194f2e007d.csv\n",
      "File saved: Drivers\\fd9650a0-7e49-4fee-9e63-4156a9ed2be9.csv\n",
      "File saved: Drivers\\fd9881fa-6e80-417d-bda4-9ad5c0aa1e1d.csv\n",
      "File saved: Drivers\\fda99a20-d636-4fa7-9d1e-b732496b5165.csv\n",
      "File saved: Drivers\\fdc47669-8550-4fcc-8f25-e1f58338b9b1.csv\n",
      "File saved: Drivers\\fdf3b83a-c0ea-460a-8c95-d6b7d67b4aa9.csv\n",
      "File saved: Drivers\\fe09ea24-2e52-4fd2-839a-c2cc0eb3b142.csv\n",
      "File saved: Drivers\\fe0b70de-f1ec-48a4-8644-e31cb6c093a7.csv\n",
      "File saved: Drivers\\fe1392a6-8202-430a-ad7a-eb410a7e199a.csv\n",
      "File saved: Drivers\\fe1a12c0-9df1-47ff-a43e-b43d9444d2dd.csv\n",
      "File saved: Drivers\\fe1b8836-1950-4d86-a090-99c15c820fcc.csv\n",
      "File saved: Drivers\\fe1f3922-a5a0-4daa-a1ff-858930c6c77f.csv\n",
      "File saved: Drivers\\fe53e415-08be-493d-8113-df63e1076625.csv\n",
      "File saved: Drivers\\fe7818f3-f025-45ca-8c83-b85c70ec7610.csv\n",
      "File saved: Drivers\\fe788385-6f0d-4864-a4e9-dbd70baf2334.csv\n",
      "File saved: Drivers\\fe8c6f99-6ada-4a7b-a0b3-8d4913546e1c.csv\n",
      "File saved: Drivers\\fe9d500c-72c8-4c14-8eee-a9fd5d4ae579.csv\n",
      "File saved: Drivers\\febfe93a-3886-4545-a041-0e3ef7c5a1b3.csv\n",
      "File saved: Drivers\\fee69e6e-97f0-4d4e-bd65-600267bf673a.csv\n",
      "File saved: Drivers\\ff05b83f-77e5-4716-b423-9b3f7bcd399c.csv\n",
      "File saved: Drivers\\ff1eb5e9-2f12-488f-8b03-322afc311acc.csv\n",
      "File saved: Drivers\\ff2148db-0a0a-4a25-9919-f3f2637581f9.csv\n",
      "File saved: Drivers\\ff3160a2-eb06-4364-86aa-1513ae6c6947.csv\n",
      "File saved: Drivers\\ff3e3d00-20ad-4507-8c62-5d7d9c52d342.csv\n",
      "File saved: Drivers\\ff7a3d4d-9a6d-4dae-bdcc-dc244750ba2e.csv\n",
      "File saved: Drivers\\ff7e2962-fe2c-4f11-bffc-3cb4f908a493.csv\n",
      "File saved: Drivers\\ff8c4b08-8a0e-4106-aab1-e0a092487ff6.csv\n"
     ]
    }
   ],
   "source": [
    "import pandas as pd\n",
    "import os\n",
    "\n",
    "# Specify the directory where you want to save the files\n",
    "folder_path = 'Drivers'\n",
    "os.makedirs(folder_path, exist_ok=True)  # Create the folder if it does not exist\n",
    "\n",
    "# Get unique driver UUIDs\n",
    "unique_drivers = new_data['driver_uuid'].unique()\n",
    "\n",
    "# Loop through each unique driver UUID\n",
    "for driver_uuid in unique_drivers:\n",
    "    # Filter the DataFrame for the current driver_uuid\n",
    "    driver_data = new_data[new_data['driver_uuid'] == driver_uuid]\n",
    "    \n",
    "    # Define a file name based on the driver_uuid\n",
    "    file_name = f\"{driver_uuid}.csv\"\n",
    "    \n",
    "    # Full path for the CSV file\n",
    "    full_path = os.path.join(folder_path, file_name)\n",
    "    \n",
    "    # Save the filtered data to a CSV file in the specified folder\n",
    "    driver_data.to_csv(full_path, index=False)  # Set index=False to avoid saving the index column\n",
    "\n",
    "    # Optional print statement to track progress or debugging\n",
    "    print(f\"File saved: {full_path}\")\n"
   ]
  },
  {
   "cell_type": "code",
   "execution_count": 74,
   "id": "bee451f3-8d6a-4566-8218-ebbe8fe5feb0",
   "metadata": {
    "tags": []
   },
   "outputs": [
    {
     "name": "stdout",
     "output_type": "stream",
     "text": [
      "Requirement already satisfied: gmplot in c:\\users\\suraj\\anaconda3\\lib\\site-packages (1.4.1)\n",
      "Requirement already satisfied: requests in c:\\users\\suraj\\anaconda3\\lib\\site-packages (from gmplot) (2.28.1)\n",
      "Requirement already satisfied: charset-normalizer<3,>=2 in c:\\users\\suraj\\anaconda3\\lib\\site-packages (from requests->gmplot) (2.0.4)\n",
      "Requirement already satisfied: certifi>=2017.4.17 in c:\\users\\suraj\\anaconda3\\lib\\site-packages (from requests->gmplot) (2022.12.7)\n",
      "Requirement already satisfied: urllib3<1.27,>=1.21.1 in c:\\users\\suraj\\anaconda3\\lib\\site-packages (from requests->gmplot) (1.26.14)\n",
      "Requirement already satisfied: idna<4,>=2.5 in c:\\users\\suraj\\anaconda3\\lib\\site-packages (from requests->gmplot) (3.4)\n",
      "Note: you may need to restart the kernel to use updated packages.\n"
     ]
    }
   ],
   "source": [
    "pip install gmplot\n"
   ]
  },
  {
   "cell_type": "code",
   "execution_count": 75,
   "id": "b39e3888-e2e8-4362-90fb-99c0eef5dd26",
   "metadata": {
    "tags": []
   },
   "outputs": [
    {
     "name": "stdout",
     "output_type": "stream",
     "text": [
      "Requirement already satisfied: geopy in c:\\users\\suraj\\anaconda3\\lib\\site-packages (2.4.0)\n",
      "Requirement already satisfied: geographiclib<3,>=1.52 in c:\\users\\suraj\\anaconda3\\lib\\site-packages (from geopy) (2.0)\n",
      "Note: you may need to restart the kernel to use updated packages.\n"
     ]
    }
   ],
   "source": [
    "pip install geopy"
   ]
  },
  {
   "cell_type": "markdown",
   "id": "7c625ef7-f240-49af-90d8-6b427f72593d",
   "metadata": {
    "tags": []
   },
   "source": [
    "# now we want plot a graph for each and every driver "
   ]
  },
  {
   "cell_type": "code",
   "execution_count": 76,
   "id": "80299098-58c4-43b6-9ce4-274370aac28e",
   "metadata": {
    "tags": []
   },
   "outputs": [],
   "source": [
    "from collections import defaultdict\n",
    "import gmplot\n",
    "from geopy.distance import geodesic\n",
    "from IPython.display import display, IFrame\n",
    "import os\n"
   ]
  },
  {
   "cell_type": "code",
   "execution_count": null,
   "id": "10f5c1f0-a2cd-4e9d-b0ea-9a8512e8c1c4",
   "metadata": {
    "tags": []
   },
   "outputs": [
    {
     "name": "stdout",
     "output_type": "stream",
     "text": [
      "\n",
      "Processing driver: 0007e579-cbb8-44c4-a32d-bbde59b4ef1f\n",
      "Total fine for driver 0007e579-cbb8-44c4-a32d-bbde59b4ef1f: Rs 0.00\n",
      "Difference between rides for driver 0007e579-cbb8-44c4-a32d-bbde59b4ef1f:\n",
      "   Distance between trip 1 and trip 2: 0.63 km\n",
      "   Distance between trip 2 and trip 3: 0.08 km\n",
      "   Distance between trip 3 and trip 4: 2.32 km\n",
      "   Distance between trip 4 and trip 5: 2.26 km\n",
      "   Distance between trip 5 and trip 6: 0.69 km\n",
      "   Distance between trip 6 and trip 7: 0.11 km\n",
      "   Distance between trip 7 and trip 8: 1.06 km\n",
      "   Distance between trip 8 and trip 9: 0.21 km\n",
      "   Distance between trip 9 and trip 10: 0.08 km\n",
      "   Distance between trip 10 and trip 11: 1.03 km\n",
      "   Distance between trip 11 and trip 12: 0.86 km\n",
      "Total distance traveled by driver 0007e579-cbb8-44c4-a32d-bbde59b4ef1f: 9.33 km\n"
     ]
    },
    {
     "data": {
      "text/html": [
       "\n",
       "        <iframe\n",
       "            width=\"700\"\n",
       "            height=\"600\"\n",
       "            src=\"maps\\driver_0007e579-cbb8-44c4-a32d-bbde59b4ef1f_map.html\"\n",
       "            frameborder=\"0\"\n",
       "            allowfullscreen\n",
       "            \n",
       "        ></iframe>\n",
       "        "
      ],
      "text/plain": [
       "<IPython.lib.display.IFrame at 0x17eae4ffa90>"
      ]
     },
     "metadata": {},
     "output_type": "display_data"
    },
    {
     "name": "stdout",
     "output_type": "stream",
     "text": [
      "\n",
      "Processing driver: 001797d7-5f2b-48be-8b62-29635edbe124\n",
      "Total fine for driver 001797d7-5f2b-48be-8b62-29635edbe124: Rs 0.00\n",
      "Difference between rides for driver 001797d7-5f2b-48be-8b62-29635edbe124:\n",
      "   Distance between trip 1 and trip 2: 1.79 km\n",
      "Total distance traveled by driver 001797d7-5f2b-48be-8b62-29635edbe124: 1.79 km\n"
     ]
    },
    {
     "data": {
      "text/html": [
       "\n",
       "        <iframe\n",
       "            width=\"700\"\n",
       "            height=\"600\"\n",
       "            src=\"maps\\driver_001797d7-5f2b-48be-8b62-29635edbe124_map.html\"\n",
       "            frameborder=\"0\"\n",
       "            allowfullscreen\n",
       "            \n",
       "        ></iframe>\n",
       "        "
      ],
      "text/plain": [
       "<IPython.lib.display.IFrame at 0x17eb3a035e0>"
      ]
     },
     "metadata": {},
     "output_type": "display_data"
    },
    {
     "name": "stdout",
     "output_type": "stream",
     "text": [
      "\n",
      "Processing driver: 0018f72f-581f-4506-9092-2beafbd41ca1\n",
      "Total fine for driver 0018f72f-581f-4506-9092-2beafbd41ca1: Rs 0.00\n",
      "Difference between rides for driver 0018f72f-581f-4506-9092-2beafbd41ca1:\n",
      "Total distance traveled by driver 0018f72f-581f-4506-9092-2beafbd41ca1: 0.00 km\n"
     ]
    },
    {
     "data": {
      "text/html": [
       "\n",
       "        <iframe\n",
       "            width=\"700\"\n",
       "            height=\"600\"\n",
       "            src=\"maps\\driver_0018f72f-581f-4506-9092-2beafbd41ca1_map.html\"\n",
       "            frameborder=\"0\"\n",
       "            allowfullscreen\n",
       "            \n",
       "        ></iframe>\n",
       "        "
      ],
      "text/plain": [
       "<IPython.lib.display.IFrame at 0x17eae521ff0>"
      ]
     },
     "metadata": {},
     "output_type": "display_data"
    },
    {
     "name": "stdout",
     "output_type": "stream",
     "text": [
      "\n",
      "Processing driver: 0077c44a-fcbf-494f-ba03-4a6afccda61b\n",
      "Total fine for driver 0077c44a-fcbf-494f-ba03-4a6afccda61b: Rs 0.00\n",
      "Difference between rides for driver 0077c44a-fcbf-494f-ba03-4a6afccda61b:\n",
      "   Distance between trip 1 and trip 2: 1.10 km\n",
      "   Distance between trip 2 and trip 3: 0.04 km\n",
      "   Distance between trip 3 and trip 4: 2.33 km\n",
      "   Distance between trip 4 and trip 5: 1.48 km\n",
      "   Distance between trip 5 and trip 6: 0.61 km\n",
      "   Distance between trip 6 and trip 7: 1.18 km\n",
      "   Distance between trip 7 and trip 8: 0.64 km\n",
      "   Distance between trip 8 and trip 9: 0.01 km\n",
      "   Distance between trip 9 and trip 10: 0.00 km\n",
      "   Distance between trip 10 and trip 11: 0.01 km\n",
      "Total distance traveled by driver 0077c44a-fcbf-494f-ba03-4a6afccda61b: 7.41 km\n"
     ]
    },
    {
     "data": {
      "text/html": [
       "\n",
       "        <iframe\n",
       "            width=\"700\"\n",
       "            height=\"600\"\n",
       "            src=\"maps\\driver_0077c44a-fcbf-494f-ba03-4a6afccda61b_map.html\"\n",
       "            frameborder=\"0\"\n",
       "            allowfullscreen\n",
       "            \n",
       "        ></iframe>\n",
       "        "
      ],
      "text/plain": [
       "<IPython.lib.display.IFrame at 0x17eaf529b10>"
      ]
     },
     "metadata": {},
     "output_type": "display_data"
    },
    {
     "name": "stdout",
     "output_type": "stream",
     "text": [
      "\n",
      "Processing driver: 00b32f06-a162-4bd4-8f41-7c5f4b530ac5\n",
      "Total fine for driver 00b32f06-a162-4bd4-8f41-7c5f4b530ac5: Rs 74.50\n",
      "Difference between rides for driver 00b32f06-a162-4bd4-8f41-7c5f4b530ac5:\n",
      "   Distance between trip 1 and trip 2: 1.04 km\n",
      "   Distance between trip 2 and trip 3: 0.90 km\n",
      "   Distance between trip 3 and trip 4: 0.57 km\n",
      "   Distance between trip 4 and trip 5: 0.10 km\n",
      "   Distance between trip 5 and trip 6: 0.35 km\n",
      "   Distance between trip 6 and trip 7: 0.16 km\n",
      "   Distance between trip 7 and trip 8: 0.37 km\n",
      "   Distance between trip 8 and trip 9: 0.37 km\n",
      "   Distance between trip 9 and trip 10: 0.25 km\n",
      "   Distance between trip 10 and trip 11: 0.19 km\n",
      "   Distance between trip 11 and trip 12: 4.19 km\n",
      "   Distance between trip 12 and trip 13: 17.45 km\n",
      "Total distance traveled by driver 00b32f06-a162-4bd4-8f41-7c5f4b530ac5: 25.94 km\n"
     ]
    },
    {
     "data": {
      "text/html": [
       "\n",
       "        <iframe\n",
       "            width=\"700\"\n",
       "            height=\"600\"\n",
       "            src=\"maps\\driver_00b32f06-a162-4bd4-8f41-7c5f4b530ac5_map.html\"\n",
       "            frameborder=\"0\"\n",
       "            allowfullscreen\n",
       "            \n",
       "        ></iframe>\n",
       "        "
      ],
      "text/plain": [
       "<IPython.lib.display.IFrame at 0x17eaac8bfd0>"
      ]
     },
     "metadata": {},
     "output_type": "display_data"
    },
    {
     "name": "stdout",
     "output_type": "stream",
     "text": [
      "\n",
      "Processing driver: 00cc1737-d708-4ddf-ad73-ea915df3845a\n",
      "Total fine for driver 00cc1737-d708-4ddf-ad73-ea915df3845a: Rs 0.00\n",
      "Difference between rides for driver 00cc1737-d708-4ddf-ad73-ea915df3845a:\n",
      "   Distance between trip 1 and trip 2: 0.11 km\n",
      "   Distance between trip 2 and trip 3: 0.42 km\n",
      "   Distance between trip 3 and trip 4: 0.52 km\n",
      "   Distance between trip 4 and trip 5: 0.94 km\n",
      "   Distance between trip 5 and trip 6: 0.79 km\n",
      "   Distance between trip 6 and trip 7: 0.52 km\n",
      "   Distance between trip 7 and trip 8: 4.60 km\n",
      "   Distance between trip 8 and trip 9: 0.20 km\n",
      "   Distance between trip 9 and trip 10: 1.07 km\n",
      "   Distance between trip 10 and trip 11: 1.74 km\n",
      "   Distance between trip 11 and trip 12: 0.82 km\n",
      "   Distance between trip 12 and trip 13: 0.37 km\n",
      "   Distance between trip 13 and trip 14: 0.43 km\n",
      "   Distance between trip 14 and trip 15: 0.00 km\n",
      "   Distance between trip 15 and trip 16: 0.29 km\n",
      "Total distance traveled by driver 00cc1737-d708-4ddf-ad73-ea915df3845a: 12.83 km\n"
     ]
    },
    {
     "data": {
      "text/html": [
       "\n",
       "        <iframe\n",
       "            width=\"700\"\n",
       "            height=\"600\"\n",
       "            src=\"maps\\driver_00cc1737-d708-4ddf-ad73-ea915df3845a_map.html\"\n",
       "            frameborder=\"0\"\n",
       "            allowfullscreen\n",
       "            \n",
       "        ></iframe>\n",
       "        "
      ],
      "text/plain": [
       "<IPython.lib.display.IFrame at 0x17eb3a03ca0>"
      ]
     },
     "metadata": {},
     "output_type": "display_data"
    },
    {
     "name": "stdout",
     "output_type": "stream",
     "text": [
      "\n",
      "Processing driver: 00d5d322-1a72-4dc9-b097-eff583f15540\n",
      "Total fine for driver 00d5d322-1a72-4dc9-b097-eff583f15540: Rs 0.00\n",
      "Difference between rides for driver 00d5d322-1a72-4dc9-b097-eff583f15540:\n",
      "   Distance between trip 1 and trip 2: 0.19 km\n",
      "   Distance between trip 2 and trip 3: 0.08 km\n",
      "   Distance between trip 3 and trip 4: 6.32 km\n",
      "Total distance traveled by driver 00d5d322-1a72-4dc9-b097-eff583f15540: 6.59 km\n"
     ]
    },
    {
     "data": {
      "text/html": [
       "\n",
       "        <iframe\n",
       "            width=\"700\"\n",
       "            height=\"600\"\n",
       "            src=\"maps\\driver_00d5d322-1a72-4dc9-b097-eff583f15540_map.html\"\n",
       "            frameborder=\"0\"\n",
       "            allowfullscreen\n",
       "            \n",
       "        ></iframe>\n",
       "        "
      ],
      "text/plain": [
       "<IPython.lib.display.IFrame at 0x17eae4ffa90>"
      ]
     },
     "metadata": {},
     "output_type": "display_data"
    },
    {
     "name": "stdout",
     "output_type": "stream",
     "text": [
      "\n",
      "Processing driver: 00f0c75d-9cbf-42b0-9b81-93b770d5d0a8\n",
      "Total fine for driver 00f0c75d-9cbf-42b0-9b81-93b770d5d0a8: Rs 0.00\n",
      "Difference between rides for driver 00f0c75d-9cbf-42b0-9b81-93b770d5d0a8:\n",
      "   Distance between trip 1 and trip 2: 0.81 km\n",
      "   Distance between trip 2 and trip 3: 1.62 km\n",
      "   Distance between trip 3 and trip 4: 1.03 km\n",
      "   Distance between trip 4 and trip 5: 0.62 km\n",
      "   Distance between trip 5 and trip 6: 0.84 km\n",
      "   Distance between trip 6 and trip 7: 1.06 km\n",
      "   Distance between trip 7 and trip 8: 1.25 km\n",
      "   Distance between trip 8 and trip 9: 0.12 km\n",
      "   Distance between trip 9 and trip 10: 2.84 km\n",
      "   Distance between trip 10 and trip 11: 1.19 km\n",
      "   Distance between trip 11 and trip 12: 0.14 km\n",
      "   Distance between trip 12 and trip 13: 0.89 km\n",
      "   Distance between trip 13 and trip 14: 1.50 km\n",
      "   Distance between trip 14 and trip 15: 1.57 km\n",
      "Total distance traveled by driver 00f0c75d-9cbf-42b0-9b81-93b770d5d0a8: 15.48 km\n"
     ]
    },
    {
     "data": {
      "text/html": [
       "\n",
       "        <iframe\n",
       "            width=\"700\"\n",
       "            height=\"600\"\n",
       "            src=\"maps\\driver_00f0c75d-9cbf-42b0-9b81-93b770d5d0a8_map.html\"\n",
       "            frameborder=\"0\"\n",
       "            allowfullscreen\n",
       "            \n",
       "        ></iframe>\n",
       "        "
      ],
      "text/plain": [
       "<IPython.lib.display.IFrame at 0x17eaad476a0>"
      ]
     },
     "metadata": {},
     "output_type": "display_data"
    },
    {
     "name": "stdout",
     "output_type": "stream",
     "text": [
      "\n",
      "Processing driver: 01052d4d-50e3-4331-82b3-e2093d480eeb\n",
      "Total fine for driver 01052d4d-50e3-4331-82b3-e2093d480eeb: Rs 0.00\n",
      "Difference between rides for driver 01052d4d-50e3-4331-82b3-e2093d480eeb:\n",
      "   Distance between trip 1 and trip 2: 0.63 km\n",
      "   Distance between trip 2 and trip 3: 1.00 km\n",
      "   Distance between trip 3 and trip 4: 1.29 km\n",
      "   Distance between trip 4 and trip 5: 1.31 km\n",
      "   Distance between trip 5 and trip 6: 0.32 km\n",
      "   Distance between trip 6 and trip 7: 0.83 km\n",
      "   Distance between trip 7 and trip 8: 0.01 km\n",
      "   Distance between trip 8 and trip 9: 0.01 km\n",
      "   Distance between trip 9 and trip 10: 1.11 km\n",
      "   Distance between trip 10 and trip 11: 0.97 km\n",
      "   Distance between trip 11 and trip 12: 0.11 km\n",
      "   Distance between trip 12 and trip 13: 0.06 km\n",
      "   Distance between trip 13 and trip 14: 0.77 km\n",
      "   Distance between trip 14 and trip 15: 0.95 km\n",
      "   Distance between trip 15 and trip 16: 0.47 km\n",
      "   Distance between trip 16 and trip 17: 0.29 km\n",
      "   Distance between trip 17 and trip 18: 0.95 km\n",
      "Total distance traveled by driver 01052d4d-50e3-4331-82b3-e2093d480eeb: 11.09 km\n"
     ]
    },
    {
     "data": {
      "text/html": [
       "\n",
       "        <iframe\n",
       "            width=\"700\"\n",
       "            height=\"600\"\n",
       "            src=\"maps\\driver_01052d4d-50e3-4331-82b3-e2093d480eeb_map.html\"\n",
       "            frameborder=\"0\"\n",
       "            allowfullscreen\n",
       "            \n",
       "        ></iframe>\n",
       "        "
      ],
      "text/plain": [
       "<IPython.lib.display.IFrame at 0x17eb3a0b7f0>"
      ]
     },
     "metadata": {},
     "output_type": "display_data"
    },
    {
     "name": "stdout",
     "output_type": "stream",
     "text": [
      "\n",
      "Processing driver: 01284ad1-f6a1-4fb7-8d35-ceefb5b0ced9\n",
      "Total fine for driver 01284ad1-f6a1-4fb7-8d35-ceefb5b0ced9: Rs 0.00\n",
      "Difference between rides for driver 01284ad1-f6a1-4fb7-8d35-ceefb5b0ced9:\n",
      "   Distance between trip 1 and trip 2: 4.12 km\n",
      "   Distance between trip 2 and trip 3: 1.04 km\n",
      "   Distance between trip 3 and trip 4: 0.49 km\n",
      "   Distance between trip 4 and trip 5: 0.82 km\n",
      "   Distance between trip 5 and trip 6: 5.39 km\n",
      "   Distance between trip 6 and trip 7: 2.43 km\n",
      "   Distance between trip 7 and trip 8: 5.48 km\n",
      "   Distance between trip 8 and trip 9: 4.00 km\n",
      "Total distance traveled by driver 01284ad1-f6a1-4fb7-8d35-ceefb5b0ced9: 23.76 km\n"
     ]
    },
    {
     "data": {
      "text/html": [
       "\n",
       "        <iframe\n",
       "            width=\"700\"\n",
       "            height=\"600\"\n",
       "            src=\"maps\\driver_01284ad1-f6a1-4fb7-8d35-ceefb5b0ced9_map.html\"\n",
       "            frameborder=\"0\"\n",
       "            allowfullscreen\n",
       "            \n",
       "        ></iframe>\n",
       "        "
      ],
      "text/plain": [
       "<IPython.lib.display.IFrame at 0x17eae4ffa90>"
      ]
     },
     "metadata": {},
     "output_type": "display_data"
    },
    {
     "name": "stdout",
     "output_type": "stream",
     "text": [
      "\n",
      "Processing driver: 0143f3da-4cd2-4284-a3c4-1da04923ea63\n",
      "Total fine for driver 0143f3da-4cd2-4284-a3c4-1da04923ea63: Rs 0.00\n",
      "Difference between rides for driver 0143f3da-4cd2-4284-a3c4-1da04923ea63:\n",
      "   Distance between trip 1 and trip 2: 0.33 km\n",
      "   Distance between trip 2 and trip 3: 1.81 km\n",
      "Total distance traveled by driver 0143f3da-4cd2-4284-a3c4-1da04923ea63: 2.14 km\n"
     ]
    },
    {
     "data": {
      "text/html": [
       "\n",
       "        <iframe\n",
       "            width=\"700\"\n",
       "            height=\"600\"\n",
       "            src=\"maps\\driver_0143f3da-4cd2-4284-a3c4-1da04923ea63_map.html\"\n",
       "            frameborder=\"0\"\n",
       "            allowfullscreen\n",
       "            \n",
       "        ></iframe>\n",
       "        "
      ],
      "text/plain": [
       "<IPython.lib.display.IFrame at 0x17eb3a0b760>"
      ]
     },
     "metadata": {},
     "output_type": "display_data"
    },
    {
     "name": "stdout",
     "output_type": "stream",
     "text": [
      "\n",
      "Processing driver: 018606be-3565-4f3c-96e1-047316260ca5\n",
      "Total fine for driver 018606be-3565-4f3c-96e1-047316260ca5: Rs 0.00\n",
      "Difference between rides for driver 018606be-3565-4f3c-96e1-047316260ca5:\n",
      "   Distance between trip 1 and trip 2: 0.76 km\n",
      "   Distance between trip 2 and trip 3: 0.09 km\n",
      "   Distance between trip 3 and trip 4: 0.01 km\n",
      "   Distance between trip 4 and trip 5: 0.88 km\n",
      "   Distance between trip 5 and trip 6: 0.00 km\n",
      "   Distance between trip 6 and trip 7: 0.20 km\n",
      "   Distance between trip 7 and trip 8: 0.75 km\n",
      "   Distance between trip 8 and trip 9: 0.94 km\n",
      "   Distance between trip 9 and trip 10: 0.46 km\n",
      "   Distance between trip 10 and trip 11: 0.34 km\n",
      "   Distance between trip 11 and trip 12: 0.71 km\n",
      "   Distance between trip 12 and trip 13: 0.23 km\n",
      "   Distance between trip 13 and trip 14: 1.11 km\n",
      "Total distance traveled by driver 018606be-3565-4f3c-96e1-047316260ca5: 6.46 km\n"
     ]
    },
    {
     "data": {
      "text/html": [
       "\n",
       "        <iframe\n",
       "            width=\"700\"\n",
       "            height=\"600\"\n",
       "            src=\"maps\\driver_018606be-3565-4f3c-96e1-047316260ca5_map.html\"\n",
       "            frameborder=\"0\"\n",
       "            allowfullscreen\n",
       "            \n",
       "        ></iframe>\n",
       "        "
      ],
      "text/plain": [
       "<IPython.lib.display.IFrame at 0x17eae521ff0>"
      ]
     },
     "metadata": {},
     "output_type": "display_data"
    },
    {
     "name": "stdout",
     "output_type": "stream",
     "text": [
      "\n",
      "Processing driver: 018d1e7e-d177-4741-925d-7953df2dfe73\n",
      "Total fine for driver 018d1e7e-d177-4741-925d-7953df2dfe73: Rs 0.00\n",
      "Difference between rides for driver 018d1e7e-d177-4741-925d-7953df2dfe73:\n",
      "   Distance between trip 1 and trip 2: 0.03 km\n",
      "   Distance between trip 2 and trip 3: 0.00 km\n",
      "   Distance between trip 3 and trip 4: 0.37 km\n",
      "   Distance between trip 4 and trip 5: 4.71 km\n",
      "   Distance between trip 5 and trip 6: 0.14 km\n",
      "   Distance between trip 6 and trip 7: 0.11 km\n",
      "   Distance between trip 7 and trip 8: 0.07 km\n",
      "   Distance between trip 8 and trip 9: 7.73 km\n",
      "Total distance traveled by driver 018d1e7e-d177-4741-925d-7953df2dfe73: 13.17 km\n"
     ]
    },
    {
     "data": {
      "text/html": [
       "\n",
       "        <iframe\n",
       "            width=\"700\"\n",
       "            height=\"600\"\n",
       "            src=\"maps\\driver_018d1e7e-d177-4741-925d-7953df2dfe73_map.html\"\n",
       "            frameborder=\"0\"\n",
       "            allowfullscreen\n",
       "            \n",
       "        ></iframe>\n",
       "        "
      ],
      "text/plain": [
       "<IPython.lib.display.IFrame at 0x17eae4ff970>"
      ]
     },
     "metadata": {},
     "output_type": "display_data"
    },
    {
     "name": "stdout",
     "output_type": "stream",
     "text": [
      "\n",
      "Processing driver: 01d03159-c10e-43ff-a9c8-a23a7794e069\n",
      "Total fine for driver 01d03159-c10e-43ff-a9c8-a23a7794e069: Rs 0.00\n",
      "Difference between rides for driver 01d03159-c10e-43ff-a9c8-a23a7794e069:\n",
      "   Distance between trip 1 and trip 2: 1.09 km\n",
      "   Distance between trip 2 and trip 3: 1.56 km\n",
      "   Distance between trip 3 and trip 4: 1.37 km\n",
      "   Distance between trip 4 and trip 5: 0.44 km\n",
      "   Distance between trip 5 and trip 6: 2.96 km\n",
      "   Distance between trip 6 and trip 7: 3.63 km\n",
      "   Distance between trip 7 and trip 8: 0.24 km\n",
      "   Distance between trip 8 and trip 9: 0.35 km\n",
      "   Distance between trip 9 and trip 10: 0.28 km\n",
      "   Distance between trip 10 and trip 11: 1.53 km\n",
      "   Distance between trip 11 and trip 12: 0.17 km\n",
      "   Distance between trip 12 and trip 13: 1.68 km\n",
      "   Distance between trip 13 and trip 14: 1.11 km\n",
      "   Distance between trip 14 and trip 15: 0.67 km\n",
      "   Distance between trip 15 and trip 16: 1.37 km\n",
      "   Distance between trip 16 and trip 17: 0.27 km\n",
      "   Distance between trip 17 and trip 18: 0.62 km\n",
      "   Distance between trip 18 and trip 19: 0.55 km\n",
      "   Distance between trip 19 and trip 20: 1.28 km\n",
      "Total distance traveled by driver 01d03159-c10e-43ff-a9c8-a23a7794e069: 21.16 km\n"
     ]
    },
    {
     "data": {
      "text/html": [
       "\n",
       "        <iframe\n",
       "            width=\"700\"\n",
       "            height=\"600\"\n",
       "            src=\"maps\\driver_01d03159-c10e-43ff-a9c8-a23a7794e069_map.html\"\n",
       "            frameborder=\"0\"\n",
       "            allowfullscreen\n",
       "            \n",
       "        ></iframe>\n",
       "        "
      ],
      "text/plain": [
       "<IPython.lib.display.IFrame at 0x17eaf529b10>"
      ]
     },
     "metadata": {},
     "output_type": "display_data"
    },
    {
     "name": "stdout",
     "output_type": "stream",
     "text": [
      "\n",
      "Processing driver: 01d38adb-7318-44e2-acb1-cc475921d250\n",
      "Total fine for driver 01d38adb-7318-44e2-acb1-cc475921d250: Rs 0.00\n",
      "Difference between rides for driver 01d38adb-7318-44e2-acb1-cc475921d250:\n",
      "   Distance between trip 1 and trip 2: 1.78 km\n",
      "   Distance between trip 2 and trip 3: 0.92 km\n",
      "   Distance between trip 3 and trip 4: 0.05 km\n",
      "   Distance between trip 4 and trip 5: 0.25 km\n",
      "   Distance between trip 5 and trip 6: 0.62 km\n",
      "   Distance between trip 6 and trip 7: 1.17 km\n",
      "   Distance between trip 7 and trip 8: 2.05 km\n",
      "   Distance between trip 8 and trip 9: 1.67 km\n",
      "   Distance between trip 9 and trip 10: 0.00 km\n",
      "   Distance between trip 10 and trip 11: 0.22 km\n",
      "   Distance between trip 11 and trip 12: 0.55 km\n",
      "   Distance between trip 12 and trip 13: 4.56 km\n",
      "Total distance traveled by driver 01d38adb-7318-44e2-acb1-cc475921d250: 13.84 km\n"
     ]
    },
    {
     "data": {
      "text/html": [
       "\n",
       "        <iframe\n",
       "            width=\"700\"\n",
       "            height=\"600\"\n",
       "            src=\"maps\\driver_01d38adb-7318-44e2-acb1-cc475921d250_map.html\"\n",
       "            frameborder=\"0\"\n",
       "            allowfullscreen\n",
       "            \n",
       "        ></iframe>\n",
       "        "
      ],
      "text/plain": [
       "<IPython.lib.display.IFrame at 0x17eae4ffa90>"
      ]
     },
     "metadata": {},
     "output_type": "display_data"
    },
    {
     "name": "stdout",
     "output_type": "stream",
     "text": [
      "\n",
      "Processing driver: 01d49152-c62c-4d85-926b-1c2cb1c7c1b8\n",
      "Total fine for driver 01d49152-c62c-4d85-926b-1c2cb1c7c1b8: Rs 0.00\n",
      "Difference between rides for driver 01d49152-c62c-4d85-926b-1c2cb1c7c1b8:\n",
      "   Distance between trip 1 and trip 2: 0.65 km\n",
      "   Distance between trip 2 and trip 3: 1.10 km\n",
      "   Distance between trip 3 and trip 4: 0.05 km\n",
      "   Distance between trip 4 and trip 5: 0.06 km\n",
      "   Distance between trip 5 and trip 6: 0.64 km\n",
      "   Distance between trip 6 and trip 7: 0.55 km\n",
      "   Distance between trip 7 and trip 8: 1.57 km\n",
      "   Distance between trip 8 and trip 9: 0.79 km\n",
      "   Distance between trip 9 and trip 10: 0.06 km\n",
      "   Distance between trip 10 and trip 11: 0.01 km\n",
      "   Distance between trip 11 and trip 12: 0.45 km\n",
      "   Distance between trip 12 and trip 13: 1.22 km\n",
      "   Distance between trip 13 and trip 14: 0.38 km\n",
      "   Distance between trip 14 and trip 15: 0.57 km\n",
      "   Distance between trip 15 and trip 16: 0.50 km\n",
      "   Distance between trip 16 and trip 17: 1.76 km\n",
      "   Distance between trip 17 and trip 18: 0.49 km\n",
      "Total distance traveled by driver 01d49152-c62c-4d85-926b-1c2cb1c7c1b8: 10.86 km\n"
     ]
    },
    {
     "data": {
      "text/html": [
       "\n",
       "        <iframe\n",
       "            width=\"700\"\n",
       "            height=\"600\"\n",
       "            src=\"maps\\driver_01d49152-c62c-4d85-926b-1c2cb1c7c1b8_map.html\"\n",
       "            frameborder=\"0\"\n",
       "            allowfullscreen\n",
       "            \n",
       "        ></iframe>\n",
       "        "
      ],
      "text/plain": [
       "<IPython.lib.display.IFrame at 0x17eb3a0b6a0>"
      ]
     },
     "metadata": {},
     "output_type": "display_data"
    },
    {
     "name": "stdout",
     "output_type": "stream",
     "text": [
      "\n",
      "Processing driver: 01d4c5fd-1c81-4525-8dbd-f1329e982ff1\n",
      "Total fine for driver 01d4c5fd-1c81-4525-8dbd-f1329e982ff1: Rs 128.75\n",
      "Difference between rides for driver 01d4c5fd-1c81-4525-8dbd-f1329e982ff1:\n",
      "   Distance between trip 1 and trip 2: 0.22 km\n",
      "   Distance between trip 2 and trip 3: 22.87 km\n",
      "   Distance between trip 3 and trip 4: 0.15 km\n",
      "Total distance traveled by driver 01d4c5fd-1c81-4525-8dbd-f1329e982ff1: 23.24 km\n"
     ]
    },
    {
     "data": {
      "text/html": [
       "\n",
       "        <iframe\n",
       "            width=\"700\"\n",
       "            height=\"600\"\n",
       "            src=\"maps\\driver_01d4c5fd-1c81-4525-8dbd-f1329e982ff1_map.html\"\n",
       "            frameborder=\"0\"\n",
       "            allowfullscreen\n",
       "            \n",
       "        ></iframe>\n",
       "        "
      ],
      "text/plain": [
       "<IPython.lib.display.IFrame at 0x17eaad46140>"
      ]
     },
     "metadata": {},
     "output_type": "display_data"
    },
    {
     "name": "stdout",
     "output_type": "stream",
     "text": [
      "\n",
      "Processing driver: 01dbf846-3890-4fcb-a70f-b1eb4f536fef\n",
      "Total fine for driver 01dbf846-3890-4fcb-a70f-b1eb4f536fef: Rs 0.00\n",
      "Difference between rides for driver 01dbf846-3890-4fcb-a70f-b1eb4f536fef:\n",
      "   Distance between trip 1 and trip 2: 1.30 km\n",
      "   Distance between trip 2 and trip 3: 0.53 km\n",
      "   Distance between trip 3 and trip 4: 0.90 km\n",
      "   Distance between trip 4 and trip 5: 0.70 km\n",
      "   Distance between trip 5 and trip 6: 0.68 km\n",
      "   Distance between trip 6 and trip 7: 0.70 km\n",
      "   Distance between trip 7 and trip 8: 2.10 km\n",
      "   Distance between trip 8 and trip 9: 0.04 km\n",
      "   Distance between trip 9 and trip 10: 0.08 km\n",
      "   Distance between trip 10 and trip 11: 0.31 km\n",
      "   Distance between trip 11 and trip 12: 0.89 km\n",
      "   Distance between trip 12 and trip 13: 0.36 km\n",
      "   Distance between trip 13 and trip 14: 0.12 km\n",
      "   Distance between trip 14 and trip 15: 0.68 km\n",
      "   Distance between trip 15 and trip 16: 1.46 km\n",
      "Total distance traveled by driver 01dbf846-3890-4fcb-a70f-b1eb4f536fef: 10.85 km\n"
     ]
    },
    {
     "data": {
      "text/html": [
       "\n",
       "        <iframe\n",
       "            width=\"700\"\n",
       "            height=\"600\"\n",
       "            src=\"maps\\driver_01dbf846-3890-4fcb-a70f-b1eb4f536fef_map.html\"\n",
       "            frameborder=\"0\"\n",
       "            allowfullscreen\n",
       "            \n",
       "        ></iframe>\n",
       "        "
      ],
      "text/plain": [
       "<IPython.lib.display.IFrame at 0x17eae521ff0>"
      ]
     },
     "metadata": {},
     "output_type": "display_data"
    },
    {
     "name": "stdout",
     "output_type": "stream",
     "text": [
      "\n",
      "Processing driver: 01de2a4e-13da-47d1-aca7-40642a11a262\n",
      "Total fine for driver 01de2a4e-13da-47d1-aca7-40642a11a262: Rs 0.00\n",
      "Difference between rides for driver 01de2a4e-13da-47d1-aca7-40642a11a262:\n",
      "   Distance between trip 1 and trip 2: 0.47 km\n",
      "   Distance between trip 2 and trip 3: 1.77 km\n",
      "   Distance between trip 3 and trip 4: 0.20 km\n",
      "   Distance between trip 4 and trip 5: 0.52 km\n",
      "Total distance traveled by driver 01de2a4e-13da-47d1-aca7-40642a11a262: 2.96 km\n"
     ]
    },
    {
     "data": {
      "text/html": [
       "\n",
       "        <iframe\n",
       "            width=\"700\"\n",
       "            height=\"600\"\n",
       "            src=\"maps\\driver_01de2a4e-13da-47d1-aca7-40642a11a262_map.html\"\n",
       "            frameborder=\"0\"\n",
       "            allowfullscreen\n",
       "            \n",
       "        ></iframe>\n",
       "        "
      ],
      "text/plain": [
       "<IPython.lib.display.IFrame at 0x17eae4ffa90>"
      ]
     },
     "metadata": {},
     "output_type": "display_data"
    },
    {
     "name": "stdout",
     "output_type": "stream",
     "text": [
      "\n",
      "Processing driver: 01df956b-6da1-4822-846f-d3d130c10307\n",
      "Total fine for driver 01df956b-6da1-4822-846f-d3d130c10307: Rs 69.95\n",
      "Difference between rides for driver 01df956b-6da1-4822-846f-d3d130c10307:\n",
      "   Distance between trip 1 and trip 2: 16.80 km\n",
      "   Distance between trip 2 and trip 3: 0.10 km\n",
      "   Distance between trip 3 and trip 4: 0.14 km\n",
      "   Distance between trip 4 and trip 5: 1.98 km\n",
      "   Distance between trip 5 and trip 6: 10.20 km\n",
      "Total distance traveled by driver 01df956b-6da1-4822-846f-d3d130c10307: 29.22 km\n"
     ]
    },
    {
     "data": {
      "text/html": [
       "\n",
       "        <iframe\n",
       "            width=\"700\"\n",
       "            height=\"600\"\n",
       "            src=\"maps\\driver_01df956b-6da1-4822-846f-d3d130c10307_map.html\"\n",
       "            frameborder=\"0\"\n",
       "            allowfullscreen\n",
       "            \n",
       "        ></iframe>\n",
       "        "
      ],
      "text/plain": [
       "<IPython.lib.display.IFrame at 0x17eaad476a0>"
      ]
     },
     "metadata": {},
     "output_type": "display_data"
    },
    {
     "name": "stdout",
     "output_type": "stream",
     "text": [
      "\n",
      "Processing driver: 021e1996-9c72-4ad2-8604-b5ae43b7a380\n",
      "Total fine for driver 021e1996-9c72-4ad2-8604-b5ae43b7a380: Rs 0.00\n",
      "Difference between rides for driver 021e1996-9c72-4ad2-8604-b5ae43b7a380:\n",
      "   Distance between trip 1 and trip 2: 2.74 km\n",
      "Total distance traveled by driver 021e1996-9c72-4ad2-8604-b5ae43b7a380: 2.74 km\n"
     ]
    },
    {
     "data": {
      "text/html": [
       "\n",
       "        <iframe\n",
       "            width=\"700\"\n",
       "            height=\"600\"\n",
       "            src=\"maps\\driver_021e1996-9c72-4ad2-8604-b5ae43b7a380_map.html\"\n",
       "            frameborder=\"0\"\n",
       "            allowfullscreen\n",
       "            \n",
       "        ></iframe>\n",
       "        "
      ],
      "text/plain": [
       "<IPython.lib.display.IFrame at 0x17eae5222f0>"
      ]
     },
     "metadata": {},
     "output_type": "display_data"
    },
    {
     "name": "stdout",
     "output_type": "stream",
     "text": [
      "\n",
      "Processing driver: 0239112a-fab4-43bb-a239-d479b0d99fcf\n",
      "Total fine for driver 0239112a-fab4-43bb-a239-d479b0d99fcf: Rs 0.00\n",
      "Difference between rides for driver 0239112a-fab4-43bb-a239-d479b0d99fcf:\n",
      "   Distance between trip 1 and trip 2: 3.65 km\n",
      "   Distance between trip 2 and trip 3: 2.22 km\n",
      "Total distance traveled by driver 0239112a-fab4-43bb-a239-d479b0d99fcf: 5.87 km\n"
     ]
    },
    {
     "data": {
      "text/html": [
       "\n",
       "        <iframe\n",
       "            width=\"700\"\n",
       "            height=\"600\"\n",
       "            src=\"maps\\driver_0239112a-fab4-43bb-a239-d479b0d99fcf_map.html\"\n",
       "            frameborder=\"0\"\n",
       "            allowfullscreen\n",
       "            \n",
       "        ></iframe>\n",
       "        "
      ],
      "text/plain": [
       "<IPython.lib.display.IFrame at 0x17eb3a0a2c0>"
      ]
     },
     "metadata": {},
     "output_type": "display_data"
    },
    {
     "name": "stdout",
     "output_type": "stream",
     "text": [
      "\n",
      "Processing driver: 02b05dd1-6459-48d5-9eab-214f99b88374\n",
      "Total fine for driver 02b05dd1-6459-48d5-9eab-214f99b88374: Rs 0.00\n",
      "Difference between rides for driver 02b05dd1-6459-48d5-9eab-214f99b88374:\n",
      "   Distance between trip 1 and trip 2: 0.46 km\n",
      "   Distance between trip 2 and trip 3: 0.74 km\n",
      "   Distance between trip 3 and trip 4: 0.15 km\n",
      "   Distance between trip 4 and trip 5: 4.82 km\n",
      "   Distance between trip 5 and trip 6: 4.50 km\n",
      "   Distance between trip 6 and trip 7: 2.32 km\n",
      "   Distance between trip 7 and trip 8: 0.19 km\n",
      "   Distance between trip 8 and trip 9: 0.53 km\n",
      "   Distance between trip 9 and trip 10: 0.71 km\n",
      "   Distance between trip 10 and trip 11: 1.85 km\n",
      "   Distance between trip 11 and trip 12: 2.39 km\n",
      "   Distance between trip 12 and trip 13: 0.40 km\n",
      "   Distance between trip 13 and trip 14: 0.72 km\n",
      "   Distance between trip 14 and trip 15: 0.70 km\n",
      "Total distance traveled by driver 02b05dd1-6459-48d5-9eab-214f99b88374: 20.49 km\n"
     ]
    },
    {
     "data": {
      "text/html": [
       "\n",
       "        <iframe\n",
       "            width=\"700\"\n",
       "            height=\"600\"\n",
       "            src=\"maps\\driver_02b05dd1-6459-48d5-9eab-214f99b88374_map.html\"\n",
       "            frameborder=\"0\"\n",
       "            allowfullscreen\n",
       "            \n",
       "        ></iframe>\n",
       "        "
      ],
      "text/plain": [
       "<IPython.lib.display.IFrame at 0x17eb3a00190>"
      ]
     },
     "metadata": {},
     "output_type": "display_data"
    },
    {
     "name": "stdout",
     "output_type": "stream",
     "text": [
      "\n",
      "Processing driver: 02c439f6-c877-4ece-a81a-48fa013fa062\n",
      "Total fine for driver 02c439f6-c877-4ece-a81a-48fa013fa062: Rs 0.00\n",
      "Difference between rides for driver 02c439f6-c877-4ece-a81a-48fa013fa062:\n",
      "   Distance between trip 1 and trip 2: 0.98 km\n",
      "   Distance between trip 2 and trip 3: 0.28 km\n",
      "   Distance between trip 3 and trip 4: 1.18 km\n",
      "   Distance between trip 4 and trip 5: 0.41 km\n",
      "   Distance between trip 5 and trip 6: 0.51 km\n",
      "   Distance between trip 6 and trip 7: 0.24 km\n",
      "   Distance between trip 7 and trip 8: 3.38 km\n",
      "   Distance between trip 8 and trip 9: 0.42 km\n",
      "   Distance between trip 9 and trip 10: 0.52 km\n",
      "   Distance between trip 10 and trip 11: 4.30 km\n",
      "   Distance between trip 11 and trip 12: 0.25 km\n",
      "Total distance traveled by driver 02c439f6-c877-4ece-a81a-48fa013fa062: 12.45 km\n"
     ]
    },
    {
     "data": {
      "text/html": [
       "\n",
       "        <iframe\n",
       "            width=\"700\"\n",
       "            height=\"600\"\n",
       "            src=\"maps\\driver_02c439f6-c877-4ece-a81a-48fa013fa062_map.html\"\n",
       "            frameborder=\"0\"\n",
       "            allowfullscreen\n",
       "            \n",
       "        ></iframe>\n",
       "        "
      ],
      "text/plain": [
       "<IPython.lib.display.IFrame at 0x17eb3a0b910>"
      ]
     },
     "metadata": {},
     "output_type": "display_data"
    },
    {
     "name": "stdout",
     "output_type": "stream",
     "text": [
      "\n",
      "Processing driver: 02d1cbcc-ef5e-4fcf-a8dd-e71e7d285f7c\n",
      "Total fine for driver 02d1cbcc-ef5e-4fcf-a8dd-e71e7d285f7c: Rs 0.00\n",
      "Difference between rides for driver 02d1cbcc-ef5e-4fcf-a8dd-e71e7d285f7c:\n",
      "   Distance between trip 1 and trip 2: 2.00 km\n",
      "   Distance between trip 2 and trip 3: 0.80 km\n",
      "   Distance between trip 3 and trip 4: 1.19 km\n",
      "   Distance between trip 4 and trip 5: 0.37 km\n",
      "   Distance between trip 5 and trip 6: 0.44 km\n",
      "   Distance between trip 6 and trip 7: 4.21 km\n",
      "   Distance between trip 7 and trip 8: 1.11 km\n",
      "   Distance between trip 8 and trip 9: 0.03 km\n",
      "   Distance between trip 9 and trip 10: 2.36 km\n",
      "   Distance between trip 10 and trip 11: 0.50 km\n",
      "   Distance between trip 11 and trip 12: 0.72 km\n",
      "   Distance between trip 12 and trip 13: 3.99 km\n",
      "Total distance traveled by driver 02d1cbcc-ef5e-4fcf-a8dd-e71e7d285f7c: 17.71 km\n"
     ]
    },
    {
     "data": {
      "text/html": [
       "\n",
       "        <iframe\n",
       "            width=\"700\"\n",
       "            height=\"600\"\n",
       "            src=\"maps\\driver_02d1cbcc-ef5e-4fcf-a8dd-e71e7d285f7c_map.html\"\n",
       "            frameborder=\"0\"\n",
       "            allowfullscreen\n",
       "            \n",
       "        ></iframe>\n",
       "        "
      ],
      "text/plain": [
       "<IPython.lib.display.IFrame at 0x17eb3a0bac0>"
      ]
     },
     "metadata": {},
     "output_type": "display_data"
    },
    {
     "name": "stdout",
     "output_type": "stream",
     "text": [
      "\n",
      "Processing driver: 02f7939c-be8e-4f19-82c5-78d1d84b0264\n",
      "Total fine for driver 02f7939c-be8e-4f19-82c5-78d1d84b0264: Rs 0.00\n",
      "Difference between rides for driver 02f7939c-be8e-4f19-82c5-78d1d84b0264:\n",
      "   Distance between trip 1 and trip 2: 3.83 km\n",
      "   Distance between trip 2 and trip 3: 4.16 km\n",
      "   Distance between trip 3 and trip 4: 0.00 km\n",
      "   Distance between trip 4 and trip 5: 0.57 km\n",
      "   Distance between trip 5 and trip 6: 0.50 km\n",
      "   Distance between trip 6 and trip 7: 0.34 km\n",
      "   Distance between trip 7 and trip 8: 0.01 km\n",
      "   Distance between trip 8 and trip 9: 1.32 km\n",
      "   Distance between trip 9 and trip 10: 0.14 km\n",
      "Total distance traveled by driver 02f7939c-be8e-4f19-82c5-78d1d84b0264: 10.88 km\n"
     ]
    },
    {
     "data": {
      "text/html": [
       "\n",
       "        <iframe\n",
       "            width=\"700\"\n",
       "            height=\"600\"\n",
       "            src=\"maps\\driver_02f7939c-be8e-4f19-82c5-78d1d84b0264_map.html\"\n",
       "            frameborder=\"0\"\n",
       "            allowfullscreen\n",
       "            \n",
       "        ></iframe>\n",
       "        "
      ],
      "text/plain": [
       "<IPython.lib.display.IFrame at 0x17eaad476a0>"
      ]
     },
     "metadata": {},
     "output_type": "display_data"
    },
    {
     "name": "stdout",
     "output_type": "stream",
     "text": [
      "\n",
      "Processing driver: 03a7d519-7578-4312-825b-3acd5d207735\n",
      "Total fine for driver 03a7d519-7578-4312-825b-3acd5d207735: Rs 0.00\n",
      "Difference between rides for driver 03a7d519-7578-4312-825b-3acd5d207735:\n",
      "   Distance between trip 1 and trip 2: 1.61 km\n",
      "   Distance between trip 2 and trip 3: 0.93 km\n",
      "   Distance between trip 3 and trip 4: 0.81 km\n",
      "Total distance traveled by driver 03a7d519-7578-4312-825b-3acd5d207735: 3.35 km\n"
     ]
    },
    {
     "data": {
      "text/html": [
       "\n",
       "        <iframe\n",
       "            width=\"700\"\n",
       "            height=\"600\"\n",
       "            src=\"maps\\driver_03a7d519-7578-4312-825b-3acd5d207735_map.html\"\n",
       "            frameborder=\"0\"\n",
       "            allowfullscreen\n",
       "            \n",
       "        ></iframe>\n",
       "        "
      ],
      "text/plain": [
       "<IPython.lib.display.IFrame at 0x17eb3a0bb20>"
      ]
     },
     "metadata": {},
     "output_type": "display_data"
    },
    {
     "name": "stdout",
     "output_type": "stream",
     "text": [
      "\n",
      "Processing driver: 03a88183-483d-4dde-95eb-b2728c8ee276\n",
      "Total fine for driver 03a88183-483d-4dde-95eb-b2728c8ee276: Rs 0.00\n",
      "Difference between rides for driver 03a88183-483d-4dde-95eb-b2728c8ee276:\n",
      "Total distance traveled by driver 03a88183-483d-4dde-95eb-b2728c8ee276: 0.00 km\n"
     ]
    },
    {
     "data": {
      "text/html": [
       "\n",
       "        <iframe\n",
       "            width=\"700\"\n",
       "            height=\"600\"\n",
       "            src=\"maps\\driver_03a88183-483d-4dde-95eb-b2728c8ee276_map.html\"\n",
       "            frameborder=\"0\"\n",
       "            allowfullscreen\n",
       "            \n",
       "        ></iframe>\n",
       "        "
      ],
      "text/plain": [
       "<IPython.lib.display.IFrame at 0x17eb3a0b250>"
      ]
     },
     "metadata": {},
     "output_type": "display_data"
    },
    {
     "name": "stdout",
     "output_type": "stream",
     "text": [
      "\n",
      "Processing driver: 03c0b652-3a85-4d3f-bd31-05fe1b54988a\n",
      "Total fine for driver 03c0b652-3a85-4d3f-bd31-05fe1b54988a: Rs 0.00\n",
      "Difference between rides for driver 03c0b652-3a85-4d3f-bd31-05fe1b54988a:\n",
      "   Distance between trip 1 and trip 2: 0.11 km\n",
      "   Distance between trip 2 and trip 3: 0.62 km\n",
      "   Distance between trip 3 and trip 4: 0.14 km\n",
      "   Distance between trip 4 and trip 5: 0.22 km\n",
      "   Distance between trip 5 and trip 6: 0.93 km\n",
      "   Distance between trip 6 and trip 7: 1.17 km\n",
      "   Distance between trip 7 and trip 8: 2.59 km\n",
      "   Distance between trip 8 and trip 9: 0.87 km\n",
      "   Distance between trip 9 and trip 10: 0.07 km\n",
      "   Distance between trip 10 and trip 11: 7.17 km\n",
      "Total distance traveled by driver 03c0b652-3a85-4d3f-bd31-05fe1b54988a: 13.89 km\n"
     ]
    },
    {
     "data": {
      "text/html": [
       "\n",
       "        <iframe\n",
       "            width=\"700\"\n",
       "            height=\"600\"\n",
       "            src=\"maps\\driver_03c0b652-3a85-4d3f-bd31-05fe1b54988a_map.html\"\n",
       "            frameborder=\"0\"\n",
       "            allowfullscreen\n",
       "            \n",
       "        ></iframe>\n",
       "        "
      ],
      "text/plain": [
       "<IPython.lib.display.IFrame at 0x17eb3a00520>"
      ]
     },
     "metadata": {},
     "output_type": "display_data"
    },
    {
     "name": "stdout",
     "output_type": "stream",
     "text": [
      "\n",
      "Processing driver: 040f29ab-951b-44f5-a181-9333abca58dd\n",
      "Total fine for driver 040f29ab-951b-44f5-a181-9333abca58dd: Rs 0.00\n",
      "Difference between rides for driver 040f29ab-951b-44f5-a181-9333abca58dd:\n",
      "   Distance between trip 1 and trip 2: 0.69 km\n",
      "   Distance between trip 2 and trip 3: 1.38 km\n",
      "   Distance between trip 3 and trip 4: 0.07 km\n",
      "   Distance between trip 4 and trip 5: 0.18 km\n",
      "   Distance between trip 5 and trip 6: 0.65 km\n",
      "   Distance between trip 6 and trip 7: 0.55 km\n",
      "   Distance between trip 7 and trip 8: 0.16 km\n",
      "   Distance between trip 8 and trip 9: 0.01 km\n",
      "   Distance between trip 9 and trip 10: 1.64 km\n",
      "   Distance between trip 10 and trip 11: 0.10 km\n",
      "   Distance between trip 11 and trip 12: 2.13 km\n",
      "Total distance traveled by driver 040f29ab-951b-44f5-a181-9333abca58dd: 7.56 km\n"
     ]
    },
    {
     "data": {
      "text/html": [
       "\n",
       "        <iframe\n",
       "            width=\"700\"\n",
       "            height=\"600\"\n",
       "            src=\"maps\\driver_040f29ab-951b-44f5-a181-9333abca58dd_map.html\"\n",
       "            frameborder=\"0\"\n",
       "            allowfullscreen\n",
       "            \n",
       "        ></iframe>\n",
       "        "
      ],
      "text/plain": [
       "<IPython.lib.display.IFrame at 0x17eaad46140>"
      ]
     },
     "metadata": {},
     "output_type": "display_data"
    },
    {
     "name": "stdout",
     "output_type": "stream",
     "text": [
      "\n",
      "Processing driver: 04308c2e-ae5b-4322-9ec4-3628a5db418d\n",
      "Total fine for driver 04308c2e-ae5b-4322-9ec4-3628a5db418d: Rs 0.00\n",
      "Difference between rides for driver 04308c2e-ae5b-4322-9ec4-3628a5db418d:\n",
      "   Distance between trip 1 and trip 2: 0.53 km\n",
      "   Distance between trip 2 and trip 3: 0.33 km\n",
      "   Distance between trip 3 and trip 4: 1.19 km\n",
      "   Distance between trip 4 and trip 5: 1.17 km\n",
      "   Distance between trip 5 and trip 6: 0.47 km\n",
      "   Distance between trip 6 and trip 7: 0.47 km\n",
      "   Distance between trip 7 and trip 8: 0.60 km\n",
      "   Distance between trip 8 and trip 9: 1.26 km\n",
      "   Distance between trip 9 and trip 10: 1.16 km\n",
      "   Distance between trip 10 and trip 11: 0.06 km\n",
      "   Distance between trip 11 and trip 12: 0.76 km\n",
      "   Distance between trip 12 and trip 13: 0.47 km\n",
      "   Distance between trip 13 and trip 14: 0.33 km\n",
      "   Distance between trip 14 and trip 15: 0.60 km\n",
      "   Distance between trip 15 and trip 16: 0.24 km\n",
      "   Distance between trip 16 and trip 17: 1.78 km\n",
      "Total distance traveled by driver 04308c2e-ae5b-4322-9ec4-3628a5db418d: 11.44 km\n"
     ]
    },
    {
     "data": {
      "text/html": [
       "\n",
       "        <iframe\n",
       "            width=\"700\"\n",
       "            height=\"600\"\n",
       "            src=\"maps\\driver_04308c2e-ae5b-4322-9ec4-3628a5db418d_map.html\"\n",
       "            frameborder=\"0\"\n",
       "            allowfullscreen\n",
       "            \n",
       "        ></iframe>\n",
       "        "
      ],
      "text/plain": [
       "<IPython.lib.display.IFrame at 0x17eb3a00160>"
      ]
     },
     "metadata": {},
     "output_type": "display_data"
    },
    {
     "name": "stdout",
     "output_type": "stream",
     "text": [
      "\n",
      "Processing driver: 0494b71e-bbeb-4d70-80c5-c782e74f1e57\n",
      "Total fine for driver 0494b71e-bbeb-4d70-80c5-c782e74f1e57: Rs 191.45\n",
      "Difference between rides for driver 0494b71e-bbeb-4d70-80c5-c782e74f1e57:\n",
      "   Distance between trip 1 and trip 2: 0.00 km\n",
      "   Distance between trip 2 and trip 3: 0.31 km\n",
      "   Distance between trip 3 and trip 4: 3.06 km\n",
      "   Distance between trip 4 and trip 5: 29.15 km\n",
      "Total distance traveled by driver 0494b71e-bbeb-4d70-80c5-c782e74f1e57: 32.52 km\n"
     ]
    },
    {
     "data": {
      "text/html": [
       "\n",
       "        <iframe\n",
       "            width=\"700\"\n",
       "            height=\"600\"\n",
       "            src=\"maps\\driver_0494b71e-bbeb-4d70-80c5-c782e74f1e57_map.html\"\n",
       "            frameborder=\"0\"\n",
       "            allowfullscreen\n",
       "            \n",
       "        ></iframe>\n",
       "        "
      ],
      "text/plain": [
       "<IPython.lib.display.IFrame at 0x17eb3a0a440>"
      ]
     },
     "metadata": {},
     "output_type": "display_data"
    },
    {
     "name": "stdout",
     "output_type": "stream",
     "text": [
      "\n",
      "Processing driver: 04ada93d-8437-4c99-bddc-c76cd56825db\n",
      "Total fine for driver 04ada93d-8437-4c99-bddc-c76cd56825db: Rs 0.00\n",
      "Difference between rides for driver 04ada93d-8437-4c99-bddc-c76cd56825db:\n",
      "   Distance between trip 1 and trip 2: 0.18 km\n",
      "   Distance between trip 2 and trip 3: 0.05 km\n",
      "   Distance between trip 3 and trip 4: 0.50 km\n",
      "   Distance between trip 4 and trip 5: 1.08 km\n",
      "   Distance between trip 5 and trip 6: 1.03 km\n",
      "Total distance traveled by driver 04ada93d-8437-4c99-bddc-c76cd56825db: 2.84 km\n"
     ]
    },
    {
     "data": {
      "text/html": [
       "\n",
       "        <iframe\n",
       "            width=\"700\"\n",
       "            height=\"600\"\n",
       "            src=\"maps\\driver_04ada93d-8437-4c99-bddc-c76cd56825db_map.html\"\n",
       "            frameborder=\"0\"\n",
       "            allowfullscreen\n",
       "            \n",
       "        ></iframe>\n",
       "        "
      ],
      "text/plain": [
       "<IPython.lib.display.IFrame at 0x17eae4ff970>"
      ]
     },
     "metadata": {},
     "output_type": "display_data"
    },
    {
     "name": "stdout",
     "output_type": "stream",
     "text": [
      "\n",
      "Processing driver: 04cbbb92-f65f-4942-b8d3-5e6e9047b8ea\n",
      "Total fine for driver 04cbbb92-f65f-4942-b8d3-5e6e9047b8ea: Rs 25.68\n",
      "Difference between rides for driver 04cbbb92-f65f-4942-b8d3-5e6e9047b8ea:\n",
      "   Distance between trip 1 and trip 2: 0.91 km\n",
      "   Distance between trip 2 and trip 3: 0.22 km\n",
      "   Distance between trip 3 and trip 4: 0.58 km\n",
      "   Distance between trip 4 and trip 5: 2.70 km\n",
      "   Distance between trip 5 and trip 6: 2.74 km\n",
      "   Distance between trip 6 and trip 7: 1.56 km\n",
      "   Distance between trip 7 and trip 8: 12.57 km\n",
      "Total distance traveled by driver 04cbbb92-f65f-4942-b8d3-5e6e9047b8ea: 21.27 km\n"
     ]
    },
    {
     "data": {
      "text/html": [
       "\n",
       "        <iframe\n",
       "            width=\"700\"\n",
       "            height=\"600\"\n",
       "            src=\"maps\\driver_04cbbb92-f65f-4942-b8d3-5e6e9047b8ea_map.html\"\n",
       "            frameborder=\"0\"\n",
       "            allowfullscreen\n",
       "            \n",
       "        ></iframe>\n",
       "        "
      ],
      "text/plain": [
       "<IPython.lib.display.IFrame at 0x17eaad46140>"
      ]
     },
     "metadata": {},
     "output_type": "display_data"
    },
    {
     "name": "stdout",
     "output_type": "stream",
     "text": [
      "\n",
      "Processing driver: 04e28e97-8667-4ca2-99f1-7a8c4fe71b70\n",
      "Total fine for driver 04e28e97-8667-4ca2-99f1-7a8c4fe71b70: Rs 72.52\n",
      "Difference between rides for driver 04e28e97-8667-4ca2-99f1-7a8c4fe71b70:\n",
      "   Distance between trip 1 and trip 2: 17.25 km\n",
      "   Distance between trip 2 and trip 3: 1.44 km\n",
      "   Distance between trip 3 and trip 4: 1.06 km\n",
      "   Distance between trip 4 and trip 5: 2.27 km\n",
      "   Distance between trip 5 and trip 6: 1.13 km\n",
      "   Distance between trip 6 and trip 7: 0.84 km\n",
      "   Distance between trip 7 and trip 8: 1.91 km\n",
      "   Distance between trip 8 and trip 9: 1.91 km\n",
      "   Distance between trip 9 and trip 10: 0.74 km\n",
      "   Distance between trip 10 and trip 11: 1.50 km\n",
      "   Distance between trip 11 and trip 12: 1.99 km\n",
      "Total distance traveled by driver 04e28e97-8667-4ca2-99f1-7a8c4fe71b70: 32.02 km\n"
     ]
    },
    {
     "data": {
      "text/html": [
       "\n",
       "        <iframe\n",
       "            width=\"700\"\n",
       "            height=\"600\"\n",
       "            src=\"maps\\driver_04e28e97-8667-4ca2-99f1-7a8c4fe71b70_map.html\"\n",
       "            frameborder=\"0\"\n",
       "            allowfullscreen\n",
       "            \n",
       "        ></iframe>\n",
       "        "
      ],
      "text/plain": [
       "<IPython.lib.display.IFrame at 0x17eb3a09b70>"
      ]
     },
     "metadata": {},
     "output_type": "display_data"
    },
    {
     "name": "stdout",
     "output_type": "stream",
     "text": [
      "\n",
      "Processing driver: 04e95902-3a21-44f4-a706-7c6cc57e63c8\n",
      "Total fine for driver 04e95902-3a21-44f4-a706-7c6cc57e63c8: Rs 0.00\n",
      "Difference between rides for driver 04e95902-3a21-44f4-a706-7c6cc57e63c8:\n",
      "   Distance between trip 1 and trip 2: 0.77 km\n",
      "   Distance between trip 2 and trip 3: 9.85 km\n",
      "   Distance between trip 3 and trip 4: 0.32 km\n",
      "   Distance between trip 4 and trip 5: 1.19 km\n",
      "   Distance between trip 5 and trip 6: 0.36 km\n",
      "Total distance traveled by driver 04e95902-3a21-44f4-a706-7c6cc57e63c8: 12.48 km\n"
     ]
    },
    {
     "data": {
      "text/html": [
       "\n",
       "        <iframe\n",
       "            width=\"700\"\n",
       "            height=\"600\"\n",
       "            src=\"maps\\driver_04e95902-3a21-44f4-a706-7c6cc57e63c8_map.html\"\n",
       "            frameborder=\"0\"\n",
       "            allowfullscreen\n",
       "            \n",
       "        ></iframe>\n",
       "        "
      ],
      "text/plain": [
       "<IPython.lib.display.IFrame at 0x17eae4ffa90>"
      ]
     },
     "metadata": {},
     "output_type": "display_data"
    },
    {
     "name": "stdout",
     "output_type": "stream",
     "text": [
      "\n",
      "Processing driver: 058185e2-2034-4be2-aa91-a176b3994797\n",
      "Total fine for driver 058185e2-2034-4be2-aa91-a176b3994797: Rs 0.00\n",
      "Difference between rides for driver 058185e2-2034-4be2-aa91-a176b3994797:\n",
      "   Distance between trip 1 and trip 2: 0.58 km\n",
      "   Distance between trip 2 and trip 3: 0.62 km\n",
      "   Distance between trip 3 and trip 4: 1.21 km\n",
      "   Distance between trip 4 and trip 5: 0.06 km\n",
      "   Distance between trip 5 and trip 6: 0.18 km\n",
      "   Distance between trip 6 and trip 7: 0.38 km\n",
      "   Distance between trip 7 and trip 8: 0.30 km\n",
      "   Distance between trip 8 and trip 9: 0.39 km\n",
      "   Distance between trip 9 and trip 10: 1.42 km\n",
      "   Distance between trip 10 and trip 11: 1.19 km\n",
      "   Distance between trip 11 and trip 12: 0.78 km\n",
      "   Distance between trip 12 and trip 13: 1.81 km\n",
      "Total distance traveled by driver 058185e2-2034-4be2-aa91-a176b3994797: 8.90 km\n"
     ]
    },
    {
     "data": {
      "text/html": [
       "\n",
       "        <iframe\n",
       "            width=\"700\"\n",
       "            height=\"600\"\n",
       "            src=\"maps\\driver_058185e2-2034-4be2-aa91-a176b3994797_map.html\"\n",
       "            frameborder=\"0\"\n",
       "            allowfullscreen\n",
       "            \n",
       "        ></iframe>\n",
       "        "
      ],
      "text/plain": [
       "<IPython.lib.display.IFrame at 0x17eb3a0b8e0>"
      ]
     },
     "metadata": {},
     "output_type": "display_data"
    },
    {
     "name": "stdout",
     "output_type": "stream",
     "text": [
      "\n",
      "Processing driver: 05b5fad8-378a-4ef3-905d-b0661755ea24\n",
      "Total fine for driver 05b5fad8-378a-4ef3-905d-b0661755ea24: Rs 0.00\n",
      "Difference between rides for driver 05b5fad8-378a-4ef3-905d-b0661755ea24:\n",
      "   Distance between trip 1 and trip 2: 0.94 km\n",
      "   Distance between trip 2 and trip 3: 1.21 km\n",
      "   Distance between trip 3 and trip 4: 0.16 km\n",
      "   Distance between trip 4 and trip 5: 0.47 km\n",
      "   Distance between trip 5 and trip 6: 1.69 km\n",
      "   Distance between trip 6 and trip 7: 1.07 km\n",
      "   Distance between trip 7 and trip 8: 0.49 km\n",
      "   Distance between trip 8 and trip 9: 0.05 km\n",
      "   Distance between trip 9 and trip 10: 0.03 km\n",
      "   Distance between trip 10 and trip 11: 0.30 km\n",
      "   Distance between trip 11 and trip 12: 0.67 km\n",
      "   Distance between trip 12 and trip 13: 0.57 km\n",
      "   Distance between trip 13 and trip 14: 0.21 km\n",
      "   Distance between trip 14 and trip 15: 0.26 km\n",
      "Total distance traveled by driver 05b5fad8-378a-4ef3-905d-b0661755ea24: 8.13 km\n"
     ]
    },
    {
     "data": {
      "text/html": [
       "\n",
       "        <iframe\n",
       "            width=\"700\"\n",
       "            height=\"600\"\n",
       "            src=\"maps\\driver_05b5fad8-378a-4ef3-905d-b0661755ea24_map.html\"\n",
       "            frameborder=\"0\"\n",
       "            allowfullscreen\n",
       "            \n",
       "        ></iframe>\n",
       "        "
      ],
      "text/plain": [
       "<IPython.lib.display.IFrame at 0x17eae4ff970>"
      ]
     },
     "metadata": {},
     "output_type": "display_data"
    },
    {
     "name": "stdout",
     "output_type": "stream",
     "text": [
      "\n",
      "Processing driver: 05f4170d-cc29-4616-be5b-95d0e319b54f\n",
      "Total fine for driver 05f4170d-cc29-4616-be5b-95d0e319b54f: Rs 0.00\n",
      "Difference between rides for driver 05f4170d-cc29-4616-be5b-95d0e319b54f:\n",
      "   Distance between trip 1 and trip 2: 0.09 km\n",
      "   Distance between trip 2 and trip 3: 3.09 km\n",
      "   Distance between trip 3 and trip 4: 0.31 km\n",
      "   Distance between trip 4 and trip 5: 0.10 km\n",
      "   Distance between trip 5 and trip 6: 1.21 km\n",
      "   Distance between trip 6 and trip 7: 0.01 km\n",
      "   Distance between trip 7 and trip 8: 0.84 km\n",
      "   Distance between trip 8 and trip 9: 1.39 km\n",
      "   Distance between trip 9 and trip 10: 0.05 km\n",
      "   Distance between trip 10 and trip 11: 1.79 km\n",
      "   Distance between trip 11 and trip 12: 0.75 km\n",
      "   Distance between trip 12 and trip 13: 0.06 km\n",
      "   Distance between trip 13 and trip 14: 0.33 km\n",
      "   Distance between trip 14 and trip 15: 0.72 km\n",
      "   Distance between trip 15 and trip 16: 0.69 km\n",
      "   Distance between trip 16 and trip 17: 1.62 km\n",
      "Total distance traveled by driver 05f4170d-cc29-4616-be5b-95d0e319b54f: 13.04 km\n"
     ]
    },
    {
     "data": {
      "text/html": [
       "\n",
       "        <iframe\n",
       "            width=\"700\"\n",
       "            height=\"600\"\n",
       "            src=\"maps\\driver_05f4170d-cc29-4616-be5b-95d0e319b54f_map.html\"\n",
       "            frameborder=\"0\"\n",
       "            allowfullscreen\n",
       "            \n",
       "        ></iframe>\n",
       "        "
      ],
      "text/plain": [
       "<IPython.lib.display.IFrame at 0x17eb3a0b3a0>"
      ]
     },
     "metadata": {},
     "output_type": "display_data"
    },
    {
     "name": "stdout",
     "output_type": "stream",
     "text": [
      "\n",
      "Processing driver: 06465336-f4b5-4cb1-b06a-30545bb6315b\n",
      "Total fine for driver 06465336-f4b5-4cb1-b06a-30545bb6315b: Rs 275.13\n",
      "Difference between rides for driver 06465336-f4b5-4cb1-b06a-30545bb6315b:\n",
      "   Distance between trip 1 and trip 2: 24.95 km\n",
      "   Distance between trip 2 and trip 3: 3.67 km\n",
      "   Distance between trip 3 and trip 4: 1.27 km\n",
      "   Distance between trip 4 and trip 5: 0.61 km\n",
      "   Distance between trip 5 and trip 6: 0.92 km\n",
      "   Distance between trip 6 and trip 7: 2.09 km\n",
      "   Distance between trip 7 and trip 8: 3.17 km\n",
      "   Distance between trip 8 and trip 9: 0.56 km\n",
      "   Distance between trip 9 and trip 10: 22.56 km\n",
      "Total distance traveled by driver 06465336-f4b5-4cb1-b06a-30545bb6315b: 59.80 km\n"
     ]
    },
    {
     "data": {
      "text/html": [
       "\n",
       "        <iframe\n",
       "            width=\"700\"\n",
       "            height=\"600\"\n",
       "            src=\"maps\\driver_06465336-f4b5-4cb1-b06a-30545bb6315b_map.html\"\n",
       "            frameborder=\"0\"\n",
       "            allowfullscreen\n",
       "            \n",
       "        ></iframe>\n",
       "        "
      ],
      "text/plain": [
       "<IPython.lib.display.IFrame at 0x17eaad476a0>"
      ]
     },
     "metadata": {},
     "output_type": "display_data"
    },
    {
     "name": "stdout",
     "output_type": "stream",
     "text": [
      "\n",
      "Processing driver: 0667c8c2-2bad-4b1f-be0b-3aa225daebf3\n",
      "Total fine for driver 0667c8c2-2bad-4b1f-be0b-3aa225daebf3: Rs 0.00\n",
      "Difference between rides for driver 0667c8c2-2bad-4b1f-be0b-3aa225daebf3:\n",
      "   Distance between trip 1 and trip 2: 1.95 km\n",
      "Total distance traveled by driver 0667c8c2-2bad-4b1f-be0b-3aa225daebf3: 1.95 km\n"
     ]
    },
    {
     "data": {
      "text/html": [
       "\n",
       "        <iframe\n",
       "            width=\"700\"\n",
       "            height=\"600\"\n",
       "            src=\"maps\\driver_0667c8c2-2bad-4b1f-be0b-3aa225daebf3_map.html\"\n",
       "            frameborder=\"0\"\n",
       "            allowfullscreen\n",
       "            \n",
       "        ></iframe>\n",
       "        "
      ],
      "text/plain": [
       "<IPython.lib.display.IFrame at 0x17eb3a03040>"
      ]
     },
     "metadata": {},
     "output_type": "display_data"
    },
    {
     "name": "stdout",
     "output_type": "stream",
     "text": [
      "\n",
      "Processing driver: 0695d0e8-3f58-492e-b0ed-718b63871f28\n",
      "Total fine for driver 0695d0e8-3f58-492e-b0ed-718b63871f28: Rs 0.00\n",
      "Difference between rides for driver 0695d0e8-3f58-492e-b0ed-718b63871f28:\n",
      "   Distance between trip 1 and trip 2: 0.05 km\n",
      "   Distance between trip 2 and trip 3: 0.42 km\n",
      "   Distance between trip 3 and trip 4: 0.70 km\n",
      "   Distance between trip 4 and trip 5: 0.35 km\n",
      "   Distance between trip 5 and trip 6: 0.21 km\n",
      "   Distance between trip 6 and trip 7: 0.35 km\n",
      "   Distance between trip 7 and trip 8: 1.63 km\n",
      "   Distance between trip 8 and trip 9: 0.34 km\n",
      "   Distance between trip 9 and trip 10: 0.01 km\n",
      "   Distance between trip 10 and trip 11: 0.77 km\n",
      "   Distance between trip 11 and trip 12: 0.85 km\n",
      "   Distance between trip 12 and trip 13: 1.21 km\n",
      "   Distance between trip 13 and trip 14: 1.40 km\n",
      "   Distance between trip 14 and trip 15: 1.12 km\n",
      "Total distance traveled by driver 0695d0e8-3f58-492e-b0ed-718b63871f28: 9.42 km\n"
     ]
    },
    {
     "data": {
      "text/html": [
       "\n",
       "        <iframe\n",
       "            width=\"700\"\n",
       "            height=\"600\"\n",
       "            src=\"maps\\driver_0695d0e8-3f58-492e-b0ed-718b63871f28_map.html\"\n",
       "            frameborder=\"0\"\n",
       "            allowfullscreen\n",
       "            \n",
       "        ></iframe>\n",
       "        "
      ],
      "text/plain": [
       "<IPython.lib.display.IFrame at 0x17eb3a0b670>"
      ]
     },
     "metadata": {},
     "output_type": "display_data"
    },
    {
     "name": "stdout",
     "output_type": "stream",
     "text": [
      "\n",
      "Processing driver: 06fd065f-d098-42c2-a49c-1d23b61f3644\n",
      "Total fine for driver 06fd065f-d098-42c2-a49c-1d23b61f3644: Rs 0.00\n",
      "Difference between rides for driver 06fd065f-d098-42c2-a49c-1d23b61f3644:\n",
      "   Distance between trip 1 and trip 2: 0.21 km\n",
      "   Distance between trip 2 and trip 3: 1.18 km\n",
      "   Distance between trip 3 and trip 4: 0.00 km\n",
      "   Distance between trip 4 and trip 5: 1.23 km\n",
      "   Distance between trip 5 and trip 6: 0.37 km\n",
      "   Distance between trip 6 and trip 7: 0.18 km\n",
      "   Distance between trip 7 and trip 8: 1.48 km\n",
      "   Distance between trip 8 and trip 9: 0.46 km\n",
      "   Distance between trip 9 and trip 10: 1.08 km\n",
      "   Distance between trip 10 and trip 11: 1.24 km\n",
      "   Distance between trip 11 and trip 12: 1.17 km\n",
      "Total distance traveled by driver 06fd065f-d098-42c2-a49c-1d23b61f3644: 8.59 km\n"
     ]
    },
    {
     "data": {
      "text/html": [
       "\n",
       "        <iframe\n",
       "            width=\"700\"\n",
       "            height=\"600\"\n",
       "            src=\"maps\\driver_06fd065f-d098-42c2-a49c-1d23b61f3644_map.html\"\n",
       "            frameborder=\"0\"\n",
       "            allowfullscreen\n",
       "            \n",
       "        ></iframe>\n",
       "        "
      ],
      "text/plain": [
       "<IPython.lib.display.IFrame at 0x17eaad46140>"
      ]
     },
     "metadata": {},
     "output_type": "display_data"
    },
    {
     "name": "stdout",
     "output_type": "stream",
     "text": [
      "\n",
      "Processing driver: 07210510-6267-48fc-8b80-a1fb2abcf9e8\n",
      "Total fine for driver 07210510-6267-48fc-8b80-a1fb2abcf9e8: Rs 0.00\n",
      "Difference between rides for driver 07210510-6267-48fc-8b80-a1fb2abcf9e8:\n",
      "   Distance between trip 1 and trip 2: 2.12 km\n",
      "   Distance between trip 2 and trip 3: 1.42 km\n",
      "   Distance between trip 3 and trip 4: 0.25 km\n",
      "   Distance between trip 4 and trip 5: 0.00 km\n",
      "   Distance between trip 5 and trip 6: 0.70 km\n",
      "   Distance between trip 6 and trip 7: 1.27 km\n",
      "   Distance between trip 7 and trip 8: 0.95 km\n",
      "   Distance between trip 8 and trip 9: 0.85 km\n",
      "   Distance between trip 9 and trip 10: 0.87 km\n",
      "   Distance between trip 10 and trip 11: 1.43 km\n",
      "   Distance between trip 11 and trip 12: 0.01 km\n",
      "   Distance between trip 12 and trip 13: 0.61 km\n",
      "   Distance between trip 13 and trip 14: 1.05 km\n",
      "   Distance between trip 14 and trip 15: 1.22 km\n",
      "   Distance between trip 15 and trip 16: 1.10 km\n",
      "   Distance between trip 16 and trip 17: 0.00 km\n",
      "   Distance between trip 17 and trip 18: 0.33 km\n",
      "Total distance traveled by driver 07210510-6267-48fc-8b80-a1fb2abcf9e8: 14.17 km\n"
     ]
    },
    {
     "data": {
      "text/html": [
       "\n",
       "        <iframe\n",
       "            width=\"700\"\n",
       "            height=\"600\"\n",
       "            src=\"maps\\driver_07210510-6267-48fc-8b80-a1fb2abcf9e8_map.html\"\n",
       "            frameborder=\"0\"\n",
       "            allowfullscreen\n",
       "            \n",
       "        ></iframe>\n",
       "        "
      ],
      "text/plain": [
       "<IPython.lib.display.IFrame at 0x17eb3a0b6d0>"
      ]
     },
     "metadata": {},
     "output_type": "display_data"
    },
    {
     "name": "stdout",
     "output_type": "stream",
     "text": [
      "\n",
      "Processing driver: 079bdf3a-2356-4944-b277-d9c007bf1305\n",
      "Total fine for driver 079bdf3a-2356-4944-b277-d9c007bf1305: Rs 159.99\n",
      "Difference between rides for driver 079bdf3a-2356-4944-b277-d9c007bf1305:\n",
      "   Distance between trip 1 and trip 2: 1.47 km\n",
      "   Distance between trip 2 and trip 3: 0.48 km\n",
      "   Distance between trip 3 and trip 4: 26.00 km\n",
      "   Distance between trip 4 and trip 5: 1.21 km\n",
      "   Distance between trip 5 and trip 6: 0.81 km\n",
      "   Distance between trip 6 and trip 7: 0.96 km\n",
      "Total distance traveled by driver 079bdf3a-2356-4944-b277-d9c007bf1305: 30.93 km\n"
     ]
    },
    {
     "data": {
      "text/html": [
       "\n",
       "        <iframe\n",
       "            width=\"700\"\n",
       "            height=\"600\"\n",
       "            src=\"maps\\driver_079bdf3a-2356-4944-b277-d9c007bf1305_map.html\"\n",
       "            frameborder=\"0\"\n",
       "            allowfullscreen\n",
       "            \n",
       "        ></iframe>\n",
       "        "
      ],
      "text/plain": [
       "<IPython.lib.display.IFrame at 0x17eae521ff0>"
      ]
     },
     "metadata": {},
     "output_type": "display_data"
    },
    {
     "name": "stdout",
     "output_type": "stream",
     "text": [
      "\n",
      "Processing driver: 07a9ce6d-f4be-4183-b048-03187b4f4487\n",
      "Total fine for driver 07a9ce6d-f4be-4183-b048-03187b4f4487: Rs 0.00\n",
      "Difference between rides for driver 07a9ce6d-f4be-4183-b048-03187b4f4487:\n",
      "   Distance between trip 1 and trip 2: 0.46 km\n",
      "   Distance between trip 2 and trip 3: 0.02 km\n",
      "   Distance between trip 3 and trip 4: 1.42 km\n",
      "Total distance traveled by driver 07a9ce6d-f4be-4183-b048-03187b4f4487: 1.90 km\n"
     ]
    },
    {
     "data": {
      "text/html": [
       "\n",
       "        <iframe\n",
       "            width=\"700\"\n",
       "            height=\"600\"\n",
       "            src=\"maps\\driver_07a9ce6d-f4be-4183-b048-03187b4f4487_map.html\"\n",
       "            frameborder=\"0\"\n",
       "            allowfullscreen\n",
       "            \n",
       "        ></iframe>\n",
       "        "
      ],
      "text/plain": [
       "<IPython.lib.display.IFrame at 0x17eae4ff970>"
      ]
     },
     "metadata": {},
     "output_type": "display_data"
    },
    {
     "name": "stdout",
     "output_type": "stream",
     "text": [
      "\n",
      "Processing driver: 07ab2b39-b773-4cb7-a031-bacd712a26dc\n",
      "Total fine for driver 07ab2b39-b773-4cb7-a031-bacd712a26dc: Rs 92.14\n",
      "Difference between rides for driver 07ab2b39-b773-4cb7-a031-bacd712a26dc:\n",
      "   Distance between trip 1 and trip 2: 1.41 km\n",
      "   Distance between trip 2 and trip 3: 0.27 km\n",
      "   Distance between trip 3 and trip 4: 0.00 km\n",
      "   Distance between trip 4 and trip 5: 0.40 km\n",
      "   Distance between trip 5 and trip 6: 0.66 km\n",
      "   Distance between trip 6 and trip 7: 0.49 km\n",
      "   Distance between trip 7 and trip 8: 0.21 km\n",
      "   Distance between trip 8 and trip 9: 15.35 km\n",
      "   Distance between trip 9 and trip 10: 13.86 km\n",
      "   Distance between trip 10 and trip 11: 0.75 km\n",
      "   Distance between trip 11 and trip 12: 0.56 km\n",
      "Total distance traveled by driver 07ab2b39-b773-4cb7-a031-bacd712a26dc: 33.97 km\n"
     ]
    },
    {
     "data": {
      "text/html": [
       "\n",
       "        <iframe\n",
       "            width=\"700\"\n",
       "            height=\"600\"\n",
       "            src=\"maps\\driver_07ab2b39-b773-4cb7-a031-bacd712a26dc_map.html\"\n",
       "            frameborder=\"0\"\n",
       "            allowfullscreen\n",
       "            \n",
       "        ></iframe>\n",
       "        "
      ],
      "text/plain": [
       "<IPython.lib.display.IFrame at 0x17eaad476a0>"
      ]
     },
     "metadata": {},
     "output_type": "display_data"
    },
    {
     "name": "stdout",
     "output_type": "stream",
     "text": [
      "\n",
      "Processing driver: 07d29409-11ca-46d4-a2bc-11fe8a663c3e\n",
      "Total fine for driver 07d29409-11ca-46d4-a2bc-11fe8a663c3e: Rs 12.08\n",
      "Difference between rides for driver 07d29409-11ca-46d4-a2bc-11fe8a663c3e:\n",
      "   Distance between trip 1 and trip 2: 2.17 km\n",
      "   Distance between trip 2 and trip 3: 0.04 km\n",
      "   Distance between trip 3 and trip 4: 1.83 km\n",
      "   Distance between trip 4 and trip 5: 0.70 km\n",
      "   Distance between trip 5 and trip 6: 0.23 km\n",
      "   Distance between trip 6 and trip 7: 5.65 km\n",
      "   Distance between trip 7 and trip 8: 0.71 km\n",
      "   Distance between trip 8 and trip 9: 5.80 km\n",
      "   Distance between trip 9 and trip 10: 6.81 km\n",
      "   Distance between trip 10 and trip 11: 11.21 km\n",
      "   Distance between trip 11 and trip 12: 0.22 km\n",
      "Total distance traveled by driver 07d29409-11ca-46d4-a2bc-11fe8a663c3e: 35.36 km\n"
     ]
    },
    {
     "data": {
      "text/html": [
       "\n",
       "        <iframe\n",
       "            width=\"700\"\n",
       "            height=\"600\"\n",
       "            src=\"maps\\driver_07d29409-11ca-46d4-a2bc-11fe8a663c3e_map.html\"\n",
       "            frameborder=\"0\"\n",
       "            allowfullscreen\n",
       "            \n",
       "        ></iframe>\n",
       "        "
      ],
      "text/plain": [
       "<IPython.lib.display.IFrame at 0x17eb3a0b220>"
      ]
     },
     "metadata": {},
     "output_type": "display_data"
    },
    {
     "name": "stdout",
     "output_type": "stream",
     "text": [
      "\n",
      "Processing driver: 07e5a131-132f-4b5a-843d-be849760c3ab\n",
      "Total fine for driver 07e5a131-132f-4b5a-843d-be849760c3ab: Rs 0.00\n",
      "Difference between rides for driver 07e5a131-132f-4b5a-843d-be849760c3ab:\n",
      "   Distance between trip 1 and trip 2: 1.30 km\n",
      "   Distance between trip 2 and trip 3: 0.64 km\n",
      "   Distance between trip 3 and trip 4: 5.76 km\n",
      "   Distance between trip 4 and trip 5: 0.08 km\n",
      "   Distance between trip 5 and trip 6: 1.55 km\n",
      "   Distance between trip 6 and trip 7: 1.75 km\n",
      "Total distance traveled by driver 07e5a131-132f-4b5a-843d-be849760c3ab: 11.07 km\n"
     ]
    },
    {
     "data": {
      "text/html": [
       "\n",
       "        <iframe\n",
       "            width=\"700\"\n",
       "            height=\"600\"\n",
       "            src=\"maps\\driver_07e5a131-132f-4b5a-843d-be849760c3ab_map.html\"\n",
       "            frameborder=\"0\"\n",
       "            allowfullscreen\n",
       "            \n",
       "        ></iframe>\n",
       "        "
      ],
      "text/plain": [
       "<IPython.lib.display.IFrame at 0x17eaad46140>"
      ]
     },
     "metadata": {},
     "output_type": "display_data"
    },
    {
     "name": "stdout",
     "output_type": "stream",
     "text": [
      "\n",
      "Processing driver: 081314a2-710b-4cff-972c-e5036993a252\n",
      "Total fine for driver 081314a2-710b-4cff-972c-e5036993a252: Rs 0.00\n",
      "Difference between rides for driver 081314a2-710b-4cff-972c-e5036993a252:\n",
      "   Distance between trip 1 and trip 2: 0.06 km\n",
      "   Distance between trip 2 and trip 3: 0.67 km\n",
      "   Distance between trip 3 and trip 4: 0.36 km\n",
      "   Distance between trip 4 and trip 5: 0.33 km\n",
      "   Distance between trip 5 and trip 6: 1.50 km\n",
      "   Distance between trip 6 and trip 7: 0.27 km\n",
      "   Distance between trip 7 and trip 8: 0.52 km\n",
      "   Distance between trip 8 and trip 9: 2.08 km\n",
      "   Distance between trip 9 and trip 10: 0.88 km\n",
      "   Distance between trip 10 and trip 11: 0.30 km\n",
      "   Distance between trip 11 and trip 12: 8.97 km\n",
      "   Distance between trip 12 and trip 13: 0.50 km\n",
      "   Distance between trip 13 and trip 14: 1.66 km\n",
      "Total distance traveled by driver 081314a2-710b-4cff-972c-e5036993a252: 18.08 km\n"
     ]
    },
    {
     "data": {
      "text/html": [
       "\n",
       "        <iframe\n",
       "            width=\"700\"\n",
       "            height=\"600\"\n",
       "            src=\"maps\\driver_081314a2-710b-4cff-972c-e5036993a252_map.html\"\n",
       "            frameborder=\"0\"\n",
       "            allowfullscreen\n",
       "            \n",
       "        ></iframe>\n",
       "        "
      ],
      "text/plain": [
       "<IPython.lib.display.IFrame at 0x17eb3a0bdf0>"
      ]
     },
     "metadata": {},
     "output_type": "display_data"
    },
    {
     "name": "stdout",
     "output_type": "stream",
     "text": [
      "\n",
      "Processing driver: 081fdb6a-4fc2-43fd-8632-42bb5a074bf2\n",
      "Total fine for driver 081fdb6a-4fc2-43fd-8632-42bb5a074bf2: Rs 258.08\n",
      "Difference between rides for driver 081fdb6a-4fc2-43fd-8632-42bb5a074bf2:\n",
      "   Distance between trip 1 and trip 2: 35.81 km\n",
      "   Distance between trip 2 and trip 3: 2.56 km\n",
      "   Distance between trip 3 and trip 4: 0.20 km\n",
      "   Distance between trip 4 and trip 5: 0.34 km\n",
      "   Distance between trip 5 and trip 6: 0.00 km\n",
      "   Distance between trip 6 and trip 7: 0.49 km\n",
      "   Distance between trip 7 and trip 8: 0.72 km\n",
      "   Distance between trip 8 and trip 9: 1.06 km\n",
      "   Distance between trip 9 and trip 10: 5.23 km\n",
      "Total distance traveled by driver 081fdb6a-4fc2-43fd-8632-42bb5a074bf2: 46.41 km\n"
     ]
    },
    {
     "data": {
      "text/html": [
       "\n",
       "        <iframe\n",
       "            width=\"700\"\n",
       "            height=\"600\"\n",
       "            src=\"maps\\driver_081fdb6a-4fc2-43fd-8632-42bb5a074bf2_map.html\"\n",
       "            frameborder=\"0\"\n",
       "            allowfullscreen\n",
       "            \n",
       "        ></iframe>\n",
       "        "
      ],
      "text/plain": [
       "<IPython.lib.display.IFrame at 0x17eb3a000a0>"
      ]
     },
     "metadata": {},
     "output_type": "display_data"
    },
    {
     "name": "stdout",
     "output_type": "stream",
     "text": [
      "\n",
      "Processing driver: 0824b75e-fa98-4b86-8be0-f629e27d5e1c\n",
      "Total fine for driver 0824b75e-fa98-4b86-8be0-f629e27d5e1c: Rs 25.20\n",
      "Difference between rides for driver 0824b75e-fa98-4b86-8be0-f629e27d5e1c:\n",
      "   Distance between trip 1 and trip 2: 0.61 km\n",
      "   Distance between trip 2 and trip 3: 1.38 km\n",
      "   Distance between trip 3 and trip 4: 0.14 km\n",
      "   Distance between trip 4 and trip 5: 1.12 km\n",
      "   Distance between trip 5 and trip 6: 12.52 km\n",
      "   Distance between trip 6 and trip 7: 1.56 km\n",
      "   Distance between trip 7 and trip 8: 0.85 km\n",
      "   Distance between trip 8 and trip 9: 1.22 km\n",
      "   Distance between trip 9 and trip 10: 2.02 km\n",
      "Total distance traveled by driver 0824b75e-fa98-4b86-8be0-f629e27d5e1c: 21.40 km\n"
     ]
    },
    {
     "data": {
      "text/html": [
       "\n",
       "        <iframe\n",
       "            width=\"700\"\n",
       "            height=\"600\"\n",
       "            src=\"maps\\driver_0824b75e-fa98-4b86-8be0-f629e27d5e1c_map.html\"\n",
       "            frameborder=\"0\"\n",
       "            allowfullscreen\n",
       "            \n",
       "        ></iframe>\n",
       "        "
      ],
      "text/plain": [
       "<IPython.lib.display.IFrame at 0x17eb3a09c60>"
      ]
     },
     "metadata": {},
     "output_type": "display_data"
    },
    {
     "name": "stdout",
     "output_type": "stream",
     "text": [
      "\n",
      "Processing driver: 082dfee4-e63e-4143-bbf5-b3d2f56bc8da\n",
      "Total fine for driver 082dfee4-e63e-4143-bbf5-b3d2f56bc8da: Rs 0.00\n",
      "Difference between rides for driver 082dfee4-e63e-4143-bbf5-b3d2f56bc8da:\n",
      "   Distance between trip 1 and trip 2: 1.69 km\n",
      "   Distance between trip 2 and trip 3: 0.10 km\n",
      "   Distance between trip 3 and trip 4: 1.07 km\n",
      "   Distance between trip 4 and trip 5: 0.38 km\n",
      "   Distance between trip 5 and trip 6: 0.17 km\n",
      "   Distance between trip 6 and trip 7: 0.04 km\n",
      "   Distance between trip 7 and trip 8: 0.31 km\n",
      "   Distance between trip 8 and trip 9: 1.14 km\n",
      "Total distance traveled by driver 082dfee4-e63e-4143-bbf5-b3d2f56bc8da: 4.90 km\n"
     ]
    },
    {
     "data": {
      "text/html": [
       "\n",
       "        <iframe\n",
       "            width=\"700\"\n",
       "            height=\"600\"\n",
       "            src=\"maps\\driver_082dfee4-e63e-4143-bbf5-b3d2f56bc8da_map.html\"\n",
       "            frameborder=\"0\"\n",
       "            allowfullscreen\n",
       "            \n",
       "        ></iframe>\n",
       "        "
      ],
      "text/plain": [
       "<IPython.lib.display.IFrame at 0x17eb3a031f0>"
      ]
     },
     "metadata": {},
     "output_type": "display_data"
    },
    {
     "name": "stdout",
     "output_type": "stream",
     "text": [
      "\n",
      "Processing driver: 083243c7-e925-41e2-ae82-3f091c645b25\n",
      "Total fine for driver 083243c7-e925-41e2-ae82-3f091c645b25: Rs 48.97\n",
      "Difference between rides for driver 083243c7-e925-41e2-ae82-3f091c645b25:\n",
      "   Distance between trip 1 and trip 2: 0.13 km\n",
      "   Distance between trip 2 and trip 3: 0.73 km\n",
      "   Distance between trip 3 and trip 4: 0.20 km\n",
      "   Distance between trip 4 and trip 5: 0.10 km\n",
      "   Distance between trip 5 and trip 6: 0.06 km\n",
      "   Distance between trip 6 and trip 7: 2.25 km\n",
      "   Distance between trip 7 and trip 8: 0.06 km\n",
      "   Distance between trip 8 and trip 9: 14.90 km\n",
      "Total distance traveled by driver 083243c7-e925-41e2-ae82-3f091c645b25: 18.43 km\n"
     ]
    },
    {
     "data": {
      "text/html": [
       "\n",
       "        <iframe\n",
       "            width=\"700\"\n",
       "            height=\"600\"\n",
       "            src=\"maps\\driver_083243c7-e925-41e2-ae82-3f091c645b25_map.html\"\n",
       "            frameborder=\"0\"\n",
       "            allowfullscreen\n",
       "            \n",
       "        ></iframe>\n",
       "        "
      ],
      "text/plain": [
       "<IPython.lib.display.IFrame at 0x17eb3a09ba0>"
      ]
     },
     "metadata": {},
     "output_type": "display_data"
    },
    {
     "name": "stdout",
     "output_type": "stream",
     "text": [
      "\n",
      "Processing driver: 0887c5f7-f632-4a7e-ad69-cdaba11bb2ef\n",
      "Total fine for driver 0887c5f7-f632-4a7e-ad69-cdaba11bb2ef: Rs 0.00\n",
      "Difference between rides for driver 0887c5f7-f632-4a7e-ad69-cdaba11bb2ef:\n",
      "   Distance between trip 1 and trip 2: 0.91 km\n",
      "   Distance between trip 2 and trip 3: 0.86 km\n",
      "Total distance traveled by driver 0887c5f7-f632-4a7e-ad69-cdaba11bb2ef: 1.77 km\n"
     ]
    },
    {
     "data": {
      "text/html": [
       "\n",
       "        <iframe\n",
       "            width=\"700\"\n",
       "            height=\"600\"\n",
       "            src=\"maps\\driver_0887c5f7-f632-4a7e-ad69-cdaba11bb2ef_map.html\"\n",
       "            frameborder=\"0\"\n",
       "            allowfullscreen\n",
       "            \n",
       "        ></iframe>\n",
       "        "
      ],
      "text/plain": [
       "<IPython.lib.display.IFrame at 0x17eae4ff970>"
      ]
     },
     "metadata": {},
     "output_type": "display_data"
    },
    {
     "name": "stdout",
     "output_type": "stream",
     "text": [
      "\n",
      "Processing driver: 089779e8-ce72-42ba-b31c-ce9e0af3ac0c\n",
      "Total fine for driver 089779e8-ce72-42ba-b31c-ce9e0af3ac0c: Rs 0.00\n",
      "Difference between rides for driver 089779e8-ce72-42ba-b31c-ce9e0af3ac0c:\n",
      "   Distance between trip 1 and trip 2: 0.03 km\n",
      "   Distance between trip 2 and trip 3: 5.49 km\n",
      "   Distance between trip 3 and trip 4: 0.13 km\n",
      "   Distance between trip 4 and trip 5: 0.10 km\n",
      "   Distance between trip 5 and trip 6: 0.02 km\n",
      "   Distance between trip 6 and trip 7: 2.02 km\n",
      "   Distance between trip 7 and trip 8: 1.30 km\n",
      "   Distance between trip 8 and trip 9: 0.39 km\n",
      "   Distance between trip 9 and trip 10: 1.44 km\n",
      "   Distance between trip 10 and trip 11: 0.61 km\n",
      "Total distance traveled by driver 089779e8-ce72-42ba-b31c-ce9e0af3ac0c: 11.53 km\n"
     ]
    },
    {
     "data": {
      "text/html": [
       "\n",
       "        <iframe\n",
       "            width=\"700\"\n",
       "            height=\"600\"\n",
       "            src=\"maps\\driver_089779e8-ce72-42ba-b31c-ce9e0af3ac0c_map.html\"\n",
       "            frameborder=\"0\"\n",
       "            allowfullscreen\n",
       "            \n",
       "        ></iframe>\n",
       "        "
      ],
      "text/plain": [
       "<IPython.lib.display.IFrame at 0x17eb3a09d20>"
      ]
     },
     "metadata": {},
     "output_type": "display_data"
    },
    {
     "name": "stdout",
     "output_type": "stream",
     "text": [
      "\n",
      "Processing driver: 089de94d-7772-491c-b587-700d65cfdbab\n",
      "Total fine for driver 089de94d-7772-491c-b587-700d65cfdbab: Rs 71.58\n",
      "Difference between rides for driver 089de94d-7772-491c-b587-700d65cfdbab:\n",
      "   Distance between trip 1 and trip 2: 0.38 km\n",
      "   Distance between trip 2 and trip 3: 1.17 km\n",
      "   Distance between trip 3 and trip 4: 2.48 km\n",
      "   Distance between trip 4 and trip 5: 0.94 km\n",
      "   Distance between trip 5 and trip 6: 0.72 km\n",
      "   Distance between trip 6 and trip 7: 0.38 km\n",
      "   Distance between trip 7 and trip 8: 1.08 km\n",
      "   Distance between trip 8 and trip 9: 0.13 km\n",
      "   Distance between trip 9 and trip 10: 0.04 km\n",
      "   Distance between trip 10 and trip 11: 0.30 km\n",
      "   Distance between trip 11 and trip 12: 0.00 km\n",
      "   Distance between trip 12 and trip 13: 2.71 km\n",
      "   Distance between trip 13 and trip 14: 0.87 km\n",
      "   Distance between trip 14 and trip 15: 17.16 km\n",
      "Total distance traveled by driver 089de94d-7772-491c-b587-700d65cfdbab: 28.36 km\n"
     ]
    },
    {
     "data": {
      "text/html": [
       "\n",
       "        <iframe\n",
       "            width=\"700\"\n",
       "            height=\"600\"\n",
       "            src=\"maps\\driver_089de94d-7772-491c-b587-700d65cfdbab_map.html\"\n",
       "            frameborder=\"0\"\n",
       "            allowfullscreen\n",
       "            \n",
       "        ></iframe>\n",
       "        "
      ],
      "text/plain": [
       "<IPython.lib.display.IFrame at 0x17eb3a03c70>"
      ]
     },
     "metadata": {},
     "output_type": "display_data"
    },
    {
     "name": "stdout",
     "output_type": "stream",
     "text": [
      "\n",
      "Processing driver: 08b55e21-ad4f-49a3-8784-485fec49d880\n",
      "Total fine for driver 08b55e21-ad4f-49a3-8784-485fec49d880: Rs 0.00\n",
      "Difference between rides for driver 08b55e21-ad4f-49a3-8784-485fec49d880:\n",
      "   Distance between trip 1 and trip 2: 0.32 km\n",
      "   Distance between trip 2 and trip 3: 1.38 km\n",
      "   Distance between trip 3 and trip 4: 1.48 km\n",
      "   Distance between trip 4 and trip 5: 0.18 km\n",
      "   Distance between trip 5 and trip 6: 0.01 km\n",
      "   Distance between trip 6 and trip 7: 0.22 km\n",
      "   Distance between trip 7 and trip 8: 0.15 km\n",
      "   Distance between trip 8 and trip 9: 0.62 km\n",
      "   Distance between trip 9 and trip 10: 0.00 km\n",
      "   Distance between trip 10 and trip 11: 2.10 km\n",
      "   Distance between trip 11 and trip 12: 0.30 km\n",
      "   Distance between trip 12 and trip 13: 0.18 km\n",
      "Total distance traveled by driver 08b55e21-ad4f-49a3-8784-485fec49d880: 6.93 km\n"
     ]
    },
    {
     "data": {
      "text/html": [
       "\n",
       "        <iframe\n",
       "            width=\"700\"\n",
       "            height=\"600\"\n",
       "            src=\"maps\\driver_08b55e21-ad4f-49a3-8784-485fec49d880_map.html\"\n",
       "            frameborder=\"0\"\n",
       "            allowfullscreen\n",
       "            \n",
       "        ></iframe>\n",
       "        "
      ],
      "text/plain": [
       "<IPython.lib.display.IFrame at 0x17eadabdc30>"
      ]
     },
     "metadata": {},
     "output_type": "display_data"
    },
    {
     "name": "stdout",
     "output_type": "stream",
     "text": [
      "\n",
      "Processing driver: 08bc1c0b-ca2e-414f-b02a-050be98b1c54\n",
      "Total fine for driver 08bc1c0b-ca2e-414f-b02a-050be98b1c54: Rs 0.00\n",
      "Difference between rides for driver 08bc1c0b-ca2e-414f-b02a-050be98b1c54:\n",
      "   Distance between trip 1 and trip 2: 0.61 km\n",
      "   Distance between trip 2 and trip 3: 1.56 km\n",
      "   Distance between trip 3 and trip 4: 0.69 km\n",
      "   Distance between trip 4 and trip 5: 0.86 km\n",
      "   Distance between trip 5 and trip 6: 0.78 km\n",
      "   Distance between trip 6 and trip 7: 0.69 km\n",
      "   Distance between trip 7 and trip 8: 0.44 km\n",
      "   Distance between trip 8 and trip 9: 0.22 km\n",
      "   Distance between trip 9 and trip 10: 1.30 km\n",
      "   Distance between trip 10 and trip 11: 1.06 km\n",
      "   Distance between trip 11 and trip 12: 1.00 km\n",
      "   Distance between trip 12 and trip 13: 1.09 km\n",
      "Total distance traveled by driver 08bc1c0b-ca2e-414f-b02a-050be98b1c54: 10.30 km\n"
     ]
    },
    {
     "data": {
      "text/html": [
       "\n",
       "        <iframe\n",
       "            width=\"700\"\n",
       "            height=\"600\"\n",
       "            src=\"maps\\driver_08bc1c0b-ca2e-414f-b02a-050be98b1c54_map.html\"\n",
       "            frameborder=\"0\"\n",
       "            allowfullscreen\n",
       "            \n",
       "        ></iframe>\n",
       "        "
      ],
      "text/plain": [
       "<IPython.lib.display.IFrame at 0x17eae4ffa90>"
      ]
     },
     "metadata": {},
     "output_type": "display_data"
    },
    {
     "name": "stdout",
     "output_type": "stream",
     "text": [
      "\n",
      "Processing driver: 0935e6bc-6edf-4d75-a5ce-f44a77117cd1\n",
      "Total fine for driver 0935e6bc-6edf-4d75-a5ce-f44a77117cd1: Rs 0.00\n",
      "Difference between rides for driver 0935e6bc-6edf-4d75-a5ce-f44a77117cd1:\n",
      "   Distance between trip 1 and trip 2: 0.86 km\n",
      "   Distance between trip 2 and trip 3: 1.18 km\n",
      "   Distance between trip 3 and trip 4: 0.00 km\n",
      "   Distance between trip 4 and trip 5: 0.00 km\n",
      "   Distance between trip 5 and trip 6: 0.37 km\n",
      "   Distance between trip 6 and trip 7: 0.66 km\n",
      "Total distance traveled by driver 0935e6bc-6edf-4d75-a5ce-f44a77117cd1: 3.08 km\n"
     ]
    },
    {
     "data": {
      "text/html": [
       "\n",
       "        <iframe\n",
       "            width=\"700\"\n",
       "            height=\"600\"\n",
       "            src=\"maps\\driver_0935e6bc-6edf-4d75-a5ce-f44a77117cd1_map.html\"\n",
       "            frameborder=\"0\"\n",
       "            allowfullscreen\n",
       "            \n",
       "        ></iframe>\n",
       "        "
      ],
      "text/plain": [
       "<IPython.lib.display.IFrame at 0x17eaad476a0>"
      ]
     },
     "metadata": {},
     "output_type": "display_data"
    },
    {
     "name": "stdout",
     "output_type": "stream",
     "text": [
      "\n",
      "Processing driver: 094b26d8-9e0b-451b-955b-38d4b2dfe37c\n",
      "Total fine for driver 094b26d8-9e0b-451b-955b-38d4b2dfe37c: Rs 14.45\n",
      "Difference between rides for driver 094b26d8-9e0b-451b-955b-38d4b2dfe37c:\n",
      "   Distance between trip 1 and trip 2: 3.51 km\n",
      "   Distance between trip 2 and trip 3: 0.56 km\n",
      "   Distance between trip 3 and trip 4: 0.06 km\n",
      "   Distance between trip 4 and trip 5: 11.45 km\n",
      "   Distance between trip 5 and trip 6: 0.01 km\n",
      "   Distance between trip 6 and trip 7: 1.57 km\n",
      "   Distance between trip 7 and trip 8: 1.05 km\n",
      "   Distance between trip 8 and trip 9: 1.99 km\n",
      "   Distance between trip 9 and trip 10: 1.62 km\n",
      "   Distance between trip 10 and trip 11: 1.46 km\n",
      "   Distance between trip 11 and trip 12: 1.31 km\n",
      "Total distance traveled by driver 094b26d8-9e0b-451b-955b-38d4b2dfe37c: 24.58 km\n"
     ]
    },
    {
     "data": {
      "text/html": [
       "\n",
       "        <iframe\n",
       "            width=\"700\"\n",
       "            height=\"600\"\n",
       "            src=\"maps\\driver_094b26d8-9e0b-451b-955b-38d4b2dfe37c_map.html\"\n",
       "            frameborder=\"0\"\n",
       "            allowfullscreen\n",
       "            \n",
       "        ></iframe>\n",
       "        "
      ],
      "text/plain": [
       "<IPython.lib.display.IFrame at 0x17eb3a53640>"
      ]
     },
     "metadata": {},
     "output_type": "display_data"
    },
    {
     "name": "stdout",
     "output_type": "stream",
     "text": [
      "\n",
      "Processing driver: 094c4f4e-1a28-4aac-8526-a6f3dd5d4850\n",
      "Total fine for driver 094c4f4e-1a28-4aac-8526-a6f3dd5d4850: Rs 0.00\n",
      "Difference between rides for driver 094c4f4e-1a28-4aac-8526-a6f3dd5d4850:\n",
      "   Distance between trip 1 and trip 2: 1.45 km\n",
      "   Distance between trip 2 and trip 3: 0.59 km\n",
      "   Distance between trip 3 and trip 4: 0.22 km\n",
      "   Distance between trip 4 and trip 5: 5.85 km\n",
      "   Distance between trip 5 and trip 6: 0.42 km\n",
      "   Distance between trip 6 and trip 7: 0.32 km\n",
      "   Distance between trip 7 and trip 8: 0.43 km\n",
      "Total distance traveled by driver 094c4f4e-1a28-4aac-8526-a6f3dd5d4850: 9.28 km\n"
     ]
    },
    {
     "data": {
      "text/html": [
       "\n",
       "        <iframe\n",
       "            width=\"700\"\n",
       "            height=\"600\"\n",
       "            src=\"maps\\driver_094c4f4e-1a28-4aac-8526-a6f3dd5d4850_map.html\"\n",
       "            frameborder=\"0\"\n",
       "            allowfullscreen\n",
       "            \n",
       "        ></iframe>\n",
       "        "
      ],
      "text/plain": [
       "<IPython.lib.display.IFrame at 0x17eb3a53280>"
      ]
     },
     "metadata": {},
     "output_type": "display_data"
    },
    {
     "name": "stdout",
     "output_type": "stream",
     "text": [
      "\n",
      "Processing driver: 0954f211-a693-4f6c-a269-d9fc16c6fb0e\n",
      "Total fine for driver 0954f211-a693-4f6c-a269-d9fc16c6fb0e: Rs 0.00\n",
      "Difference between rides for driver 0954f211-a693-4f6c-a269-d9fc16c6fb0e:\n",
      "   Distance between trip 1 and trip 2: 0.01 km\n",
      "   Distance between trip 2 and trip 3: 0.81 km\n",
      "   Distance between trip 3 and trip 4: 2.18 km\n",
      "   Distance between trip 4 and trip 5: 4.46 km\n",
      "Total distance traveled by driver 0954f211-a693-4f6c-a269-d9fc16c6fb0e: 7.46 km\n"
     ]
    },
    {
     "data": {
      "text/html": [
       "\n",
       "        <iframe\n",
       "            width=\"700\"\n",
       "            height=\"600\"\n",
       "            src=\"maps\\driver_0954f211-a693-4f6c-a269-d9fc16c6fb0e_map.html\"\n",
       "            frameborder=\"0\"\n",
       "            allowfullscreen\n",
       "            \n",
       "        ></iframe>\n",
       "        "
      ],
      "text/plain": [
       "<IPython.lib.display.IFrame at 0x17eaad46140>"
      ]
     },
     "metadata": {},
     "output_type": "display_data"
    },
    {
     "name": "stdout",
     "output_type": "stream",
     "text": [
      "\n",
      "Processing driver: 095828cd-b3e7-4f30-9ebb-ff6c618c52bd\n",
      "Total fine for driver 095828cd-b3e7-4f30-9ebb-ff6c618c52bd: Rs 24.65\n",
      "Difference between rides for driver 095828cd-b3e7-4f30-9ebb-ff6c618c52bd:\n",
      "   Distance between trip 1 and trip 2: 0.16 km\n",
      "   Distance between trip 2 and trip 3: 0.37 km\n",
      "   Distance between trip 3 and trip 4: 12.47 km\n",
      "   Distance between trip 4 and trip 5: 0.15 km\n",
      "   Distance between trip 5 and trip 6: 0.31 km\n",
      "Total distance traveled by driver 095828cd-b3e7-4f30-9ebb-ff6c618c52bd: 13.44 km\n"
     ]
    },
    {
     "data": {
      "text/html": [
       "\n",
       "        <iframe\n",
       "            width=\"700\"\n",
       "            height=\"600\"\n",
       "            src=\"maps\\driver_095828cd-b3e7-4f30-9ebb-ff6c618c52bd_map.html\"\n",
       "            frameborder=\"0\"\n",
       "            allowfullscreen\n",
       "            \n",
       "        ></iframe>\n",
       "        "
      ],
      "text/plain": [
       "<IPython.lib.display.IFrame at 0x17eae4ffa90>"
      ]
     },
     "metadata": {},
     "output_type": "display_data"
    },
    {
     "name": "stdout",
     "output_type": "stream",
     "text": [
      "\n",
      "Processing driver: 0978607e-e300-4057-9010-7b3922913f84\n",
      "Total fine for driver 0978607e-e300-4057-9010-7b3922913f84: Rs 0.00\n",
      "Difference between rides for driver 0978607e-e300-4057-9010-7b3922913f84:\n",
      "   Distance between trip 1 and trip 2: 1.24 km\n",
      "   Distance between trip 2 and trip 3: 1.29 km\n",
      "   Distance between trip 3 and trip 4: 2.53 km\n",
      "   Distance between trip 4 and trip 5: 2.41 km\n",
      "   Distance between trip 5 and trip 6: 0.70 km\n",
      "   Distance between trip 6 and trip 7: 0.83 km\n",
      "   Distance between trip 7 and trip 8: 1.01 km\n",
      "   Distance between trip 8 and trip 9: 0.77 km\n",
      "   Distance between trip 9 and trip 10: 0.32 km\n",
      "   Distance between trip 10 and trip 11: 0.22 km\n",
      "   Distance between trip 11 and trip 12: 1.86 km\n",
      "   Distance between trip 12 and trip 13: 2.15 km\n",
      "   Distance between trip 13 and trip 14: 0.25 km\n",
      "   Distance between trip 14 and trip 15: 2.02 km\n",
      "Total distance traveled by driver 0978607e-e300-4057-9010-7b3922913f84: 17.62 km\n"
     ]
    },
    {
     "data": {
      "text/html": [
       "\n",
       "        <iframe\n",
       "            width=\"700\"\n",
       "            height=\"600\"\n",
       "            src=\"maps\\driver_0978607e-e300-4057-9010-7b3922913f84_map.html\"\n",
       "            frameborder=\"0\"\n",
       "            allowfullscreen\n",
       "            \n",
       "        ></iframe>\n",
       "        "
      ],
      "text/plain": [
       "<IPython.lib.display.IFrame at 0x17eb3a0be50>"
      ]
     },
     "metadata": {},
     "output_type": "display_data"
    },
    {
     "name": "stdout",
     "output_type": "stream",
     "text": [
      "\n",
      "Processing driver: 09d856cb-88d9-4977-a823-7aabbd2afb6e\n",
      "Total fine for driver 09d856cb-88d9-4977-a823-7aabbd2afb6e: Rs 0.00\n",
      "Difference between rides for driver 09d856cb-88d9-4977-a823-7aabbd2afb6e:\n",
      "   Distance between trip 1 and trip 2: 2.38 km\n",
      "   Distance between trip 2 and trip 3: 2.11 km\n",
      "   Distance between trip 3 and trip 4: 0.27 km\n",
      "   Distance between trip 4 and trip 5: 8.21 km\n",
      "Total distance traveled by driver 09d856cb-88d9-4977-a823-7aabbd2afb6e: 12.97 km\n"
     ]
    },
    {
     "data": {
      "text/html": [
       "\n",
       "        <iframe\n",
       "            width=\"700\"\n",
       "            height=\"600\"\n",
       "            src=\"maps\\driver_09d856cb-88d9-4977-a823-7aabbd2afb6e_map.html\"\n",
       "            frameborder=\"0\"\n",
       "            allowfullscreen\n",
       "            \n",
       "        ></iframe>\n",
       "        "
      ],
      "text/plain": [
       "<IPython.lib.display.IFrame at 0x17eae4ff970>"
      ]
     },
     "metadata": {},
     "output_type": "display_data"
    },
    {
     "name": "stdout",
     "output_type": "stream",
     "text": [
      "\n",
      "Processing driver: 09e6eb07-8da4-4549-b3c2-97e59e9d1b1c\n",
      "Total fine for driver 09e6eb07-8da4-4549-b3c2-97e59e9d1b1c: Rs 0.00\n",
      "Difference between rides for driver 09e6eb07-8da4-4549-b3c2-97e59e9d1b1c:\n",
      "Total distance traveled by driver 09e6eb07-8da4-4549-b3c2-97e59e9d1b1c: 0.00 km\n"
     ]
    },
    {
     "data": {
      "text/html": [
       "\n",
       "        <iframe\n",
       "            width=\"700\"\n",
       "            height=\"600\"\n",
       "            src=\"maps\\driver_09e6eb07-8da4-4549-b3c2-97e59e9d1b1c_map.html\"\n",
       "            frameborder=\"0\"\n",
       "            allowfullscreen\n",
       "            \n",
       "        ></iframe>\n",
       "        "
      ],
      "text/plain": [
       "<IPython.lib.display.IFrame at 0x17eae521ff0>"
      ]
     },
     "metadata": {},
     "output_type": "display_data"
    },
    {
     "name": "stdout",
     "output_type": "stream",
     "text": [
      "\n",
      "Processing driver: 09f13488-5600-4d18-898f-392c4c51f996\n",
      "Total fine for driver 09f13488-5600-4d18-898f-392c4c51f996: Rs 0.00\n",
      "Difference between rides for driver 09f13488-5600-4d18-898f-392c4c51f996:\n",
      "   Distance between trip 1 and trip 2: 6.08 km\n",
      "   Distance between trip 2 and trip 3: 0.45 km\n",
      "   Distance between trip 3 and trip 4: 1.31 km\n",
      "   Distance between trip 4 and trip 5: 0.97 km\n",
      "Total distance traveled by driver 09f13488-5600-4d18-898f-392c4c51f996: 8.81 km\n"
     ]
    },
    {
     "data": {
      "text/html": [
       "\n",
       "        <iframe\n",
       "            width=\"700\"\n",
       "            height=\"600\"\n",
       "            src=\"maps\\driver_09f13488-5600-4d18-898f-392c4c51f996_map.html\"\n",
       "            frameborder=\"0\"\n",
       "            allowfullscreen\n",
       "            \n",
       "        ></iframe>\n",
       "        "
      ],
      "text/plain": [
       "<IPython.lib.display.IFrame at 0x17eb3a0b820>"
      ]
     },
     "metadata": {},
     "output_type": "display_data"
    },
    {
     "name": "stdout",
     "output_type": "stream",
     "text": [
      "\n",
      "Processing driver: 0a0b5e9e-a75b-4ade-a1cf-17f97fac008c\n",
      "Total fine for driver 0a0b5e9e-a75b-4ade-a1cf-17f97fac008c: Rs 0.00\n",
      "Difference between rides for driver 0a0b5e9e-a75b-4ade-a1cf-17f97fac008c:\n",
      "   Distance between trip 1 and trip 2: 1.33 km\n",
      "   Distance between trip 2 and trip 3: 3.14 km\n",
      "   Distance between trip 3 and trip 4: 4.38 km\n",
      "   Distance between trip 4 and trip 5: 2.07 km\n",
      "   Distance between trip 5 and trip 6: 0.29 km\n",
      "   Distance between trip 6 and trip 7: 0.09 km\n",
      "   Distance between trip 7 and trip 8: 0.86 km\n",
      "   Distance between trip 8 and trip 9: 0.72 km\n",
      "   Distance between trip 9 and trip 10: 0.53 km\n",
      "   Distance between trip 10 and trip 11: 2.46 km\n",
      "Total distance traveled by driver 0a0b5e9e-a75b-4ade-a1cf-17f97fac008c: 15.87 km\n"
     ]
    },
    {
     "data": {
      "text/html": [
       "\n",
       "        <iframe\n",
       "            width=\"700\"\n",
       "            height=\"600\"\n",
       "            src=\"maps\\driver_0a0b5e9e-a75b-4ade-a1cf-17f97fac008c_map.html\"\n",
       "            frameborder=\"0\"\n",
       "            allowfullscreen\n",
       "            \n",
       "        ></iframe>\n",
       "        "
      ],
      "text/plain": [
       "<IPython.lib.display.IFrame at 0x17eb3a53400>"
      ]
     },
     "metadata": {},
     "output_type": "display_data"
    },
    {
     "name": "stdout",
     "output_type": "stream",
     "text": [
      "\n",
      "Processing driver: 0a1ad3e7-e737-457a-93cd-b5298faf44a7\n",
      "Total fine for driver 0a1ad3e7-e737-457a-93cd-b5298faf44a7: Rs 0.00\n",
      "Difference between rides for driver 0a1ad3e7-e737-457a-93cd-b5298faf44a7:\n",
      "   Distance between trip 1 and trip 2: 0.91 km\n",
      "   Distance between trip 2 and trip 3: 0.66 km\n",
      "   Distance between trip 3 and trip 4: 1.40 km\n",
      "   Distance between trip 4 and trip 5: 1.41 km\n",
      "   Distance between trip 5 and trip 6: 0.48 km\n",
      "   Distance between trip 6 and trip 7: 1.15 km\n",
      "   Distance between trip 7 and trip 8: 1.55 km\n",
      "   Distance between trip 8 and trip 9: 1.14 km\n",
      "   Distance between trip 9 and trip 10: 0.16 km\n",
      "   Distance between trip 10 and trip 11: 0.23 km\n",
      "   Distance between trip 11 and trip 12: 0.53 km\n",
      "   Distance between trip 12 and trip 13: 0.70 km\n",
      "   Distance between trip 13 and trip 14: 1.89 km\n",
      "   Distance between trip 14 and trip 15: 0.41 km\n",
      "   Distance between trip 15 and trip 16: 1.82 km\n",
      "Total distance traveled by driver 0a1ad3e7-e737-457a-93cd-b5298faf44a7: 14.43 km\n"
     ]
    },
    {
     "data": {
      "text/html": [
       "\n",
       "        <iframe\n",
       "            width=\"700\"\n",
       "            height=\"600\"\n",
       "            src=\"maps\\driver_0a1ad3e7-e737-457a-93cd-b5298faf44a7_map.html\"\n",
       "            frameborder=\"0\"\n",
       "            allowfullscreen\n",
       "            \n",
       "        ></iframe>\n",
       "        "
      ],
      "text/plain": [
       "<IPython.lib.display.IFrame at 0x17eb3a0b670>"
      ]
     },
     "metadata": {},
     "output_type": "display_data"
    },
    {
     "name": "stdout",
     "output_type": "stream",
     "text": [
      "\n",
      "Processing driver: 0a24fbad-ce55-48e2-8ace-7dacb3751bf5\n",
      "Total fine for driver 0a24fbad-ce55-48e2-8ace-7dacb3751bf5: Rs 71.09\n",
      "Difference between rides for driver 0a24fbad-ce55-48e2-8ace-7dacb3751bf5:\n",
      "   Distance between trip 1 and trip 2: 2.04 km\n",
      "   Distance between trip 2 and trip 3: 0.73 km\n",
      "   Distance between trip 3 and trip 4: 0.63 km\n",
      "   Distance between trip 4 and trip 5: 0.03 km\n",
      "   Distance between trip 5 and trip 6: 0.10 km\n",
      "   Distance between trip 6 and trip 7: 0.33 km\n",
      "   Distance between trip 7 and trip 8: 0.00 km\n",
      "   Distance between trip 8 and trip 9: 0.21 km\n",
      "   Distance between trip 9 and trip 10: 0.32 km\n",
      "   Distance between trip 10 and trip 11: 1.01 km\n",
      "   Distance between trip 11 and trip 12: 0.63 km\n",
      "   Distance between trip 12 and trip 13: 0.00 km\n",
      "   Distance between trip 13 and trip 14: 17.11 km\n",
      "   Distance between trip 14 and trip 15: 2.56 km\n",
      "Total distance traveled by driver 0a24fbad-ce55-48e2-8ace-7dacb3751bf5: 25.69 km\n"
     ]
    },
    {
     "data": {
      "text/html": [
       "\n",
       "        <iframe\n",
       "            width=\"700\"\n",
       "            height=\"600\"\n",
       "            src=\"maps\\driver_0a24fbad-ce55-48e2-8ace-7dacb3751bf5_map.html\"\n",
       "            frameborder=\"0\"\n",
       "            allowfullscreen\n",
       "            \n",
       "        ></iframe>\n",
       "        "
      ],
      "text/plain": [
       "<IPython.lib.display.IFrame at 0x17eaad46140>"
      ]
     },
     "metadata": {},
     "output_type": "display_data"
    },
    {
     "name": "stdout",
     "output_type": "stream",
     "text": [
      "\n",
      "Processing driver: 0a63defc-1226-4c0b-a6d8-e78c008f56a8\n",
      "Total fine for driver 0a63defc-1226-4c0b-a6d8-e78c008f56a8: Rs 0.00\n",
      "Difference between rides for driver 0a63defc-1226-4c0b-a6d8-e78c008f56a8:\n",
      "   Distance between trip 1 and trip 2: 1.65 km\n",
      "Total distance traveled by driver 0a63defc-1226-4c0b-a6d8-e78c008f56a8: 1.65 km\n"
     ]
    },
    {
     "data": {
      "text/html": [
       "\n",
       "        <iframe\n",
       "            width=\"700\"\n",
       "            height=\"600\"\n",
       "            src=\"maps\\driver_0a63defc-1226-4c0b-a6d8-e78c008f56a8_map.html\"\n",
       "            frameborder=\"0\"\n",
       "            allowfullscreen\n",
       "            \n",
       "        ></iframe>\n",
       "        "
      ],
      "text/plain": [
       "<IPython.lib.display.IFrame at 0x17eae4ff970>"
      ]
     },
     "metadata": {},
     "output_type": "display_data"
    },
    {
     "name": "stdout",
     "output_type": "stream",
     "text": [
      "\n",
      "Processing driver: 0a686524-a75f-418c-8cff-edb517707ce0\n",
      "Total fine for driver 0a686524-a75f-418c-8cff-edb517707ce0: Rs 0.00\n",
      "Difference between rides for driver 0a686524-a75f-418c-8cff-edb517707ce0:\n",
      "   Distance between trip 1 and trip 2: 0.12 km\n",
      "   Distance between trip 2 and trip 3: 1.42 km\n",
      "   Distance between trip 3 and trip 4: 0.92 km\n",
      "   Distance between trip 4 and trip 5: 0.96 km\n",
      "   Distance between trip 5 and trip 6: 0.46 km\n",
      "   Distance between trip 6 and trip 7: 1.23 km\n",
      "   Distance between trip 7 and trip 8: 0.22 km\n",
      "   Distance between trip 8 and trip 9: 0.44 km\n",
      "   Distance between trip 9 and trip 10: 1.48 km\n",
      "   Distance between trip 10 and trip 11: 2.50 km\n",
      "Total distance traveled by driver 0a686524-a75f-418c-8cff-edb517707ce0: 9.75 km\n"
     ]
    },
    {
     "data": {
      "text/html": [
       "\n",
       "        <iframe\n",
       "            width=\"700\"\n",
       "            height=\"600\"\n",
       "            src=\"maps\\driver_0a686524-a75f-418c-8cff-edb517707ce0_map.html\"\n",
       "            frameborder=\"0\"\n",
       "            allowfullscreen\n",
       "            \n",
       "        ></iframe>\n",
       "        "
      ],
      "text/plain": [
       "<IPython.lib.display.IFrame at 0x17eaad476a0>"
      ]
     },
     "metadata": {},
     "output_type": "display_data"
    },
    {
     "name": "stdout",
     "output_type": "stream",
     "text": [
      "\n",
      "Processing driver: 0a6b4ee2-f948-4d36-a861-17b4dd6bca66\n",
      "Total fine for driver 0a6b4ee2-f948-4d36-a861-17b4dd6bca66: Rs 1.18\n",
      "Difference between rides for driver 0a6b4ee2-f948-4d36-a861-17b4dd6bca66:\n",
      "   Distance between trip 1 and trip 2: 0.20 km\n",
      "   Distance between trip 2 and trip 3: 0.09 km\n",
      "   Distance between trip 3 and trip 4: 2.17 km\n",
      "   Distance between trip 4 and trip 5: 1.52 km\n",
      "   Distance between trip 5 and trip 6: 0.71 km\n",
      "   Distance between trip 6 and trip 7: 0.47 km\n",
      "   Distance between trip 7 and trip 8: 1.11 km\n",
      "   Distance between trip 8 and trip 9: 1.36 km\n",
      "   Distance between trip 9 and trip 10: 0.45 km\n",
      "   Distance between trip 10 and trip 11: 0.17 km\n",
      "   Distance between trip 11 and trip 12: 0.63 km\n",
      "   Distance between trip 12 and trip 13: 0.23 km\n",
      "   Distance between trip 13 and trip 14: 7.23 km\n",
      "   Distance between trip 14 and trip 15: 0.04 km\n",
      "   Distance between trip 15 and trip 16: 1.67 km\n",
      "   Distance between trip 16 and trip 17: 0.14 km\n",
      "   Distance between trip 17 and trip 18: 0.00 km\n",
      "   Distance between trip 18 and trip 19: 10.12 km\n",
      "   Distance between trip 19 and trip 20: 9.70 km\n",
      "   Distance between trip 20 and trip 21: 0.00 km\n",
      "Total distance traveled by driver 0a6b4ee2-f948-4d36-a861-17b4dd6bca66: 38.00 km\n"
     ]
    },
    {
     "data": {
      "text/html": [
       "\n",
       "        <iframe\n",
       "            width=\"700\"\n",
       "            height=\"600\"\n",
       "            src=\"maps\\driver_0a6b4ee2-f948-4d36-a861-17b4dd6bca66_map.html\"\n",
       "            frameborder=\"0\"\n",
       "            allowfullscreen\n",
       "            \n",
       "        ></iframe>\n",
       "        "
      ],
      "text/plain": [
       "<IPython.lib.display.IFrame at 0x17eae4ffa90>"
      ]
     },
     "metadata": {},
     "output_type": "display_data"
    },
    {
     "name": "stdout",
     "output_type": "stream",
     "text": [
      "\n",
      "Processing driver: 0a9f8f16-b6a9-410c-94bd-9570aee6d701\n",
      "Total fine for driver 0a9f8f16-b6a9-410c-94bd-9570aee6d701: Rs 0.00\n",
      "Difference between rides for driver 0a9f8f16-b6a9-410c-94bd-9570aee6d701:\n",
      "   Distance between trip 1 and trip 2: 1.58 km\n",
      "   Distance between trip 2 and trip 3: 1.22 km\n",
      "   Distance between trip 3 and trip 4: 0.96 km\n",
      "   Distance between trip 4 and trip 5: 0.29 km\n",
      "   Distance between trip 5 and trip 6: 0.41 km\n",
      "   Distance between trip 6 and trip 7: 0.11 km\n",
      "   Distance between trip 7 and trip 8: 0.27 km\n",
      "   Distance between trip 8 and trip 9: 1.34 km\n",
      "   Distance between trip 9 and trip 10: 1.33 km\n",
      "   Distance between trip 10 and trip 11: 0.33 km\n",
      "   Distance between trip 11 and trip 12: 1.78 km\n",
      "   Distance between trip 12 and trip 13: 0.43 km\n",
      "   Distance between trip 13 and trip 14: 1.42 km\n",
      "   Distance between trip 14 and trip 15: 0.03 km\n",
      "   Distance between trip 15 and trip 16: 0.57 km\n",
      "Total distance traveled by driver 0a9f8f16-b6a9-410c-94bd-9570aee6d701: 12.09 km\n"
     ]
    },
    {
     "data": {
      "text/html": [
       "\n",
       "        <iframe\n",
       "            width=\"700\"\n",
       "            height=\"600\"\n",
       "            src=\"maps\\driver_0a9f8f16-b6a9-410c-94bd-9570aee6d701_map.html\"\n",
       "            frameborder=\"0\"\n",
       "            allowfullscreen\n",
       "            \n",
       "        ></iframe>\n",
       "        "
      ],
      "text/plain": [
       "<IPython.lib.display.IFrame at 0x17eb3a0b940>"
      ]
     },
     "metadata": {},
     "output_type": "display_data"
    },
    {
     "name": "stdout",
     "output_type": "stream",
     "text": [
      "\n",
      "Processing driver: 0abb6470-5b07-44f4-9dac-73faeb741d7e\n",
      "Total fine for driver 0abb6470-5b07-44f4-9dac-73faeb741d7e: Rs 0.00\n",
      "Difference between rides for driver 0abb6470-5b07-44f4-9dac-73faeb741d7e:\n",
      "   Distance between trip 1 and trip 2: 0.67 km\n",
      "   Distance between trip 2 and trip 3: 1.42 km\n",
      "   Distance between trip 3 and trip 4: 1.22 km\n",
      "   Distance between trip 4 and trip 5: 1.09 km\n",
      "   Distance between trip 5 and trip 6: 1.18 km\n",
      "   Distance between trip 6 and trip 7: 0.41 km\n",
      "   Distance between trip 7 and trip 8: 0.48 km\n",
      "   Distance between trip 8 and trip 9: 0.69 km\n",
      "   Distance between trip 9 and trip 10: 0.87 km\n",
      "   Distance between trip 10 and trip 11: 0.32 km\n",
      "   Distance between trip 11 and trip 12: 2.08 km\n",
      "   Distance between trip 12 and trip 13: 0.80 km\n",
      "   Distance between trip 13 and trip 14: 0.70 km\n",
      "   Distance between trip 14 and trip 15: 0.23 km\n",
      "Total distance traveled by driver 0abb6470-5b07-44f4-9dac-73faeb741d7e: 12.17 km\n"
     ]
    },
    {
     "data": {
      "text/html": [
       "\n",
       "        <iframe\n",
       "            width=\"700\"\n",
       "            height=\"600\"\n",
       "            src=\"maps\\driver_0abb6470-5b07-44f4-9dac-73faeb741d7e_map.html\"\n",
       "            frameborder=\"0\"\n",
       "            allowfullscreen\n",
       "            \n",
       "        ></iframe>\n",
       "        "
      ],
      "text/plain": [
       "<IPython.lib.display.IFrame at 0x17eae4ff970>"
      ]
     },
     "metadata": {},
     "output_type": "display_data"
    },
    {
     "name": "stdout",
     "output_type": "stream",
     "text": [
      "\n",
      "Processing driver: 0b0a3332-5e31-4e95-b823-5258917350db\n",
      "Total fine for driver 0b0a3332-5e31-4e95-b823-5258917350db: Rs 0.00\n",
      "Difference between rides for driver 0b0a3332-5e31-4e95-b823-5258917350db:\n",
      "   Distance between trip 1 and trip 2: 0.58 km\n",
      "   Distance between trip 2 and trip 3: 0.98 km\n",
      "   Distance between trip 3 and trip 4: 1.44 km\n",
      "   Distance between trip 4 and trip 5: 0.38 km\n",
      "   Distance between trip 5 and trip 6: 1.04 km\n",
      "   Distance between trip 6 and trip 7: 1.32 km\n",
      "   Distance between trip 7 and trip 8: 2.24 km\n",
      "   Distance between trip 8 and trip 9: 0.08 km\n",
      "   Distance between trip 9 and trip 10: 0.70 km\n",
      "   Distance between trip 10 and trip 11: 0.93 km\n",
      "Total distance traveled by driver 0b0a3332-5e31-4e95-b823-5258917350db: 9.69 km\n"
     ]
    },
    {
     "data": {
      "text/html": [
       "\n",
       "        <iframe\n",
       "            width=\"700\"\n",
       "            height=\"600\"\n",
       "            src=\"maps\\driver_0b0a3332-5e31-4e95-b823-5258917350db_map.html\"\n",
       "            frameborder=\"0\"\n",
       "            allowfullscreen\n",
       "            \n",
       "        ></iframe>\n",
       "        "
      ],
      "text/plain": [
       "<IPython.lib.display.IFrame at 0x17eb3a504f0>"
      ]
     },
     "metadata": {},
     "output_type": "display_data"
    },
    {
     "name": "stdout",
     "output_type": "stream",
     "text": [
      "\n",
      "Processing driver: 0b266925-c915-4015-8494-672bca967eea\n",
      "Total fine for driver 0b266925-c915-4015-8494-672bca967eea: Rs 0.00\n",
      "Difference between rides for driver 0b266925-c915-4015-8494-672bca967eea:\n",
      "Total distance traveled by driver 0b266925-c915-4015-8494-672bca967eea: 0.00 km\n"
     ]
    },
    {
     "data": {
      "text/html": [
       "\n",
       "        <iframe\n",
       "            width=\"700\"\n",
       "            height=\"600\"\n",
       "            src=\"maps\\driver_0b266925-c915-4015-8494-672bca967eea_map.html\"\n",
       "            frameborder=\"0\"\n",
       "            allowfullscreen\n",
       "            \n",
       "        ></iframe>\n",
       "        "
      ],
      "text/plain": [
       "<IPython.lib.display.IFrame at 0x17eae4ffa90>"
      ]
     },
     "metadata": {},
     "output_type": "display_data"
    },
    {
     "name": "stdout",
     "output_type": "stream",
     "text": [
      "\n",
      "Processing driver: 0b529b12-3a12-4be7-b4ed-66069e8eddd5\n",
      "Total fine for driver 0b529b12-3a12-4be7-b4ed-66069e8eddd5: Rs 202.65\n",
      "Difference between rides for driver 0b529b12-3a12-4be7-b4ed-66069e8eddd5:\n",
      "   Distance between trip 1 and trip 2: 30.26 km\n",
      "   Distance between trip 2 and trip 3: 1.18 km\n",
      "   Distance between trip 3 and trip 4: 1.04 km\n",
      "   Distance between trip 4 and trip 5: 0.24 km\n",
      "   Distance between trip 5 and trip 6: 0.75 km\n",
      "   Distance between trip 6 and trip 7: 0.78 km\n",
      "   Distance between trip 7 and trip 8: 1.67 km\n",
      "   Distance between trip 8 and trip 9: 0.50 km\n",
      "   Distance between trip 9 and trip 10: 0.17 km\n",
      "   Distance between trip 10 and trip 11: 0.16 km\n",
      "   Distance between trip 11 and trip 12: 0.03 km\n",
      "   Distance between trip 12 and trip 13: 0.14 km\n",
      "   Distance between trip 13 and trip 14: 1.08 km\n",
      "   Distance between trip 14 and trip 15: 0.25 km\n",
      "Total distance traveled by driver 0b529b12-3a12-4be7-b4ed-66069e8eddd5: 38.26 km\n"
     ]
    },
    {
     "data": {
      "text/html": [
       "\n",
       "        <iframe\n",
       "            width=\"700\"\n",
       "            height=\"600\"\n",
       "            src=\"maps\\driver_0b529b12-3a12-4be7-b4ed-66069e8eddd5_map.html\"\n",
       "            frameborder=\"0\"\n",
       "            allowfullscreen\n",
       "            \n",
       "        ></iframe>\n",
       "        "
      ],
      "text/plain": [
       "<IPython.lib.display.IFrame at 0x17eb3a0a3b0>"
      ]
     },
     "metadata": {},
     "output_type": "display_data"
    },
    {
     "name": "stdout",
     "output_type": "stream",
     "text": [
      "\n",
      "Processing driver: 0b664f7c-1d3b-41f3-875c-537aaaa3bc24\n",
      "Total fine for driver 0b664f7c-1d3b-41f3-875c-537aaaa3bc24: Rs 0.00\n",
      "Difference between rides for driver 0b664f7c-1d3b-41f3-875c-537aaaa3bc24:\n",
      "   Distance between trip 1 and trip 2: 1.56 km\n",
      "   Distance between trip 2 and trip 3: 0.56 km\n",
      "   Distance between trip 3 and trip 4: 3.82 km\n",
      "Total distance traveled by driver 0b664f7c-1d3b-41f3-875c-537aaaa3bc24: 5.94 km\n"
     ]
    },
    {
     "data": {
      "text/html": [
       "\n",
       "        <iframe\n",
       "            width=\"700\"\n",
       "            height=\"600\"\n",
       "            src=\"maps\\driver_0b664f7c-1d3b-41f3-875c-537aaaa3bc24_map.html\"\n",
       "            frameborder=\"0\"\n",
       "            allowfullscreen\n",
       "            \n",
       "        ></iframe>\n",
       "        "
      ],
      "text/plain": [
       "<IPython.lib.display.IFrame at 0x17eaad46140>"
      ]
     },
     "metadata": {},
     "output_type": "display_data"
    },
    {
     "name": "stdout",
     "output_type": "stream",
     "text": [
      "\n",
      "Processing driver: 0b6b934a-b706-4417-9a64-0b782c0fcc3f\n",
      "Total fine for driver 0b6b934a-b706-4417-9a64-0b782c0fcc3f: Rs 0.00\n",
      "Difference between rides for driver 0b6b934a-b706-4417-9a64-0b782c0fcc3f:\n",
      "   Distance between trip 1 and trip 2: 0.67 km\n",
      "   Distance between trip 2 and trip 3: 0.39 km\n",
      "   Distance between trip 3 and trip 4: 0.10 km\n",
      "   Distance between trip 4 and trip 5: 1.10 km\n",
      "   Distance between trip 5 and trip 6: 0.41 km\n",
      "   Distance between trip 6 and trip 7: 2.07 km\n",
      "   Distance between trip 7 and trip 8: 0.19 km\n",
      "Total distance traveled by driver 0b6b934a-b706-4417-9a64-0b782c0fcc3f: 4.92 km\n"
     ]
    },
    {
     "data": {
      "text/html": [
       "\n",
       "        <iframe\n",
       "            width=\"700\"\n",
       "            height=\"600\"\n",
       "            src=\"maps\\driver_0b6b934a-b706-4417-9a64-0b782c0fcc3f_map.html\"\n",
       "            frameborder=\"0\"\n",
       "            allowfullscreen\n",
       "            \n",
       "        ></iframe>\n",
       "        "
      ],
      "text/plain": [
       "<IPython.lib.display.IFrame at 0x17eae4ff970>"
      ]
     },
     "metadata": {},
     "output_type": "display_data"
    },
    {
     "name": "stdout",
     "output_type": "stream",
     "text": [
      "\n",
      "Processing driver: 0b9092e8-e921-4469-803b-a394e71de805\n",
      "Total fine for driver 0b9092e8-e921-4469-803b-a394e71de805: Rs 0.00\n",
      "Difference between rides for driver 0b9092e8-e921-4469-803b-a394e71de805:\n",
      "   Distance between trip 1 and trip 2: 1.66 km\n",
      "   Distance between trip 2 and trip 3: 5.06 km\n",
      "   Distance between trip 3 and trip 4: 2.98 km\n",
      "   Distance between trip 4 and trip 5: 0.00 km\n",
      "   Distance between trip 5 and trip 6: 1.33 km\n",
      "   Distance between trip 6 and trip 7: 0.68 km\n",
      "Total distance traveled by driver 0b9092e8-e921-4469-803b-a394e71de805: 11.71 km\n"
     ]
    },
    {
     "data": {
      "text/html": [
       "\n",
       "        <iframe\n",
       "            width=\"700\"\n",
       "            height=\"600\"\n",
       "            src=\"maps\\driver_0b9092e8-e921-4469-803b-a394e71de805_map.html\"\n",
       "            frameborder=\"0\"\n",
       "            allowfullscreen\n",
       "            \n",
       "        ></iframe>\n",
       "        "
      ],
      "text/plain": [
       "<IPython.lib.display.IFrame at 0x17eb3a0ba60>"
      ]
     },
     "metadata": {},
     "output_type": "display_data"
    },
    {
     "name": "stdout",
     "output_type": "stream",
     "text": [
      "\n",
      "Processing driver: 0b92a3dd-2a1e-4e72-a9e0-2fae66a5c169\n",
      "Total fine for driver 0b92a3dd-2a1e-4e72-a9e0-2fae66a5c169: Rs 232.38\n",
      "Difference between rides for driver 0b92a3dd-2a1e-4e72-a9e0-2fae66a5c169:\n",
      "   Distance between trip 1 and trip 2: 0.98 km\n",
      "   Distance between trip 2 and trip 3: 0.15 km\n",
      "   Distance between trip 3 and trip 4: 1.71 km\n",
      "   Distance between trip 4 and trip 5: 0.90 km\n",
      "   Distance between trip 5 and trip 6: 0.92 km\n",
      "   Distance between trip 6 and trip 7: 1.11 km\n",
      "   Distance between trip 7 and trip 8: 33.24 km\n",
      "Total distance traveled by driver 0b92a3dd-2a1e-4e72-a9e0-2fae66a5c169: 39.02 km\n"
     ]
    },
    {
     "data": {
      "text/html": [
       "\n",
       "        <iframe\n",
       "            width=\"700\"\n",
       "            height=\"600\"\n",
       "            src=\"maps\\driver_0b92a3dd-2a1e-4e72-a9e0-2fae66a5c169_map.html\"\n",
       "            frameborder=\"0\"\n",
       "            allowfullscreen\n",
       "            \n",
       "        ></iframe>\n",
       "        "
      ],
      "text/plain": [
       "<IPython.lib.display.IFrame at 0x17eaad476a0>"
      ]
     },
     "metadata": {},
     "output_type": "display_data"
    },
    {
     "name": "stdout",
     "output_type": "stream",
     "text": [
      "\n",
      "Processing driver: 0bd70b70-e7d6-4b94-a44a-88b39c3276d6\n",
      "Total fine for driver 0bd70b70-e7d6-4b94-a44a-88b39c3276d6: Rs 0.00\n",
      "Difference between rides for driver 0bd70b70-e7d6-4b94-a44a-88b39c3276d6:\n",
      "   Distance between trip 1 and trip 2: 0.40 km\n",
      "   Distance between trip 2 and trip 3: 0.84 km\n",
      "   Distance between trip 3 and trip 4: 0.29 km\n",
      "   Distance between trip 4 and trip 5: 0.33 km\n",
      "   Distance between trip 5 and trip 6: 0.51 km\n",
      "   Distance between trip 6 and trip 7: 0.47 km\n",
      "   Distance between trip 7 and trip 8: 1.76 km\n",
      "   Distance between trip 8 and trip 9: 2.61 km\n",
      "   Distance between trip 9 and trip 10: 0.85 km\n",
      "   Distance between trip 10 and trip 11: 2.47 km\n",
      "   Distance between trip 11 and trip 12: 0.89 km\n",
      "   Distance between trip 12 and trip 13: 0.73 km\n",
      "Total distance traveled by driver 0bd70b70-e7d6-4b94-a44a-88b39c3276d6: 12.15 km\n"
     ]
    },
    {
     "data": {
      "text/html": [
       "\n",
       "        <iframe\n",
       "            width=\"700\"\n",
       "            height=\"600\"\n",
       "            src=\"maps\\driver_0bd70b70-e7d6-4b94-a44a-88b39c3276d6_map.html\"\n",
       "            frameborder=\"0\"\n",
       "            allowfullscreen\n",
       "            \n",
       "        ></iframe>\n",
       "        "
      ],
      "text/plain": [
       "<IPython.lib.display.IFrame at 0x17eb3a0a4a0>"
      ]
     },
     "metadata": {},
     "output_type": "display_data"
    },
    {
     "name": "stdout",
     "output_type": "stream",
     "text": [
      "\n",
      "Processing driver: 0c49a8cc-02d5-412a-b02d-40ade6f4be85\n",
      "Total fine for driver 0c49a8cc-02d5-412a-b02d-40ade6f4be85: Rs 0.00\n",
      "Difference between rides for driver 0c49a8cc-02d5-412a-b02d-40ade6f4be85:\n",
      "   Distance between trip 1 and trip 2: 2.93 km\n",
      "   Distance between trip 2 and trip 3: 3.31 km\n",
      "   Distance between trip 3 and trip 4: 0.10 km\n",
      "   Distance between trip 4 and trip 5: 3.35 km\n",
      "   Distance between trip 5 and trip 6: 1.35 km\n",
      "   Distance between trip 6 and trip 7: 0.96 km\n",
      "   Distance between trip 7 and trip 8: 1.67 km\n",
      "   Distance between trip 8 and trip 9: 0.10 km\n",
      "   Distance between trip 9 and trip 10: 1.32 km\n",
      "   Distance between trip 10 and trip 11: 0.42 km\n",
      "   Distance between trip 11 and trip 12: 1.09 km\n",
      "Total distance traveled by driver 0c49a8cc-02d5-412a-b02d-40ade6f4be85: 16.61 km\n"
     ]
    },
    {
     "data": {
      "text/html": [
       "\n",
       "        <iframe\n",
       "            width=\"700\"\n",
       "            height=\"600\"\n",
       "            src=\"maps\\driver_0c49a8cc-02d5-412a-b02d-40ade6f4be85_map.html\"\n",
       "            frameborder=\"0\"\n",
       "            allowfullscreen\n",
       "            \n",
       "        ></iframe>\n",
       "        "
      ],
      "text/plain": [
       "<IPython.lib.display.IFrame at 0x17eb3a03190>"
      ]
     },
     "metadata": {},
     "output_type": "display_data"
    },
    {
     "name": "stdout",
     "output_type": "stream",
     "text": [
      "\n",
      "Processing driver: 0c4dcb91-a67d-4683-81d3-6124f851010d\n",
      "Total fine for driver 0c4dcb91-a67d-4683-81d3-6124f851010d: Rs 0.00\n",
      "Difference between rides for driver 0c4dcb91-a67d-4683-81d3-6124f851010d:\n",
      "   Distance between trip 1 and trip 2: 0.45 km\n",
      "   Distance between trip 2 and trip 3: 0.31 km\n",
      "   Distance between trip 3 and trip 4: 0.94 km\n",
      "   Distance between trip 4 and trip 5: 4.24 km\n",
      "   Distance between trip 5 and trip 6: 0.56 km\n",
      "   Distance between trip 6 and trip 7: 0.74 km\n",
      "   Distance between trip 7 and trip 8: 0.09 km\n",
      "   Distance between trip 8 and trip 9: 0.59 km\n",
      "   Distance between trip 9 and trip 10: 0.37 km\n",
      "   Distance between trip 10 and trip 11: 0.60 km\n",
      "   Distance between trip 11 and trip 12: 0.33 km\n",
      "   Distance between trip 12 and trip 13: 0.55 km\n",
      "   Distance between trip 13 and trip 14: 1.73 km\n",
      "   Distance between trip 14 and trip 15: 1.28 km\n",
      "   Distance between trip 15 and trip 16: 0.20 km\n",
      "   Distance between trip 16 and trip 17: 0.71 km\n",
      "   Distance between trip 17 and trip 18: 0.56 km\n",
      "   Distance between trip 18 and trip 19: 0.41 km\n",
      "   Distance between trip 19 and trip 20: 0.65 km\n",
      "Total distance traveled by driver 0c4dcb91-a67d-4683-81d3-6124f851010d: 15.32 km\n"
     ]
    },
    {
     "data": {
      "text/html": [
       "\n",
       "        <iframe\n",
       "            width=\"700\"\n",
       "            height=\"600\"\n",
       "            src=\"maps\\driver_0c4dcb91-a67d-4683-81d3-6124f851010d_map.html\"\n",
       "            frameborder=\"0\"\n",
       "            allowfullscreen\n",
       "            \n",
       "        ></iframe>\n",
       "        "
      ],
      "text/plain": [
       "<IPython.lib.display.IFrame at 0x17eb3a02ce0>"
      ]
     },
     "metadata": {},
     "output_type": "display_data"
    },
    {
     "name": "stdout",
     "output_type": "stream",
     "text": [
      "\n",
      "Processing driver: 0c5bcff1-9484-43b1-a4b5-02d1786273cd\n",
      "Total fine for driver 0c5bcff1-9484-43b1-a4b5-02d1786273cd: Rs 0.00\n",
      "Difference between rides for driver 0c5bcff1-9484-43b1-a4b5-02d1786273cd:\n",
      "   Distance between trip 1 and trip 2: 0.12 km\n",
      "   Distance between trip 2 and trip 3: 0.03 km\n",
      "   Distance between trip 3 and trip 4: 0.44 km\n",
      "   Distance between trip 4 and trip 5: 1.89 km\n",
      "   Distance between trip 5 and trip 6: 0.04 km\n",
      "   Distance between trip 6 and trip 7: 1.89 km\n",
      "   Distance between trip 7 and trip 8: 1.04 km\n",
      "   Distance between trip 8 and trip 9: 0.75 km\n",
      "   Distance between trip 9 and trip 10: 0.43 km\n",
      "   Distance between trip 10 and trip 11: 0.35 km\n",
      "   Distance between trip 11 and trip 12: 2.31 km\n",
      "   Distance between trip 12 and trip 13: 1.14 km\n",
      "   Distance between trip 13 and trip 14: 1.41 km\n",
      "   Distance between trip 14 and trip 15: 0.06 km\n",
      "   Distance between trip 15 and trip 16: 0.91 km\n",
      "   Distance between trip 16 and trip 17: 0.95 km\n",
      "   Distance between trip 17 and trip 18: 0.79 km\n",
      "   Distance between trip 18 and trip 19: 0.23 km\n",
      "   Distance between trip 19 and trip 20: 0.67 km\n",
      "   Distance between trip 20 and trip 21: 1.87 km\n",
      "   Distance between trip 21 and trip 22: 3.53 km\n",
      "Total distance traveled by driver 0c5bcff1-9484-43b1-a4b5-02d1786273cd: 20.84 km\n"
     ]
    },
    {
     "data": {
      "text/html": [
       "\n",
       "        <iframe\n",
       "            width=\"700\"\n",
       "            height=\"600\"\n",
       "            src=\"maps\\driver_0c5bcff1-9484-43b1-a4b5-02d1786273cd_map.html\"\n",
       "            frameborder=\"0\"\n",
       "            allowfullscreen\n",
       "            \n",
       "        ></iframe>\n",
       "        "
      ],
      "text/plain": [
       "<IPython.lib.display.IFrame at 0x17eaf529b10>"
      ]
     },
     "metadata": {},
     "output_type": "display_data"
    },
    {
     "name": "stdout",
     "output_type": "stream",
     "text": [
      "\n",
      "Processing driver: 0c5d907a-b667-4d10-8e64-d3f7b73d63f0\n",
      "Total fine for driver 0c5d907a-b667-4d10-8e64-d3f7b73d63f0: Rs 0.00\n",
      "Difference between rides for driver 0c5d907a-b667-4d10-8e64-d3f7b73d63f0:\n",
      "   Distance between trip 1 and trip 2: 0.27 km\n",
      "   Distance between trip 2 and trip 3: 0.08 km\n",
      "   Distance between trip 3 and trip 4: 0.62 km\n",
      "   Distance between trip 4 and trip 5: 0.00 km\n",
      "   Distance between trip 5 and trip 6: 1.23 km\n",
      "   Distance between trip 6 and trip 7: 0.45 km\n",
      "   Distance between trip 7 and trip 8: 1.14 km\n",
      "   Distance between trip 8 and trip 9: 0.47 km\n",
      "Total distance traveled by driver 0c5d907a-b667-4d10-8e64-d3f7b73d63f0: 4.26 km\n"
     ]
    },
    {
     "data": {
      "text/html": [
       "\n",
       "        <iframe\n",
       "            width=\"700\"\n",
       "            height=\"600\"\n",
       "            src=\"maps\\driver_0c5d907a-b667-4d10-8e64-d3f7b73d63f0_map.html\"\n",
       "            frameborder=\"0\"\n",
       "            allowfullscreen\n",
       "            \n",
       "        ></iframe>\n",
       "        "
      ],
      "text/plain": [
       "<IPython.lib.display.IFrame at 0x17eaad46140>"
      ]
     },
     "metadata": {},
     "output_type": "display_data"
    },
    {
     "name": "stdout",
     "output_type": "stream",
     "text": [
      "\n",
      "Processing driver: 0c633646-7266-4b9b-a9b6-729a636b6f4b\n",
      "Total fine for driver 0c633646-7266-4b9b-a9b6-729a636b6f4b: Rs 7.65\n",
      "Difference between rides for driver 0c633646-7266-4b9b-a9b6-729a636b6f4b:\n",
      "   Distance between trip 1 and trip 2: 0.93 km\n",
      "   Distance between trip 2 and trip 3: 0.14 km\n",
      "   Distance between trip 3 and trip 4: 0.44 km\n",
      "   Distance between trip 4 and trip 5: 0.52 km\n",
      "   Distance between trip 5 and trip 6: 0.41 km\n",
      "   Distance between trip 6 and trip 7: 1.10 km\n",
      "   Distance between trip 7 and trip 8: 1.19 km\n",
      "   Distance between trip 8 and trip 9: 0.16 km\n",
      "   Distance between trip 9 and trip 10: 10.77 km\n",
      "Total distance traveled by driver 0c633646-7266-4b9b-a9b6-729a636b6f4b: 15.66 km\n"
     ]
    },
    {
     "data": {
      "text/html": [
       "\n",
       "        <iframe\n",
       "            width=\"700\"\n",
       "            height=\"600\"\n",
       "            src=\"maps\\driver_0c633646-7266-4b9b-a9b6-729a636b6f4b_map.html\"\n",
       "            frameborder=\"0\"\n",
       "            allowfullscreen\n",
       "            \n",
       "        ></iframe>\n",
       "        "
      ],
      "text/plain": [
       "<IPython.lib.display.IFrame at 0x17eb3a02800>"
      ]
     },
     "metadata": {},
     "output_type": "display_data"
    },
    {
     "name": "stdout",
     "output_type": "stream",
     "text": [
      "\n",
      "Processing driver: 0c74d917-b0b9-4359-b231-a8150aefab1a\n",
      "Total fine for driver 0c74d917-b0b9-4359-b231-a8150aefab1a: Rs 0.00\n",
      "Difference between rides for driver 0c74d917-b0b9-4359-b231-a8150aefab1a:\n",
      "   Distance between trip 1 and trip 2: 6.74 km\n",
      "   Distance between trip 2 and trip 3: 0.39 km\n",
      "   Distance between trip 3 and trip 4: 0.48 km\n",
      "   Distance between trip 4 and trip 5: 0.08 km\n",
      "   Distance between trip 5 and trip 6: 1.58 km\n",
      "   Distance between trip 6 and trip 7: 0.22 km\n",
      "   Distance between trip 7 and trip 8: 0.20 km\n",
      "   Distance between trip 8 and trip 9: 0.28 km\n",
      "   Distance between trip 9 and trip 10: 3.43 km\n",
      "   Distance between trip 10 and trip 11: 7.37 km\n",
      "   Distance between trip 11 and trip 12: 6.33 km\n",
      "   Distance between trip 12 and trip 13: 1.41 km\n",
      "Total distance traveled by driver 0c74d917-b0b9-4359-b231-a8150aefab1a: 28.52 km\n"
     ]
    },
    {
     "data": {
      "text/html": [
       "\n",
       "        <iframe\n",
       "            width=\"700\"\n",
       "            height=\"600\"\n",
       "            src=\"maps\\driver_0c74d917-b0b9-4359-b231-a8150aefab1a_map.html\"\n",
       "            frameborder=\"0\"\n",
       "            allowfullscreen\n",
       "            \n",
       "        ></iframe>\n",
       "        "
      ],
      "text/plain": [
       "<IPython.lib.display.IFrame at 0x17eb3a00100>"
      ]
     },
     "metadata": {},
     "output_type": "display_data"
    },
    {
     "name": "stdout",
     "output_type": "stream",
     "text": [
      "\n",
      "Processing driver: 0cb27b26-197e-475a-bb16-018f1cdfe836\n",
      "Total fine for driver 0cb27b26-197e-475a-bb16-018f1cdfe836: Rs 0.00\n",
      "Difference between rides for driver 0cb27b26-197e-475a-bb16-018f1cdfe836:\n",
      "   Distance between trip 1 and trip 2: 0.64 km\n",
      "   Distance between trip 2 and trip 3: 0.27 km\n",
      "   Distance between trip 3 and trip 4: 0.53 km\n",
      "   Distance between trip 4 and trip 5: 0.28 km\n",
      "   Distance between trip 5 and trip 6: 0.27 km\n",
      "   Distance between trip 6 and trip 7: 0.51 km\n",
      "   Distance between trip 7 and trip 8: 0.43 km\n",
      "   Distance between trip 8 and trip 9: 0.61 km\n",
      "   Distance between trip 9 and trip 10: 0.00 km\n",
      "Total distance traveled by driver 0cb27b26-197e-475a-bb16-018f1cdfe836: 3.55 km\n"
     ]
    },
    {
     "data": {
      "text/html": [
       "\n",
       "        <iframe\n",
       "            width=\"700\"\n",
       "            height=\"600\"\n",
       "            src=\"maps\\driver_0cb27b26-197e-475a-bb16-018f1cdfe836_map.html\"\n",
       "            frameborder=\"0\"\n",
       "            allowfullscreen\n",
       "            \n",
       "        ></iframe>\n",
       "        "
      ],
      "text/plain": [
       "<IPython.lib.display.IFrame at 0x17eae4ffa90>"
      ]
     },
     "metadata": {},
     "output_type": "display_data"
    },
    {
     "name": "stdout",
     "output_type": "stream",
     "text": [
      "\n",
      "Processing driver: 0ccbbd30-73e2-45ef-9bbe-75639449940e\n",
      "Total fine for driver 0ccbbd30-73e2-45ef-9bbe-75639449940e: Rs 0.00\n",
      "Difference between rides for driver 0ccbbd30-73e2-45ef-9bbe-75639449940e:\n",
      "Total distance traveled by driver 0ccbbd30-73e2-45ef-9bbe-75639449940e: 0.00 km\n"
     ]
    },
    {
     "data": {
      "text/html": [
       "\n",
       "        <iframe\n",
       "            width=\"700\"\n",
       "            height=\"600\"\n",
       "            src=\"maps\\driver_0ccbbd30-73e2-45ef-9bbe-75639449940e_map.html\"\n",
       "            frameborder=\"0\"\n",
       "            allowfullscreen\n",
       "            \n",
       "        ></iframe>\n",
       "        "
      ],
      "text/plain": [
       "<IPython.lib.display.IFrame at 0x17eaad46140>"
      ]
     },
     "metadata": {},
     "output_type": "display_data"
    },
    {
     "name": "stdout",
     "output_type": "stream",
     "text": [
      "\n",
      "Processing driver: 0cf7e2d0-c495-41fe-a1b8-3f00e0be8b0a\n",
      "Total fine for driver 0cf7e2d0-c495-41fe-a1b8-3f00e0be8b0a: Rs 0.00\n",
      "Difference between rides for driver 0cf7e2d0-c495-41fe-a1b8-3f00e0be8b0a:\n",
      "Total distance traveled by driver 0cf7e2d0-c495-41fe-a1b8-3f00e0be8b0a: 0.00 km\n"
     ]
    },
    {
     "data": {
      "text/html": [
       "\n",
       "        <iframe\n",
       "            width=\"700\"\n",
       "            height=\"600\"\n",
       "            src=\"maps\\driver_0cf7e2d0-c495-41fe-a1b8-3f00e0be8b0a_map.html\"\n",
       "            frameborder=\"0\"\n",
       "            allowfullscreen\n",
       "            \n",
       "        ></iframe>\n",
       "        "
      ],
      "text/plain": [
       "<IPython.lib.display.IFrame at 0x17eae4ff970>"
      ]
     },
     "metadata": {},
     "output_type": "display_data"
    },
    {
     "name": "stdout",
     "output_type": "stream",
     "text": [
      "\n",
      "Processing driver: 0d29c179-33f3-4172-948e-05f42985dcb1\n",
      "Total fine for driver 0d29c179-33f3-4172-948e-05f42985dcb1: Rs 333.75\n",
      "Difference between rides for driver 0d29c179-33f3-4172-948e-05f42985dcb1:\n",
      "   Distance between trip 1 and trip 2: 1.78 km\n",
      "   Distance between trip 2 and trip 3: 43.38 km\n",
      "   Distance between trip 3 and trip 4: 0.76 km\n",
      "   Distance between trip 4 and trip 5: 1.13 km\n",
      "Total distance traveled by driver 0d29c179-33f3-4172-948e-05f42985dcb1: 47.04 km\n"
     ]
    },
    {
     "data": {
      "text/html": [
       "\n",
       "        <iframe\n",
       "            width=\"700\"\n",
       "            height=\"600\"\n",
       "            src=\"maps\\driver_0d29c179-33f3-4172-948e-05f42985dcb1_map.html\"\n",
       "            frameborder=\"0\"\n",
       "            allowfullscreen\n",
       "            \n",
       "        ></iframe>\n",
       "        "
      ],
      "text/plain": [
       "<IPython.lib.display.IFrame at 0x17eaad476a0>"
      ]
     },
     "metadata": {},
     "output_type": "display_data"
    },
    {
     "name": "stdout",
     "output_type": "stream",
     "text": [
      "\n",
      "Processing driver: 0d44d97d-0aaa-42c7-a289-fa9574a4cf46\n",
      "Total fine for driver 0d44d97d-0aaa-42c7-a289-fa9574a4cf46: Rs 0.00\n",
      "Difference between rides for driver 0d44d97d-0aaa-42c7-a289-fa9574a4cf46:\n",
      "   Distance between trip 1 and trip 2: 1.14 km\n",
      "   Distance between trip 2 and trip 3: 0.29 km\n",
      "   Distance between trip 3 and trip 4: 1.73 km\n",
      "   Distance between trip 4 and trip 5: 6.47 km\n",
      "   Distance between trip 5 and trip 6: 0.00 km\n",
      "   Distance between trip 6 and trip 7: 0.97 km\n",
      "   Distance between trip 7 and trip 8: 0.69 km\n",
      "   Distance between trip 8 and trip 9: 1.51 km\n",
      "   Distance between trip 9 and trip 10: 2.73 km\n",
      "   Distance between trip 10 and trip 11: 1.00 km\n",
      "   Distance between trip 11 and trip 12: 0.91 km\n",
      "Total distance traveled by driver 0d44d97d-0aaa-42c7-a289-fa9574a4cf46: 17.44 km\n"
     ]
    },
    {
     "data": {
      "text/html": [
       "\n",
       "        <iframe\n",
       "            width=\"700\"\n",
       "            height=\"600\"\n",
       "            src=\"maps\\driver_0d44d97d-0aaa-42c7-a289-fa9574a4cf46_map.html\"\n",
       "            frameborder=\"0\"\n",
       "            allowfullscreen\n",
       "            \n",
       "        ></iframe>\n",
       "        "
      ],
      "text/plain": [
       "<IPython.lib.display.IFrame at 0x17eb3a508e0>"
      ]
     },
     "metadata": {},
     "output_type": "display_data"
    },
    {
     "name": "stdout",
     "output_type": "stream",
     "text": [
      "\n",
      "Processing driver: 0d4aaf3e-10da-4019-88d5-6ae021dba69c\n",
      "Total fine for driver 0d4aaf3e-10da-4019-88d5-6ae021dba69c: Rs 0.00\n",
      "Difference between rides for driver 0d4aaf3e-10da-4019-88d5-6ae021dba69c:\n",
      "   Distance between trip 1 and trip 2: 0.77 km\n",
      "   Distance between trip 2 and trip 3: 0.19 km\n",
      "   Distance between trip 3 and trip 4: 0.75 km\n",
      "   Distance between trip 4 and trip 5: 0.00 km\n",
      "   Distance between trip 5 and trip 6: 2.69 km\n",
      "Total distance traveled by driver 0d4aaf3e-10da-4019-88d5-6ae021dba69c: 4.41 km\n"
     ]
    },
    {
     "data": {
      "text/html": [
       "\n",
       "        <iframe\n",
       "            width=\"700\"\n",
       "            height=\"600\"\n",
       "            src=\"maps\\driver_0d4aaf3e-10da-4019-88d5-6ae021dba69c_map.html\"\n",
       "            frameborder=\"0\"\n",
       "            allowfullscreen\n",
       "            \n",
       "        ></iframe>\n",
       "        "
      ],
      "text/plain": [
       "<IPython.lib.display.IFrame at 0x17eaad46140>"
      ]
     },
     "metadata": {},
     "output_type": "display_data"
    },
    {
     "name": "stdout",
     "output_type": "stream",
     "text": [
      "\n",
      "Processing driver: 0d533363-4e48-4461-8031-d23a83531f25\n",
      "Total fine for driver 0d533363-4e48-4461-8031-d23a83531f25: Rs 0.00\n",
      "Difference between rides for driver 0d533363-4e48-4461-8031-d23a83531f25:\n",
      "   Distance between trip 1 and trip 2: 0.11 km\n",
      "   Distance between trip 2 and trip 3: 1.17 km\n",
      "   Distance between trip 3 and trip 4: 0.79 km\n",
      "   Distance between trip 4 and trip 5: 0.05 km\n",
      "   Distance between trip 5 and trip 6: 2.10 km\n",
      "   Distance between trip 6 and trip 7: 0.21 km\n",
      "   Distance between trip 7 and trip 8: 0.01 km\n",
      "   Distance between trip 8 and trip 9: 0.85 km\n",
      "   Distance between trip 9 and trip 10: 2.06 km\n",
      "   Distance between trip 10 and trip 11: 1.31 km\n",
      "   Distance between trip 11 and trip 12: 0.04 km\n",
      "   Distance between trip 12 and trip 13: 0.09 km\n",
      "   Distance between trip 13 and trip 14: 1.14 km\n",
      "   Distance between trip 14 and trip 15: 2.42 km\n",
      "   Distance between trip 15 and trip 16: 1.21 km\n",
      "Total distance traveled by driver 0d533363-4e48-4461-8031-d23a83531f25: 13.57 km\n"
     ]
    },
    {
     "data": {
      "text/html": [
       "\n",
       "        <iframe\n",
       "            width=\"700\"\n",
       "            height=\"600\"\n",
       "            src=\"maps\\driver_0d533363-4e48-4461-8031-d23a83531f25_map.html\"\n",
       "            frameborder=\"0\"\n",
       "            allowfullscreen\n",
       "            \n",
       "        ></iframe>\n",
       "        "
      ],
      "text/plain": [
       "<IPython.lib.display.IFrame at 0x17eae4ff970>"
      ]
     },
     "metadata": {},
     "output_type": "display_data"
    },
    {
     "name": "stdout",
     "output_type": "stream",
     "text": [
      "\n",
      "Processing driver: 0de42deb-eb3a-4187-bc17-5982084e9dea\n",
      "Total fine for driver 0de42deb-eb3a-4187-bc17-5982084e9dea: Rs 88.18\n",
      "Difference between rides for driver 0de42deb-eb3a-4187-bc17-5982084e9dea:\n",
      "   Distance between trip 1 and trip 2: 18.82 km\n",
      "   Distance between trip 2 and trip 3: 0.08 km\n",
      "Total distance traveled by driver 0de42deb-eb3a-4187-bc17-5982084e9dea: 18.90 km\n"
     ]
    },
    {
     "data": {
      "text/html": [
       "\n",
       "        <iframe\n",
       "            width=\"700\"\n",
       "            height=\"600\"\n",
       "            src=\"maps\\driver_0de42deb-eb3a-4187-bc17-5982084e9dea_map.html\"\n",
       "            frameborder=\"0\"\n",
       "            allowfullscreen\n",
       "            \n",
       "        ></iframe>\n",
       "        "
      ],
      "text/plain": [
       "<IPython.lib.display.IFrame at 0x17eaad476a0>"
      ]
     },
     "metadata": {},
     "output_type": "display_data"
    },
    {
     "name": "stdout",
     "output_type": "stream",
     "text": [
      "\n",
      "Processing driver: 0deddc39-d589-433b-8463-4f44fdd1ed34\n",
      "Total fine for driver 0deddc39-d589-433b-8463-4f44fdd1ed34: Rs 0.00\n",
      "Difference between rides for driver 0deddc39-d589-433b-8463-4f44fdd1ed34:\n",
      "   Distance between trip 1 and trip 2: 0.42 km\n",
      "   Distance between trip 2 and trip 3: 2.78 km\n",
      "   Distance between trip 3 and trip 4: 0.82 km\n",
      "   Distance between trip 4 and trip 5: 2.88 km\n",
      "   Distance between trip 5 and trip 6: 0.86 km\n",
      "   Distance between trip 6 and trip 7: 0.91 km\n",
      "   Distance between trip 7 and trip 8: 0.14 km\n",
      "   Distance between trip 8 and trip 9: 1.56 km\n",
      "   Distance between trip 9 and trip 10: 0.42 km\n",
      "   Distance between trip 10 and trip 11: 1.38 km\n",
      "   Distance between trip 11 and trip 12: 0.20 km\n",
      "   Distance between trip 12 and trip 13: 0.94 km\n",
      "   Distance between trip 13 and trip 14: 3.53 km\n",
      "   Distance between trip 14 and trip 15: 0.42 km\n",
      "Total distance traveled by driver 0deddc39-d589-433b-8463-4f44fdd1ed34: 17.26 km\n"
     ]
    },
    {
     "data": {
      "text/html": [
       "\n",
       "        <iframe\n",
       "            width=\"700\"\n",
       "            height=\"600\"\n",
       "            src=\"maps\\driver_0deddc39-d589-433b-8463-4f44fdd1ed34_map.html\"\n",
       "            frameborder=\"0\"\n",
       "            allowfullscreen\n",
       "            \n",
       "        ></iframe>\n",
       "        "
      ],
      "text/plain": [
       "<IPython.lib.display.IFrame at 0x17eb3a50490>"
      ]
     },
     "metadata": {},
     "output_type": "display_data"
    },
    {
     "name": "stdout",
     "output_type": "stream",
     "text": [
      "\n",
      "Processing driver: 0dfb5a6e-dee6-43e9-92a9-025e556e5591\n",
      "Total fine for driver 0dfb5a6e-dee6-43e9-92a9-025e556e5591: Rs 0.00\n",
      "Difference between rides for driver 0dfb5a6e-dee6-43e9-92a9-025e556e5591:\n",
      "   Distance between trip 1 and trip 2: 0.17 km\n",
      "   Distance between trip 2 and trip 3: 1.28 km\n",
      "   Distance between trip 3 and trip 4: 0.12 km\n",
      "   Distance between trip 4 and trip 5: 0.31 km\n",
      "   Distance between trip 5 and trip 6: 0.10 km\n",
      "   Distance between trip 6 and trip 7: 2.05 km\n",
      "   Distance between trip 7 and trip 8: 0.08 km\n",
      "Total distance traveled by driver 0dfb5a6e-dee6-43e9-92a9-025e556e5591: 4.10 km\n"
     ]
    },
    {
     "data": {
      "text/html": [
       "\n",
       "        <iframe\n",
       "            width=\"700\"\n",
       "            height=\"600\"\n",
       "            src=\"maps\\driver_0dfb5a6e-dee6-43e9-92a9-025e556e5591_map.html\"\n",
       "            frameborder=\"0\"\n",
       "            allowfullscreen\n",
       "            \n",
       "        ></iframe>\n",
       "        "
      ],
      "text/plain": [
       "<IPython.lib.display.IFrame at 0x17eaad46140>"
      ]
     },
     "metadata": {},
     "output_type": "display_data"
    },
    {
     "name": "stdout",
     "output_type": "stream",
     "text": [
      "\n",
      "Processing driver: 0e377dd0-3441-4778-8eb0-3a76f6c3976d\n",
      "Total fine for driver 0e377dd0-3441-4778-8eb0-3a76f6c3976d: Rs 0.00\n",
      "Difference between rides for driver 0e377dd0-3441-4778-8eb0-3a76f6c3976d:\n",
      "   Distance between trip 1 and trip 2: 1.47 km\n",
      "   Distance between trip 2 and trip 3: 2.30 km\n",
      "   Distance between trip 3 and trip 4: 1.32 km\n",
      "   Distance between trip 4 and trip 5: 1.58 km\n",
      "   Distance between trip 5 and trip 6: 1.61 km\n",
      "   Distance between trip 6 and trip 7: 0.32 km\n",
      "   Distance between trip 7 and trip 8: 0.47 km\n",
      "   Distance between trip 8 and trip 9: 0.23 km\n",
      "Total distance traveled by driver 0e377dd0-3441-4778-8eb0-3a76f6c3976d: 9.31 km\n"
     ]
    },
    {
     "data": {
      "text/html": [
       "\n",
       "        <iframe\n",
       "            width=\"700\"\n",
       "            height=\"600\"\n",
       "            src=\"maps\\driver_0e377dd0-3441-4778-8eb0-3a76f6c3976d_map.html\"\n",
       "            frameborder=\"0\"\n",
       "            allowfullscreen\n",
       "            \n",
       "        ></iframe>\n",
       "        "
      ],
      "text/plain": [
       "<IPython.lib.display.IFrame at 0x17eb3a0bd30>"
      ]
     },
     "metadata": {},
     "output_type": "display_data"
    },
    {
     "name": "stdout",
     "output_type": "stream",
     "text": [
      "\n",
      "Processing driver: 0e43986e-19d1-493e-b35a-87fdc529cd62\n",
      "Total fine for driver 0e43986e-19d1-493e-b35a-87fdc529cd62: Rs 0.00\n",
      "Difference between rides for driver 0e43986e-19d1-493e-b35a-87fdc529cd62:\n",
      "   Distance between trip 1 and trip 2: 0.18 km\n",
      "   Distance between trip 2 and trip 3: 0.95 km\n",
      "   Distance between trip 3 and trip 4: 1.77 km\n",
      "Total distance traveled by driver 0e43986e-19d1-493e-b35a-87fdc529cd62: 2.91 km\n"
     ]
    },
    {
     "data": {
      "text/html": [
       "\n",
       "        <iframe\n",
       "            width=\"700\"\n",
       "            height=\"600\"\n",
       "            src=\"maps\\driver_0e43986e-19d1-493e-b35a-87fdc529cd62_map.html\"\n",
       "            frameborder=\"0\"\n",
       "            allowfullscreen\n",
       "            \n",
       "        ></iframe>\n",
       "        "
      ],
      "text/plain": [
       "<IPython.lib.display.IFrame at 0x17eae5222c0>"
      ]
     },
     "metadata": {},
     "output_type": "display_data"
    },
    {
     "name": "stdout",
     "output_type": "stream",
     "text": [
      "\n",
      "Processing driver: 0e542119-1c77-4149-932d-44060bfb9089\n",
      "Total fine for driver 0e542119-1c77-4149-932d-44060bfb9089: Rs 0.00\n",
      "Difference between rides for driver 0e542119-1c77-4149-932d-44060bfb9089:\n",
      "   Distance between trip 1 and trip 2: 0.41 km\n",
      "   Distance between trip 2 and trip 3: 0.30 km\n",
      "   Distance between trip 3 and trip 4: 0.67 km\n",
      "   Distance between trip 4 and trip 5: 0.10 km\n",
      "   Distance between trip 5 and trip 6: 0.19 km\n",
      "   Distance between trip 6 and trip 7: 1.18 km\n",
      "   Distance between trip 7 and trip 8: 0.40 km\n",
      "   Distance between trip 8 and trip 9: 0.00 km\n",
      "   Distance between trip 9 and trip 10: 1.57 km\n",
      "   Distance between trip 10 and trip 11: 1.07 km\n",
      "   Distance between trip 11 and trip 12: 1.76 km\n",
      "   Distance between trip 12 and trip 13: 0.20 km\n",
      "   Distance between trip 13 and trip 14: 0.94 km\n",
      "   Distance between trip 14 and trip 15: 0.15 km\n",
      "   Distance between trip 15 and trip 16: 0.63 km\n",
      "   Distance between trip 16 and trip 17: 0.89 km\n",
      "   Distance between trip 17 and trip 18: 0.87 km\n",
      "Total distance traveled by driver 0e542119-1c77-4149-932d-44060bfb9089: 11.33 km\n"
     ]
    },
    {
     "data": {
      "text/html": [
       "\n",
       "        <iframe\n",
       "            width=\"700\"\n",
       "            height=\"600\"\n",
       "            src=\"maps\\driver_0e542119-1c77-4149-932d-44060bfb9089_map.html\"\n",
       "            frameborder=\"0\"\n",
       "            allowfullscreen\n",
       "            \n",
       "        ></iframe>\n",
       "        "
      ],
      "text/plain": [
       "<IPython.lib.display.IFrame at 0x17eb3a53400>"
      ]
     },
     "metadata": {},
     "output_type": "display_data"
    },
    {
     "name": "stdout",
     "output_type": "stream",
     "text": [
      "\n",
      "Processing driver: 0e54a95a-a122-46ee-80a9-7f285eb12a53\n",
      "Total fine for driver 0e54a95a-a122-46ee-80a9-7f285eb12a53: Rs 0.00\n",
      "Difference between rides for driver 0e54a95a-a122-46ee-80a9-7f285eb12a53:\n",
      "   Distance between trip 1 and trip 2: 1.26 km\n",
      "   Distance between trip 2 and trip 3: 0.00 km\n",
      "   Distance between trip 3 and trip 4: 0.84 km\n",
      "   Distance between trip 4 and trip 5: 0.12 km\n",
      "   Distance between trip 5 and trip 6: 0.92 km\n",
      "   Distance between trip 6 and trip 7: 0.67 km\n",
      "   Distance between trip 7 and trip 8: 0.18 km\n",
      "   Distance between trip 8 and trip 9: 0.82 km\n",
      "   Distance between trip 9 and trip 10: 1.07 km\n",
      "Total distance traveled by driver 0e54a95a-a122-46ee-80a9-7f285eb12a53: 5.89 km\n"
     ]
    },
    {
     "data": {
      "text/html": [
       "\n",
       "        <iframe\n",
       "            width=\"700\"\n",
       "            height=\"600\"\n",
       "            src=\"maps\\driver_0e54a95a-a122-46ee-80a9-7f285eb12a53_map.html\"\n",
       "            frameborder=\"0\"\n",
       "            allowfullscreen\n",
       "            \n",
       "        ></iframe>\n",
       "        "
      ],
      "text/plain": [
       "<IPython.lib.display.IFrame at 0x17eaf529b10>"
      ]
     },
     "metadata": {},
     "output_type": "display_data"
    },
    {
     "name": "stdout",
     "output_type": "stream",
     "text": [
      "\n",
      "Processing driver: 0e75fff9-c749-44ff-b749-0f7fe74881ba\n",
      "Total fine for driver 0e75fff9-c749-44ff-b749-0f7fe74881ba: Rs 0.00\n",
      "Difference between rides for driver 0e75fff9-c749-44ff-b749-0f7fe74881ba:\n",
      "Total distance traveled by driver 0e75fff9-c749-44ff-b749-0f7fe74881ba: 0.00 km\n"
     ]
    },
    {
     "data": {
      "text/html": [
       "\n",
       "        <iframe\n",
       "            width=\"700\"\n",
       "            height=\"600\"\n",
       "            src=\"maps\\driver_0e75fff9-c749-44ff-b749-0f7fe74881ba_map.html\"\n",
       "            frameborder=\"0\"\n",
       "            allowfullscreen\n",
       "            \n",
       "        ></iframe>\n",
       "        "
      ],
      "text/plain": [
       "<IPython.lib.display.IFrame at 0x17eae521ff0>"
      ]
     },
     "metadata": {},
     "output_type": "display_data"
    },
    {
     "name": "stdout",
     "output_type": "stream",
     "text": [
      "\n",
      "Processing driver: 0e784e34-eb53-411d-98c4-6c620d0d6db4\n",
      "Total fine for driver 0e784e34-eb53-411d-98c4-6c620d0d6db4: Rs 254.27\n",
      "Difference between rides for driver 0e784e34-eb53-411d-98c4-6c620d0d6db4:\n",
      "   Distance between trip 1 and trip 2: 2.14 km\n",
      "   Distance between trip 2 and trip 3: 1.13 km\n",
      "   Distance between trip 3 and trip 4: 27.64 km\n",
      "   Distance between trip 4 and trip 5: 0.08 km\n",
      "   Distance between trip 5 and trip 6: 0.00 km\n",
      "   Distance between trip 6 and trip 7: 0.01 km\n",
      "   Distance between trip 7 and trip 8: 11.25 km\n",
      "   Distance between trip 8 and trip 9: 0.37 km\n",
      "   Distance between trip 9 and trip 10: 0.80 km\n",
      "   Distance between trip 10 and trip 11: 16.54 km\n",
      "   Distance between trip 11 and trip 12: 0.82 km\n",
      "   Distance between trip 12 and trip 13: 1.20 km\n",
      "Total distance traveled by driver 0e784e34-eb53-411d-98c4-6c620d0d6db4: 61.97 km\n"
     ]
    },
    {
     "data": {
      "text/html": [
       "\n",
       "        <iframe\n",
       "            width=\"700\"\n",
       "            height=\"600\"\n",
       "            src=\"maps\\driver_0e784e34-eb53-411d-98c4-6c620d0d6db4_map.html\"\n",
       "            frameborder=\"0\"\n",
       "            allowfullscreen\n",
       "            \n",
       "        ></iframe>\n",
       "        "
      ],
      "text/plain": [
       "<IPython.lib.display.IFrame at 0x17eae4ff970>"
      ]
     },
     "metadata": {},
     "output_type": "display_data"
    },
    {
     "name": "stdout",
     "output_type": "stream",
     "text": [
      "\n",
      "Processing driver: 0e7a6f5e-b7aa-4888-85e1-ffc5fe8af648\n",
      "Total fine for driver 0e7a6f5e-b7aa-4888-85e1-ffc5fe8af648: Rs 0.00\n",
      "Difference between rides for driver 0e7a6f5e-b7aa-4888-85e1-ffc5fe8af648:\n",
      "   Distance between trip 1 and trip 2: 0.00 km\n",
      "   Distance between trip 2 and trip 3: 0.70 km\n",
      "   Distance between trip 3 and trip 4: 1.89 km\n",
      "   Distance between trip 4 and trip 5: 1.01 km\n",
      "   Distance between trip 5 and trip 6: 5.05 km\n",
      "   Distance between trip 6 and trip 7: 1.90 km\n",
      "   Distance between trip 7 and trip 8: 1.76 km\n",
      "   Distance between trip 8 and trip 9: 0.68 km\n",
      "   Distance between trip 9 and trip 10: 2.09 km\n",
      "   Distance between trip 10 and trip 11: 0.06 km\n",
      "   Distance between trip 11 and trip 12: 0.00 km\n",
      "   Distance between trip 12 and trip 13: 0.61 km\n",
      "   Distance between trip 13 and trip 14: 0.59 km\n",
      "Total distance traveled by driver 0e7a6f5e-b7aa-4888-85e1-ffc5fe8af648: 16.34 km\n"
     ]
    },
    {
     "data": {
      "text/html": [
       "\n",
       "        <iframe\n",
       "            width=\"700\"\n",
       "            height=\"600\"\n",
       "            src=\"maps\\driver_0e7a6f5e-b7aa-4888-85e1-ffc5fe8af648_map.html\"\n",
       "            frameborder=\"0\"\n",
       "            allowfullscreen\n",
       "            \n",
       "        ></iframe>\n",
       "        "
      ],
      "text/plain": [
       "<IPython.lib.display.IFrame at 0x17eb3a0b340>"
      ]
     },
     "metadata": {},
     "output_type": "display_data"
    },
    {
     "name": "stdout",
     "output_type": "stream",
     "text": [
      "\n",
      "Processing driver: 0e856a9d-4b61-45ab-b1aa-f3d91cd69990\n",
      "Total fine for driver 0e856a9d-4b61-45ab-b1aa-f3d91cd69990: Rs 266.90\n",
      "Difference between rides for driver 0e856a9d-4b61-45ab-b1aa-f3d91cd69990:\n",
      "   Distance between trip 1 and trip 2: 36.69 km\n",
      "   Distance between trip 2 and trip 3: 0.44 km\n",
      "   Distance between trip 3 and trip 4: 0.13 km\n",
      "   Distance between trip 4 and trip 5: 2.69 km\n",
      "   Distance between trip 5 and trip 6: 0.82 km\n",
      "   Distance between trip 6 and trip 7: 0.14 km\n",
      "   Distance between trip 7 and trip 8: 1.60 km\n",
      "Total distance traveled by driver 0e856a9d-4b61-45ab-b1aa-f3d91cd69990: 42.51 km\n"
     ]
    },
    {
     "data": {
      "text/html": [
       "\n",
       "        <iframe\n",
       "            width=\"700\"\n",
       "            height=\"600\"\n",
       "            src=\"maps\\driver_0e856a9d-4b61-45ab-b1aa-f3d91cd69990_map.html\"\n",
       "            frameborder=\"0\"\n",
       "            allowfullscreen\n",
       "            \n",
       "        ></iframe>\n",
       "        "
      ],
      "text/plain": [
       "<IPython.lib.display.IFrame at 0x17eae4ffa90>"
      ]
     },
     "metadata": {},
     "output_type": "display_data"
    },
    {
     "name": "stdout",
     "output_type": "stream",
     "text": [
      "\n",
      "Processing driver: 0e8b19fb-04e6-4dea-b2f3-4f0bf2420571\n",
      "Total fine for driver 0e8b19fb-04e6-4dea-b2f3-4f0bf2420571: Rs 31.27\n",
      "Difference between rides for driver 0e8b19fb-04e6-4dea-b2f3-4f0bf2420571:\n",
      "   Distance between trip 1 and trip 2: 0.00 km\n",
      "   Distance between trip 2 and trip 3: 0.40 km\n",
      "   Distance between trip 3 and trip 4: 2.32 km\n",
      "   Distance between trip 4 and trip 5: 10.25 km\n",
      "   Distance between trip 5 and trip 6: 1.50 km\n",
      "   Distance between trip 6 and trip 7: 12.87 km\n",
      "   Distance between trip 7 and trip 8: 0.35 km\n",
      "   Distance between trip 8 and trip 9: 0.92 km\n",
      "   Distance between trip 9 and trip 10: 0.08 km\n",
      "   Distance between trip 10 and trip 11: 2.00 km\n",
      "   Distance between trip 11 and trip 12: 1.09 km\n",
      "   Distance between trip 12 and trip 13: 0.03 km\n",
      "   Distance between trip 13 and trip 14: 0.23 km\n",
      "   Distance between trip 14 and trip 15: 0.62 km\n",
      "   Distance between trip 15 and trip 16: 0.24 km\n",
      "   Distance between trip 16 and trip 17: 0.72 km\n",
      "   Distance between trip 17 and trip 18: 1.46 km\n",
      "   Distance between trip 18 and trip 19: 0.20 km\n",
      "   Distance between trip 19 and trip 20: 0.68 km\n",
      "Total distance traveled by driver 0e8b19fb-04e6-4dea-b2f3-4f0bf2420571: 35.97 km\n"
     ]
    },
    {
     "data": {
      "text/html": [
       "\n",
       "        <iframe\n",
       "            width=\"700\"\n",
       "            height=\"600\"\n",
       "            src=\"maps\\driver_0e8b19fb-04e6-4dea-b2f3-4f0bf2420571_map.html\"\n",
       "            frameborder=\"0\"\n",
       "            allowfullscreen\n",
       "            \n",
       "        ></iframe>\n",
       "        "
      ],
      "text/plain": [
       "<IPython.lib.display.IFrame at 0x17eb3a50d60>"
      ]
     },
     "metadata": {},
     "output_type": "display_data"
    },
    {
     "name": "stdout",
     "output_type": "stream",
     "text": [
      "\n",
      "Processing driver: 0e94b9bf-d93b-43d9-a5a2-8aa602c6ceaf\n",
      "Total fine for driver 0e94b9bf-d93b-43d9-a5a2-8aa602c6ceaf: Rs 0.00\n",
      "Difference between rides for driver 0e94b9bf-d93b-43d9-a5a2-8aa602c6ceaf:\n",
      "   Distance between trip 1 and trip 2: 0.11 km\n",
      "   Distance between trip 2 and trip 3: 0.04 km\n",
      "   Distance between trip 3 and trip 4: 2.97 km\n",
      "   Distance between trip 4 and trip 5: 0.20 km\n",
      "   Distance between trip 5 and trip 6: 0.77 km\n",
      "   Distance between trip 6 and trip 7: 4.54 km\n",
      "   Distance between trip 7 and trip 8: 4.36 km\n",
      "   Distance between trip 8 and trip 9: 2.99 km\n",
      "   Distance between trip 9 and trip 10: 0.02 km\n",
      "   Distance between trip 10 and trip 11: 0.83 km\n",
      "   Distance between trip 11 and trip 12: 0.00 km\n",
      "   Distance between trip 12 and trip 13: 0.54 km\n",
      "   Distance between trip 13 and trip 14: 1.59 km\n",
      "   Distance between trip 14 and trip 15: 3.65 km\n",
      "   Distance between trip 15 and trip 16: 0.00 km\n",
      "   Distance between trip 16 and trip 17: 0.13 km\n",
      "   Distance between trip 17 and trip 18: 1.95 km\n",
      "   Distance between trip 18 and trip 19: 0.00 km\n",
      "   Distance between trip 19 and trip 20: 1.21 km\n",
      "   Distance between trip 20 and trip 21: 0.91 km\n",
      "Total distance traveled by driver 0e94b9bf-d93b-43d9-a5a2-8aa602c6ceaf: 26.82 km\n"
     ]
    },
    {
     "data": {
      "text/html": [
       "\n",
       "        <iframe\n",
       "            width=\"700\"\n",
       "            height=\"600\"\n",
       "            src=\"maps\\driver_0e94b9bf-d93b-43d9-a5a2-8aa602c6ceaf_map.html\"\n",
       "            frameborder=\"0\"\n",
       "            allowfullscreen\n",
       "            \n",
       "        ></iframe>\n",
       "        "
      ],
      "text/plain": [
       "<IPython.lib.display.IFrame at 0x17eaad476a0>"
      ]
     },
     "metadata": {},
     "output_type": "display_data"
    },
    {
     "name": "stdout",
     "output_type": "stream",
     "text": [
      "\n",
      "Processing driver: 0ec9f517-29d7-40be-8b50-b2214b0138c6\n",
      "Total fine for driver 0ec9f517-29d7-40be-8b50-b2214b0138c6: Rs 0.00\n",
      "Difference between rides for driver 0ec9f517-29d7-40be-8b50-b2214b0138c6:\n",
      "   Distance between trip 1 and trip 2: 2.01 km\n",
      "   Distance between trip 2 and trip 3: 0.00 km\n",
      "   Distance between trip 3 and trip 4: 0.31 km\n",
      "   Distance between trip 4 and trip 5: 6.71 km\n",
      "   Distance between trip 5 and trip 6: 6.83 km\n",
      "Total distance traveled by driver 0ec9f517-29d7-40be-8b50-b2214b0138c6: 15.87 km\n"
     ]
    },
    {
     "data": {
      "text/html": [
       "\n",
       "        <iframe\n",
       "            width=\"700\"\n",
       "            height=\"600\"\n",
       "            src=\"maps\\driver_0ec9f517-29d7-40be-8b50-b2214b0138c6_map.html\"\n",
       "            frameborder=\"0\"\n",
       "            allowfullscreen\n",
       "            \n",
       "        ></iframe>\n",
       "        "
      ],
      "text/plain": [
       "<IPython.lib.display.IFrame at 0x17eaf529b10>"
      ]
     },
     "metadata": {},
     "output_type": "display_data"
    },
    {
     "name": "stdout",
     "output_type": "stream",
     "text": [
      "\n",
      "Processing driver: 0ecba0d1-5ac2-48de-b261-f2235f849d03\n",
      "Total fine for driver 0ecba0d1-5ac2-48de-b261-f2235f849d03: Rs 122.85\n",
      "Difference between rides for driver 0ecba0d1-5ac2-48de-b261-f2235f849d03:\n",
      "   Distance between trip 1 and trip 2: 0.08 km\n",
      "   Distance between trip 2 and trip 3: 1.96 km\n",
      "   Distance between trip 3 and trip 4: 22.29 km\n",
      "   Distance between trip 4 and trip 5: 0.86 km\n",
      "   Distance between trip 5 and trip 6: 0.88 km\n",
      "Total distance traveled by driver 0ecba0d1-5ac2-48de-b261-f2235f849d03: 26.06 km\n"
     ]
    },
    {
     "data": {
      "text/html": [
       "\n",
       "        <iframe\n",
       "            width=\"700\"\n",
       "            height=\"600\"\n",
       "            src=\"maps\\driver_0ecba0d1-5ac2-48de-b261-f2235f849d03_map.html\"\n",
       "            frameborder=\"0\"\n",
       "            allowfullscreen\n",
       "            \n",
       "        ></iframe>\n",
       "        "
      ],
      "text/plain": [
       "<IPython.lib.display.IFrame at 0x17eae5222f0>"
      ]
     },
     "metadata": {},
     "output_type": "display_data"
    },
    {
     "name": "stdout",
     "output_type": "stream",
     "text": [
      "\n",
      "Processing driver: 0edbfb68-5dc6-495a-ad54-99aef7e88035\n",
      "Total fine for driver 0edbfb68-5dc6-495a-ad54-99aef7e88035: Rs 191.49\n",
      "Difference between rides for driver 0edbfb68-5dc6-495a-ad54-99aef7e88035:\n",
      "   Distance between trip 1 and trip 2: 1.43 km\n",
      "   Distance between trip 2 and trip 3: 1.79 km\n",
      "   Distance between trip 3 and trip 4: 0.44 km\n",
      "   Distance between trip 4 and trip 5: 0.31 km\n",
      "   Distance between trip 5 and trip 6: 0.60 km\n",
      "   Distance between trip 6 and trip 7: 0.67 km\n",
      "   Distance between trip 7 and trip 8: 1.50 km\n",
      "   Distance between trip 8 and trip 9: 1.54 km\n",
      "   Distance between trip 9 and trip 10: 0.44 km\n",
      "   Distance between trip 10 and trip 11: 0.09 km\n",
      "   Distance between trip 11 and trip 12: 1.54 km\n",
      "   Distance between trip 12 and trip 13: 0.42 km\n",
      "   Distance between trip 13 and trip 14: 19.57 km\n",
      "   Distance between trip 14 and trip 15: 19.57 km\n",
      "   Distance between trip 15 and trip 16: 0.59 km\n",
      "   Distance between trip 16 and trip 17: 0.71 km\n",
      "   Distance between trip 17 and trip 18: 0.06 km\n",
      "   Distance between trip 18 and trip 19: 1.74 km\n",
      "   Distance between trip 19 and trip 20: 0.03 km\n",
      "   Distance between trip 20 and trip 21: 0.72 km\n",
      "   Distance between trip 21 and trip 22: 0.80 km\n",
      "Total distance traveled by driver 0edbfb68-5dc6-495a-ad54-99aef7e88035: 54.58 km\n"
     ]
    },
    {
     "data": {
      "text/html": [
       "\n",
       "        <iframe\n",
       "            width=\"700\"\n",
       "            height=\"600\"\n",
       "            src=\"maps\\driver_0edbfb68-5dc6-495a-ad54-99aef7e88035_map.html\"\n",
       "            frameborder=\"0\"\n",
       "            allowfullscreen\n",
       "            \n",
       "        ></iframe>\n",
       "        "
      ],
      "text/plain": [
       "<IPython.lib.display.IFrame at 0x17eb3a52d70>"
      ]
     },
     "metadata": {},
     "output_type": "display_data"
    },
    {
     "name": "stdout",
     "output_type": "stream",
     "text": [
      "\n",
      "Processing driver: 0f040a1a-39af-432c-a86b-968327750243\n",
      "Total fine for driver 0f040a1a-39af-432c-a86b-968327750243: Rs 321.66\n",
      "Difference between rides for driver 0f040a1a-39af-432c-a86b-968327750243:\n",
      "   Distance between trip 1 and trip 2: 42.17 km\n",
      "   Distance between trip 2 and trip 3: 0.57 km\n",
      "   Distance between trip 3 and trip 4: 0.97 km\n",
      "   Distance between trip 4 and trip 5: 0.30 km\n",
      "   Distance between trip 5 and trip 6: 0.86 km\n",
      "   Distance between trip 6 and trip 7: 0.77 km\n",
      "Total distance traveled by driver 0f040a1a-39af-432c-a86b-968327750243: 45.64 km\n"
     ]
    },
    {
     "data": {
      "text/html": [
       "\n",
       "        <iframe\n",
       "            width=\"700\"\n",
       "            height=\"600\"\n",
       "            src=\"maps\\driver_0f040a1a-39af-432c-a86b-968327750243_map.html\"\n",
       "            frameborder=\"0\"\n",
       "            allowfullscreen\n",
       "            \n",
       "        ></iframe>\n",
       "        "
      ],
      "text/plain": [
       "<IPython.lib.display.IFrame at 0x17eae4ff970>"
      ]
     },
     "metadata": {},
     "output_type": "display_data"
    },
    {
     "name": "stdout",
     "output_type": "stream",
     "text": [
      "\n",
      "Processing driver: 0f0c2662-024d-4a04-a06c-b014a667796d\n",
      "Total fine for driver 0f0c2662-024d-4a04-a06c-b014a667796d: Rs 72.07\n",
      "Difference between rides for driver 0f0c2662-024d-4a04-a06c-b014a667796d:\n",
      "   Distance between trip 1 and trip 2: 0.37 km\n",
      "   Distance between trip 2 and trip 3: 0.26 km\n",
      "   Distance between trip 3 and trip 4: 1.01 km\n",
      "   Distance between trip 4 and trip 5: 0.65 km\n",
      "   Distance between trip 5 and trip 6: 0.35 km\n",
      "   Distance between trip 6 and trip 7: 17.21 km\n",
      "   Distance between trip 7 and trip 8: 3.32 km\n",
      "   Distance between trip 8 and trip 9: 1.27 km\n",
      "   Distance between trip 9 and trip 10: 0.18 km\n",
      "   Distance between trip 10 and trip 11: 1.70 km\n",
      "   Distance between trip 11 and trip 12: 5.16 km\n",
      "   Distance between trip 12 and trip 13: 0.53 km\n",
      "   Distance between trip 13 and trip 14: 0.17 km\n",
      "   Distance between trip 14 and trip 15: 4.02 km\n",
      "Total distance traveled by driver 0f0c2662-024d-4a04-a06c-b014a667796d: 36.20 km\n"
     ]
    },
    {
     "data": {
      "text/html": [
       "\n",
       "        <iframe\n",
       "            width=\"700\"\n",
       "            height=\"600\"\n",
       "            src=\"maps\\driver_0f0c2662-024d-4a04-a06c-b014a667796d_map.html\"\n",
       "            frameborder=\"0\"\n",
       "            allowfullscreen\n",
       "            \n",
       "        ></iframe>\n",
       "        "
      ],
      "text/plain": [
       "<IPython.lib.display.IFrame at 0x17eb3a0a290>"
      ]
     },
     "metadata": {},
     "output_type": "display_data"
    },
    {
     "name": "stdout",
     "output_type": "stream",
     "text": [
      "\n",
      "Processing driver: 0f482389-8183-495a-affa-054f1ebe5753\n",
      "Total fine for driver 0f482389-8183-495a-affa-054f1ebe5753: Rs 0.00\n",
      "Difference between rides for driver 0f482389-8183-495a-affa-054f1ebe5753:\n",
      "   Distance between trip 1 and trip 2: 0.06 km\n",
      "   Distance between trip 2 and trip 3: 1.12 km\n",
      "   Distance between trip 3 and trip 4: 0.25 km\n",
      "   Distance between trip 4 and trip 5: 0.03 km\n",
      "   Distance between trip 5 and trip 6: 0.00 km\n",
      "   Distance between trip 6 and trip 7: 0.79 km\n",
      "   Distance between trip 7 and trip 8: 0.49 km\n",
      "   Distance between trip 8 and trip 9: 0.81 km\n",
      "   Distance between trip 9 and trip 10: 1.58 km\n",
      "   Distance between trip 10 and trip 11: 0.67 km\n",
      "Total distance traveled by driver 0f482389-8183-495a-affa-054f1ebe5753: 5.81 km\n"
     ]
    },
    {
     "data": {
      "text/html": [
       "\n",
       "        <iframe\n",
       "            width=\"700\"\n",
       "            height=\"600\"\n",
       "            src=\"maps\\driver_0f482389-8183-495a-affa-054f1ebe5753_map.html\"\n",
       "            frameborder=\"0\"\n",
       "            allowfullscreen\n",
       "            \n",
       "        ></iframe>\n",
       "        "
      ],
      "text/plain": [
       "<IPython.lib.display.IFrame at 0x17eb3a532b0>"
      ]
     },
     "metadata": {},
     "output_type": "display_data"
    },
    {
     "name": "stdout",
     "output_type": "stream",
     "text": [
      "\n",
      "Processing driver: 0f5ab106-855c-413c-b22e-ad933c8a6a1f\n",
      "Total fine for driver 0f5ab106-855c-413c-b22e-ad933c8a6a1f: Rs 68.68\n",
      "Difference between rides for driver 0f5ab106-855c-413c-b22e-ad933c8a6a1f:\n",
      "   Distance between trip 1 and trip 2: 0.28 km\n",
      "   Distance between trip 2 and trip 3: 0.55 km\n",
      "   Distance between trip 3 and trip 4: 1.72 km\n",
      "   Distance between trip 4 and trip 5: 0.31 km\n",
      "   Distance between trip 5 and trip 6: 3.30 km\n",
      "   Distance between trip 6 and trip 7: 0.97 km\n",
      "   Distance between trip 7 and trip 8: 0.20 km\n",
      "   Distance between trip 8 and trip 9: 0.20 km\n",
      "   Distance between trip 9 and trip 10: 0.23 km\n",
      "   Distance between trip 10 and trip 11: 0.17 km\n",
      "   Distance between trip 11 and trip 12: 0.23 km\n",
      "   Distance between trip 12 and trip 13: 16.87 km\n",
      "Total distance traveled by driver 0f5ab106-855c-413c-b22e-ad933c8a6a1f: 25.01 km\n"
     ]
    },
    {
     "data": {
      "text/html": [
       "\n",
       "        <iframe\n",
       "            width=\"700\"\n",
       "            height=\"600\"\n",
       "            src=\"maps\\driver_0f5ab106-855c-413c-b22e-ad933c8a6a1f_map.html\"\n",
       "            frameborder=\"0\"\n",
       "            allowfullscreen\n",
       "            \n",
       "        ></iframe>\n",
       "        "
      ],
      "text/plain": [
       "<IPython.lib.display.IFrame at 0x17eb3a09b70>"
      ]
     },
     "metadata": {},
     "output_type": "display_data"
    },
    {
     "name": "stdout",
     "output_type": "stream",
     "text": [
      "\n",
      "Processing driver: 0f72a569-9bab-420f-b768-bd51f6c94db9\n",
      "Total fine for driver 0f72a569-9bab-420f-b768-bd51f6c94db9: Rs 0.00\n",
      "Difference between rides for driver 0f72a569-9bab-420f-b768-bd51f6c94db9:\n",
      "   Distance between trip 1 and trip 2: 1.48 km\n",
      "   Distance between trip 2 and trip 3: 0.21 km\n",
      "   Distance between trip 3 and trip 4: 1.75 km\n",
      "   Distance between trip 4 and trip 5: 0.43 km\n",
      "   Distance between trip 5 and trip 6: 1.86 km\n",
      "   Distance between trip 6 and trip 7: 0.61 km\n",
      "   Distance between trip 7 and trip 8: 1.79 km\n",
      "   Distance between trip 8 and trip 9: 1.21 km\n",
      "   Distance between trip 9 and trip 10: 1.09 km\n",
      "   Distance between trip 10 and trip 11: 0.14 km\n",
      "   Distance between trip 11 and trip 12: 0.03 km\n",
      "   Distance between trip 12 and trip 13: 0.38 km\n",
      "   Distance between trip 13 and trip 14: 0.51 km\n",
      "Total distance traveled by driver 0f72a569-9bab-420f-b768-bd51f6c94db9: 11.49 km\n"
     ]
    },
    {
     "data": {
      "text/html": [
       "\n",
       "        <iframe\n",
       "            width=\"700\"\n",
       "            height=\"600\"\n",
       "            src=\"maps\\driver_0f72a569-9bab-420f-b768-bd51f6c94db9_map.html\"\n",
       "            frameborder=\"0\"\n",
       "            allowfullscreen\n",
       "            \n",
       "        ></iframe>\n",
       "        "
      ],
      "text/plain": [
       "<IPython.lib.display.IFrame at 0x17eae4ff970>"
      ]
     },
     "metadata": {},
     "output_type": "display_data"
    },
    {
     "name": "stdout",
     "output_type": "stream",
     "text": [
      "\n",
      "Processing driver: 0f767d3d-5a8e-4502-8583-e90c043da99e\n",
      "Total fine for driver 0f767d3d-5a8e-4502-8583-e90c043da99e: Rs 0.00\n",
      "Difference between rides for driver 0f767d3d-5a8e-4502-8583-e90c043da99e:\n",
      "   Distance between trip 1 and trip 2: 1.42 km\n",
      "   Distance between trip 2 and trip 3: 1.82 km\n",
      "   Distance between trip 3 and trip 4: 2.35 km\n",
      "   Distance between trip 4 and trip 5: 0.09 km\n",
      "Total distance traveled by driver 0f767d3d-5a8e-4502-8583-e90c043da99e: 5.68 km\n"
     ]
    },
    {
     "data": {
      "text/html": [
       "\n",
       "        <iframe\n",
       "            width=\"700\"\n",
       "            height=\"600\"\n",
       "            src=\"maps\\driver_0f767d3d-5a8e-4502-8583-e90c043da99e_map.html\"\n",
       "            frameborder=\"0\"\n",
       "            allowfullscreen\n",
       "            \n",
       "        ></iframe>\n",
       "        "
      ],
      "text/plain": [
       "<IPython.lib.display.IFrame at 0x17eaad46140>"
      ]
     },
     "metadata": {},
     "output_type": "display_data"
    },
    {
     "name": "stdout",
     "output_type": "stream",
     "text": [
      "\n",
      "Processing driver: 0f7d3c21-f4dd-4da4-aacf-70c3aaa71ac2\n",
      "Total fine for driver 0f7d3c21-f4dd-4da4-aacf-70c3aaa71ac2: Rs 0.00\n",
      "Difference between rides for driver 0f7d3c21-f4dd-4da4-aacf-70c3aaa71ac2:\n",
      "   Distance between trip 1 and trip 2: 3.58 km\n",
      "   Distance between trip 2 and trip 3: 3.75 km\n",
      "   Distance between trip 3 and trip 4: 3.71 km\n",
      "   Distance between trip 4 and trip 5: 0.11 km\n",
      "Total distance traveled by driver 0f7d3c21-f4dd-4da4-aacf-70c3aaa71ac2: 11.15 km\n"
     ]
    },
    {
     "data": {
      "text/html": [
       "\n",
       "        <iframe\n",
       "            width=\"700\"\n",
       "            height=\"600\"\n",
       "            src=\"maps\\driver_0f7d3c21-f4dd-4da4-aacf-70c3aaa71ac2_map.html\"\n",
       "            frameborder=\"0\"\n",
       "            allowfullscreen\n",
       "            \n",
       "        ></iframe>\n",
       "        "
      ],
      "text/plain": [
       "<IPython.lib.display.IFrame at 0x17eb3a0bfd0>"
      ]
     },
     "metadata": {},
     "output_type": "display_data"
    },
    {
     "name": "stdout",
     "output_type": "stream",
     "text": [
      "\n",
      "Processing driver: 0f9ac974-746d-4a8f-b58b-ef53fbacf1a3\n",
      "Total fine for driver 0f9ac974-746d-4a8f-b58b-ef53fbacf1a3: Rs 0.00\n",
      "Difference between rides for driver 0f9ac974-746d-4a8f-b58b-ef53fbacf1a3:\n",
      "   Distance between trip 1 and trip 2: 1.85 km\n",
      "   Distance between trip 2 and trip 3: 1.13 km\n",
      "   Distance between trip 3 and trip 4: 0.59 km\n",
      "   Distance between trip 4 and trip 5: 0.29 km\n",
      "   Distance between trip 5 and trip 6: 0.06 km\n",
      "   Distance between trip 6 and trip 7: 2.17 km\n",
      "   Distance between trip 7 and trip 8: 0.57 km\n",
      "   Distance between trip 8 and trip 9: 0.33 km\n",
      "   Distance between trip 9 and trip 10: 0.17 km\n",
      "   Distance between trip 10 and trip 11: 5.58 km\n",
      "Total distance traveled by driver 0f9ac974-746d-4a8f-b58b-ef53fbacf1a3: 12.75 km\n"
     ]
    },
    {
     "data": {
      "text/html": [
       "\n",
       "        <iframe\n",
       "            width=\"700\"\n",
       "            height=\"600\"\n",
       "            src=\"maps\\driver_0f9ac974-746d-4a8f-b58b-ef53fbacf1a3_map.html\"\n",
       "            frameborder=\"0\"\n",
       "            allowfullscreen\n",
       "            \n",
       "        ></iframe>\n",
       "        "
      ],
      "text/plain": [
       "<IPython.lib.display.IFrame at 0x17eb3a513c0>"
      ]
     },
     "metadata": {},
     "output_type": "display_data"
    },
    {
     "name": "stdout",
     "output_type": "stream",
     "text": [
      "\n",
      "Processing driver: 0ff6b524-9d80-45f7-864c-47f7c4c96c3d\n",
      "Total fine for driver 0ff6b524-9d80-45f7-864c-47f7c4c96c3d: Rs 194.39\n",
      "Difference between rides for driver 0ff6b524-9d80-45f7-864c-47f7c4c96c3d:\n",
      "   Distance between trip 1 and trip 2: 0.59 km\n",
      "   Distance between trip 2 and trip 3: 0.80 km\n",
      "   Distance between trip 3 and trip 4: 0.38 km\n",
      "   Distance between trip 4 and trip 5: 0.78 km\n",
      "   Distance between trip 5 and trip 6: 0.00 km\n",
      "   Distance between trip 6 and trip 7: 16.15 km\n",
      "   Distance between trip 7 and trip 8: 16.45 km\n",
      "   Distance between trip 8 and trip 9: 0.34 km\n",
      "   Distance between trip 9 and trip 10: 0.14 km\n",
      "   Distance between trip 10 and trip 11: 0.24 km\n",
      "   Distance between trip 11 and trip 12: 0.46 km\n",
      "   Distance between trip 12 and trip 13: 2.44 km\n",
      "   Distance between trip 13 and trip 14: 16.83 km\n",
      "Total distance traveled by driver 0ff6b524-9d80-45f7-864c-47f7c4c96c3d: 55.61 km\n"
     ]
    },
    {
     "data": {
      "text/html": [
       "\n",
       "        <iframe\n",
       "            width=\"700\"\n",
       "            height=\"600\"\n",
       "            src=\"maps\\driver_0ff6b524-9d80-45f7-864c-47f7c4c96c3d_map.html\"\n",
       "            frameborder=\"0\"\n",
       "            allowfullscreen\n",
       "            \n",
       "        ></iframe>\n",
       "        "
      ],
      "text/plain": [
       "<IPython.lib.display.IFrame at 0x17eae4ff970>"
      ]
     },
     "metadata": {},
     "output_type": "display_data"
    },
    {
     "name": "stdout",
     "output_type": "stream",
     "text": [
      "\n",
      "Processing driver: 0ff9bd86-0cef-418e-b911-ba336875950b\n",
      "Total fine for driver 0ff9bd86-0cef-418e-b911-ba336875950b: Rs 3.68\n",
      "Difference between rides for driver 0ff9bd86-0cef-418e-b911-ba336875950b:\n",
      "   Distance between trip 1 and trip 2: 0.05 km\n",
      "   Distance between trip 2 and trip 3: 3.43 km\n",
      "   Distance between trip 3 and trip 4: 10.37 km\n",
      "   Distance between trip 4 and trip 5: 0.87 km\n",
      "Total distance traveled by driver 0ff9bd86-0cef-418e-b911-ba336875950b: 14.72 km\n"
     ]
    },
    {
     "data": {
      "text/html": [
       "\n",
       "        <iframe\n",
       "            width=\"700\"\n",
       "            height=\"600\"\n",
       "            src=\"maps\\driver_0ff9bd86-0cef-418e-b911-ba336875950b_map.html\"\n",
       "            frameborder=\"0\"\n",
       "            allowfullscreen\n",
       "            \n",
       "        ></iframe>\n",
       "        "
      ],
      "text/plain": [
       "<IPython.lib.display.IFrame at 0x17eaad46140>"
      ]
     },
     "metadata": {},
     "output_type": "display_data"
    },
    {
     "name": "stdout",
     "output_type": "stream",
     "text": [
      "\n",
      "Processing driver: 100cca6e-42fa-40e5-b357-dc021bb5405e\n",
      "Total fine for driver 100cca6e-42fa-40e5-b357-dc021bb5405e: Rs 0.00\n",
      "Difference between rides for driver 100cca6e-42fa-40e5-b357-dc021bb5405e:\n",
      "   Distance between trip 1 and trip 2: 0.65 km\n",
      "   Distance between trip 2 and trip 3: 1.87 km\n",
      "   Distance between trip 3 and trip 4: 8.58 km\n",
      "   Distance between trip 4 and trip 5: 8.42 km\n",
      "   Distance between trip 5 and trip 6: 1.31 km\n",
      "   Distance between trip 6 and trip 7: 0.15 km\n",
      "   Distance between trip 7 and trip 8: 0.46 km\n",
      "   Distance between trip 8 and trip 9: 0.31 km\n",
      "   Distance between trip 9 and trip 10: 0.58 km\n",
      "Total distance traveled by driver 100cca6e-42fa-40e5-b357-dc021bb5405e: 22.33 km\n"
     ]
    },
    {
     "data": {
      "text/html": [
       "\n",
       "        <iframe\n",
       "            width=\"700\"\n",
       "            height=\"600\"\n",
       "            src=\"maps\\driver_100cca6e-42fa-40e5-b357-dc021bb5405e_map.html\"\n",
       "            frameborder=\"0\"\n",
       "            allowfullscreen\n",
       "            \n",
       "        ></iframe>\n",
       "        "
      ],
      "text/plain": [
       "<IPython.lib.display.IFrame at 0x17eae4ffa90>"
      ]
     },
     "metadata": {},
     "output_type": "display_data"
    },
    {
     "name": "stdout",
     "output_type": "stream",
     "text": [
      "\n",
      "Processing driver: 10463326-3ef2-45cf-afc0-6d4a8421657f\n",
      "Total fine for driver 10463326-3ef2-45cf-afc0-6d4a8421657f: Rs 0.00\n",
      "Difference between rides for driver 10463326-3ef2-45cf-afc0-6d4a8421657f:\n",
      "   Distance between trip 1 and trip 2: 2.06 km\n",
      "   Distance between trip 2 and trip 3: 0.00 km\n",
      "   Distance between trip 3 and trip 4: 0.77 km\n",
      "   Distance between trip 4 and trip 5: 0.37 km\n",
      "   Distance between trip 5 and trip 6: 0.02 km\n",
      "   Distance between trip 6 and trip 7: 2.61 km\n",
      "Total distance traveled by driver 10463326-3ef2-45cf-afc0-6d4a8421657f: 5.83 km\n"
     ]
    },
    {
     "data": {
      "text/html": [
       "\n",
       "        <iframe\n",
       "            width=\"700\"\n",
       "            height=\"600\"\n",
       "            src=\"maps\\driver_10463326-3ef2-45cf-afc0-6d4a8421657f_map.html\"\n",
       "            frameborder=\"0\"\n",
       "            allowfullscreen\n",
       "            \n",
       "        ></iframe>\n",
       "        "
      ],
      "text/plain": [
       "<IPython.lib.display.IFrame at 0x17eb3a0b790>"
      ]
     },
     "metadata": {},
     "output_type": "display_data"
    },
    {
     "name": "stdout",
     "output_type": "stream",
     "text": [
      "\n",
      "Processing driver: 10a8be4b-c055-485d-bd37-c6828bb94812\n",
      "Total fine for driver 10a8be4b-c055-485d-bd37-c6828bb94812: Rs 0.00\n",
      "Difference between rides for driver 10a8be4b-c055-485d-bd37-c6828bb94812:\n",
      "   Distance between trip 1 and trip 2: 0.33 km\n",
      "   Distance between trip 2 and trip 3: 0.58 km\n",
      "   Distance between trip 3 and trip 4: 0.42 km\n",
      "   Distance between trip 4 and trip 5: 2.22 km\n",
      "   Distance between trip 5 and trip 6: 0.28 km\n",
      "   Distance between trip 6 and trip 7: 0.28 km\n",
      "   Distance between trip 7 and trip 8: 3.25 km\n",
      "   Distance between trip 8 and trip 9: 1.10 km\n",
      "   Distance between trip 9 and trip 10: 1.44 km\n",
      "   Distance between trip 10 and trip 11: 1.70 km\n",
      "Total distance traveled by driver 10a8be4b-c055-485d-bd37-c6828bb94812: 11.59 km\n"
     ]
    },
    {
     "data": {
      "text/html": [
       "\n",
       "        <iframe\n",
       "            width=\"700\"\n",
       "            height=\"600\"\n",
       "            src=\"maps\\driver_10a8be4b-c055-485d-bd37-c6828bb94812_map.html\"\n",
       "            frameborder=\"0\"\n",
       "            allowfullscreen\n",
       "            \n",
       "        ></iframe>\n",
       "        "
      ],
      "text/plain": [
       "<IPython.lib.display.IFrame at 0x17eb3a52b90>"
      ]
     },
     "metadata": {},
     "output_type": "display_data"
    },
    {
     "name": "stdout",
     "output_type": "stream",
     "text": [
      "\n",
      "Processing driver: 10b86b1a-fab4-4df5-9c48-5b766cc49274\n",
      "Total fine for driver 10b86b1a-fab4-4df5-9c48-5b766cc49274: Rs 0.00\n",
      "Difference between rides for driver 10b86b1a-fab4-4df5-9c48-5b766cc49274:\n",
      "Total distance traveled by driver 10b86b1a-fab4-4df5-9c48-5b766cc49274: 0.00 km\n"
     ]
    },
    {
     "data": {
      "text/html": [
       "\n",
       "        <iframe\n",
       "            width=\"700\"\n",
       "            height=\"600\"\n",
       "            src=\"maps\\driver_10b86b1a-fab4-4df5-9c48-5b766cc49274_map.html\"\n",
       "            frameborder=\"0\"\n",
       "            allowfullscreen\n",
       "            \n",
       "        ></iframe>\n",
       "        "
      ],
      "text/plain": [
       "<IPython.lib.display.IFrame at 0x17eb3a50610>"
      ]
     },
     "metadata": {},
     "output_type": "display_data"
    },
    {
     "name": "stdout",
     "output_type": "stream",
     "text": [
      "\n",
      "Processing driver: 11397f39-6702-40b3-b646-10e995134402\n",
      "Total fine for driver 11397f39-6702-40b3-b646-10e995134402: Rs 0.00\n",
      "Difference between rides for driver 11397f39-6702-40b3-b646-10e995134402:\n",
      "   Distance between trip 1 and trip 2: 0.25 km\n",
      "   Distance between trip 2 and trip 3: 3.28 km\n",
      "   Distance between trip 3 and trip 4: 0.35 km\n",
      "   Distance between trip 4 and trip 5: 0.15 km\n",
      "   Distance between trip 5 and trip 6: 0.17 km\n",
      "   Distance between trip 6 and trip 7: 0.31 km\n",
      "   Distance between trip 7 and trip 8: 7.80 km\n",
      "   Distance between trip 8 and trip 9: 0.13 km\n",
      "   Distance between trip 9 and trip 10: 1.21 km\n",
      "   Distance between trip 10 and trip 11: 0.03 km\n",
      "   Distance between trip 11 and trip 12: 1.77 km\n",
      "Total distance traveled by driver 11397f39-6702-40b3-b646-10e995134402: 15.45 km\n"
     ]
    },
    {
     "data": {
      "text/html": [
       "\n",
       "        <iframe\n",
       "            width=\"700\"\n",
       "            height=\"600\"\n",
       "            src=\"maps\\driver_11397f39-6702-40b3-b646-10e995134402_map.html\"\n",
       "            frameborder=\"0\"\n",
       "            allowfullscreen\n",
       "            \n",
       "        ></iframe>\n",
       "        "
      ],
      "text/plain": [
       "<IPython.lib.display.IFrame at 0x17eae4ff970>"
      ]
     },
     "metadata": {},
     "output_type": "display_data"
    },
    {
     "name": "stdout",
     "output_type": "stream",
     "text": [
      "\n",
      "Processing driver: 11673d8c-6f95-4ccb-b1b6-d5af6e36b23f\n",
      "Total fine for driver 11673d8c-6f95-4ccb-b1b6-d5af6e36b23f: Rs 86.91\n",
      "Difference between rides for driver 11673d8c-6f95-4ccb-b1b6-d5af6e36b23f:\n",
      "   Distance between trip 1 and trip 2: 16.04 km\n",
      "   Distance between trip 2 and trip 3: 12.65 km\n",
      "Total distance traveled by driver 11673d8c-6f95-4ccb-b1b6-d5af6e36b23f: 28.69 km\n"
     ]
    },
    {
     "data": {
      "text/html": [
       "\n",
       "        <iframe\n",
       "            width=\"700\"\n",
       "            height=\"600\"\n",
       "            src=\"maps\\driver_11673d8c-6f95-4ccb-b1b6-d5af6e36b23f_map.html\"\n",
       "            frameborder=\"0\"\n",
       "            allowfullscreen\n",
       "            \n",
       "        ></iframe>\n",
       "        "
      ],
      "text/plain": [
       "<IPython.lib.display.IFrame at 0x17eb3a027d0>"
      ]
     },
     "metadata": {},
     "output_type": "display_data"
    },
    {
     "name": "stdout",
     "output_type": "stream",
     "text": [
      "\n",
      "Processing driver: 119c1e77-222b-47a9-90ec-05eb6521e573\n",
      "Total fine for driver 119c1e77-222b-47a9-90ec-05eb6521e573: Rs 0.00\n",
      "Difference between rides for driver 119c1e77-222b-47a9-90ec-05eb6521e573:\n",
      "   Distance between trip 1 and trip 2: 0.30 km\n",
      "   Distance between trip 2 and trip 3: 1.75 km\n",
      "   Distance between trip 3 and trip 4: 8.21 km\n",
      "   Distance between trip 4 and trip 5: 0.00 km\n",
      "   Distance between trip 5 and trip 6: 0.00 km\n",
      "   Distance between trip 6 and trip 7: 1.24 km\n",
      "   Distance between trip 7 and trip 8: 0.91 km\n",
      "   Distance between trip 8 and trip 9: 0.15 km\n",
      "   Distance between trip 9 and trip 10: 1.31 km\n",
      "   Distance between trip 10 and trip 11: 2.28 km\n",
      "   Distance between trip 11 and trip 12: 0.54 km\n",
      "   Distance between trip 12 and trip 13: 0.06 km\n",
      "   Distance between trip 13 and trip 14: 0.41 km\n",
      "   Distance between trip 14 and trip 15: 0.06 km\n",
      "Total distance traveled by driver 119c1e77-222b-47a9-90ec-05eb6521e573: 17.22 km\n"
     ]
    },
    {
     "data": {
      "text/html": [
       "\n",
       "        <iframe\n",
       "            width=\"700\"\n",
       "            height=\"600\"\n",
       "            src=\"maps\\driver_119c1e77-222b-47a9-90ec-05eb6521e573_map.html\"\n",
       "            frameborder=\"0\"\n",
       "            allowfullscreen\n",
       "            \n",
       "        ></iframe>\n",
       "        "
      ],
      "text/plain": [
       "<IPython.lib.display.IFrame at 0x17eae4ffa90>"
      ]
     },
     "metadata": {},
     "output_type": "display_data"
    },
    {
     "name": "stdout",
     "output_type": "stream",
     "text": [
      "\n",
      "Processing driver: 11e5957a-42aa-4a4a-94b7-a534c65ed7bb\n",
      "Total fine for driver 11e5957a-42aa-4a4a-94b7-a534c65ed7bb: Rs 0.00\n",
      "Difference between rides for driver 11e5957a-42aa-4a4a-94b7-a534c65ed7bb:\n",
      "   Distance between trip 1 and trip 2: 4.11 km\n",
      "Total distance traveled by driver 11e5957a-42aa-4a4a-94b7-a534c65ed7bb: 4.11 km\n"
     ]
    },
    {
     "data": {
      "text/html": [
       "\n",
       "        <iframe\n",
       "            width=\"700\"\n",
       "            height=\"600\"\n",
       "            src=\"maps\\driver_11e5957a-42aa-4a4a-94b7-a534c65ed7bb_map.html\"\n",
       "            frameborder=\"0\"\n",
       "            allowfullscreen\n",
       "            \n",
       "        ></iframe>\n",
       "        "
      ],
      "text/plain": [
       "<IPython.lib.display.IFrame at 0x17eb3a09b10>"
      ]
     },
     "metadata": {},
     "output_type": "display_data"
    },
    {
     "name": "stdout",
     "output_type": "stream",
     "text": [
      "\n",
      "Processing driver: 121f4ea9-f542-48a5-98cf-b7c2e358ad0a\n",
      "Total fine for driver 121f4ea9-f542-48a5-98cf-b7c2e358ad0a: Rs 0.00\n",
      "Difference between rides for driver 121f4ea9-f542-48a5-98cf-b7c2e358ad0a:\n",
      "Total distance traveled by driver 121f4ea9-f542-48a5-98cf-b7c2e358ad0a: 0.00 km\n"
     ]
    },
    {
     "data": {
      "text/html": [
       "\n",
       "        <iframe\n",
       "            width=\"700\"\n",
       "            height=\"600\"\n",
       "            src=\"maps\\driver_121f4ea9-f542-48a5-98cf-b7c2e358ad0a_map.html\"\n",
       "            frameborder=\"0\"\n",
       "            allowfullscreen\n",
       "            \n",
       "        ></iframe>\n",
       "        "
      ],
      "text/plain": [
       "<IPython.lib.display.IFrame at 0x17eb3a0b3d0>"
      ]
     },
     "metadata": {},
     "output_type": "display_data"
    },
    {
     "name": "stdout",
     "output_type": "stream",
     "text": [
      "\n",
      "Processing driver: 1229a396-0714-49c2-8a72-21bd3f9ebb7d\n",
      "Total fine for driver 1229a396-0714-49c2-8a72-21bd3f9ebb7d: Rs 0.00\n",
      "Difference between rides for driver 1229a396-0714-49c2-8a72-21bd3f9ebb7d:\n",
      "Total distance traveled by driver 1229a396-0714-49c2-8a72-21bd3f9ebb7d: 0.00 km\n"
     ]
    },
    {
     "data": {
      "text/html": [
       "\n",
       "        <iframe\n",
       "            width=\"700\"\n",
       "            height=\"600\"\n",
       "            src=\"maps\\driver_1229a396-0714-49c2-8a72-21bd3f9ebb7d_map.html\"\n",
       "            frameborder=\"0\"\n",
       "            allowfullscreen\n",
       "            \n",
       "        ></iframe>\n",
       "        "
      ],
      "text/plain": [
       "<IPython.lib.display.IFrame at 0x17eb3a0b820>"
      ]
     },
     "metadata": {},
     "output_type": "display_data"
    },
    {
     "name": "stdout",
     "output_type": "stream",
     "text": [
      "\n",
      "Processing driver: 12333014-2213-4972-9705-dc365a140950\n",
      "Total fine for driver 12333014-2213-4972-9705-dc365a140950: Rs 0.00\n",
      "Difference between rides for driver 12333014-2213-4972-9705-dc365a140950:\n",
      "   Distance between trip 1 and trip 2: 1.43 km\n",
      "   Distance between trip 2 and trip 3: 0.75 km\n",
      "   Distance between trip 3 and trip 4: 0.43 km\n",
      "   Distance between trip 4 and trip 5: 1.34 km\n",
      "   Distance between trip 5 and trip 6: 0.15 km\n",
      "   Distance between trip 6 and trip 7: 0.74 km\n",
      "   Distance between trip 7 and trip 8: 3.11 km\n",
      "   Distance between trip 8 and trip 9: 2.83 km\n",
      "   Distance between trip 9 and trip 10: 1.52 km\n",
      "   Distance between trip 10 and trip 11: 0.35 km\n",
      "   Distance between trip 11 and trip 12: 0.92 km\n",
      "   Distance between trip 12 and trip 13: 1.03 km\n",
      "   Distance between trip 13 and trip 14: 1.51 km\n",
      "   Distance between trip 14 and trip 15: 0.70 km\n",
      "   Distance between trip 15 and trip 16: 0.32 km\n",
      "   Distance between trip 16 and trip 17: 0.57 km\n",
      "   Distance between trip 17 and trip 18: 0.75 km\n",
      "   Distance between trip 18 and trip 19: 0.25 km\n",
      "   Distance between trip 19 and trip 20: 0.04 km\n",
      "   Distance between trip 20 and trip 21: 0.00 km\n",
      "   Distance between trip 21 and trip 22: 1.83 km\n",
      "   Distance between trip 22 and trip 23: 0.78 km\n",
      "Total distance traveled by driver 12333014-2213-4972-9705-dc365a140950: 21.35 km\n"
     ]
    },
    {
     "data": {
      "text/html": [
       "\n",
       "        <iframe\n",
       "            width=\"700\"\n",
       "            height=\"600\"\n",
       "            src=\"maps\\driver_12333014-2213-4972-9705-dc365a140950_map.html\"\n",
       "            frameborder=\"0\"\n",
       "            allowfullscreen\n",
       "            \n",
       "        ></iframe>\n",
       "        "
      ],
      "text/plain": [
       "<IPython.lib.display.IFrame at 0x17eb3a02620>"
      ]
     },
     "metadata": {},
     "output_type": "display_data"
    },
    {
     "name": "stdout",
     "output_type": "stream",
     "text": [
      "\n",
      "Processing driver: 123573bf-d8ae-45bb-97dc-1186ce5da47d\n",
      "Total fine for driver 123573bf-d8ae-45bb-97dc-1186ce5da47d: Rs 0.00\n",
      "Difference between rides for driver 123573bf-d8ae-45bb-97dc-1186ce5da47d:\n",
      "   Distance between trip 1 and trip 2: 2.02 km\n",
      "   Distance between trip 2 and trip 3: 2.95 km\n",
      "   Distance between trip 3 and trip 4: 0.18 km\n",
      "   Distance between trip 4 and trip 5: 2.37 km\n",
      "   Distance between trip 5 and trip 6: 1.32 km\n",
      "   Distance between trip 6 and trip 7: 0.76 km\n",
      "   Distance between trip 7 and trip 8: 0.08 km\n",
      "   Distance between trip 8 and trip 9: 0.01 km\n",
      "   Distance between trip 9 and trip 10: 0.07 km\n",
      "   Distance between trip 10 and trip 11: 0.22 km\n",
      "   Distance between trip 11 and trip 12: 0.10 km\n",
      "   Distance between trip 12 and trip 13: 0.00 km\n",
      "   Distance between trip 13 and trip 14: 0.00 km\n",
      "   Distance between trip 14 and trip 15: 0.13 km\n",
      "   Distance between trip 15 and trip 16: 1.19 km\n",
      "   Distance between trip 16 and trip 17: 1.29 km\n",
      "   Distance between trip 17 and trip 18: 0.17 km\n",
      "   Distance between trip 18 and trip 19: 0.74 km\n",
      "   Distance between trip 19 and trip 20: 0.13 km\n",
      "   Distance between trip 20 and trip 21: 0.84 km\n",
      "   Distance between trip 21 and trip 22: 0.51 km\n",
      "   Distance between trip 22 and trip 23: 0.71 km\n",
      "   Distance between trip 23 and trip 24: 0.03 km\n",
      "   Distance between trip 24 and trip 25: 0.00 km\n",
      "   Distance between trip 25 and trip 26: 0.00 km\n",
      "   Distance between trip 26 and trip 27: 0.42 km\n",
      "Total distance traveled by driver 123573bf-d8ae-45bb-97dc-1186ce5da47d: 16.26 km\n"
     ]
    },
    {
     "data": {
      "text/html": [
       "\n",
       "        <iframe\n",
       "            width=\"700\"\n",
       "            height=\"600\"\n",
       "            src=\"maps\\driver_123573bf-d8ae-45bb-97dc-1186ce5da47d_map.html\"\n",
       "            frameborder=\"0\"\n",
       "            allowfullscreen\n",
       "            \n",
       "        ></iframe>\n",
       "        "
      ],
      "text/plain": [
       "<IPython.lib.display.IFrame at 0x17eb3a02cb0>"
      ]
     },
     "metadata": {},
     "output_type": "display_data"
    },
    {
     "name": "stdout",
     "output_type": "stream",
     "text": [
      "\n",
      "Processing driver: 12414495-5b9a-4c77-86dc-4e7c3b48c540\n",
      "Total fine for driver 12414495-5b9a-4c77-86dc-4e7c3b48c540: Rs 0.00\n",
      "Difference between rides for driver 12414495-5b9a-4c77-86dc-4e7c3b48c540:\n",
      "   Distance between trip 1 and trip 2: 0.72 km\n",
      "   Distance between trip 2 and trip 3: 0.24 km\n",
      "   Distance between trip 3 and trip 4: 1.12 km\n",
      "   Distance between trip 4 and trip 5: 1.60 km\n",
      "   Distance between trip 5 and trip 6: 0.37 km\n",
      "   Distance between trip 6 and trip 7: 0.16 km\n",
      "   Distance between trip 7 and trip 8: 2.43 km\n",
      "   Distance between trip 8 and trip 9: 0.44 km\n",
      "   Distance between trip 9 and trip 10: 0.07 km\n",
      "   Distance between trip 10 and trip 11: 1.47 km\n",
      "   Distance between trip 11 and trip 12: 1.25 km\n",
      "Total distance traveled by driver 12414495-5b9a-4c77-86dc-4e7c3b48c540: 9.87 km\n"
     ]
    },
    {
     "data": {
      "text/html": [
       "\n",
       "        <iframe\n",
       "            width=\"700\"\n",
       "            height=\"600\"\n",
       "            src=\"maps\\driver_12414495-5b9a-4c77-86dc-4e7c3b48c540_map.html\"\n",
       "            frameborder=\"0\"\n",
       "            allowfullscreen\n",
       "            \n",
       "        ></iframe>\n",
       "        "
      ],
      "text/plain": [
       "<IPython.lib.display.IFrame at 0x17eb3a53af0>"
      ]
     },
     "metadata": {},
     "output_type": "display_data"
    },
    {
     "name": "stdout",
     "output_type": "stream",
     "text": [
      "\n",
      "Processing driver: 12493869-7cd4-4323-9442-7bf86bd20252\n",
      "Total fine for driver 12493869-7cd4-4323-9442-7bf86bd20252: Rs 0.00\n",
      "Difference between rides for driver 12493869-7cd4-4323-9442-7bf86bd20252:\n",
      "Total distance traveled by driver 12493869-7cd4-4323-9442-7bf86bd20252: 0.00 km\n"
     ]
    },
    {
     "data": {
      "text/html": [
       "\n",
       "        <iframe\n",
       "            width=\"700\"\n",
       "            height=\"600\"\n",
       "            src=\"maps\\driver_12493869-7cd4-4323-9442-7bf86bd20252_map.html\"\n",
       "            frameborder=\"0\"\n",
       "            allowfullscreen\n",
       "            \n",
       "        ></iframe>\n",
       "        "
      ],
      "text/plain": [
       "<IPython.lib.display.IFrame at 0x17eb3a51540>"
      ]
     },
     "metadata": {},
     "output_type": "display_data"
    },
    {
     "name": "stdout",
     "output_type": "stream",
     "text": [
      "\n",
      "Processing driver: 1258f3e6-ec53-40a5-ab0e-d940b7164bcd\n",
      "Total fine for driver 1258f3e6-ec53-40a5-ab0e-d940b7164bcd: Rs 0.00\n",
      "Difference between rides for driver 1258f3e6-ec53-40a5-ab0e-d940b7164bcd:\n",
      "   Distance between trip 1 and trip 2: 0.30 km\n",
      "   Distance between trip 2 and trip 3: 3.67 km\n",
      "   Distance between trip 3 and trip 4: 0.67 km\n",
      "   Distance between trip 4 and trip 5: 2.54 km\n",
      "Total distance traveled by driver 1258f3e6-ec53-40a5-ab0e-d940b7164bcd: 7.18 km\n"
     ]
    },
    {
     "data": {
      "text/html": [
       "\n",
       "        <iframe\n",
       "            width=\"700\"\n",
       "            height=\"600\"\n",
       "            src=\"maps\\driver_1258f3e6-ec53-40a5-ab0e-d940b7164bcd_map.html\"\n",
       "            frameborder=\"0\"\n",
       "            allowfullscreen\n",
       "            \n",
       "        ></iframe>\n",
       "        "
      ],
      "text/plain": [
       "<IPython.lib.display.IFrame at 0x17eae4ffa90>"
      ]
     },
     "metadata": {},
     "output_type": "display_data"
    },
    {
     "name": "stdout",
     "output_type": "stream",
     "text": [
      "\n",
      "Processing driver: 125abe12-1638-44b6-94aa-e5413f5417f0\n",
      "Total fine for driver 125abe12-1638-44b6-94aa-e5413f5417f0: Rs 1.59\n",
      "Difference between rides for driver 125abe12-1638-44b6-94aa-e5413f5417f0:\n",
      "   Distance between trip 1 and trip 2: 0.15 km\n",
      "   Distance between trip 2 and trip 3: 0.15 km\n",
      "   Distance between trip 3 and trip 4: 0.98 km\n",
      "   Distance between trip 4 and trip 5: 3.25 km\n",
      "   Distance between trip 5 and trip 6: 0.08 km\n",
      "   Distance between trip 6 and trip 7: 0.13 km\n",
      "   Distance between trip 7 and trip 8: 1.08 km\n",
      "   Distance between trip 8 and trip 9: 0.21 km\n",
      "   Distance between trip 9 and trip 10: 1.36 km\n",
      "   Distance between trip 10 and trip 11: 1.95 km\n",
      "   Distance between trip 11 and trip 12: 0.35 km\n",
      "   Distance between trip 12 and trip 13: 10.07 km\n",
      "   Distance between trip 13 and trip 14: 10.08 km\n",
      "   Distance between trip 14 and trip 15: 0.48 km\n",
      "   Distance between trip 15 and trip 16: 0.15 km\n",
      "   Distance between trip 16 and trip 17: 0.83 km\n",
      "   Distance between trip 17 and trip 18: 1.58 km\n",
      "   Distance between trip 18 and trip 19: 0.56 km\n",
      "Total distance traveled by driver 125abe12-1638-44b6-94aa-e5413f5417f0: 33.45 km\n"
     ]
    },
    {
     "data": {
      "text/html": [
       "\n",
       "        <iframe\n",
       "            width=\"700\"\n",
       "            height=\"600\"\n",
       "            src=\"maps\\driver_125abe12-1638-44b6-94aa-e5413f5417f0_map.html\"\n",
       "            frameborder=\"0\"\n",
       "            allowfullscreen\n",
       "            \n",
       "        ></iframe>\n",
       "        "
      ],
      "text/plain": [
       "<IPython.lib.display.IFrame at 0x17eb3a03d30>"
      ]
     },
     "metadata": {},
     "output_type": "display_data"
    },
    {
     "name": "stdout",
     "output_type": "stream",
     "text": [
      "\n",
      "Processing driver: 127ce5e9-2a0a-4ee3-a027-1dc8711180b8\n",
      "Total fine for driver 127ce5e9-2a0a-4ee3-a027-1dc8711180b8: Rs 0.00\n",
      "Difference between rides for driver 127ce5e9-2a0a-4ee3-a027-1dc8711180b8:\n",
      "   Distance between trip 1 and trip 2: 0.00 km\n",
      "   Distance between trip 2 and trip 3: 2.07 km\n",
      "   Distance between trip 3 and trip 4: 5.27 km\n",
      "   Distance between trip 4 and trip 5: 0.23 km\n",
      "   Distance between trip 5 and trip 6: 0.31 km\n",
      "   Distance between trip 6 and trip 7: 1.20 km\n",
      "   Distance between trip 7 and trip 8: 0.21 km\n",
      "   Distance between trip 8 and trip 9: 0.20 km\n",
      "Total distance traveled by driver 127ce5e9-2a0a-4ee3-a027-1dc8711180b8: 9.50 km\n"
     ]
    },
    {
     "data": {
      "text/html": [
       "\n",
       "        <iframe\n",
       "            width=\"700\"\n",
       "            height=\"600\"\n",
       "            src=\"maps\\driver_127ce5e9-2a0a-4ee3-a027-1dc8711180b8_map.html\"\n",
       "            frameborder=\"0\"\n",
       "            allowfullscreen\n",
       "            \n",
       "        ></iframe>\n",
       "        "
      ],
      "text/plain": [
       "<IPython.lib.display.IFrame at 0x17eb3a0bc10>"
      ]
     },
     "metadata": {},
     "output_type": "display_data"
    },
    {
     "name": "stdout",
     "output_type": "stream",
     "text": [
      "\n",
      "Processing driver: 12c93990-edfd-4b7a-81ba-4bd4adeee2c9\n",
      "Total fine for driver 12c93990-edfd-4b7a-81ba-4bd4adeee2c9: Rs 0.00\n",
      "Difference between rides for driver 12c93990-edfd-4b7a-81ba-4bd4adeee2c9:\n",
      "   Distance between trip 1 and trip 2: 0.41 km\n",
      "   Distance between trip 2 and trip 3: 0.26 km\n",
      "Total distance traveled by driver 12c93990-edfd-4b7a-81ba-4bd4adeee2c9: 0.68 km\n"
     ]
    },
    {
     "data": {
      "text/html": [
       "\n",
       "        <iframe\n",
       "            width=\"700\"\n",
       "            height=\"600\"\n",
       "            src=\"maps\\driver_12c93990-edfd-4b7a-81ba-4bd4adeee2c9_map.html\"\n",
       "            frameborder=\"0\"\n",
       "            allowfullscreen\n",
       "            \n",
       "        ></iframe>\n",
       "        "
      ],
      "text/plain": [
       "<IPython.lib.display.IFrame at 0x17eae4ff970>"
      ]
     },
     "metadata": {},
     "output_type": "display_data"
    },
    {
     "name": "stdout",
     "output_type": "stream",
     "text": [
      "\n",
      "Processing driver: 12d4ea0e-bee0-4bc7-8bca-e9b7c75aa6d8\n",
      "Total fine for driver 12d4ea0e-bee0-4bc7-8bca-e9b7c75aa6d8: Rs 131.01\n",
      "Difference between rides for driver 12d4ea0e-bee0-4bc7-8bca-e9b7c75aa6d8:\n",
      "   Distance between trip 1 and trip 2: 0.27 km\n",
      "   Distance between trip 2 and trip 3: 0.38 km\n",
      "   Distance between trip 3 and trip 4: 0.42 km\n",
      "   Distance between trip 4 and trip 5: 0.20 km\n",
      "   Distance between trip 5 and trip 6: 2.32 km\n",
      "   Distance between trip 6 and trip 7: 1.29 km\n",
      "   Distance between trip 7 and trip 8: 0.00 km\n",
      "   Distance between trip 8 and trip 9: 1.22 km\n",
      "   Distance between trip 9 and trip 10: 1.41 km\n",
      "   Distance between trip 10 and trip 11: 0.84 km\n",
      "   Distance between trip 11 and trip 12: 23.10 km\n",
      "   Distance between trip 12 and trip 13: 1.23 km\n",
      "Total distance traveled by driver 12d4ea0e-bee0-4bc7-8bca-e9b7c75aa6d8: 32.69 km\n"
     ]
    },
    {
     "data": {
      "text/html": [
       "\n",
       "        <iframe\n",
       "            width=\"700\"\n",
       "            height=\"600\"\n",
       "            src=\"maps\\driver_12d4ea0e-bee0-4bc7-8bca-e9b7c75aa6d8_map.html\"\n",
       "            frameborder=\"0\"\n",
       "            allowfullscreen\n",
       "            \n",
       "        ></iframe>\n",
       "        "
      ],
      "text/plain": [
       "<IPython.lib.display.IFrame at 0x17eb3a0bee0>"
      ]
     },
     "metadata": {},
     "output_type": "display_data"
    },
    {
     "name": "stdout",
     "output_type": "stream",
     "text": [
      "\n",
      "Processing driver: 130ae5a2-ecd2-4970-8f07-a9aac9f550fe\n",
      "Total fine for driver 130ae5a2-ecd2-4970-8f07-a9aac9f550fe: Rs 0.00\n",
      "Difference between rides for driver 130ae5a2-ecd2-4970-8f07-a9aac9f550fe:\n",
      "Total distance traveled by driver 130ae5a2-ecd2-4970-8f07-a9aac9f550fe: 0.00 km\n"
     ]
    },
    {
     "data": {
      "text/html": [
       "\n",
       "        <iframe\n",
       "            width=\"700\"\n",
       "            height=\"600\"\n",
       "            src=\"maps\\driver_130ae5a2-ecd2-4970-8f07-a9aac9f550fe_map.html\"\n",
       "            frameborder=\"0\"\n",
       "            allowfullscreen\n",
       "            \n",
       "        ></iframe>\n",
       "        "
      ],
      "text/plain": [
       "<IPython.lib.display.IFrame at 0x17eae4ffa90>"
      ]
     },
     "metadata": {},
     "output_type": "display_data"
    },
    {
     "name": "stdout",
     "output_type": "stream",
     "text": [
      "\n",
      "Processing driver: 134cd54a-6b6a-4c52-96fd-c9f0b9e2f830\n",
      "Total fine for driver 134cd54a-6b6a-4c52-96fd-c9f0b9e2f830: Rs 0.00\n",
      "Difference between rides for driver 134cd54a-6b6a-4c52-96fd-c9f0b9e2f830:\n",
      "   Distance between trip 1 and trip 2: 0.76 km\n",
      "   Distance between trip 2 and trip 3: 0.66 km\n",
      "   Distance between trip 3 and trip 4: 0.90 km\n",
      "   Distance between trip 4 and trip 5: 0.10 km\n",
      "   Distance between trip 5 and trip 6: 0.08 km\n",
      "   Distance between trip 6 and trip 7: 0.73 km\n",
      "   Distance between trip 7 and trip 8: 0.27 km\n",
      "   Distance between trip 8 and trip 9: 0.10 km\n",
      "   Distance between trip 9 and trip 10: 0.25 km\n",
      "   Distance between trip 10 and trip 11: 0.18 km\n",
      "   Distance between trip 11 and trip 12: 2.21 km\n",
      "   Distance between trip 12 and trip 13: 0.22 km\n",
      "   Distance between trip 13 and trip 14: 0.64 km\n",
      "   Distance between trip 14 and trip 15: 0.10 km\n",
      "   Distance between trip 15 and trip 16: 0.22 km\n",
      "   Distance between trip 16 and trip 17: 0.08 km\n",
      "   Distance between trip 17 and trip 18: 0.69 km\n",
      "Total distance traveled by driver 134cd54a-6b6a-4c52-96fd-c9f0b9e2f830: 8.19 km\n"
     ]
    },
    {
     "data": {
      "text/html": [
       "\n",
       "        <iframe\n",
       "            width=\"700\"\n",
       "            height=\"600\"\n",
       "            src=\"maps\\driver_134cd54a-6b6a-4c52-96fd-c9f0b9e2f830_map.html\"\n",
       "            frameborder=\"0\"\n",
       "            allowfullscreen\n",
       "            \n",
       "        ></iframe>\n",
       "        "
      ],
      "text/plain": [
       "<IPython.lib.display.IFrame at 0x17eb3a03700>"
      ]
     },
     "metadata": {},
     "output_type": "display_data"
    },
    {
     "name": "stdout",
     "output_type": "stream",
     "text": [
      "\n",
      "Processing driver: 135fb00c-add8-44dd-8439-7f5ed699d6a6\n",
      "Total fine for driver 135fb00c-add8-44dd-8439-7f5ed699d6a6: Rs 0.00\n",
      "Difference between rides for driver 135fb00c-add8-44dd-8439-7f5ed699d6a6:\n",
      "   Distance between trip 1 and trip 2: 0.92 km\n",
      "   Distance between trip 2 and trip 3: 2.14 km\n",
      "   Distance between trip 3 and trip 4: 0.10 km\n",
      "   Distance between trip 4 and trip 5: 0.01 km\n",
      "   Distance between trip 5 and trip 6: 0.00 km\n",
      "   Distance between trip 6 and trip 7: 0.00 km\n",
      "   Distance between trip 7 and trip 8: 0.83 km\n",
      "Total distance traveled by driver 135fb00c-add8-44dd-8439-7f5ed699d6a6: 3.99 km\n"
     ]
    },
    {
     "data": {
      "text/html": [
       "\n",
       "        <iframe\n",
       "            width=\"700\"\n",
       "            height=\"600\"\n",
       "            src=\"maps\\driver_135fb00c-add8-44dd-8439-7f5ed699d6a6_map.html\"\n",
       "            frameborder=\"0\"\n",
       "            allowfullscreen\n",
       "            \n",
       "        ></iframe>\n",
       "        "
      ],
      "text/plain": [
       "<IPython.lib.display.IFrame at 0x17eae4ff970>"
      ]
     },
     "metadata": {},
     "output_type": "display_data"
    },
    {
     "name": "stdout",
     "output_type": "stream",
     "text": [
      "\n",
      "Processing driver: 13a849b6-d114-431b-88a5-7820ed8bc28a\n",
      "Total fine for driver 13a849b6-d114-431b-88a5-7820ed8bc28a: Rs 0.00\n",
      "Difference between rides for driver 13a849b6-d114-431b-88a5-7820ed8bc28a:\n",
      "   Distance between trip 1 and trip 2: 1.36 km\n",
      "   Distance between trip 2 and trip 3: 0.33 km\n",
      "   Distance between trip 3 and trip 4: 3.01 km\n",
      "   Distance between trip 4 and trip 5: 0.22 km\n",
      "   Distance between trip 5 and trip 6: 0.67 km\n",
      "   Distance between trip 6 and trip 7: 0.66 km\n",
      "   Distance between trip 7 and trip 8: 0.75 km\n",
      "   Distance between trip 8 and trip 9: 7.17 km\n",
      "Total distance traveled by driver 13a849b6-d114-431b-88a5-7820ed8bc28a: 14.16 km\n"
     ]
    },
    {
     "data": {
      "text/html": [
       "\n",
       "        <iframe\n",
       "            width=\"700\"\n",
       "            height=\"600\"\n",
       "            src=\"maps\\driver_13a849b6-d114-431b-88a5-7820ed8bc28a_map.html\"\n",
       "            frameborder=\"0\"\n",
       "            allowfullscreen\n",
       "            \n",
       "        ></iframe>\n",
       "        "
      ],
      "text/plain": [
       "<IPython.lib.display.IFrame at 0x17eb3a0bbe0>"
      ]
     },
     "metadata": {},
     "output_type": "display_data"
    },
    {
     "name": "stdout",
     "output_type": "stream",
     "text": [
      "\n",
      "Processing driver: 13aa6098-8f0e-4b3a-a21e-5b026a632a03\n",
      "Total fine for driver 13aa6098-8f0e-4b3a-a21e-5b026a632a03: Rs 275.83\n",
      "Difference between rides for driver 13aa6098-8f0e-4b3a-a21e-5b026a632a03:\n",
      "   Distance between trip 1 and trip 2: 6.27 km\n",
      "   Distance between trip 2 and trip 3: 19.04 km\n",
      "   Distance between trip 3 and trip 4: 0.00 km\n",
      "   Distance between trip 4 and trip 5: 0.00 km\n",
      "   Distance between trip 5 and trip 6: 28.54 km\n",
      "   Distance between trip 6 and trip 7: 0.00 km\n",
      "   Distance between trip 7 and trip 8: 0.50 km\n",
      "   Distance between trip 8 and trip 9: 5.90 km\n",
      "Total distance traveled by driver 13aa6098-8f0e-4b3a-a21e-5b026a632a03: 60.25 km\n"
     ]
    },
    {
     "data": {
      "text/html": [
       "\n",
       "        <iframe\n",
       "            width=\"700\"\n",
       "            height=\"600\"\n",
       "            src=\"maps\\driver_13aa6098-8f0e-4b3a-a21e-5b026a632a03_map.html\"\n",
       "            frameborder=\"0\"\n",
       "            allowfullscreen\n",
       "            \n",
       "        ></iframe>\n",
       "        "
      ],
      "text/plain": [
       "<IPython.lib.display.IFrame at 0x17eb3a02290>"
      ]
     },
     "metadata": {},
     "output_type": "display_data"
    },
    {
     "name": "stdout",
     "output_type": "stream",
     "text": [
      "\n",
      "Processing driver: 13aa96aa-57c1-49ec-a19b-a13ae1e0080f\n",
      "Total fine for driver 13aa96aa-57c1-49ec-a19b-a13ae1e0080f: Rs 0.00\n",
      "Difference between rides for driver 13aa96aa-57c1-49ec-a19b-a13ae1e0080f:\n",
      "   Distance between trip 1 and trip 2: 0.97 km\n",
      "   Distance between trip 2 and trip 3: 2.50 km\n",
      "   Distance between trip 3 and trip 4: 0.53 km\n",
      "   Distance between trip 4 and trip 5: 1.27 km\n",
      "   Distance between trip 5 and trip 6: 0.50 km\n",
      "   Distance between trip 6 and trip 7: 1.02 km\n",
      "   Distance between trip 7 and trip 8: 0.05 km\n",
      "   Distance between trip 8 and trip 9: 0.02 km\n",
      "   Distance between trip 9 and trip 10: 0.25 km\n",
      "   Distance between trip 10 and trip 11: 0.72 km\n",
      "Total distance traveled by driver 13aa96aa-57c1-49ec-a19b-a13ae1e0080f: 7.83 km\n"
     ]
    },
    {
     "data": {
      "text/html": [
       "\n",
       "        <iframe\n",
       "            width=\"700\"\n",
       "            height=\"600\"\n",
       "            src=\"maps\\driver_13aa96aa-57c1-49ec-a19b-a13ae1e0080f_map.html\"\n",
       "            frameborder=\"0\"\n",
       "            allowfullscreen\n",
       "            \n",
       "        ></iframe>\n",
       "        "
      ],
      "text/plain": [
       "<IPython.lib.display.IFrame at 0x17eb3a09d50>"
      ]
     },
     "metadata": {},
     "output_type": "display_data"
    },
    {
     "name": "stdout",
     "output_type": "stream",
     "text": [
      "\n",
      "Processing driver: 13ab629d-6c41-43ad-9469-b4b8d287a27f\n",
      "Total fine for driver 13ab629d-6c41-43ad-9469-b4b8d287a27f: Rs 0.00\n",
      "Difference between rides for driver 13ab629d-6c41-43ad-9469-b4b8d287a27f:\n",
      "   Distance between trip 1 and trip 2: 0.63 km\n",
      "   Distance between trip 2 and trip 3: 0.63 km\n",
      "   Distance between trip 3 and trip 4: 0.35 km\n",
      "Total distance traveled by driver 13ab629d-6c41-43ad-9469-b4b8d287a27f: 1.61 km\n"
     ]
    },
    {
     "data": {
      "text/html": [
       "\n",
       "        <iframe\n",
       "            width=\"700\"\n",
       "            height=\"600\"\n",
       "            src=\"maps\\driver_13ab629d-6c41-43ad-9469-b4b8d287a27f_map.html\"\n",
       "            frameborder=\"0\"\n",
       "            allowfullscreen\n",
       "            \n",
       "        ></iframe>\n",
       "        "
      ],
      "text/plain": [
       "<IPython.lib.display.IFrame at 0x17eae4ff970>"
      ]
     },
     "metadata": {},
     "output_type": "display_data"
    },
    {
     "name": "stdout",
     "output_type": "stream",
     "text": [
      "\n",
      "Processing driver: 13b1a911-676c-42bc-92a0-08154e759cfa\n",
      "Total fine for driver 13b1a911-676c-42bc-92a0-08154e759cfa: Rs 113.33\n",
      "Difference between rides for driver 13b1a911-676c-42bc-92a0-08154e759cfa:\n",
      "   Distance between trip 1 and trip 2: 4.74 km\n",
      "   Distance between trip 2 and trip 3: 0.76 km\n",
      "   Distance between trip 3 and trip 4: 0.35 km\n",
      "   Distance between trip 4 and trip 5: 3.47 km\n",
      "   Distance between trip 5 and trip 6: 2.84 km\n",
      "   Distance between trip 6 and trip 7: 0.97 km\n",
      "   Distance between trip 7 and trip 8: 0.66 km\n",
      "   Distance between trip 8 and trip 9: 1.43 km\n",
      "   Distance between trip 9 and trip 10: 1.25 km\n",
      "   Distance between trip 10 and trip 11: 0.10 km\n",
      "   Distance between trip 11 and trip 12: 0.34 km\n",
      "   Distance between trip 12 and trip 13: 21.33 km\n",
      "   Distance between trip 13 and trip 14: 0.08 km\n",
      "Total distance traveled by driver 13b1a911-676c-42bc-92a0-08154e759cfa: 38.33 km\n"
     ]
    },
    {
     "data": {
      "text/html": [
       "\n",
       "        <iframe\n",
       "            width=\"700\"\n",
       "            height=\"600\"\n",
       "            src=\"maps\\driver_13b1a911-676c-42bc-92a0-08154e759cfa_map.html\"\n",
       "            frameborder=\"0\"\n",
       "            allowfullscreen\n",
       "            \n",
       "        ></iframe>\n",
       "        "
      ],
      "text/plain": [
       "<IPython.lib.display.IFrame at 0x17eb3a0b340>"
      ]
     },
     "metadata": {},
     "output_type": "display_data"
    },
    {
     "name": "stdout",
     "output_type": "stream",
     "text": [
      "\n",
      "Processing driver: 13ce7b30-c6c4-40a0-9df2-08857dc586ce\n",
      "Total fine for driver 13ce7b30-c6c4-40a0-9df2-08857dc586ce: Rs 0.00\n",
      "Difference between rides for driver 13ce7b30-c6c4-40a0-9df2-08857dc586ce:\n",
      "   Distance between trip 1 and trip 2: 0.91 km\n",
      "   Distance between trip 2 and trip 3: 2.29 km\n",
      "   Distance between trip 3 and trip 4: 0.91 km\n",
      "   Distance between trip 4 and trip 5: 0.51 km\n",
      "   Distance between trip 5 and trip 6: 0.00 km\n",
      "   Distance between trip 6 and trip 7: 0.38 km\n",
      "   Distance between trip 7 and trip 8: 0.29 km\n",
      "   Distance between trip 8 and trip 9: 0.61 km\n",
      "   Distance between trip 9 and trip 10: 1.75 km\n",
      "   Distance between trip 10 and trip 11: 1.02 km\n",
      "Total distance traveled by driver 13ce7b30-c6c4-40a0-9df2-08857dc586ce: 8.67 km\n"
     ]
    },
    {
     "data": {
      "text/html": [
       "\n",
       "        <iframe\n",
       "            width=\"700\"\n",
       "            height=\"600\"\n",
       "            src=\"maps\\driver_13ce7b30-c6c4-40a0-9df2-08857dc586ce_map.html\"\n",
       "            frameborder=\"0\"\n",
       "            allowfullscreen\n",
       "            \n",
       "        ></iframe>\n",
       "        "
      ],
      "text/plain": [
       "<IPython.lib.display.IFrame at 0x17eb3a02980>"
      ]
     },
     "metadata": {},
     "output_type": "display_data"
    },
    {
     "name": "stdout",
     "output_type": "stream",
     "text": [
      "\n",
      "Processing driver: 13d3b337-e830-483b-a4df-90794697f7e2\n",
      "Total fine for driver 13d3b337-e830-483b-a4df-90794697f7e2: Rs 0.00\n",
      "Difference between rides for driver 13d3b337-e830-483b-a4df-90794697f7e2:\n",
      "   Distance between trip 1 and trip 2: 1.21 km\n",
      "   Distance between trip 2 and trip 3: 0.09 km\n",
      "   Distance between trip 3 and trip 4: 1.84 km\n",
      "   Distance between trip 4 and trip 5: 1.35 km\n",
      "Total distance traveled by driver 13d3b337-e830-483b-a4df-90794697f7e2: 4.50 km\n"
     ]
    },
    {
     "data": {
      "text/html": [
       "\n",
       "        <iframe\n",
       "            width=\"700\"\n",
       "            height=\"600\"\n",
       "            src=\"maps\\driver_13d3b337-e830-483b-a4df-90794697f7e2_map.html\"\n",
       "            frameborder=\"0\"\n",
       "            allowfullscreen\n",
       "            \n",
       "        ></iframe>\n",
       "        "
      ],
      "text/plain": [
       "<IPython.lib.display.IFrame at 0x17eaf529b10>"
      ]
     },
     "metadata": {},
     "output_type": "display_data"
    },
    {
     "name": "stdout",
     "output_type": "stream",
     "text": [
      "\n",
      "Processing driver: 13f1b972-f36a-4400-8f2d-53cf8ab772d1\n",
      "Total fine for driver 13f1b972-f36a-4400-8f2d-53cf8ab772d1: Rs 0.00\n",
      "Difference between rides for driver 13f1b972-f36a-4400-8f2d-53cf8ab772d1:\n",
      "   Distance between trip 1 and trip 2: 1.11 km\n",
      "   Distance between trip 2 and trip 3: 4.28 km\n",
      "   Distance between trip 3 and trip 4: 2.03 km\n",
      "   Distance between trip 4 and trip 5: 1.19 km\n",
      "   Distance between trip 5 and trip 6: 0.04 km\n",
      "   Distance between trip 6 and trip 7: 1.05 km\n",
      "   Distance between trip 7 and trip 8: 0.01 km\n",
      "   Distance between trip 8 and trip 9: 0.61 km\n",
      "   Distance between trip 9 and trip 10: 0.22 km\n",
      "   Distance between trip 10 and trip 11: 0.00 km\n",
      "   Distance between trip 11 and trip 12: 0.95 km\n",
      "   Distance between trip 12 and trip 13: 0.35 km\n",
      "   Distance between trip 13 and trip 14: 0.40 km\n",
      "   Distance between trip 14 and trip 15: 2.24 km\n",
      "Total distance traveled by driver 13f1b972-f36a-4400-8f2d-53cf8ab772d1: 14.49 km\n"
     ]
    },
    {
     "data": {
      "text/html": [
       "\n",
       "        <iframe\n",
       "            width=\"700\"\n",
       "            height=\"600\"\n",
       "            src=\"maps\\driver_13f1b972-f36a-4400-8f2d-53cf8ab772d1_map.html\"\n",
       "            frameborder=\"0\"\n",
       "            allowfullscreen\n",
       "            \n",
       "        ></iframe>\n",
       "        "
      ],
      "text/plain": [
       "<IPython.lib.display.IFrame at 0x17eaad476a0>"
      ]
     },
     "metadata": {},
     "output_type": "display_data"
    },
    {
     "name": "stdout",
     "output_type": "stream",
     "text": [
      "\n",
      "Processing driver: 13f936ce-2301-4b27-a8a8-df7473ccb389\n",
      "Total fine for driver 13f936ce-2301-4b27-a8a8-df7473ccb389: Rs 0.00\n",
      "Difference between rides for driver 13f936ce-2301-4b27-a8a8-df7473ccb389:\n",
      "   Distance between trip 1 and trip 2: 0.77 km\n",
      "   Distance between trip 2 and trip 3: 1.63 km\n",
      "   Distance between trip 3 and trip 4: 0.16 km\n",
      "   Distance between trip 4 and trip 5: 0.33 km\n",
      "Total distance traveled by driver 13f936ce-2301-4b27-a8a8-df7473ccb389: 2.89 km\n"
     ]
    },
    {
     "data": {
      "text/html": [
       "\n",
       "        <iframe\n",
       "            width=\"700\"\n",
       "            height=\"600\"\n",
       "            src=\"maps\\driver_13f936ce-2301-4b27-a8a8-df7473ccb389_map.html\"\n",
       "            frameborder=\"0\"\n",
       "            allowfullscreen\n",
       "            \n",
       "        ></iframe>\n",
       "        "
      ],
      "text/plain": [
       "<IPython.lib.display.IFrame at 0x17eae4ff970>"
      ]
     },
     "metadata": {},
     "output_type": "display_data"
    },
    {
     "name": "stdout",
     "output_type": "stream",
     "text": [
      "\n",
      "Processing driver: 14454632-636e-4ca5-b185-fdb3a6868e54\n",
      "Total fine for driver 14454632-636e-4ca5-b185-fdb3a6868e54: Rs 114.02\n",
      "Difference between rides for driver 14454632-636e-4ca5-b185-fdb3a6868e54:\n",
      "   Distance between trip 1 and trip 2: 6.63 km\n",
      "   Distance between trip 2 and trip 3: 0.74 km\n",
      "   Distance between trip 3 and trip 4: 3.22 km\n",
      "   Distance between trip 4 and trip 5: 1.74 km\n",
      "   Distance between trip 5 and trip 6: 8.76 km\n",
      "   Distance between trip 6 and trip 7: 1.35 km\n",
      "   Distance between trip 7 and trip 8: 21.40 km\n",
      "   Distance between trip 8 and trip 9: 2.24 km\n",
      "Total distance traveled by driver 14454632-636e-4ca5-b185-fdb3a6868e54: 46.10 km\n"
     ]
    },
    {
     "data": {
      "text/html": [
       "\n",
       "        <iframe\n",
       "            width=\"700\"\n",
       "            height=\"600\"\n",
       "            src=\"maps\\driver_14454632-636e-4ca5-b185-fdb3a6868e54_map.html\"\n",
       "            frameborder=\"0\"\n",
       "            allowfullscreen\n",
       "            \n",
       "        ></iframe>\n",
       "        "
      ],
      "text/plain": [
       "<IPython.lib.display.IFrame at 0x17eaad46140>"
      ]
     },
     "metadata": {},
     "output_type": "display_data"
    },
    {
     "name": "stdout",
     "output_type": "stream",
     "text": [
      "\n",
      "Processing driver: 1464608d-53dc-44c1-b25a-19d1a3fd7b9c\n",
      "Total fine for driver 1464608d-53dc-44c1-b25a-19d1a3fd7b9c: Rs 0.00\n",
      "Difference between rides for driver 1464608d-53dc-44c1-b25a-19d1a3fd7b9c:\n",
      "   Distance between trip 1 and trip 2: 0.59 km\n",
      "   Distance between trip 2 and trip 3: 0.50 km\n",
      "   Distance between trip 3 and trip 4: 0.24 km\n",
      "   Distance between trip 4 and trip 5: 0.77 km\n",
      "   Distance between trip 5 and trip 6: 0.33 km\n",
      "   Distance between trip 6 and trip 7: 0.44 km\n",
      "   Distance between trip 7 and trip 8: 1.02 km\n",
      "   Distance between trip 8 and trip 9: 0.93 km\n",
      "   Distance between trip 9 and trip 10: 1.34 km\n",
      "   Distance between trip 10 and trip 11: 1.24 km\n",
      "Total distance traveled by driver 1464608d-53dc-44c1-b25a-19d1a3fd7b9c: 7.40 km\n"
     ]
    },
    {
     "data": {
      "text/html": [
       "\n",
       "        <iframe\n",
       "            width=\"700\"\n",
       "            height=\"600\"\n",
       "            src=\"maps\\driver_1464608d-53dc-44c1-b25a-19d1a3fd7b9c_map.html\"\n",
       "            frameborder=\"0\"\n",
       "            allowfullscreen\n",
       "            \n",
       "        ></iframe>\n",
       "        "
      ],
      "text/plain": [
       "<IPython.lib.display.IFrame at 0x17eae4ffa90>"
      ]
     },
     "metadata": {},
     "output_type": "display_data"
    },
    {
     "name": "stdout",
     "output_type": "stream",
     "text": [
      "\n",
      "Processing driver: 1495f8d3-59d7-47eb-84dc-92f8b259d0f9\n",
      "Total fine for driver 1495f8d3-59d7-47eb-84dc-92f8b259d0f9: Rs 33.47\n",
      "Difference between rides for driver 1495f8d3-59d7-47eb-84dc-92f8b259d0f9:\n",
      "   Distance between trip 1 and trip 2: 0.43 km\n",
      "   Distance between trip 2 and trip 3: 0.18 km\n",
      "   Distance between trip 3 and trip 4: 0.00 km\n",
      "   Distance between trip 4 and trip 5: 0.71 km\n",
      "   Distance between trip 5 and trip 6: 0.00 km\n",
      "   Distance between trip 6 and trip 7: 13.35 km\n",
      "   Distance between trip 7 and trip 8: 0.73 km\n",
      "Total distance traveled by driver 1495f8d3-59d7-47eb-84dc-92f8b259d0f9: 15.39 km\n"
     ]
    },
    {
     "data": {
      "text/html": [
       "\n",
       "        <iframe\n",
       "            width=\"700\"\n",
       "            height=\"600\"\n",
       "            src=\"maps\\driver_1495f8d3-59d7-47eb-84dc-92f8b259d0f9_map.html\"\n",
       "            frameborder=\"0\"\n",
       "            allowfullscreen\n",
       "            \n",
       "        ></iframe>\n",
       "        "
      ],
      "text/plain": [
       "<IPython.lib.display.IFrame at 0x17eb3a02ad0>"
      ]
     },
     "metadata": {},
     "output_type": "display_data"
    },
    {
     "name": "stdout",
     "output_type": "stream",
     "text": [
      "\n",
      "Processing driver: 14ad6b22-e81e-4476-bf2b-2da462ffc244\n",
      "Total fine for driver 14ad6b22-e81e-4476-bf2b-2da462ffc244: Rs 151.86\n",
      "Difference between rides for driver 14ad6b22-e81e-4476-bf2b-2da462ffc244:\n",
      "   Distance between trip 1 and trip 2: 0.05 km\n",
      "   Distance between trip 2 and trip 3: 0.01 km\n",
      "   Distance between trip 3 and trip 4: 3.63 km\n",
      "   Distance between trip 4 and trip 5: 0.61 km\n",
      "   Distance between trip 5 and trip 6: 25.19 km\n",
      "   Distance between trip 6 and trip 7: 1.21 km\n",
      "   Distance between trip 7 and trip 8: 0.19 km\n",
      "   Distance between trip 8 and trip 9: 0.49 km\n",
      "   Distance between trip 9 and trip 10: 0.17 km\n",
      "   Distance between trip 10 and trip 11: 1.59 km\n",
      "   Distance between trip 11 and trip 12: 0.86 km\n",
      "   Distance between trip 12 and trip 13: 0.48 km\n",
      "Total distance traveled by driver 14ad6b22-e81e-4476-bf2b-2da462ffc244: 34.46 km\n"
     ]
    },
    {
     "data": {
      "text/html": [
       "\n",
       "        <iframe\n",
       "            width=\"700\"\n",
       "            height=\"600\"\n",
       "            src=\"maps\\driver_14ad6b22-e81e-4476-bf2b-2da462ffc244_map.html\"\n",
       "            frameborder=\"0\"\n",
       "            allowfullscreen\n",
       "            \n",
       "        ></iframe>\n",
       "        "
      ],
      "text/plain": [
       "<IPython.lib.display.IFrame at 0x17eb3a0b250>"
      ]
     },
     "metadata": {},
     "output_type": "display_data"
    },
    {
     "name": "stdout",
     "output_type": "stream",
     "text": [
      "\n",
      "Processing driver: 14b05d1e-3b27-411c-8e96-2e5fe282f448\n",
      "Total fine for driver 14b05d1e-3b27-411c-8e96-2e5fe282f448: Rs 0.00\n",
      "Difference between rides for driver 14b05d1e-3b27-411c-8e96-2e5fe282f448:\n",
      "   Distance between trip 1 and trip 2: 0.00 km\n",
      "   Distance between trip 2 and trip 3: 0.44 km\n",
      "   Distance between trip 3 and trip 4: 0.30 km\n",
      "   Distance between trip 4 and trip 5: 0.56 km\n",
      "   Distance between trip 5 and trip 6: 0.42 km\n",
      "   Distance between trip 6 and trip 7: 1.18 km\n",
      "   Distance between trip 7 and trip 8: 0.00 km\n",
      "   Distance between trip 8 and trip 9: 1.27 km\n",
      "   Distance between trip 9 and trip 10: 1.63 km\n",
      "   Distance between trip 10 and trip 11: 0.04 km\n",
      "   Distance between trip 11 and trip 12: 0.00 km\n",
      "   Distance between trip 12 and trip 13: 0.00 km\n",
      "   Distance between trip 13 and trip 14: 0.00 km\n",
      "   Distance between trip 14 and trip 15: 0.10 km\n",
      "   Distance between trip 15 and trip 16: 0.84 km\n",
      "   Distance between trip 16 and trip 17: 0.37 km\n",
      "   Distance between trip 17 and trip 18: 5.85 km\n",
      "   Distance between trip 18 and trip 19: 0.82 km\n",
      "Total distance traveled by driver 14b05d1e-3b27-411c-8e96-2e5fe282f448: 13.83 km\n"
     ]
    },
    {
     "data": {
      "text/html": [
       "\n",
       "        <iframe\n",
       "            width=\"700\"\n",
       "            height=\"600\"\n",
       "            src=\"maps\\driver_14b05d1e-3b27-411c-8e96-2e5fe282f448_map.html\"\n",
       "            frameborder=\"0\"\n",
       "            allowfullscreen\n",
       "            \n",
       "        ></iframe>\n",
       "        "
      ],
      "text/plain": [
       "<IPython.lib.display.IFrame at 0x17eb3a53b50>"
      ]
     },
     "metadata": {},
     "output_type": "display_data"
    },
    {
     "name": "stdout",
     "output_type": "stream",
     "text": [
      "\n",
      "Processing driver: 14dcbeeb-eaeb-40a3-8c14-74b43f5b0145\n",
      "Total fine for driver 14dcbeeb-eaeb-40a3-8c14-74b43f5b0145: Rs 0.00\n",
      "Difference between rides for driver 14dcbeeb-eaeb-40a3-8c14-74b43f5b0145:\n",
      "   Distance between trip 1 and trip 2: 0.14 km\n",
      "   Distance between trip 2 and trip 3: 0.71 km\n",
      "   Distance between trip 3 and trip 4: 1.85 km\n",
      "   Distance between trip 4 and trip 5: 1.51 km\n",
      "   Distance between trip 5 and trip 6: 3.46 km\n",
      "   Distance between trip 6 and trip 7: 2.00 km\n",
      "   Distance between trip 7 and trip 8: 2.10 km\n",
      "   Distance between trip 8 and trip 9: 0.62 km\n",
      "Total distance traveled by driver 14dcbeeb-eaeb-40a3-8c14-74b43f5b0145: 12.37 km\n"
     ]
    },
    {
     "data": {
      "text/html": [
       "\n",
       "        <iframe\n",
       "            width=\"700\"\n",
       "            height=\"600\"\n",
       "            src=\"maps\\driver_14dcbeeb-eaeb-40a3-8c14-74b43f5b0145_map.html\"\n",
       "            frameborder=\"0\"\n",
       "            allowfullscreen\n",
       "            \n",
       "        ></iframe>\n",
       "        "
      ],
      "text/plain": [
       "<IPython.lib.display.IFrame at 0x17eae4ff970>"
      ]
     },
     "metadata": {},
     "output_type": "display_data"
    },
    {
     "name": "stdout",
     "output_type": "stream",
     "text": [
      "\n",
      "Processing driver: 15aaddc3-06b9-4316-8a34-6ebcf1f23fc9\n",
      "Total fine for driver 15aaddc3-06b9-4316-8a34-6ebcf1f23fc9: Rs 0.00\n",
      "Difference between rides for driver 15aaddc3-06b9-4316-8a34-6ebcf1f23fc9:\n",
      "   Distance between trip 1 and trip 2: 2.59 km\n",
      "   Distance between trip 2 and trip 3: 0.46 km\n",
      "   Distance between trip 3 and trip 4: 0.18 km\n",
      "   Distance between trip 4 and trip 5: 0.19 km\n",
      "   Distance between trip 5 and trip 6: 1.02 km\n",
      "   Distance between trip 6 and trip 7: 0.21 km\n",
      "Total distance traveled by driver 15aaddc3-06b9-4316-8a34-6ebcf1f23fc9: 4.65 km\n"
     ]
    },
    {
     "data": {
      "text/html": [
       "\n",
       "        <iframe\n",
       "            width=\"700\"\n",
       "            height=\"600\"\n",
       "            src=\"maps\\driver_15aaddc3-06b9-4316-8a34-6ebcf1f23fc9_map.html\"\n",
       "            frameborder=\"0\"\n",
       "            allowfullscreen\n",
       "            \n",
       "        ></iframe>\n",
       "        "
      ],
      "text/plain": [
       "<IPython.lib.display.IFrame at 0x17eaad46140>"
      ]
     },
     "metadata": {},
     "output_type": "display_data"
    },
    {
     "name": "stdout",
     "output_type": "stream",
     "text": [
      "\n",
      "Processing driver: 15c7b6e0-be6b-4129-a8b3-e95f29c291a2\n",
      "Total fine for driver 15c7b6e0-be6b-4129-a8b3-e95f29c291a2: Rs 0.00\n",
      "Difference between rides for driver 15c7b6e0-be6b-4129-a8b3-e95f29c291a2:\n",
      "   Distance between trip 1 and trip 2: 0.75 km\n",
      "   Distance between trip 2 and trip 3: 0.99 km\n",
      "   Distance between trip 3 and trip 4: 1.48 km\n",
      "   Distance between trip 4 and trip 5: 1.74 km\n",
      "   Distance between trip 5 and trip 6: 0.15 km\n",
      "   Distance between trip 6 and trip 7: 0.88 km\n",
      "   Distance between trip 7 and trip 8: 1.14 km\n",
      "   Distance between trip 8 and trip 9: 0.11 km\n",
      "   Distance between trip 9 and trip 10: 0.89 km\n",
      "Total distance traveled by driver 15c7b6e0-be6b-4129-a8b3-e95f29c291a2: 8.13 km\n"
     ]
    },
    {
     "data": {
      "text/html": [
       "\n",
       "        <iframe\n",
       "            width=\"700\"\n",
       "            height=\"600\"\n",
       "            src=\"maps\\driver_15c7b6e0-be6b-4129-a8b3-e95f29c291a2_map.html\"\n",
       "            frameborder=\"0\"\n",
       "            allowfullscreen\n",
       "            \n",
       "        ></iframe>\n",
       "        "
      ],
      "text/plain": [
       "<IPython.lib.display.IFrame at 0x17eb3a53730>"
      ]
     },
     "metadata": {},
     "output_type": "display_data"
    },
    {
     "name": "stdout",
     "output_type": "stream",
     "text": [
      "\n",
      "Processing driver: 15d5a5b2-607d-4d92-bfa6-c19948f947df\n",
      "Total fine for driver 15d5a5b2-607d-4d92-bfa6-c19948f947df: Rs 0.00\n",
      "Difference between rides for driver 15d5a5b2-607d-4d92-bfa6-c19948f947df:\n",
      "   Distance between trip 1 and trip 2: 2.27 km\n",
      "   Distance between trip 2 and trip 3: 0.36 km\n",
      "   Distance between trip 3 and trip 4: 3.02 km\n",
      "   Distance between trip 4 and trip 5: 0.09 km\n",
      "   Distance between trip 5 and trip 6: 0.70 km\n",
      "   Distance between trip 6 and trip 7: 0.34 km\n",
      "Total distance traveled by driver 15d5a5b2-607d-4d92-bfa6-c19948f947df: 6.78 km\n"
     ]
    },
    {
     "data": {
      "text/html": [
       "\n",
       "        <iframe\n",
       "            width=\"700\"\n",
       "            height=\"600\"\n",
       "            src=\"maps\\driver_15d5a5b2-607d-4d92-bfa6-c19948f947df_map.html\"\n",
       "            frameborder=\"0\"\n",
       "            allowfullscreen\n",
       "            \n",
       "        ></iframe>\n",
       "        "
      ],
      "text/plain": [
       "<IPython.lib.display.IFrame at 0x17eb3a52d10>"
      ]
     },
     "metadata": {},
     "output_type": "display_data"
    },
    {
     "name": "stdout",
     "output_type": "stream",
     "text": [
      "\n",
      "Processing driver: 15e85449-8d5c-441c-b6b5-0e35bc3299a8\n",
      "Total fine for driver 15e85449-8d5c-441c-b6b5-0e35bc3299a8: Rs 0.00\n",
      "Difference between rides for driver 15e85449-8d5c-441c-b6b5-0e35bc3299a8:\n",
      "Total distance traveled by driver 15e85449-8d5c-441c-b6b5-0e35bc3299a8: 0.00 km\n"
     ]
    },
    {
     "data": {
      "text/html": [
       "\n",
       "        <iframe\n",
       "            width=\"700\"\n",
       "            height=\"600\"\n",
       "            src=\"maps\\driver_15e85449-8d5c-441c-b6b5-0e35bc3299a8_map.html\"\n",
       "            frameborder=\"0\"\n",
       "            allowfullscreen\n",
       "            \n",
       "        ></iframe>\n",
       "        "
      ],
      "text/plain": [
       "<IPython.lib.display.IFrame at 0x17eae4ffa90>"
      ]
     },
     "metadata": {},
     "output_type": "display_data"
    },
    {
     "name": "stdout",
     "output_type": "stream",
     "text": [
      "\n",
      "Processing driver: 15f30e58-de24-4c0a-a52a-ccba97df29a3\n",
      "Total fine for driver 15f30e58-de24-4c0a-a52a-ccba97df29a3: Rs 938.93\n",
      "Difference between rides for driver 15f30e58-de24-4c0a-a52a-ccba97df29a3:\n",
      "   Distance between trip 1 and trip 2: 103.89 km\n",
      "Total distance traveled by driver 15f30e58-de24-4c0a-a52a-ccba97df29a3: 103.89 km\n"
     ]
    },
    {
     "data": {
      "text/html": [
       "\n",
       "        <iframe\n",
       "            width=\"700\"\n",
       "            height=\"600\"\n",
       "            src=\"maps\\driver_15f30e58-de24-4c0a-a52a-ccba97df29a3_map.html\"\n",
       "            frameborder=\"0\"\n",
       "            allowfullscreen\n",
       "            \n",
       "        ></iframe>\n",
       "        "
      ],
      "text/plain": [
       "<IPython.lib.display.IFrame at 0x17eadabdc30>"
      ]
     },
     "metadata": {},
     "output_type": "display_data"
    },
    {
     "name": "stdout",
     "output_type": "stream",
     "text": [
      "\n",
      "Processing driver: 1628d43f-abc3-402a-bb30-9a5ebe1800da\n",
      "Total fine for driver 1628d43f-abc3-402a-bb30-9a5ebe1800da: Rs 52.43\n",
      "Difference between rides for driver 1628d43f-abc3-402a-bb30-9a5ebe1800da:\n",
      "   Distance between trip 1 and trip 2: 0.41 km\n",
      "   Distance between trip 2 and trip 3: 15.24 km\n",
      "   Distance between trip 3 and trip 4: 2.06 km\n",
      "Total distance traveled by driver 1628d43f-abc3-402a-bb30-9a5ebe1800da: 17.72 km\n"
     ]
    },
    {
     "data": {
      "text/html": [
       "\n",
       "        <iframe\n",
       "            width=\"700\"\n",
       "            height=\"600\"\n",
       "            src=\"maps\\driver_1628d43f-abc3-402a-bb30-9a5ebe1800da_map.html\"\n",
       "            frameborder=\"0\"\n",
       "            allowfullscreen\n",
       "            \n",
       "        ></iframe>\n",
       "        "
      ],
      "text/plain": [
       "<IPython.lib.display.IFrame at 0x17eb3a50f10>"
      ]
     },
     "metadata": {},
     "output_type": "display_data"
    },
    {
     "name": "stdout",
     "output_type": "stream",
     "text": [
      "\n",
      "Processing driver: 1636ffc6-fdbd-41e8-ac9d-b421d1e7ca91\n",
      "Total fine for driver 1636ffc6-fdbd-41e8-ac9d-b421d1e7ca91: Rs 0.00\n",
      "Difference between rides for driver 1636ffc6-fdbd-41e8-ac9d-b421d1e7ca91:\n",
      "   Distance between trip 1 and trip 2: 1.16 km\n",
      "   Distance between trip 2 and trip 3: 1.27 km\n",
      "   Distance between trip 3 and trip 4: 1.36 km\n",
      "   Distance between trip 4 and trip 5: 1.34 km\n",
      "   Distance between trip 5 and trip 6: 0.81 km\n",
      "   Distance between trip 6 and trip 7: 0.35 km\n",
      "   Distance between trip 7 and trip 8: 0.15 km\n",
      "   Distance between trip 8 and trip 9: 0.30 km\n",
      "   Distance between trip 9 and trip 10: 0.49 km\n",
      "   Distance between trip 10 and trip 11: 0.95 km\n",
      "   Distance between trip 11 and trip 12: 3.00 km\n",
      "   Distance between trip 12 and trip 13: 0.17 km\n",
      "   Distance between trip 13 and trip 14: 1.90 km\n",
      "   Distance between trip 14 and trip 15: 0.89 km\n",
      "   Distance between trip 15 and trip 16: 0.92 km\n",
      "   Distance between trip 16 and trip 17: 0.21 km\n",
      "   Distance between trip 17 and trip 18: 0.23 km\n",
      "   Distance between trip 18 and trip 19: 0.73 km\n",
      "   Distance between trip 19 and trip 20: 0.74 km\n",
      "   Distance between trip 20 and trip 21: 0.51 km\n",
      "   Distance between trip 21 and trip 22: 0.05 km\n",
      "Total distance traveled by driver 1636ffc6-fdbd-41e8-ac9d-b421d1e7ca91: 17.55 km\n"
     ]
    },
    {
     "data": {
      "text/html": [
       "\n",
       "        <iframe\n",
       "            width=\"700\"\n",
       "            height=\"600\"\n",
       "            src=\"maps\\driver_1636ffc6-fdbd-41e8-ac9d-b421d1e7ca91_map.html\"\n",
       "            frameborder=\"0\"\n",
       "            allowfullscreen\n",
       "            \n",
       "        ></iframe>\n",
       "        "
      ],
      "text/plain": [
       "<IPython.lib.display.IFrame at 0x17eb3a51780>"
      ]
     },
     "metadata": {},
     "output_type": "display_data"
    },
    {
     "name": "stdout",
     "output_type": "stream",
     "text": [
      "\n",
      "Processing driver: 16395028-8cef-4dec-bda7-e4a726a8299a\n",
      "Total fine for driver 16395028-8cef-4dec-bda7-e4a726a8299a: Rs 0.00\n",
      "Difference between rides for driver 16395028-8cef-4dec-bda7-e4a726a8299a:\n",
      "   Distance between trip 1 and trip 2: 0.41 km\n",
      "   Distance between trip 2 and trip 3: 0.78 km\n",
      "   Distance between trip 3 and trip 4: 0.57 km\n",
      "   Distance between trip 4 and trip 5: 0.33 km\n",
      "   Distance between trip 5 and trip 6: 0.43 km\n",
      "   Distance between trip 6 and trip 7: 5.44 km\n",
      "   Distance between trip 7 and trip 8: 0.05 km\n",
      "Total distance traveled by driver 16395028-8cef-4dec-bda7-e4a726a8299a: 8.01 km\n"
     ]
    },
    {
     "data": {
      "text/html": [
       "\n",
       "        <iframe\n",
       "            width=\"700\"\n",
       "            height=\"600\"\n",
       "            src=\"maps\\driver_16395028-8cef-4dec-bda7-e4a726a8299a_map.html\"\n",
       "            frameborder=\"0\"\n",
       "            allowfullscreen\n",
       "            \n",
       "        ></iframe>\n",
       "        "
      ],
      "text/plain": [
       "<IPython.lib.display.IFrame at 0x17eb3a50100>"
      ]
     },
     "metadata": {},
     "output_type": "display_data"
    },
    {
     "name": "stdout",
     "output_type": "stream",
     "text": [
      "\n",
      "Processing driver: 165926f4-3741-4626-91ff-2541b2dd6524\n",
      "Total fine for driver 165926f4-3741-4626-91ff-2541b2dd6524: Rs 0.00\n",
      "Difference between rides for driver 165926f4-3741-4626-91ff-2541b2dd6524:\n",
      "   Distance between trip 1 and trip 2: 1.19 km\n",
      "   Distance between trip 2 and trip 3: 0.96 km\n",
      "   Distance between trip 3 and trip 4: 0.13 km\n",
      "   Distance between trip 4 and trip 5: 1.05 km\n",
      "   Distance between trip 5 and trip 6: 0.54 km\n",
      "   Distance between trip 6 and trip 7: 0.90 km\n",
      "   Distance between trip 7 and trip 8: 0.57 km\n",
      "   Distance between trip 8 and trip 9: 0.52 km\n",
      "   Distance between trip 9 and trip 10: 1.35 km\n",
      "   Distance between trip 10 and trip 11: 4.56 km\n",
      "   Distance between trip 11 and trip 12: 0.83 km\n",
      "   Distance between trip 12 and trip 13: 1.62 km\n",
      "Total distance traveled by driver 165926f4-3741-4626-91ff-2541b2dd6524: 14.21 km\n"
     ]
    },
    {
     "data": {
      "text/html": [
       "\n",
       "        <iframe\n",
       "            width=\"700\"\n",
       "            height=\"600\"\n",
       "            src=\"maps\\driver_165926f4-3741-4626-91ff-2541b2dd6524_map.html\"\n",
       "            frameborder=\"0\"\n",
       "            allowfullscreen\n",
       "            \n",
       "        ></iframe>\n",
       "        "
      ],
      "text/plain": [
       "<IPython.lib.display.IFrame at 0x17eb3a09b70>"
      ]
     },
     "metadata": {},
     "output_type": "display_data"
    },
    {
     "name": "stdout",
     "output_type": "stream",
     "text": [
      "\n",
      "Processing driver: 1659af5c-54ca-4ae8-8fa3-57d554ac0c57\n",
      "Total fine for driver 1659af5c-54ca-4ae8-8fa3-57d554ac0c57: Rs 0.00\n",
      "Difference between rides for driver 1659af5c-54ca-4ae8-8fa3-57d554ac0c57:\n",
      "   Distance between trip 1 and trip 2: 0.76 km\n",
      "   Distance between trip 2 and trip 3: 0.87 km\n",
      "   Distance between trip 3 and trip 4: 0.00 km\n",
      "   Distance between trip 4 and trip 5: 0.56 km\n",
      "   Distance between trip 5 and trip 6: 0.33 km\n",
      "   Distance between trip 6 and trip 7: 0.74 km\n",
      "   Distance between trip 7 and trip 8: 1.21 km\n",
      "   Distance between trip 8 and trip 9: 0.47 km\n",
      "   Distance between trip 9 and trip 10: 0.30 km\n",
      "   Distance between trip 10 and trip 11: 0.17 km\n",
      "   Distance between trip 11 and trip 12: 0.02 km\n",
      "   Distance between trip 12 and trip 13: 0.25 km\n",
      "   Distance between trip 13 and trip 14: 0.03 km\n",
      "   Distance between trip 14 and trip 15: 0.97 km\n",
      "   Distance between trip 15 and trip 16: 0.14 km\n",
      "   Distance between trip 16 and trip 17: 0.71 km\n",
      "   Distance between trip 17 and trip 18: 3.35 km\n",
      "   Distance between trip 18 and trip 19: 0.58 km\n",
      "   Distance between trip 19 and trip 20: 0.12 km\n",
      "   Distance between trip 20 and trip 21: 0.45 km\n",
      "   Distance between trip 21 and trip 22: 0.00 km\n",
      "   Distance between trip 22 and trip 23: 0.21 km\n",
      "   Distance between trip 23 and trip 24: 0.62 km\n",
      "   Distance between trip 24 and trip 25: 0.62 km\n",
      "   Distance between trip 25 and trip 26: 0.66 km\n",
      "   Distance between trip 26 and trip 27: 0.79 km\n",
      "   Distance between trip 27 and trip 28: 0.73 km\n",
      "   Distance between trip 28 and trip 29: 0.65 km\n",
      "   Distance between trip 29 and trip 30: 1.14 km\n",
      "Total distance traveled by driver 1659af5c-54ca-4ae8-8fa3-57d554ac0c57: 17.44 km\n"
     ]
    },
    {
     "data": {
      "text/html": [
       "\n",
       "        <iframe\n",
       "            width=\"700\"\n",
       "            height=\"600\"\n",
       "            src=\"maps\\driver_1659af5c-54ca-4ae8-8fa3-57d554ac0c57_map.html\"\n",
       "            frameborder=\"0\"\n",
       "            allowfullscreen\n",
       "            \n",
       "        ></iframe>\n",
       "        "
      ],
      "text/plain": [
       "<IPython.lib.display.IFrame at 0x17eb3a50bb0>"
      ]
     },
     "metadata": {},
     "output_type": "display_data"
    },
    {
     "name": "stdout",
     "output_type": "stream",
     "text": [
      "\n",
      "Processing driver: 16852d7d-1fde-4096-816b-6a5a23be5696\n",
      "Total fine for driver 16852d7d-1fde-4096-816b-6a5a23be5696: Rs 0.00\n",
      "Difference between rides for driver 16852d7d-1fde-4096-816b-6a5a23be5696:\n",
      "   Distance between trip 1 and trip 2: 2.37 km\n",
      "   Distance between trip 2 and trip 3: 0.04 km\n",
      "   Distance between trip 3 and trip 4: 0.01 km\n",
      "   Distance between trip 4 and trip 5: 0.72 km\n",
      "   Distance between trip 5 and trip 6: 0.32 km\n",
      "   Distance between trip 6 and trip 7: 0.28 km\n",
      "   Distance between trip 7 and trip 8: 0.44 km\n",
      "Total distance traveled by driver 16852d7d-1fde-4096-816b-6a5a23be5696: 4.18 km\n"
     ]
    },
    {
     "data": {
      "text/html": [
       "\n",
       "        <iframe\n",
       "            width=\"700\"\n",
       "            height=\"600\"\n",
       "            src=\"maps\\driver_16852d7d-1fde-4096-816b-6a5a23be5696_map.html\"\n",
       "            frameborder=\"0\"\n",
       "            allowfullscreen\n",
       "            \n",
       "        ></iframe>\n",
       "        "
      ],
      "text/plain": [
       "<IPython.lib.display.IFrame at 0x17eae4ff970>"
      ]
     },
     "metadata": {},
     "output_type": "display_data"
    },
    {
     "name": "stdout",
     "output_type": "stream",
     "text": [
      "\n",
      "Processing driver: 16e52854-347d-4e4b-9e5a-0af01a1cf9a9\n",
      "Total fine for driver 16e52854-347d-4e4b-9e5a-0af01a1cf9a9: Rs 0.00\n",
      "Difference between rides for driver 16e52854-347d-4e4b-9e5a-0af01a1cf9a9:\n",
      "   Distance between trip 1 and trip 2: 1.32 km\n",
      "   Distance between trip 2 and trip 3: 2.47 km\n",
      "   Distance between trip 3 and trip 4: 0.76 km\n",
      "   Distance between trip 4 and trip 5: 0.83 km\n",
      "   Distance between trip 5 and trip 6: 1.98 km\n",
      "   Distance between trip 6 and trip 7: 0.50 km\n",
      "   Distance between trip 7 and trip 8: 1.21 km\n",
      "   Distance between trip 8 and trip 9: 0.47 km\n",
      "   Distance between trip 9 and trip 10: 0.52 km\n",
      "   Distance between trip 10 and trip 11: 0.08 km\n",
      "   Distance between trip 11 and trip 12: 0.00 km\n",
      "   Distance between trip 12 and trip 13: 0.00 km\n",
      "   Distance between trip 13 and trip 14: 0.00 km\n",
      "   Distance between trip 14 and trip 15: 1.68 km\n",
      "   Distance between trip 15 and trip 16: 0.73 km\n",
      "   Distance between trip 16 and trip 17: 0.19 km\n",
      "   Distance between trip 17 and trip 18: 0.08 km\n",
      "   Distance between trip 18 and trip 19: 0.11 km\n",
      "   Distance between trip 19 and trip 20: 3.03 km\n",
      "   Distance between trip 20 and trip 21: 0.00 km\n",
      "   Distance between trip 21 and trip 22: 0.10 km\n",
      "   Distance between trip 22 and trip 23: 0.11 km\n",
      "   Distance between trip 23 and trip 24: 0.11 km\n",
      "   Distance between trip 24 and trip 25: 0.00 km\n",
      "   Distance between trip 25 and trip 26: 0.00 km\n",
      "Total distance traveled by driver 16e52854-347d-4e4b-9e5a-0af01a1cf9a9: 16.32 km\n"
     ]
    },
    {
     "data": {
      "text/html": [
       "\n",
       "        <iframe\n",
       "            width=\"700\"\n",
       "            height=\"600\"\n",
       "            src=\"maps\\driver_16e52854-347d-4e4b-9e5a-0af01a1cf9a9_map.html\"\n",
       "            frameborder=\"0\"\n",
       "            allowfullscreen\n",
       "            \n",
       "        ></iframe>\n",
       "        "
      ],
      "text/plain": [
       "<IPython.lib.display.IFrame at 0x17eb3a00280>"
      ]
     },
     "metadata": {},
     "output_type": "display_data"
    },
    {
     "name": "stdout",
     "output_type": "stream",
     "text": [
      "\n",
      "Processing driver: 16eac740-45c8-4d61-8eb5-d112a88c57cb\n",
      "Total fine for driver 16eac740-45c8-4d61-8eb5-d112a88c57cb: Rs 0.00\n",
      "Difference between rides for driver 16eac740-45c8-4d61-8eb5-d112a88c57cb:\n",
      "   Distance between trip 1 and trip 2: 0.76 km\n",
      "   Distance between trip 2 and trip 3: 0.47 km\n",
      "   Distance between trip 3 and trip 4: 0.68 km\n",
      "   Distance between trip 4 and trip 5: 0.50 km\n",
      "   Distance between trip 5 and trip 6: 0.68 km\n",
      "   Distance between trip 6 and trip 7: 0.65 km\n",
      "   Distance between trip 7 and trip 8: 0.07 km\n",
      "   Distance between trip 8 and trip 9: 0.71 km\n",
      "   Distance between trip 9 and trip 10: 0.00 km\n",
      "   Distance between trip 10 and trip 11: 0.12 km\n",
      "   Distance between trip 11 and trip 12: 0.60 km\n",
      "   Distance between trip 12 and trip 13: 0.11 km\n",
      "Total distance traveled by driver 16eac740-45c8-4d61-8eb5-d112a88c57cb: 5.36 km\n"
     ]
    },
    {
     "data": {
      "text/html": [
       "\n",
       "        <iframe\n",
       "            width=\"700\"\n",
       "            height=\"600\"\n",
       "            src=\"maps\\driver_16eac740-45c8-4d61-8eb5-d112a88c57cb_map.html\"\n",
       "            frameborder=\"0\"\n",
       "            allowfullscreen\n",
       "            \n",
       "        ></iframe>\n",
       "        "
      ],
      "text/plain": [
       "<IPython.lib.display.IFrame at 0x17eae4ffa90>"
      ]
     },
     "metadata": {},
     "output_type": "display_data"
    },
    {
     "name": "stdout",
     "output_type": "stream",
     "text": [
      "\n",
      "Processing driver: 173b06eb-b335-43ab-9d93-9987c6213f1c\n",
      "Total fine for driver 173b06eb-b335-43ab-9d93-9987c6213f1c: Rs 0.00\n",
      "Difference between rides for driver 173b06eb-b335-43ab-9d93-9987c6213f1c:\n",
      "   Distance between trip 1 and trip 2: 0.00 km\n",
      "   Distance between trip 2 and trip 3: 0.55 km\n",
      "   Distance between trip 3 and trip 4: 0.20 km\n",
      "   Distance between trip 4 and trip 5: 0.32 km\n",
      "   Distance between trip 5 and trip 6: 0.63 km\n",
      "   Distance between trip 6 and trip 7: 1.29 km\n",
      "   Distance between trip 7 and trip 8: 0.01 km\n",
      "   Distance between trip 8 and trip 9: 0.00 km\n",
      "   Distance between trip 9 and trip 10: 1.38 km\n",
      "   Distance between trip 10 and trip 11: 1.22 km\n",
      "   Distance between trip 11 and trip 12: 0.01 km\n",
      "   Distance between trip 12 and trip 13: 0.21 km\n",
      "   Distance between trip 13 and trip 14: 0.54 km\n",
      "   Distance between trip 14 and trip 15: 1.86 km\n",
      "   Distance between trip 15 and trip 16: 0.57 km\n",
      "   Distance between trip 16 and trip 17: 0.48 km\n",
      "   Distance between trip 17 and trip 18: 0.83 km\n",
      "   Distance between trip 18 and trip 19: 0.83 km\n",
      "Total distance traveled by driver 173b06eb-b335-43ab-9d93-9987c6213f1c: 10.93 km\n"
     ]
    },
    {
     "data": {
      "text/html": [
       "\n",
       "        <iframe\n",
       "            width=\"700\"\n",
       "            height=\"600\"\n",
       "            src=\"maps\\driver_173b06eb-b335-43ab-9d93-9987c6213f1c_map.html\"\n",
       "            frameborder=\"0\"\n",
       "            allowfullscreen\n",
       "            \n",
       "        ></iframe>\n",
       "        "
      ],
      "text/plain": [
       "<IPython.lib.display.IFrame at 0x17eb3a0ba60>"
      ]
     },
     "metadata": {},
     "output_type": "display_data"
    },
    {
     "name": "stdout",
     "output_type": "stream",
     "text": [
      "\n",
      "Processing driver: 175a125d-d777-4c52-8e44-d4861f6a96c3\n",
      "Total fine for driver 175a125d-d777-4c52-8e44-d4861f6a96c3: Rs 0.00\n",
      "Difference between rides for driver 175a125d-d777-4c52-8e44-d4861f6a96c3:\n",
      "   Distance between trip 1 and trip 2: 1.39 km\n",
      "   Distance between trip 2 and trip 3: 1.95 km\n",
      "   Distance between trip 3 and trip 4: 0.29 km\n",
      "   Distance between trip 4 and trip 5: 0.56 km\n",
      "   Distance between trip 5 and trip 6: 0.72 km\n",
      "   Distance between trip 6 and trip 7: 0.66 km\n",
      "   Distance between trip 7 and trip 8: 0.42 km\n",
      "   Distance between trip 8 and trip 9: 0.00 km\n",
      "   Distance between trip 9 and trip 10: 0.15 km\n",
      "   Distance between trip 10 and trip 11: 0.28 km\n",
      "   Distance between trip 11 and trip 12: 0.24 km\n",
      "   Distance between trip 12 and trip 13: 0.65 km\n",
      "   Distance between trip 13 and trip 14: 0.80 km\n",
      "   Distance between trip 14 and trip 15: 0.56 km\n",
      "   Distance between trip 15 and trip 16: 1.10 km\n",
      "   Distance between trip 16 and trip 17: 1.88 km\n",
      "   Distance between trip 17 and trip 18: 2.88 km\n",
      "   Distance between trip 18 and trip 19: 0.36 km\n",
      "   Distance between trip 19 and trip 20: 0.22 km\n",
      "Total distance traveled by driver 175a125d-d777-4c52-8e44-d4861f6a96c3: 15.12 km\n"
     ]
    },
    {
     "data": {
      "text/html": [
       "\n",
       "        <iframe\n",
       "            width=\"700\"\n",
       "            height=\"600\"\n",
       "            src=\"maps\\driver_175a125d-d777-4c52-8e44-d4861f6a96c3_map.html\"\n",
       "            frameborder=\"0\"\n",
       "            allowfullscreen\n",
       "            \n",
       "        ></iframe>\n",
       "        "
      ],
      "text/plain": [
       "<IPython.lib.display.IFrame at 0x17eaad476a0>"
      ]
     },
     "metadata": {},
     "output_type": "display_data"
    },
    {
     "name": "stdout",
     "output_type": "stream",
     "text": [
      "\n",
      "Processing driver: 1811412f-d6b2-4abf-aadf-8ced042485a0\n",
      "Total fine for driver 1811412f-d6b2-4abf-aadf-8ced042485a0: Rs 0.00\n",
      "Difference between rides for driver 1811412f-d6b2-4abf-aadf-8ced042485a0:\n",
      "   Distance between trip 1 and trip 2: 0.90 km\n",
      "   Distance between trip 2 and trip 3: 0.46 km\n",
      "   Distance between trip 3 and trip 4: 0.00 km\n",
      "   Distance between trip 4 and trip 5: 0.80 km\n",
      "Total distance traveled by driver 1811412f-d6b2-4abf-aadf-8ced042485a0: 2.16 km\n"
     ]
    },
    {
     "data": {
      "text/html": [
       "\n",
       "        <iframe\n",
       "            width=\"700\"\n",
       "            height=\"600\"\n",
       "            src=\"maps\\driver_1811412f-d6b2-4abf-aadf-8ced042485a0_map.html\"\n",
       "            frameborder=\"0\"\n",
       "            allowfullscreen\n",
       "            \n",
       "        ></iframe>\n",
       "        "
      ],
      "text/plain": [
       "<IPython.lib.display.IFrame at 0x17eae5222f0>"
      ]
     },
     "metadata": {},
     "output_type": "display_data"
    },
    {
     "name": "stdout",
     "output_type": "stream",
     "text": [
      "\n",
      "Processing driver: 184191a8-449e-4115-af0f-36ac3ae93756\n",
      "Total fine for driver 184191a8-449e-4115-af0f-36ac3ae93756: Rs 0.00\n",
      "Difference between rides for driver 184191a8-449e-4115-af0f-36ac3ae93756:\n",
      "Total distance traveled by driver 184191a8-449e-4115-af0f-36ac3ae93756: 0.00 km\n"
     ]
    },
    {
     "data": {
      "text/html": [
       "\n",
       "        <iframe\n",
       "            width=\"700\"\n",
       "            height=\"600\"\n",
       "            src=\"maps\\driver_184191a8-449e-4115-af0f-36ac3ae93756_map.html\"\n",
       "            frameborder=\"0\"\n",
       "            allowfullscreen\n",
       "            \n",
       "        ></iframe>\n",
       "        "
      ],
      "text/plain": [
       "<IPython.lib.display.IFrame at 0x17eaad46140>"
      ]
     },
     "metadata": {},
     "output_type": "display_data"
    },
    {
     "name": "stdout",
     "output_type": "stream",
     "text": [
      "\n",
      "Processing driver: 184d4a65-37bf-49e2-9698-10a774c16131\n",
      "Total fine for driver 184d4a65-37bf-49e2-9698-10a774c16131: Rs 232.99\n",
      "Difference between rides for driver 184d4a65-37bf-49e2-9698-10a774c16131:\n",
      "   Distance between trip 1 and trip 2: 2.07 km\n",
      "   Distance between trip 2 and trip 3: 0.71 km\n",
      "   Distance between trip 3 and trip 4: 1.25 km\n",
      "   Distance between trip 4 and trip 5: 0.34 km\n",
      "   Distance between trip 5 and trip 6: 0.54 km\n",
      "   Distance between trip 6 and trip 7: 0.32 km\n",
      "   Distance between trip 7 and trip 8: 33.30 km\n",
      "   Distance between trip 8 and trip 9: 0.70 km\n",
      "Total distance traveled by driver 184d4a65-37bf-49e2-9698-10a774c16131: 39.24 km\n"
     ]
    },
    {
     "data": {
      "text/html": [
       "\n",
       "        <iframe\n",
       "            width=\"700\"\n",
       "            height=\"600\"\n",
       "            src=\"maps\\driver_184d4a65-37bf-49e2-9698-10a774c16131_map.html\"\n",
       "            frameborder=\"0\"\n",
       "            allowfullscreen\n",
       "            \n",
       "        ></iframe>\n",
       "        "
      ],
      "text/plain": [
       "<IPython.lib.display.IFrame at 0x17eae521b40>"
      ]
     },
     "metadata": {},
     "output_type": "display_data"
    },
    {
     "name": "stdout",
     "output_type": "stream",
     "text": [
      "\n",
      "Processing driver: 18b372e6-045b-4ea7-957d-61a5450b5475\n",
      "Total fine for driver 18b372e6-045b-4ea7-957d-61a5450b5475: Rs 89.93\n",
      "Difference between rides for driver 18b372e6-045b-4ea7-957d-61a5450b5475:\n",
      "   Distance between trip 1 and trip 2: 0.73 km\n",
      "   Distance between trip 2 and trip 3: 1.94 km\n",
      "   Distance between trip 3 and trip 4: 0.02 km\n",
      "   Distance between trip 4 and trip 5: 0.91 km\n",
      "   Distance between trip 5 and trip 6: 2.95 km\n",
      "   Distance between trip 6 and trip 7: 0.47 km\n",
      "   Distance between trip 7 and trip 8: 1.23 km\n",
      "   Distance between trip 8 and trip 9: 1.88 km\n",
      "   Distance between trip 9 and trip 10: 18.99 km\n",
      "Total distance traveled by driver 18b372e6-045b-4ea7-957d-61a5450b5475: 29.14 km\n"
     ]
    },
    {
     "data": {
      "text/html": [
       "\n",
       "        <iframe\n",
       "            width=\"700\"\n",
       "            height=\"600\"\n",
       "            src=\"maps\\driver_18b372e6-045b-4ea7-957d-61a5450b5475_map.html\"\n",
       "            frameborder=\"0\"\n",
       "            allowfullscreen\n",
       "            \n",
       "        ></iframe>\n",
       "        "
      ],
      "text/plain": [
       "<IPython.lib.display.IFrame at 0x17eae4ff970>"
      ]
     },
     "metadata": {},
     "output_type": "display_data"
    },
    {
     "name": "stdout",
     "output_type": "stream",
     "text": [
      "\n",
      "Processing driver: 18b7202d-254b-4e6e-9bac-165248ada0b2\n",
      "Total fine for driver 18b7202d-254b-4e6e-9bac-165248ada0b2: Rs 0.00\n",
      "Difference between rides for driver 18b7202d-254b-4e6e-9bac-165248ada0b2:\n",
      "   Distance between trip 1 and trip 2: 0.90 km\n",
      "   Distance between trip 2 and trip 3: 0.17 km\n",
      "   Distance between trip 3 and trip 4: 0.48 km\n",
      "Total distance traveled by driver 18b7202d-254b-4e6e-9bac-165248ada0b2: 1.55 km\n"
     ]
    },
    {
     "data": {
      "text/html": [
       "\n",
       "        <iframe\n",
       "            width=\"700\"\n",
       "            height=\"600\"\n",
       "            src=\"maps\\driver_18b7202d-254b-4e6e-9bac-165248ada0b2_map.html\"\n",
       "            frameborder=\"0\"\n",
       "            allowfullscreen\n",
       "            \n",
       "        ></iframe>\n",
       "        "
      ],
      "text/plain": [
       "<IPython.lib.display.IFrame at 0x17eb3a0b310>"
      ]
     },
     "metadata": {},
     "output_type": "display_data"
    },
    {
     "name": "stdout",
     "output_type": "stream",
     "text": [
      "\n",
      "Processing driver: 18e7741c-3ad3-4d86-9802-0b45686578d0\n",
      "Total fine for driver 18e7741c-3ad3-4d86-9802-0b45686578d0: Rs 0.00\n",
      "Difference between rides for driver 18e7741c-3ad3-4d86-9802-0b45686578d0:\n",
      "   Distance between trip 1 and trip 2: 0.89 km\n",
      "   Distance between trip 2 and trip 3: 0.61 km\n",
      "   Distance between trip 3 and trip 4: 0.94 km\n",
      "   Distance between trip 4 and trip 5: 0.17 km\n",
      "   Distance between trip 5 and trip 6: 1.49 km\n",
      "   Distance between trip 6 and trip 7: 0.30 km\n",
      "   Distance between trip 7 and trip 8: 0.41 km\n",
      "   Distance between trip 8 and trip 9: 0.23 km\n",
      "   Distance between trip 9 and trip 10: 0.10 km\n",
      "   Distance between trip 10 and trip 11: 0.01 km\n",
      "   Distance between trip 11 and trip 12: 1.36 km\n",
      "Total distance traveled by driver 18e7741c-3ad3-4d86-9802-0b45686578d0: 6.50 km\n"
     ]
    },
    {
     "data": {
      "text/html": [
       "\n",
       "        <iframe\n",
       "            width=\"700\"\n",
       "            height=\"600\"\n",
       "            src=\"maps\\driver_18e7741c-3ad3-4d86-9802-0b45686578d0_map.html\"\n",
       "            frameborder=\"0\"\n",
       "            allowfullscreen\n",
       "            \n",
       "        ></iframe>\n",
       "        "
      ],
      "text/plain": [
       "<IPython.lib.display.IFrame at 0x17eae4ffa90>"
      ]
     },
     "metadata": {},
     "output_type": "display_data"
    },
    {
     "name": "stdout",
     "output_type": "stream",
     "text": [
      "\n",
      "Processing driver: 18ea0cf9-3836-47f6-b2fe-dd7d0c2a321c\n",
      "Total fine for driver 18ea0cf9-3836-47f6-b2fe-dd7d0c2a321c: Rs 0.00\n",
      "Difference between rides for driver 18ea0cf9-3836-47f6-b2fe-dd7d0c2a321c:\n",
      "   Distance between trip 1 and trip 2: 0.41 km\n",
      "   Distance between trip 2 and trip 3: 0.01 km\n",
      "   Distance between trip 3 and trip 4: 1.20 km\n",
      "   Distance between trip 4 and trip 5: 0.83 km\n",
      "   Distance between trip 5 and trip 6: 2.08 km\n",
      "   Distance between trip 6 and trip 7: 0.11 km\n",
      "   Distance between trip 7 and trip 8: 0.80 km\n",
      "   Distance between trip 8 and trip 9: 0.17 km\n",
      "   Distance between trip 9 and trip 10: 0.88 km\n",
      "   Distance between trip 10 and trip 11: 0.12 km\n",
      "   Distance between trip 11 and trip 12: 0.49 km\n",
      "   Distance between trip 12 and trip 13: 0.69 km\n",
      "   Distance between trip 13 and trip 14: 0.13 km\n",
      "   Distance between trip 14 and trip 15: 0.13 km\n",
      "Total distance traveled by driver 18ea0cf9-3836-47f6-b2fe-dd7d0c2a321c: 8.03 km\n"
     ]
    },
    {
     "data": {
      "text/html": [
       "\n",
       "        <iframe\n",
       "            width=\"700\"\n",
       "            height=\"600\"\n",
       "            src=\"maps\\driver_18ea0cf9-3836-47f6-b2fe-dd7d0c2a321c_map.html\"\n",
       "            frameborder=\"0\"\n",
       "            allowfullscreen\n",
       "            \n",
       "        ></iframe>\n",
       "        "
      ],
      "text/plain": [
       "<IPython.lib.display.IFrame at 0x17eb3a52f50>"
      ]
     },
     "metadata": {},
     "output_type": "display_data"
    },
    {
     "name": "stdout",
     "output_type": "stream",
     "text": [
      "\n",
      "Processing driver: 18f00e80-dce9-4596-8096-48490d9a1229\n",
      "Total fine for driver 18f00e80-dce9-4596-8096-48490d9a1229: Rs 0.00\n",
      "Difference between rides for driver 18f00e80-dce9-4596-8096-48490d9a1229:\n",
      "   Distance between trip 1 and trip 2: 0.48 km\n",
      "   Distance between trip 2 and trip 3: 0.43 km\n",
      "   Distance between trip 3 and trip 4: 1.25 km\n",
      "Total distance traveled by driver 18f00e80-dce9-4596-8096-48490d9a1229: 2.15 km\n"
     ]
    },
    {
     "data": {
      "text/html": [
       "\n",
       "        <iframe\n",
       "            width=\"700\"\n",
       "            height=\"600\"\n",
       "            src=\"maps\\driver_18f00e80-dce9-4596-8096-48490d9a1229_map.html\"\n",
       "            frameborder=\"0\"\n",
       "            allowfullscreen\n",
       "            \n",
       "        ></iframe>\n",
       "        "
      ],
      "text/plain": [
       "<IPython.lib.display.IFrame at 0x17eb3a50490>"
      ]
     },
     "metadata": {},
     "output_type": "display_data"
    },
    {
     "name": "stdout",
     "output_type": "stream",
     "text": [
      "\n",
      "Processing driver: 190d24f4-c2d6-404a-82ca-2446622eaedf\n",
      "Total fine for driver 190d24f4-c2d6-404a-82ca-2446622eaedf: Rs 0.00\n",
      "Difference between rides for driver 190d24f4-c2d6-404a-82ca-2446622eaedf:\n",
      "   Distance between trip 1 and trip 2: 5.95 km\n",
      "   Distance between trip 2 and trip 3: 0.46 km\n",
      "   Distance between trip 3 and trip 4: 0.87 km\n",
      "   Distance between trip 4 and trip 5: 0.57 km\n",
      "   Distance between trip 5 and trip 6: 0.01 km\n",
      "   Distance between trip 6 and trip 7: 0.87 km\n",
      "   Distance between trip 7 and trip 8: 0.15 km\n",
      "   Distance between trip 8 and trip 9: 0.91 km\n",
      "   Distance between trip 9 and trip 10: 1.94 km\n",
      "   Distance between trip 10 and trip 11: 0.11 km\n",
      "   Distance between trip 11 and trip 12: 0.36 km\n",
      "   Distance between trip 12 and trip 13: 1.21 km\n",
      "   Distance between trip 13 and trip 14: 0.68 km\n",
      "Total distance traveled by driver 190d24f4-c2d6-404a-82ca-2446622eaedf: 14.09 km\n"
     ]
    },
    {
     "data": {
      "text/html": [
       "\n",
       "        <iframe\n",
       "            width=\"700\"\n",
       "            height=\"600\"\n",
       "            src=\"maps\\driver_190d24f4-c2d6-404a-82ca-2446622eaedf_map.html\"\n",
       "            frameborder=\"0\"\n",
       "            allowfullscreen\n",
       "            \n",
       "        ></iframe>\n",
       "        "
      ],
      "text/plain": [
       "<IPython.lib.display.IFrame at 0x17eb3a50fd0>"
      ]
     },
     "metadata": {},
     "output_type": "display_data"
    },
    {
     "name": "stdout",
     "output_type": "stream",
     "text": [
      "\n",
      "Processing driver: 191cd97b-b321-4bf7-b84f-eafbd5d0250b\n",
      "Total fine for driver 191cd97b-b321-4bf7-b84f-eafbd5d0250b: Rs 0.00\n",
      "Difference between rides for driver 191cd97b-b321-4bf7-b84f-eafbd5d0250b:\n",
      "   Distance between trip 1 and trip 2: 0.11 km\n",
      "   Distance between trip 2 and trip 3: 0.04 km\n",
      "Total distance traveled by driver 191cd97b-b321-4bf7-b84f-eafbd5d0250b: 0.15 km\n"
     ]
    },
    {
     "data": {
      "text/html": [
       "\n",
       "        <iframe\n",
       "            width=\"700\"\n",
       "            height=\"600\"\n",
       "            src=\"maps\\driver_191cd97b-b321-4bf7-b84f-eafbd5d0250b_map.html\"\n",
       "            frameborder=\"0\"\n",
       "            allowfullscreen\n",
       "            \n",
       "        ></iframe>\n",
       "        "
      ],
      "text/plain": [
       "<IPython.lib.display.IFrame at 0x17eaad476a0>"
      ]
     },
     "metadata": {},
     "output_type": "display_data"
    },
    {
     "name": "stdout",
     "output_type": "stream",
     "text": [
      "\n",
      "Processing driver: 19385544-9fbf-408c-825e-458615b41a0b\n",
      "Total fine for driver 19385544-9fbf-408c-825e-458615b41a0b: Rs 0.00\n",
      "Difference between rides for driver 19385544-9fbf-408c-825e-458615b41a0b:\n",
      "   Distance between trip 1 and trip 2: 0.08 km\n",
      "   Distance between trip 2 and trip 3: 0.24 km\n",
      "   Distance between trip 3 and trip 4: 0.54 km\n",
      "   Distance between trip 4 and trip 5: 1.68 km\n",
      "   Distance between trip 5 and trip 6: 1.40 km\n",
      "   Distance between trip 6 and trip 7: 0.53 km\n",
      "Total distance traveled by driver 19385544-9fbf-408c-825e-458615b41a0b: 4.47 km\n"
     ]
    },
    {
     "data": {
      "text/html": [
       "\n",
       "        <iframe\n",
       "            width=\"700\"\n",
       "            height=\"600\"\n",
       "            src=\"maps\\driver_19385544-9fbf-408c-825e-458615b41a0b_map.html\"\n",
       "            frameborder=\"0\"\n",
       "            allowfullscreen\n",
       "            \n",
       "        ></iframe>\n",
       "        "
      ],
      "text/plain": [
       "<IPython.lib.display.IFrame at 0x17eae4ff970>"
      ]
     },
     "metadata": {},
     "output_type": "display_data"
    },
    {
     "name": "stdout",
     "output_type": "stream",
     "text": [
      "\n",
      "Processing driver: 196cd52f-2017-4f52-95f0-6e469fc89d31\n",
      "Total fine for driver 196cd52f-2017-4f52-95f0-6e469fc89d31: Rs 0.00\n",
      "Difference between rides for driver 196cd52f-2017-4f52-95f0-6e469fc89d31:\n",
      "   Distance between trip 1 and trip 2: 9.82 km\n",
      "   Distance between trip 2 and trip 3: 3.34 km\n",
      "Total distance traveled by driver 196cd52f-2017-4f52-95f0-6e469fc89d31: 13.16 km\n"
     ]
    },
    {
     "data": {
      "text/html": [
       "\n",
       "        <iframe\n",
       "            width=\"700\"\n",
       "            height=\"600\"\n",
       "            src=\"maps\\driver_196cd52f-2017-4f52-95f0-6e469fc89d31_map.html\"\n",
       "            frameborder=\"0\"\n",
       "            allowfullscreen\n",
       "            \n",
       "        ></iframe>\n",
       "        "
      ],
      "text/plain": [
       "<IPython.lib.display.IFrame at 0x17eb3a50100>"
      ]
     },
     "metadata": {},
     "output_type": "display_data"
    },
    {
     "name": "stdout",
     "output_type": "stream",
     "text": [
      "\n",
      "Processing driver: 19b18cb8-3705-4420-9d9b-15ce11479459\n",
      "Total fine for driver 19b18cb8-3705-4420-9d9b-15ce11479459: Rs 0.00\n",
      "Difference between rides for driver 19b18cb8-3705-4420-9d9b-15ce11479459:\n",
      "   Distance between trip 1 and trip 2: 1.34 km\n",
      "   Distance between trip 2 and trip 3: 1.39 km\n",
      "   Distance between trip 3 and trip 4: 0.07 km\n",
      "   Distance between trip 4 and trip 5: 0.63 km\n",
      "   Distance between trip 5 and trip 6: 0.24 km\n",
      "   Distance between trip 6 and trip 7: 0.22 km\n",
      "   Distance between trip 7 and trip 8: 0.00 km\n",
      "   Distance between trip 8 and trip 9: 0.41 km\n",
      "   Distance between trip 9 and trip 10: 2.58 km\n",
      "   Distance between trip 10 and trip 11: 0.55 km\n",
      "   Distance between trip 11 and trip 12: 1.77 km\n",
      "   Distance between trip 12 and trip 13: 3.57 km\n",
      "   Distance between trip 13 and trip 14: 2.80 km\n",
      "Total distance traveled by driver 19b18cb8-3705-4420-9d9b-15ce11479459: 15.58 km\n"
     ]
    },
    {
     "data": {
      "text/html": [
       "\n",
       "        <iframe\n",
       "            width=\"700\"\n",
       "            height=\"600\"\n",
       "            src=\"maps\\driver_19b18cb8-3705-4420-9d9b-15ce11479459_map.html\"\n",
       "            frameborder=\"0\"\n",
       "            allowfullscreen\n",
       "            \n",
       "        ></iframe>\n",
       "        "
      ],
      "text/plain": [
       "<IPython.lib.display.IFrame at 0x17eb3a53ac0>"
      ]
     },
     "metadata": {},
     "output_type": "display_data"
    },
    {
     "name": "stdout",
     "output_type": "stream",
     "text": [
      "\n",
      "Processing driver: 1a290ef9-4978-47e9-84bf-fdf4b96a6fbe\n",
      "Total fine for driver 1a290ef9-4978-47e9-84bf-fdf4b96a6fbe: Rs 0.00\n",
      "Difference between rides for driver 1a290ef9-4978-47e9-84bf-fdf4b96a6fbe:\n",
      "   Distance between trip 1 and trip 2: 2.02 km\n",
      "   Distance between trip 2 and trip 3: 0.70 km\n",
      "   Distance between trip 3 and trip 4: 0.00 km\n",
      "   Distance between trip 4 and trip 5: 0.66 km\n",
      "   Distance between trip 5 and trip 6: 0.06 km\n",
      "   Distance between trip 6 and trip 7: 0.35 km\n",
      "   Distance between trip 7 and trip 8: 9.99 km\n",
      "Total distance traveled by driver 1a290ef9-4978-47e9-84bf-fdf4b96a6fbe: 13.79 km\n"
     ]
    },
    {
     "data": {
      "text/html": [
       "\n",
       "        <iframe\n",
       "            width=\"700\"\n",
       "            height=\"600\"\n",
       "            src=\"maps\\driver_1a290ef9-4978-47e9-84bf-fdf4b96a6fbe_map.html\"\n",
       "            frameborder=\"0\"\n",
       "            allowfullscreen\n",
       "            \n",
       "        ></iframe>\n",
       "        "
      ],
      "text/plain": [
       "<IPython.lib.display.IFrame at 0x17eb3a51060>"
      ]
     },
     "metadata": {},
     "output_type": "display_data"
    },
    {
     "name": "stdout",
     "output_type": "stream",
     "text": [
      "\n",
      "Processing driver: 1a5b2fc3-65e0-44bd-8077-e8019bf2ee1c\n",
      "Total fine for driver 1a5b2fc3-65e0-44bd-8077-e8019bf2ee1c: Rs 0.00\n",
      "Difference between rides for driver 1a5b2fc3-65e0-44bd-8077-e8019bf2ee1c:\n",
      "Total distance traveled by driver 1a5b2fc3-65e0-44bd-8077-e8019bf2ee1c: 0.00 km\n"
     ]
    },
    {
     "data": {
      "text/html": [
       "\n",
       "        <iframe\n",
       "            width=\"700\"\n",
       "            height=\"600\"\n",
       "            src=\"maps\\driver_1a5b2fc3-65e0-44bd-8077-e8019bf2ee1c_map.html\"\n",
       "            frameborder=\"0\"\n",
       "            allowfullscreen\n",
       "            \n",
       "        ></iframe>\n",
       "        "
      ],
      "text/plain": [
       "<IPython.lib.display.IFrame at 0x17eaad476a0>"
      ]
     },
     "metadata": {},
     "output_type": "display_data"
    },
    {
     "name": "stdout",
     "output_type": "stream",
     "text": [
      "\n",
      "Processing driver: 1a997f57-46a6-4668-8b2a-c829e8ffca18\n",
      "Total fine for driver 1a997f57-46a6-4668-8b2a-c829e8ffca18: Rs 0.00\n",
      "Difference between rides for driver 1a997f57-46a6-4668-8b2a-c829e8ffca18:\n",
      "   Distance between trip 1 and trip 2: 0.12 km\n",
      "   Distance between trip 2 and trip 3: 3.43 km\n",
      "   Distance between trip 3 and trip 4: 0.41 km\n",
      "   Distance between trip 4 and trip 5: 0.43 km\n",
      "Total distance traveled by driver 1a997f57-46a6-4668-8b2a-c829e8ffca18: 4.39 km\n"
     ]
    },
    {
     "data": {
      "text/html": [
       "\n",
       "        <iframe\n",
       "            width=\"700\"\n",
       "            height=\"600\"\n",
       "            src=\"maps\\driver_1a997f57-46a6-4668-8b2a-c829e8ffca18_map.html\"\n",
       "            frameborder=\"0\"\n",
       "            allowfullscreen\n",
       "            \n",
       "        ></iframe>\n",
       "        "
      ],
      "text/plain": [
       "<IPython.lib.display.IFrame at 0x17eae4ff970>"
      ]
     },
     "metadata": {},
     "output_type": "display_data"
    },
    {
     "name": "stdout",
     "output_type": "stream",
     "text": [
      "\n",
      "Processing driver: 1ae03781-6298-4b32-8c5b-42cac9bd066c\n",
      "Total fine for driver 1ae03781-6298-4b32-8c5b-42cac9bd066c: Rs 0.00\n",
      "Difference between rides for driver 1ae03781-6298-4b32-8c5b-42cac9bd066c:\n",
      "   Distance between trip 1 and trip 2: 2.10 km\n",
      "   Distance between trip 2 and trip 3: 0.60 km\n",
      "   Distance between trip 3 and trip 4: 0.48 km\n",
      "   Distance between trip 4 and trip 5: 0.60 km\n",
      "   Distance between trip 5 and trip 6: 0.10 km\n",
      "   Distance between trip 6 and trip 7: 0.41 km\n",
      "   Distance between trip 7 and trip 8: 1.48 km\n",
      "   Distance between trip 8 and trip 9: 1.09 km\n",
      "   Distance between trip 9 and trip 10: 2.50 km\n",
      "   Distance between trip 10 and trip 11: 0.03 km\n",
      "   Distance between trip 11 and trip 12: 1.70 km\n",
      "   Distance between trip 12 and trip 13: 0.15 km\n",
      "Total distance traveled by driver 1ae03781-6298-4b32-8c5b-42cac9bd066c: 11.24 km\n"
     ]
    },
    {
     "data": {
      "text/html": [
       "\n",
       "        <iframe\n",
       "            width=\"700\"\n",
       "            height=\"600\"\n",
       "            src=\"maps\\driver_1ae03781-6298-4b32-8c5b-42cac9bd066c_map.html\"\n",
       "            frameborder=\"0\"\n",
       "            allowfullscreen\n",
       "            \n",
       "        ></iframe>\n",
       "        "
      ],
      "text/plain": [
       "<IPython.lib.display.IFrame at 0x17eb3a51480>"
      ]
     },
     "metadata": {},
     "output_type": "display_data"
    },
    {
     "name": "stdout",
     "output_type": "stream",
     "text": [
      "\n",
      "Processing driver: 1b05172f-4d39-471a-9a2b-f18c84a06970\n",
      "Total fine for driver 1b05172f-4d39-471a-9a2b-f18c84a06970: Rs 0.00\n",
      "Difference between rides for driver 1b05172f-4d39-471a-9a2b-f18c84a06970:\n",
      "   Distance between trip 1 and trip 2: 6.08 km\n",
      "Total distance traveled by driver 1b05172f-4d39-471a-9a2b-f18c84a06970: 6.08 km\n"
     ]
    },
    {
     "data": {
      "text/html": [
       "\n",
       "        <iframe\n",
       "            width=\"700\"\n",
       "            height=\"600\"\n",
       "            src=\"maps\\driver_1b05172f-4d39-471a-9a2b-f18c84a06970_map.html\"\n",
       "            frameborder=\"0\"\n",
       "            allowfullscreen\n",
       "            \n",
       "        ></iframe>\n",
       "        "
      ],
      "text/plain": [
       "<IPython.lib.display.IFrame at 0x17eb3a53310>"
      ]
     },
     "metadata": {},
     "output_type": "display_data"
    },
    {
     "name": "stdout",
     "output_type": "stream",
     "text": [
      "\n",
      "Processing driver: 1b2142c4-e9b8-437d-b390-d339f0b69f70\n",
      "Total fine for driver 1b2142c4-e9b8-437d-b390-d339f0b69f70: Rs 57.16\n",
      "Difference between rides for driver 1b2142c4-e9b8-437d-b390-d339f0b69f70:\n",
      "   Distance between trip 1 and trip 2: 0.00 km\n",
      "   Distance between trip 2 and trip 3: 0.79 km\n",
      "   Distance between trip 3 and trip 4: 0.11 km\n",
      "   Distance between trip 4 and trip 5: 0.77 km\n",
      "   Distance between trip 5 and trip 6: 0.16 km\n",
      "   Distance between trip 6 and trip 7: 15.72 km\n",
      "   Distance between trip 7 and trip 8: 4.47 km\n",
      "   Distance between trip 8 and trip 9: 2.16 km\n",
      "   Distance between trip 9 and trip 10: 0.11 km\n",
      "   Distance between trip 10 and trip 11: 0.91 km\n",
      "   Distance between trip 11 and trip 12: 2.98 km\n",
      "   Distance between trip 12 and trip 13: 1.69 km\n",
      "   Distance between trip 13 and trip 14: 1.59 km\n",
      "   Distance between trip 14 and trip 15: 0.83 km\n",
      "   Distance between trip 15 and trip 16: 0.25 km\n",
      "Total distance traveled by driver 1b2142c4-e9b8-437d-b390-d339f0b69f70: 32.54 km\n"
     ]
    },
    {
     "data": {
      "text/html": [
       "\n",
       "        <iframe\n",
       "            width=\"700\"\n",
       "            height=\"600\"\n",
       "            src=\"maps\\driver_1b2142c4-e9b8-437d-b390-d339f0b69f70_map.html\"\n",
       "            frameborder=\"0\"\n",
       "            allowfullscreen\n",
       "            \n",
       "        ></iframe>\n",
       "        "
      ],
      "text/plain": [
       "<IPython.lib.display.IFrame at 0x17eb3a03010>"
      ]
     },
     "metadata": {},
     "output_type": "display_data"
    },
    {
     "name": "stdout",
     "output_type": "stream",
     "text": [
      "\n",
      "Processing driver: 1b4c9e55-8770-4348-97a5-7608e591dcde\n",
      "Total fine for driver 1b4c9e55-8770-4348-97a5-7608e591dcde: Rs 0.00\n",
      "Difference between rides for driver 1b4c9e55-8770-4348-97a5-7608e591dcde:\n",
      "   Distance between trip 1 and trip 2: 0.48 km\n",
      "   Distance between trip 2 and trip 3: 0.81 km\n",
      "   Distance between trip 3 and trip 4: 1.59 km\n",
      "   Distance between trip 4 and trip 5: 0.02 km\n",
      "   Distance between trip 5 and trip 6: 0.61 km\n",
      "   Distance between trip 6 and trip 7: 0.53 km\n",
      "   Distance between trip 7 and trip 8: 0.67 km\n",
      "   Distance between trip 8 and trip 9: 0.72 km\n",
      "   Distance between trip 9 and trip 10: 0.88 km\n",
      "   Distance between trip 10 and trip 11: 0.01 km\n",
      "   Distance between trip 11 and trip 12: 1.60 km\n",
      "Total distance traveled by driver 1b4c9e55-8770-4348-97a5-7608e591dcde: 7.94 km\n"
     ]
    },
    {
     "data": {
      "text/html": [
       "\n",
       "        <iframe\n",
       "            width=\"700\"\n",
       "            height=\"600\"\n",
       "            src=\"maps\\driver_1b4c9e55-8770-4348-97a5-7608e591dcde_map.html\"\n",
       "            frameborder=\"0\"\n",
       "            allowfullscreen\n",
       "            \n",
       "        ></iframe>\n",
       "        "
      ],
      "text/plain": [
       "<IPython.lib.display.IFrame at 0x17eb3a53460>"
      ]
     },
     "metadata": {},
     "output_type": "display_data"
    },
    {
     "name": "stdout",
     "output_type": "stream",
     "text": [
      "\n",
      "Processing driver: 1baeca01-0858-4388-b4e8-266519c1132d\n",
      "Total fine for driver 1baeca01-0858-4388-b4e8-266519c1132d: Rs 179.58\n",
      "Difference between rides for driver 1baeca01-0858-4388-b4e8-266519c1132d:\n",
      "   Distance between trip 1 and trip 2: 0.29 km\n",
      "   Distance between trip 2 and trip 3: 0.11 km\n",
      "   Distance between trip 3 and trip 4: 0.51 km\n",
      "   Distance between trip 4 and trip 5: 1.82 km\n",
      "   Distance between trip 5 and trip 6: 0.14 km\n",
      "   Distance between trip 6 and trip 7: 1.38 km\n",
      "   Distance between trip 7 and trip 8: 1.59 km\n",
      "   Distance between trip 8 and trip 9: 0.03 km\n",
      "   Distance between trip 9 and trip 10: 1.22 km\n",
      "   Distance between trip 10 and trip 11: 1.00 km\n",
      "   Distance between trip 11 and trip 12: 17.57 km\n",
      "   Distance between trip 12 and trip 13: 18.16 km\n",
      "   Distance between trip 13 and trip 14: 0.49 km\n",
      "   Distance between trip 14 and trip 15: 0.40 km\n",
      "   Distance between trip 15 and trip 16: 0.11 km\n",
      "   Distance between trip 16 and trip 17: 0.07 km\n",
      "   Distance between trip 17 and trip 18: 0.69 km\n",
      "   Distance between trip 18 and trip 19: 1.09 km\n",
      "   Distance between trip 19 and trip 20: 12.23 km\n",
      "   Distance between trip 20 and trip 21: 0.25 km\n",
      "   Distance between trip 21 and trip 22: 0.17 km\n",
      "   Distance between trip 22 and trip 23: 0.21 km\n",
      "   Distance between trip 23 and trip 24: 0.33 km\n",
      "   Distance between trip 24 and trip 25: 0.01 km\n",
      "   Distance between trip 25 and trip 26: 1.31 km\n",
      "   Distance between trip 26 and trip 27: 1.79 km\n",
      "Total distance traveled by driver 1baeca01-0858-4388-b4e8-266519c1132d: 62.96 km\n"
     ]
    },
    {
     "data": {
      "text/html": [
       "\n",
       "        <iframe\n",
       "            width=\"700\"\n",
       "            height=\"600\"\n",
       "            src=\"maps\\driver_1baeca01-0858-4388-b4e8-266519c1132d_map.html\"\n",
       "            frameborder=\"0\"\n",
       "            allowfullscreen\n",
       "            \n",
       "        ></iframe>\n",
       "        "
      ],
      "text/plain": [
       "<IPython.lib.display.IFrame at 0x17eb3a520e0>"
      ]
     },
     "metadata": {},
     "output_type": "display_data"
    },
    {
     "name": "stdout",
     "output_type": "stream",
     "text": [
      "\n",
      "Processing driver: 1bdd5c3d-c45f-4ae5-b028-54cdf330f67c\n",
      "Total fine for driver 1bdd5c3d-c45f-4ae5-b028-54cdf330f67c: Rs 0.00\n",
      "Difference between rides for driver 1bdd5c3d-c45f-4ae5-b028-54cdf330f67c:\n",
      "   Distance between trip 1 and trip 2: 0.68 km\n",
      "   Distance between trip 2 and trip 3: 0.94 km\n",
      "   Distance between trip 3 and trip 4: 0.34 km\n",
      "   Distance between trip 4 and trip 5: 0.09 km\n",
      "   Distance between trip 5 and trip 6: 0.00 km\n",
      "   Distance between trip 6 and trip 7: 2.41 km\n",
      "   Distance between trip 7 and trip 8: 1.27 km\n",
      "   Distance between trip 8 and trip 9: 0.18 km\n",
      "   Distance between trip 9 and trip 10: 0.46 km\n",
      "   Distance between trip 10 and trip 11: 0.75 km\n",
      "   Distance between trip 11 and trip 12: 0.46 km\n",
      "   Distance between trip 12 and trip 13: 0.14 km\n",
      "   Distance between trip 13 and trip 14: 1.27 km\n",
      "   Distance between trip 14 and trip 15: 0.28 km\n",
      "   Distance between trip 15 and trip 16: 2.45 km\n",
      "   Distance between trip 16 and trip 17: 0.30 km\n",
      "Total distance traveled by driver 1bdd5c3d-c45f-4ae5-b028-54cdf330f67c: 12.03 km\n"
     ]
    },
    {
     "data": {
      "text/html": [
       "\n",
       "        <iframe\n",
       "            width=\"700\"\n",
       "            height=\"600\"\n",
       "            src=\"maps\\driver_1bdd5c3d-c45f-4ae5-b028-54cdf330f67c_map.html\"\n",
       "            frameborder=\"0\"\n",
       "            allowfullscreen\n",
       "            \n",
       "        ></iframe>\n",
       "        "
      ],
      "text/plain": [
       "<IPython.lib.display.IFrame at 0x17eae4ffa90>"
      ]
     },
     "metadata": {},
     "output_type": "display_data"
    },
    {
     "name": "stdout",
     "output_type": "stream",
     "text": [
      "\n",
      "Processing driver: 1bf26072-a1b9-404a-a44c-759724fc8492\n",
      "Total fine for driver 1bf26072-a1b9-404a-a44c-759724fc8492: Rs 164.16\n",
      "Difference between rides for driver 1bf26072-a1b9-404a-a44c-759724fc8492:\n",
      "   Distance between trip 1 and trip 2: 4.23 km\n",
      "   Distance between trip 2 and trip 3: 4.31 km\n",
      "   Distance between trip 3 and trip 4: 1.58 km\n",
      "   Distance between trip 4 and trip 5: 1.78 km\n",
      "   Distance between trip 5 and trip 6: 3.77 km\n",
      "   Distance between trip 6 and trip 7: 0.59 km\n",
      "   Distance between trip 7 and trip 8: 0.10 km\n",
      "   Distance between trip 8 and trip 9: 0.90 km\n",
      "   Distance between trip 9 and trip 10: 19.39 km\n",
      "   Distance between trip 10 and trip 11: 17.03 km\n",
      "   Distance between trip 11 and trip 12: 2.18 km\n",
      "   Distance between trip 12 and trip 13: 0.57 km\n",
      "   Distance between trip 13 and trip 14: 0.60 km\n",
      "   Distance between trip 14 and trip 15: 6.96 km\n",
      "   Distance between trip 15 and trip 16: 0.98 km\n",
      "Total distance traveled by driver 1bf26072-a1b9-404a-a44c-759724fc8492: 64.98 km\n"
     ]
    },
    {
     "data": {
      "text/html": [
       "\n",
       "        <iframe\n",
       "            width=\"700\"\n",
       "            height=\"600\"\n",
       "            src=\"maps\\driver_1bf26072-a1b9-404a-a44c-759724fc8492_map.html\"\n",
       "            frameborder=\"0\"\n",
       "            allowfullscreen\n",
       "            \n",
       "        ></iframe>\n",
       "        "
      ],
      "text/plain": [
       "<IPython.lib.display.IFrame at 0x17eb3a09cc0>"
      ]
     },
     "metadata": {},
     "output_type": "display_data"
    },
    {
     "name": "stdout",
     "output_type": "stream",
     "text": [
      "\n",
      "Processing driver: 1c038918-93c3-4ee0-9b10-83a64706687d\n",
      "Total fine for driver 1c038918-93c3-4ee0-9b10-83a64706687d: Rs 0.00\n",
      "Difference between rides for driver 1c038918-93c3-4ee0-9b10-83a64706687d:\n",
      "   Distance between trip 1 and trip 2: 0.22 km\n",
      "   Distance between trip 2 and trip 3: 0.36 km\n",
      "   Distance between trip 3 and trip 4: 0.81 km\n",
      "   Distance between trip 4 and trip 5: 0.77 km\n",
      "   Distance between trip 5 and trip 6: 0.97 km\n",
      "   Distance between trip 6 and trip 7: 0.70 km\n",
      "   Distance between trip 7 and trip 8: 0.93 km\n",
      "   Distance between trip 8 and trip 9: 0.93 km\n",
      "   Distance between trip 9 and trip 10: 1.90 km\n",
      "Total distance traveled by driver 1c038918-93c3-4ee0-9b10-83a64706687d: 7.58 km\n"
     ]
    },
    {
     "data": {
      "text/html": [
       "\n",
       "        <iframe\n",
       "            width=\"700\"\n",
       "            height=\"600\"\n",
       "            src=\"maps\\driver_1c038918-93c3-4ee0-9b10-83a64706687d_map.html\"\n",
       "            frameborder=\"0\"\n",
       "            allowfullscreen\n",
       "            \n",
       "        ></iframe>\n",
       "        "
      ],
      "text/plain": [
       "<IPython.lib.display.IFrame at 0x17eb3a51f30>"
      ]
     },
     "metadata": {},
     "output_type": "display_data"
    },
    {
     "name": "stdout",
     "output_type": "stream",
     "text": [
      "\n",
      "Processing driver: 1c08ebd3-3465-4b98-93e5-d8210df80a66\n",
      "Total fine for driver 1c08ebd3-3465-4b98-93e5-d8210df80a66: Rs 170.48\n",
      "Difference between rides for driver 1c08ebd3-3465-4b98-93e5-d8210df80a66:\n",
      "   Distance between trip 1 and trip 2: 0.79 km\n",
      "   Distance between trip 2 and trip 3: 0.30 km\n",
      "   Distance between trip 3 and trip 4: 0.14 km\n",
      "   Distance between trip 4 and trip 5: 0.03 km\n",
      "   Distance between trip 5 and trip 6: 0.11 km\n",
      "   Distance between trip 6 and trip 7: 1.16 km\n",
      "   Distance between trip 7 and trip 8: 2.41 km\n",
      "   Distance between trip 8 and trip 9: 18.53 km\n",
      "   Distance between trip 9 and trip 10: 18.51 km\n",
      "   Distance between trip 10 and trip 11: 2.62 km\n",
      "   Distance between trip 11 and trip 12: 0.98 km\n",
      "Total distance traveled by driver 1c08ebd3-3465-4b98-93e5-d8210df80a66: 45.59 km\n"
     ]
    },
    {
     "data": {
      "text/html": [
       "\n",
       "        <iframe\n",
       "            width=\"700\"\n",
       "            height=\"600\"\n",
       "            src=\"maps\\driver_1c08ebd3-3465-4b98-93e5-d8210df80a66_map.html\"\n",
       "            frameborder=\"0\"\n",
       "            allowfullscreen\n",
       "            \n",
       "        ></iframe>\n",
       "        "
      ],
      "text/plain": [
       "<IPython.lib.display.IFrame at 0x17eaad46140>"
      ]
     },
     "metadata": {},
     "output_type": "display_data"
    },
    {
     "name": "stdout",
     "output_type": "stream",
     "text": [
      "\n",
      "Processing driver: 1c20579f-7d72-4039-8986-32de8c85d8d6\n",
      "Total fine for driver 1c20579f-7d72-4039-8986-32de8c85d8d6: Rs 0.00\n",
      "Difference between rides for driver 1c20579f-7d72-4039-8986-32de8c85d8d6:\n",
      "   Distance between trip 1 and trip 2: 0.75 km\n",
      "   Distance between trip 2 and trip 3: 1.53 km\n",
      "   Distance between trip 3 and trip 4: 2.59 km\n",
      "   Distance between trip 4 and trip 5: 1.77 km\n",
      "   Distance between trip 5 and trip 6: 1.52 km\n",
      "   Distance between trip 6 and trip 7: 2.32 km\n",
      "   Distance between trip 7 and trip 8: 0.18 km\n",
      "   Distance between trip 8 and trip 9: 2.23 km\n",
      "   Distance between trip 9 and trip 10: 0.24 km\n",
      "   Distance between trip 10 and trip 11: 2.05 km\n",
      "   Distance between trip 11 and trip 12: 3.40 km\n",
      "   Distance between trip 12 and trip 13: 0.06 km\n",
      "   Distance between trip 13 and trip 14: 0.07 km\n",
      "   Distance between trip 14 and trip 15: 0.46 km\n",
      "   Distance between trip 15 and trip 16: 0.32 km\n",
      "   Distance between trip 16 and trip 17: 0.89 km\n",
      "   Distance between trip 17 and trip 18: 0.32 km\n",
      "   Distance between trip 18 and trip 19: 0.11 km\n",
      "   Distance between trip 19 and trip 20: 2.14 km\n",
      "Total distance traveled by driver 1c20579f-7d72-4039-8986-32de8c85d8d6: 22.94 km\n"
     ]
    },
    {
     "data": {
      "text/html": [
       "\n",
       "        <iframe\n",
       "            width=\"700\"\n",
       "            height=\"600\"\n",
       "            src=\"maps\\driver_1c20579f-7d72-4039-8986-32de8c85d8d6_map.html\"\n",
       "            frameborder=\"0\"\n",
       "            allowfullscreen\n",
       "            \n",
       "        ></iframe>\n",
       "        "
      ],
      "text/plain": [
       "<IPython.lib.display.IFrame at 0x17eb3a09db0>"
      ]
     },
     "metadata": {},
     "output_type": "display_data"
    },
    {
     "name": "stdout",
     "output_type": "stream",
     "text": [
      "\n",
      "Processing driver: 1c21aa8a-b9a1-47d2-9b60-1f8cb4a65765\n",
      "Total fine for driver 1c21aa8a-b9a1-47d2-9b60-1f8cb4a65765: Rs 158.75\n",
      "Difference between rides for driver 1c21aa8a-b9a1-47d2-9b60-1f8cb4a65765:\n",
      "   Distance between trip 1 and trip 2: 0.00 km\n",
      "   Distance between trip 2 and trip 3: 25.87 km\n",
      "   Distance between trip 3 and trip 4: 1.11 km\n",
      "   Distance between trip 4 and trip 5: 1.63 km\n",
      "   Distance between trip 5 and trip 6: 8.40 km\n",
      "Total distance traveled by driver 1c21aa8a-b9a1-47d2-9b60-1f8cb4a65765: 37.03 km\n"
     ]
    },
    {
     "data": {
      "text/html": [
       "\n",
       "        <iframe\n",
       "            width=\"700\"\n",
       "            height=\"600\"\n",
       "            src=\"maps\\driver_1c21aa8a-b9a1-47d2-9b60-1f8cb4a65765_map.html\"\n",
       "            frameborder=\"0\"\n",
       "            allowfullscreen\n",
       "            \n",
       "        ></iframe>\n",
       "        "
      ],
      "text/plain": [
       "<IPython.lib.display.IFrame at 0x17eae4ff970>"
      ]
     },
     "metadata": {},
     "output_type": "display_data"
    },
    {
     "name": "stdout",
     "output_type": "stream",
     "text": [
      "\n",
      "Processing driver: 1c3ff1ea-ec81-4b45-867a-69c40a2404da\n",
      "Total fine for driver 1c3ff1ea-ec81-4b45-867a-69c40a2404da: Rs 0.00\n",
      "Difference between rides for driver 1c3ff1ea-ec81-4b45-867a-69c40a2404da:\n",
      "   Distance between trip 1 and trip 2: 0.87 km\n",
      "   Distance between trip 2 and trip 3: 0.93 km\n",
      "   Distance between trip 3 and trip 4: 0.73 km\n",
      "   Distance between trip 4 and trip 5: 1.33 km\n",
      "   Distance between trip 5 and trip 6: 0.46 km\n",
      "   Distance between trip 6 and trip 7: 0.39 km\n",
      "   Distance between trip 7 and trip 8: 1.31 km\n",
      "   Distance between trip 8 and trip 9: 0.04 km\n",
      "   Distance between trip 9 and trip 10: 4.23 km\n",
      "   Distance between trip 10 and trip 11: 0.98 km\n",
      "   Distance between trip 11 and trip 12: 3.37 km\n",
      "   Distance between trip 12 and trip 13: 0.08 km\n",
      "   Distance between trip 13 and trip 14: 0.09 km\n",
      "   Distance between trip 14 and trip 15: 0.17 km\n",
      "   Distance between trip 15 and trip 16: 0.20 km\n",
      "   Distance between trip 16 and trip 17: 0.54 km\n",
      "Total distance traveled by driver 1c3ff1ea-ec81-4b45-867a-69c40a2404da: 15.73 km\n"
     ]
    },
    {
     "data": {
      "text/html": [
       "\n",
       "        <iframe\n",
       "            width=\"700\"\n",
       "            height=\"600\"\n",
       "            src=\"maps\\driver_1c3ff1ea-ec81-4b45-867a-69c40a2404da_map.html\"\n",
       "            frameborder=\"0\"\n",
       "            allowfullscreen\n",
       "            \n",
       "        ></iframe>\n",
       "        "
      ],
      "text/plain": [
       "<IPython.lib.display.IFrame at 0x17eb3a09d80>"
      ]
     },
     "metadata": {},
     "output_type": "display_data"
    },
    {
     "name": "stdout",
     "output_type": "stream",
     "text": [
      "\n",
      "Processing driver: 1c6c714d-b348-4545-ac57-0c938138ac67\n",
      "Total fine for driver 1c6c714d-b348-4545-ac57-0c938138ac67: Rs 0.00\n",
      "Difference between rides for driver 1c6c714d-b348-4545-ac57-0c938138ac67:\n",
      "   Distance between trip 1 and trip 2: 1.30 km\n",
      "   Distance between trip 2 and trip 3: 0.10 km\n",
      "   Distance between trip 3 and trip 4: 0.08 km\n",
      "   Distance between trip 4 and trip 5: 0.00 km\n",
      "   Distance between trip 5 and trip 6: 0.11 km\n",
      "   Distance between trip 6 and trip 7: 5.45 km\n",
      "   Distance between trip 7 and trip 8: 0.01 km\n",
      "   Distance between trip 8 and trip 9: 0.09 km\n",
      "   Distance between trip 9 and trip 10: 0.89 km\n",
      "   Distance between trip 10 and trip 11: 1.88 km\n",
      "   Distance between trip 11 and trip 12: 0.08 km\n",
      "   Distance between trip 12 and trip 13: 0.94 km\n",
      "   Distance between trip 13 and trip 14: 2.20 km\n",
      "Total distance traveled by driver 1c6c714d-b348-4545-ac57-0c938138ac67: 13.13 km\n"
     ]
    },
    {
     "data": {
      "text/html": [
       "\n",
       "        <iframe\n",
       "            width=\"700\"\n",
       "            height=\"600\"\n",
       "            src=\"maps\\driver_1c6c714d-b348-4545-ac57-0c938138ac67_map.html\"\n",
       "            frameborder=\"0\"\n",
       "            allowfullscreen\n",
       "            \n",
       "        ></iframe>\n",
       "        "
      ],
      "text/plain": [
       "<IPython.lib.display.IFrame at 0x17eaad46140>"
      ]
     },
     "metadata": {},
     "output_type": "display_data"
    },
    {
     "name": "stdout",
     "output_type": "stream",
     "text": [
      "\n",
      "Processing driver: 1c7b427c-832a-465f-8c14-fab9658e74a0\n",
      "Total fine for driver 1c7b427c-832a-465f-8c14-fab9658e74a0: Rs 0.00\n",
      "Difference between rides for driver 1c7b427c-832a-465f-8c14-fab9658e74a0:\n",
      "   Distance between trip 1 and trip 2: 0.56 km\n",
      "   Distance between trip 2 and trip 3: 0.13 km\n",
      "   Distance between trip 3 and trip 4: 0.58 km\n",
      "   Distance between trip 4 and trip 5: 0.74 km\n",
      "   Distance between trip 5 and trip 6: 0.72 km\n",
      "   Distance between trip 6 and trip 7: 0.54 km\n",
      "   Distance between trip 7 and trip 8: 0.13 km\n",
      "   Distance between trip 8 and trip 9: 1.13 km\n",
      "   Distance between trip 9 and trip 10: 1.09 km\n",
      "   Distance between trip 10 and trip 11: 0.34 km\n",
      "   Distance between trip 11 and trip 12: 1.73 km\n",
      "Total distance traveled by driver 1c7b427c-832a-465f-8c14-fab9658e74a0: 7.68 km\n"
     ]
    },
    {
     "data": {
      "text/html": [
       "\n",
       "        <iframe\n",
       "            width=\"700\"\n",
       "            height=\"600\"\n",
       "            src=\"maps\\driver_1c7b427c-832a-465f-8c14-fab9658e74a0_map.html\"\n",
       "            frameborder=\"0\"\n",
       "            allowfullscreen\n",
       "            \n",
       "        ></iframe>\n",
       "        "
      ],
      "text/plain": [
       "<IPython.lib.display.IFrame at 0x17eb3a50100>"
      ]
     },
     "metadata": {},
     "output_type": "display_data"
    },
    {
     "name": "stdout",
     "output_type": "stream",
     "text": [
      "\n",
      "Processing driver: 1c7e831a-f9d4-4205-8545-350c7aacce74\n",
      "Total fine for driver 1c7e831a-f9d4-4205-8545-350c7aacce74: Rs 0.00\n",
      "Difference between rides for driver 1c7e831a-f9d4-4205-8545-350c7aacce74:\n",
      "   Distance between trip 1 and trip 2: 0.31 km\n",
      "   Distance between trip 2 and trip 3: 1.71 km\n",
      "   Distance between trip 3 and trip 4: 0.81 km\n",
      "   Distance between trip 4 and trip 5: 0.00 km\n",
      "   Distance between trip 5 and trip 6: 0.65 km\n",
      "   Distance between trip 6 and trip 7: 5.17 km\n",
      "   Distance between trip 7 and trip 8: 6.85 km\n",
      "   Distance between trip 8 and trip 9: 0.89 km\n",
      "   Distance between trip 9 and trip 10: 1.04 km\n",
      "   Distance between trip 10 and trip 11: 0.70 km\n",
      "   Distance between trip 11 and trip 12: 1.14 km\n",
      "   Distance between trip 12 and trip 13: 0.78 km\n",
      "   Distance between trip 13 and trip 14: 1.02 km\n",
      "   Distance between trip 14 and trip 15: 0.78 km\n",
      "   Distance between trip 15 and trip 16: 0.17 km\n",
      "Total distance traveled by driver 1c7e831a-f9d4-4205-8545-350c7aacce74: 22.03 km\n"
     ]
    },
    {
     "data": {
      "text/html": [
       "\n",
       "        <iframe\n",
       "            width=\"700\"\n",
       "            height=\"600\"\n",
       "            src=\"maps\\driver_1c7e831a-f9d4-4205-8545-350c7aacce74_map.html\"\n",
       "            frameborder=\"0\"\n",
       "            allowfullscreen\n",
       "            \n",
       "        ></iframe>\n",
       "        "
      ],
      "text/plain": [
       "<IPython.lib.display.IFrame at 0x17eb3a03430>"
      ]
     },
     "metadata": {},
     "output_type": "display_data"
    },
    {
     "name": "stdout",
     "output_type": "stream",
     "text": [
      "\n",
      "Processing driver: 1c90ca57-cd5a-4317-878c-23a9aff35d3d\n",
      "Total fine for driver 1c90ca57-cd5a-4317-878c-23a9aff35d3d: Rs 76.88\n",
      "Difference between rides for driver 1c90ca57-cd5a-4317-878c-23a9aff35d3d:\n",
      "   Distance between trip 1 and trip 2: 0.66 km\n",
      "   Distance between trip 2 and trip 3: 0.38 km\n",
      "   Distance between trip 3 and trip 4: 17.69 km\n",
      "Total distance traveled by driver 1c90ca57-cd5a-4317-878c-23a9aff35d3d: 18.73 km\n"
     ]
    },
    {
     "data": {
      "text/html": [
       "\n",
       "        <iframe\n",
       "            width=\"700\"\n",
       "            height=\"600\"\n",
       "            src=\"maps\\driver_1c90ca57-cd5a-4317-878c-23a9aff35d3d_map.html\"\n",
       "            frameborder=\"0\"\n",
       "            allowfullscreen\n",
       "            \n",
       "        ></iframe>\n",
       "        "
      ],
      "text/plain": [
       "<IPython.lib.display.IFrame at 0x17eae4ff970>"
      ]
     },
     "metadata": {},
     "output_type": "display_data"
    },
    {
     "name": "stdout",
     "output_type": "stream",
     "text": [
      "\n",
      "Processing driver: 1c920bf5-17e2-4dfd-93b4-387fa4b90cd3\n",
      "Total fine for driver 1c920bf5-17e2-4dfd-93b4-387fa4b90cd3: Rs 0.00\n",
      "Difference between rides for driver 1c920bf5-17e2-4dfd-93b4-387fa4b90cd3:\n",
      "   Distance between trip 1 and trip 2: 0.31 km\n",
      "   Distance between trip 2 and trip 3: 1.20 km\n",
      "   Distance between trip 3 and trip 4: 3.10 km\n",
      "   Distance between trip 4 and trip 5: 0.39 km\n",
      "   Distance between trip 5 and trip 6: 0.23 km\n",
      "   Distance between trip 6 and trip 7: 2.01 km\n",
      "Total distance traveled by driver 1c920bf5-17e2-4dfd-93b4-387fa4b90cd3: 7.25 km\n"
     ]
    },
    {
     "data": {
      "text/html": [
       "\n",
       "        <iframe\n",
       "            width=\"700\"\n",
       "            height=\"600\"\n",
       "            src=\"maps\\driver_1c920bf5-17e2-4dfd-93b4-387fa4b90cd3_map.html\"\n",
       "            frameborder=\"0\"\n",
       "            allowfullscreen\n",
       "            \n",
       "        ></iframe>\n",
       "        "
      ],
      "text/plain": [
       "<IPython.lib.display.IFrame at 0x17eaad46140>"
      ]
     },
     "metadata": {},
     "output_type": "display_data"
    },
    {
     "name": "stdout",
     "output_type": "stream",
     "text": [
      "\n",
      "Processing driver: 1ca40b61-eb92-4300-bd90-3ce62b37f995\n",
      "Total fine for driver 1ca40b61-eb92-4300-bd90-3ce62b37f995: Rs 0.00\n",
      "Difference between rides for driver 1ca40b61-eb92-4300-bd90-3ce62b37f995:\n",
      "Total distance traveled by driver 1ca40b61-eb92-4300-bd90-3ce62b37f995: 0.00 km\n"
     ]
    },
    {
     "data": {
      "text/html": [
       "\n",
       "        <iframe\n",
       "            width=\"700\"\n",
       "            height=\"600\"\n",
       "            src=\"maps\\driver_1ca40b61-eb92-4300-bd90-3ce62b37f995_map.html\"\n",
       "            frameborder=\"0\"\n",
       "            allowfullscreen\n",
       "            \n",
       "        ></iframe>\n",
       "        "
      ],
      "text/plain": [
       "<IPython.lib.display.IFrame at 0x17eb3a02230>"
      ]
     },
     "metadata": {},
     "output_type": "display_data"
    },
    {
     "name": "stdout",
     "output_type": "stream",
     "text": [
      "\n",
      "Processing driver: 1ca94ec9-e04f-4dbd-b3d0-ccaf1479f795\n",
      "Total fine for driver 1ca94ec9-e04f-4dbd-b3d0-ccaf1479f795: Rs 0.00\n",
      "Difference between rides for driver 1ca94ec9-e04f-4dbd-b3d0-ccaf1479f795:\n",
      "   Distance between trip 1 and trip 2: 1.15 km\n",
      "   Distance between trip 2 and trip 3: 0.83 km\n",
      "   Distance between trip 3 and trip 4: 1.24 km\n",
      "   Distance between trip 4 and trip 5: 0.14 km\n",
      "   Distance between trip 5 and trip 6: 1.56 km\n",
      "   Distance between trip 6 and trip 7: 0.53 km\n",
      "   Distance between trip 7 and trip 8: 0.46 km\n",
      "   Distance between trip 8 and trip 9: 0.71 km\n",
      "   Distance between trip 9 and trip 10: 0.05 km\n",
      "   Distance between trip 10 and trip 11: 1.07 km\n",
      "   Distance between trip 11 and trip 12: 0.27 km\n",
      "   Distance between trip 12 and trip 13: 0.52 km\n",
      "   Distance between trip 13 and trip 14: 1.04 km\n",
      "   Distance between trip 14 and trip 15: 0.14 km\n",
      "   Distance between trip 15 and trip 16: 1.10 km\n",
      "   Distance between trip 16 and trip 17: 0.65 km\n",
      "   Distance between trip 17 and trip 18: 0.97 km\n",
      "   Distance between trip 18 and trip 19: 2.39 km\n",
      "   Distance between trip 19 and trip 20: 0.81 km\n",
      "Total distance traveled by driver 1ca94ec9-e04f-4dbd-b3d0-ccaf1479f795: 15.63 km\n"
     ]
    },
    {
     "data": {
      "text/html": [
       "\n",
       "        <iframe\n",
       "            width=\"700\"\n",
       "            height=\"600\"\n",
       "            src=\"maps\\driver_1ca94ec9-e04f-4dbd-b3d0-ccaf1479f795_map.html\"\n",
       "            frameborder=\"0\"\n",
       "            allowfullscreen\n",
       "            \n",
       "        ></iframe>\n",
       "        "
      ],
      "text/plain": [
       "<IPython.lib.display.IFrame at 0x17eb3a027a0>"
      ]
     },
     "metadata": {},
     "output_type": "display_data"
    },
    {
     "name": "stdout",
     "output_type": "stream",
     "text": [
      "\n",
      "Processing driver: 1d21d50f-70b9-4d7f-92ad-f70eb3572057\n",
      "Total fine for driver 1d21d50f-70b9-4d7f-92ad-f70eb3572057: Rs 0.00\n",
      "Difference between rides for driver 1d21d50f-70b9-4d7f-92ad-f70eb3572057:\n",
      "   Distance between trip 1 and trip 2: 0.43 km\n",
      "   Distance between trip 2 and trip 3: 3.76 km\n",
      "   Distance between trip 3 and trip 4: 0.18 km\n",
      "   Distance between trip 4 and trip 5: 0.68 km\n",
      "   Distance between trip 5 and trip 6: 0.50 km\n",
      "   Distance between trip 6 and trip 7: 2.08 km\n",
      "   Distance between trip 7 and trip 8: 0.38 km\n",
      "   Distance between trip 8 and trip 9: 1.08 km\n",
      "   Distance between trip 9 and trip 10: 2.26 km\n",
      "   Distance between trip 10 and trip 11: 0.00 km\n",
      "   Distance between trip 11 and trip 12: 0.63 km\n",
      "   Distance between trip 12 and trip 13: 5.29 km\n",
      "   Distance between trip 13 and trip 14: 4.57 km\n",
      "   Distance between trip 14 and trip 15: 1.20 km\n",
      "   Distance between trip 15 and trip 16: 2.11 km\n",
      "Total distance traveled by driver 1d21d50f-70b9-4d7f-92ad-f70eb3572057: 25.17 km\n"
     ]
    },
    {
     "data": {
      "text/html": [
       "\n",
       "        <iframe\n",
       "            width=\"700\"\n",
       "            height=\"600\"\n",
       "            src=\"maps\\driver_1d21d50f-70b9-4d7f-92ad-f70eb3572057_map.html\"\n",
       "            frameborder=\"0\"\n",
       "            allowfullscreen\n",
       "            \n",
       "        ></iframe>\n",
       "        "
      ],
      "text/plain": [
       "<IPython.lib.display.IFrame at 0x17eae521ff0>"
      ]
     },
     "metadata": {},
     "output_type": "display_data"
    },
    {
     "name": "stdout",
     "output_type": "stream",
     "text": [
      "\n",
      "Processing driver: 1d2a9cf8-771e-4f43-a33f-ac6ecc6e1355\n",
      "Total fine for driver 1d2a9cf8-771e-4f43-a33f-ac6ecc6e1355: Rs 0.00\n",
      "Difference between rides for driver 1d2a9cf8-771e-4f43-a33f-ac6ecc6e1355:\n",
      "   Distance between trip 1 and trip 2: 3.63 km\n",
      "   Distance between trip 2 and trip 3: 1.70 km\n",
      "   Distance between trip 3 and trip 4: 0.67 km\n",
      "   Distance between trip 4 and trip 5: 1.91 km\n",
      "   Distance between trip 5 and trip 6: 2.06 km\n",
      "   Distance between trip 6 and trip 7: 8.21 km\n",
      "   Distance between trip 7 and trip 8: 1.14 km\n",
      "   Distance between trip 8 and trip 9: 0.53 km\n",
      "   Distance between trip 9 and trip 10: 5.89 km\n",
      "   Distance between trip 10 and trip 11: 5.08 km\n",
      "Total distance traveled by driver 1d2a9cf8-771e-4f43-a33f-ac6ecc6e1355: 30.82 km\n"
     ]
    },
    {
     "data": {
      "text/html": [
       "\n",
       "        <iframe\n",
       "            width=\"700\"\n",
       "            height=\"600\"\n",
       "            src=\"maps\\driver_1d2a9cf8-771e-4f43-a33f-ac6ecc6e1355_map.html\"\n",
       "            frameborder=\"0\"\n",
       "            allowfullscreen\n",
       "            \n",
       "        ></iframe>\n",
       "        "
      ],
      "text/plain": [
       "<IPython.lib.display.IFrame at 0x17eb3a03550>"
      ]
     },
     "metadata": {},
     "output_type": "display_data"
    },
    {
     "name": "stdout",
     "output_type": "stream",
     "text": [
      "\n",
      "Processing driver: 1d414254-c83e-47c6-8530-a5c30ac39b2b\n",
      "Total fine for driver 1d414254-c83e-47c6-8530-a5c30ac39b2b: Rs 0.00\n",
      "Difference between rides for driver 1d414254-c83e-47c6-8530-a5c30ac39b2b:\n",
      "   Distance between trip 1 and trip 2: 1.55 km\n",
      "   Distance between trip 2 and trip 3: 0.36 km\n",
      "   Distance between trip 3 and trip 4: 0.35 km\n",
      "   Distance between trip 4 and trip 5: 0.14 km\n",
      "   Distance between trip 5 and trip 6: 1.44 km\n",
      "   Distance between trip 6 and trip 7: 1.56 km\n",
      "   Distance between trip 7 and trip 8: 0.20 km\n",
      "   Distance between trip 8 and trip 9: 0.43 km\n",
      "   Distance between trip 9 and trip 10: 1.69 km\n",
      "   Distance between trip 10 and trip 11: 0.47 km\n",
      "   Distance between trip 11 and trip 12: 0.28 km\n",
      "   Distance between trip 12 and trip 13: 0.71 km\n",
      "   Distance between trip 13 and trip 14: 0.76 km\n",
      "   Distance between trip 14 and trip 15: 0.72 km\n",
      "Total distance traveled by driver 1d414254-c83e-47c6-8530-a5c30ac39b2b: 10.65 km\n"
     ]
    },
    {
     "data": {
      "text/html": [
       "\n",
       "        <iframe\n",
       "            width=\"700\"\n",
       "            height=\"600\"\n",
       "            src=\"maps\\driver_1d414254-c83e-47c6-8530-a5c30ac39b2b_map.html\"\n",
       "            frameborder=\"0\"\n",
       "            allowfullscreen\n",
       "            \n",
       "        ></iframe>\n",
       "        "
      ],
      "text/plain": [
       "<IPython.lib.display.IFrame at 0x17eb3a51960>"
      ]
     },
     "metadata": {},
     "output_type": "display_data"
    },
    {
     "name": "stdout",
     "output_type": "stream",
     "text": [
      "\n",
      "Processing driver: 1d53440d-aee2-4441-906c-3df8fd4fd8a7\n",
      "Total fine for driver 1d53440d-aee2-4441-906c-3df8fd4fd8a7: Rs 92.26\n",
      "Difference between rides for driver 1d53440d-aee2-4441-906c-3df8fd4fd8a7:\n",
      "   Distance between trip 1 and trip 2: 0.33 km\n",
      "   Distance between trip 2 and trip 3: 19.23 km\n",
      "   Distance between trip 3 and trip 4: 4.93 km\n",
      "   Distance between trip 4 and trip 5: 0.49 km\n",
      "   Distance between trip 5 and trip 6: 0.80 km\n",
      "   Distance between trip 6 and trip 7: 1.36 km\n",
      "Total distance traveled by driver 1d53440d-aee2-4441-906c-3df8fd4fd8a7: 27.13 km\n"
     ]
    },
    {
     "data": {
      "text/html": [
       "\n",
       "        <iframe\n",
       "            width=\"700\"\n",
       "            height=\"600\"\n",
       "            src=\"maps\\driver_1d53440d-aee2-4441-906c-3df8fd4fd8a7_map.html\"\n",
       "            frameborder=\"0\"\n",
       "            allowfullscreen\n",
       "            \n",
       "        ></iframe>\n",
       "        "
      ],
      "text/plain": [
       "<IPython.lib.display.IFrame at 0x17eae4ff970>"
      ]
     },
     "metadata": {},
     "output_type": "display_data"
    },
    {
     "name": "stdout",
     "output_type": "stream",
     "text": [
      "\n",
      "Processing driver: 1d619807-b79d-4ee0-b6aa-0829ad94c3da\n",
      "Total fine for driver 1d619807-b79d-4ee0-b6aa-0829ad94c3da: Rs 0.00\n",
      "Difference between rides for driver 1d619807-b79d-4ee0-b6aa-0829ad94c3da:\n",
      "   Distance between trip 1 and trip 2: 2.27 km\n",
      "   Distance between trip 2 and trip 3: 0.26 km\n",
      "   Distance between trip 3 and trip 4: 0.97 km\n",
      "   Distance between trip 4 and trip 5: 0.13 km\n",
      "   Distance between trip 5 and trip 6: 1.73 km\n",
      "   Distance between trip 6 and trip 7: 1.13 km\n",
      "   Distance between trip 7 and trip 8: 1.65 km\n",
      "   Distance between trip 8 and trip 9: 2.04 km\n",
      "   Distance between trip 9 and trip 10: 0.70 km\n",
      "   Distance between trip 10 and trip 11: 2.05 km\n",
      "   Distance between trip 11 and trip 12: 1.05 km\n",
      "   Distance between trip 12 and trip 13: 0.48 km\n",
      "   Distance between trip 13 and trip 14: 0.35 km\n",
      "   Distance between trip 14 and trip 15: 1.09 km\n",
      "Total distance traveled by driver 1d619807-b79d-4ee0-b6aa-0829ad94c3da: 15.91 km\n"
     ]
    },
    {
     "data": {
      "text/html": [
       "\n",
       "        <iframe\n",
       "            width=\"700\"\n",
       "            height=\"600\"\n",
       "            src=\"maps\\driver_1d619807-b79d-4ee0-b6aa-0829ad94c3da_map.html\"\n",
       "            frameborder=\"0\"\n",
       "            allowfullscreen\n",
       "            \n",
       "        ></iframe>\n",
       "        "
      ],
      "text/plain": [
       "<IPython.lib.display.IFrame at 0x17eb3a01f60>"
      ]
     },
     "metadata": {},
     "output_type": "display_data"
    },
    {
     "name": "stdout",
     "output_type": "stream",
     "text": [
      "\n",
      "Processing driver: 1d6c7f1e-26d1-4fee-8add-d15c1a0dc6f2\n",
      "Total fine for driver 1d6c7f1e-26d1-4fee-8add-d15c1a0dc6f2: Rs 0.00\n",
      "Difference between rides for driver 1d6c7f1e-26d1-4fee-8add-d15c1a0dc6f2:\n",
      "   Distance between trip 1 and trip 2: 0.30 km\n",
      "   Distance between trip 2 and trip 3: 0.72 km\n",
      "   Distance between trip 3 and trip 4: 0.00 km\n",
      "   Distance between trip 4 and trip 5: 0.44 km\n",
      "   Distance between trip 5 and trip 6: 0.18 km\n",
      "   Distance between trip 6 and trip 7: 0.16 km\n",
      "   Distance between trip 7 and trip 8: 0.37 km\n",
      "   Distance between trip 8 and trip 9: 1.11 km\n",
      "   Distance between trip 9 and trip 10: 1.94 km\n",
      "   Distance between trip 10 and trip 11: 0.69 km\n",
      "   Distance between trip 11 and trip 12: 1.45 km\n",
      "   Distance between trip 12 and trip 13: 0.79 km\n",
      "   Distance between trip 13 and trip 14: 0.49 km\n",
      "   Distance between trip 14 and trip 15: 0.33 km\n",
      "   Distance between trip 15 and trip 16: 0.94 km\n",
      "   Distance between trip 16 and trip 17: 1.24 km\n",
      "Total distance traveled by driver 1d6c7f1e-26d1-4fee-8add-d15c1a0dc6f2: 11.16 km\n"
     ]
    },
    {
     "data": {
      "text/html": [
       "\n",
       "        <iframe\n",
       "            width=\"700\"\n",
       "            height=\"600\"\n",
       "            src=\"maps\\driver_1d6c7f1e-26d1-4fee-8add-d15c1a0dc6f2_map.html\"\n",
       "            frameborder=\"0\"\n",
       "            allowfullscreen\n",
       "            \n",
       "        ></iframe>\n",
       "        "
      ],
      "text/plain": [
       "<IPython.lib.display.IFrame at 0x17eaad476a0>"
      ]
     },
     "metadata": {},
     "output_type": "display_data"
    },
    {
     "name": "stdout",
     "output_type": "stream",
     "text": [
      "\n",
      "Processing driver: 1dabddf8-bbc5-40b8-a1ec-a974ae62aed8\n",
      "Total fine for driver 1dabddf8-bbc5-40b8-a1ec-a974ae62aed8: Rs 0.00\n",
      "Difference between rides for driver 1dabddf8-bbc5-40b8-a1ec-a974ae62aed8:\n",
      "   Distance between trip 1 and trip 2: 1.23 km\n",
      "   Distance between trip 2 and trip 3: 0.05 km\n",
      "   Distance between trip 3 and trip 4: 0.26 km\n",
      "   Distance between trip 4 and trip 5: 1.24 km\n",
      "   Distance between trip 5 and trip 6: 0.49 km\n",
      "   Distance between trip 6 and trip 7: 0.14 km\n",
      "   Distance between trip 7 and trip 8: 0.67 km\n",
      "   Distance between trip 8 and trip 9: 0.85 km\n",
      "   Distance between trip 9 and trip 10: 0.15 km\n",
      "   Distance between trip 10 and trip 11: 0.61 km\n",
      "   Distance between trip 11 and trip 12: 0.37 km\n",
      "Total distance traveled by driver 1dabddf8-bbc5-40b8-a1ec-a974ae62aed8: 6.07 km\n"
     ]
    },
    {
     "data": {
      "text/html": [
       "\n",
       "        <iframe\n",
       "            width=\"700\"\n",
       "            height=\"600\"\n",
       "            src=\"maps\\driver_1dabddf8-bbc5-40b8-a1ec-a974ae62aed8_map.html\"\n",
       "            frameborder=\"0\"\n",
       "            allowfullscreen\n",
       "            \n",
       "        ></iframe>\n",
       "        "
      ],
      "text/plain": [
       "<IPython.lib.display.IFrame at 0x17eae522ad0>"
      ]
     },
     "metadata": {},
     "output_type": "display_data"
    },
    {
     "name": "stdout",
     "output_type": "stream",
     "text": [
      "\n",
      "Processing driver: 1daf6c54-1a8e-4474-a084-859596c7ca4e\n",
      "Total fine for driver 1daf6c54-1a8e-4474-a084-859596c7ca4e: Rs 0.00\n",
      "Difference between rides for driver 1daf6c54-1a8e-4474-a084-859596c7ca4e:\n",
      "   Distance between trip 1 and trip 2: 0.72 km\n",
      "   Distance between trip 2 and trip 3: 0.97 km\n",
      "   Distance between trip 3 and trip 4: 0.88 km\n",
      "   Distance between trip 4 and trip 5: 0.13 km\n",
      "   Distance between trip 5 and trip 6: 0.00 km\n",
      "   Distance between trip 6 and trip 7: 0.24 km\n",
      "   Distance between trip 7 and trip 8: 0.67 km\n",
      "   Distance between trip 8 and trip 9: 1.92 km\n",
      "   Distance between trip 9 and trip 10: 0.29 km\n",
      "   Distance between trip 10 and trip 11: 1.86 km\n",
      "   Distance between trip 11 and trip 12: 0.33 km\n",
      "   Distance between trip 12 and trip 13: 1.22 km\n",
      "   Distance between trip 13 and trip 14: 0.21 km\n",
      "   Distance between trip 14 and trip 15: 0.17 km\n",
      "   Distance between trip 15 and trip 16: 0.98 km\n",
      "   Distance between trip 16 and trip 17: 0.38 km\n",
      "   Distance between trip 17 and trip 18: 1.18 km\n",
      "   Distance between trip 18 and trip 19: 0.08 km\n",
      "   Distance between trip 19 and trip 20: 1.92 km\n",
      "   Distance between trip 20 and trip 21: 0.73 km\n",
      "Total distance traveled by driver 1daf6c54-1a8e-4474-a084-859596c7ca4e: 14.87 km\n"
     ]
    },
    {
     "data": {
      "text/html": [
       "\n",
       "        <iframe\n",
       "            width=\"700\"\n",
       "            height=\"600\"\n",
       "            src=\"maps\\driver_1daf6c54-1a8e-4474-a084-859596c7ca4e_map.html\"\n",
       "            frameborder=\"0\"\n",
       "            allowfullscreen\n",
       "            \n",
       "        ></iframe>\n",
       "        "
      ],
      "text/plain": [
       "<IPython.lib.display.IFrame at 0x17eb3a02140>"
      ]
     },
     "metadata": {},
     "output_type": "display_data"
    },
    {
     "name": "stdout",
     "output_type": "stream",
     "text": [
      "\n",
      "Processing driver: 1dc199d2-5d74-4a0a-87a4-65fd6b0e54fd\n",
      "Total fine for driver 1dc199d2-5d74-4a0a-87a4-65fd6b0e54fd: Rs 319.24\n",
      "Difference between rides for driver 1dc199d2-5d74-4a0a-87a4-65fd6b0e54fd:\n",
      "   Distance between trip 1 and trip 2: 2.13 km\n",
      "   Distance between trip 2 and trip 3: 0.12 km\n",
      "   Distance between trip 3 and trip 4: 1.41 km\n",
      "   Distance between trip 4 and trip 5: 26.34 km\n",
      "   Distance between trip 5 and trip 6: 25.59 km\n",
      "   Distance between trip 6 and trip 7: 0.67 km\n",
      "Total distance traveled by driver 1dc199d2-5d74-4a0a-87a4-65fd6b0e54fd: 56.25 km\n"
     ]
    },
    {
     "data": {
      "text/html": [
       "\n",
       "        <iframe\n",
       "            width=\"700\"\n",
       "            height=\"600\"\n",
       "            src=\"maps\\driver_1dc199d2-5d74-4a0a-87a4-65fd6b0e54fd_map.html\"\n",
       "            frameborder=\"0\"\n",
       "            allowfullscreen\n",
       "            \n",
       "        ></iframe>\n",
       "        "
      ],
      "text/plain": [
       "<IPython.lib.display.IFrame at 0x17eaad476a0>"
      ]
     },
     "metadata": {},
     "output_type": "display_data"
    },
    {
     "name": "stdout",
     "output_type": "stream",
     "text": [
      "\n",
      "Processing driver: 1de8c44f-ab1a-4e49-a511-965b8d8f34b8\n",
      "Total fine for driver 1de8c44f-ab1a-4e49-a511-965b8d8f34b8: Rs 0.00\n",
      "Difference between rides for driver 1de8c44f-ab1a-4e49-a511-965b8d8f34b8:\n",
      "   Distance between trip 1 and trip 2: 0.86 km\n",
      "Total distance traveled by driver 1de8c44f-ab1a-4e49-a511-965b8d8f34b8: 0.86 km\n"
     ]
    },
    {
     "data": {
      "text/html": [
       "\n",
       "        <iframe\n",
       "            width=\"700\"\n",
       "            height=\"600\"\n",
       "            src=\"maps\\driver_1de8c44f-ab1a-4e49-a511-965b8d8f34b8_map.html\"\n",
       "            frameborder=\"0\"\n",
       "            allowfullscreen\n",
       "            \n",
       "        ></iframe>\n",
       "        "
      ],
      "text/plain": [
       "<IPython.lib.display.IFrame at 0x17eadabdc30>"
      ]
     },
     "metadata": {},
     "output_type": "display_data"
    },
    {
     "name": "stdout",
     "output_type": "stream",
     "text": [
      "\n",
      "Processing driver: 1df62514-c067-4e88-b848-2174ae4ad324\n",
      "Total fine for driver 1df62514-c067-4e88-b848-2174ae4ad324: Rs 0.00\n",
      "Difference between rides for driver 1df62514-c067-4e88-b848-2174ae4ad324:\n",
      "Total distance traveled by driver 1df62514-c067-4e88-b848-2174ae4ad324: 0.00 km\n"
     ]
    },
    {
     "data": {
      "text/html": [
       "\n",
       "        <iframe\n",
       "            width=\"700\"\n",
       "            height=\"600\"\n",
       "            src=\"maps\\driver_1df62514-c067-4e88-b848-2174ae4ad324_map.html\"\n",
       "            frameborder=\"0\"\n",
       "            allowfullscreen\n",
       "            \n",
       "        ></iframe>\n",
       "        "
      ],
      "text/plain": [
       "<IPython.lib.display.IFrame at 0x17eae4ff970>"
      ]
     },
     "metadata": {},
     "output_type": "display_data"
    },
    {
     "name": "stdout",
     "output_type": "stream",
     "text": [
      "\n",
      "Processing driver: 1dfca482-49f3-4713-87e5-83bff5ed1dc9\n",
      "Total fine for driver 1dfca482-49f3-4713-87e5-83bff5ed1dc9: Rs 165.65\n",
      "Difference between rides for driver 1dfca482-49f3-4713-87e5-83bff5ed1dc9:\n",
      "   Distance between trip 1 and trip 2: 1.53 km\n",
      "   Distance between trip 2 and trip 3: 4.57 km\n",
      "   Distance between trip 3 and trip 4: 0.10 km\n",
      "   Distance between trip 4 and trip 5: 1.49 km\n",
      "   Distance between trip 5 and trip 6: 0.38 km\n",
      "   Distance between trip 6 and trip 7: 3.35 km\n",
      "   Distance between trip 7 and trip 8: 0.39 km\n",
      "   Distance between trip 8 and trip 9: 1.11 km\n",
      "   Distance between trip 9 and trip 10: 0.67 km\n",
      "   Distance between trip 10 and trip 11: 0.85 km\n",
      "   Distance between trip 11 and trip 12: 17.90 km\n",
      "   Distance between trip 12 and trip 13: 18.67 km\n",
      "   Distance between trip 13 and trip 14: 1.11 km\n",
      "Total distance traveled by driver 1dfca482-49f3-4713-87e5-83bff5ed1dc9: 52.13 km\n"
     ]
    },
    {
     "data": {
      "text/html": [
       "\n",
       "        <iframe\n",
       "            width=\"700\"\n",
       "            height=\"600\"\n",
       "            src=\"maps\\driver_1dfca482-49f3-4713-87e5-83bff5ed1dc9_map.html\"\n",
       "            frameborder=\"0\"\n",
       "            allowfullscreen\n",
       "            \n",
       "        ></iframe>\n",
       "        "
      ],
      "text/plain": [
       "<IPython.lib.display.IFrame at 0x17eb3a0b250>"
      ]
     },
     "metadata": {},
     "output_type": "display_data"
    },
    {
     "name": "stdout",
     "output_type": "stream",
     "text": [
      "\n",
      "Processing driver: 1e02aa84-805f-48ff-b441-300813447f84\n",
      "Total fine for driver 1e02aa84-805f-48ff-b441-300813447f84: Rs 0.00\n",
      "Difference between rides for driver 1e02aa84-805f-48ff-b441-300813447f84:\n",
      "   Distance between trip 1 and trip 2: 0.29 km\n",
      "   Distance between trip 2 and trip 3: 0.45 km\n",
      "   Distance between trip 3 and trip 4: 0.95 km\n",
      "   Distance between trip 4 and trip 5: 0.24 km\n",
      "   Distance between trip 5 and trip 6: 1.31 km\n",
      "   Distance between trip 6 and trip 7: 0.01 km\n",
      "   Distance between trip 7 and trip 8: 0.95 km\n",
      "   Distance between trip 8 and trip 9: 0.30 km\n",
      "   Distance between trip 9 and trip 10: 0.45 km\n",
      "   Distance between trip 10 and trip 11: 0.39 km\n",
      "   Distance between trip 11 and trip 12: 1.38 km\n",
      "   Distance between trip 12 and trip 13: 0.28 km\n",
      "   Distance between trip 13 and trip 14: 0.30 km\n",
      "   Distance between trip 14 and trip 15: 0.67 km\n",
      "   Distance between trip 15 and trip 16: 0.76 km\n",
      "   Distance between trip 16 and trip 17: 0.46 km\n",
      "   Distance between trip 17 and trip 18: 0.38 km\n",
      "Total distance traveled by driver 1e02aa84-805f-48ff-b441-300813447f84: 9.56 km\n"
     ]
    },
    {
     "data": {
      "text/html": [
       "\n",
       "        <iframe\n",
       "            width=\"700\"\n",
       "            height=\"600\"\n",
       "            src=\"maps\\driver_1e02aa84-805f-48ff-b441-300813447f84_map.html\"\n",
       "            frameborder=\"0\"\n",
       "            allowfullscreen\n",
       "            \n",
       "        ></iframe>\n",
       "        "
      ],
      "text/plain": [
       "<IPython.lib.display.IFrame at 0x17eb3a00100>"
      ]
     },
     "metadata": {},
     "output_type": "display_data"
    },
    {
     "name": "stdout",
     "output_type": "stream",
     "text": [
      "\n",
      "Processing driver: 1e0418a1-6978-4afb-81dd-399ab68e99d8\n",
      "Total fine for driver 1e0418a1-6978-4afb-81dd-399ab68e99d8: Rs 0.00\n",
      "Difference between rides for driver 1e0418a1-6978-4afb-81dd-399ab68e99d8:\n",
      "   Distance between trip 1 and trip 2: 0.13 km\n",
      "   Distance between trip 2 and trip 3: 0.63 km\n",
      "   Distance between trip 3 and trip 4: 0.49 km\n",
      "   Distance between trip 4 and trip 5: 0.05 km\n",
      "   Distance between trip 5 and trip 6: 0.34 km\n",
      "   Distance between trip 6 and trip 7: 0.69 km\n",
      "   Distance between trip 7 and trip 8: 0.24 km\n",
      "   Distance between trip 8 and trip 9: 1.31 km\n",
      "   Distance between trip 9 and trip 10: 0.74 km\n",
      "   Distance between trip 10 and trip 11: 0.04 km\n",
      "   Distance between trip 11 and trip 12: 0.84 km\n",
      "Total distance traveled by driver 1e0418a1-6978-4afb-81dd-399ab68e99d8: 5.49 km\n"
     ]
    },
    {
     "data": {
      "text/html": [
       "\n",
       "        <iframe\n",
       "            width=\"700\"\n",
       "            height=\"600\"\n",
       "            src=\"maps\\driver_1e0418a1-6978-4afb-81dd-399ab68e99d8_map.html\"\n",
       "            frameborder=\"0\"\n",
       "            allowfullscreen\n",
       "            \n",
       "        ></iframe>\n",
       "        "
      ],
      "text/plain": [
       "<IPython.lib.display.IFrame at 0x17eaad476a0>"
      ]
     },
     "metadata": {},
     "output_type": "display_data"
    },
    {
     "name": "stdout",
     "output_type": "stream",
     "text": [
      "\n",
      "Processing driver: 1ecb18af-c6d2-4ea4-a532-0cd6340af5b4\n",
      "Total fine for driver 1ecb18af-c6d2-4ea4-a532-0cd6340af5b4: Rs 0.00\n",
      "Difference between rides for driver 1ecb18af-c6d2-4ea4-a532-0cd6340af5b4:\n",
      "   Distance between trip 1 and trip 2: 0.26 km\n",
      "   Distance between trip 2 and trip 3: 0.79 km\n",
      "   Distance between trip 3 and trip 4: 1.87 km\n",
      "   Distance between trip 4 and trip 5: 0.56 km\n",
      "   Distance between trip 5 and trip 6: 0.31 km\n",
      "   Distance between trip 6 and trip 7: 0.06 km\n",
      "   Distance between trip 7 and trip 8: 1.63 km\n",
      "   Distance between trip 8 and trip 9: 1.07 km\n",
      "Total distance traveled by driver 1ecb18af-c6d2-4ea4-a532-0cd6340af5b4: 6.54 km\n"
     ]
    },
    {
     "data": {
      "text/html": [
       "\n",
       "        <iframe\n",
       "            width=\"700\"\n",
       "            height=\"600\"\n",
       "            src=\"maps\\driver_1ecb18af-c6d2-4ea4-a532-0cd6340af5b4_map.html\"\n",
       "            frameborder=\"0\"\n",
       "            allowfullscreen\n",
       "            \n",
       "        ></iframe>\n",
       "        "
      ],
      "text/plain": [
       "<IPython.lib.display.IFrame at 0x17eae522ad0>"
      ]
     },
     "metadata": {},
     "output_type": "display_data"
    },
    {
     "name": "stdout",
     "output_type": "stream",
     "text": [
      "\n",
      "Processing driver: 1edf4089-d703-4a04-acf1-1b42b26f64de\n",
      "Total fine for driver 1edf4089-d703-4a04-acf1-1b42b26f64de: Rs 0.00\n",
      "Difference between rides for driver 1edf4089-d703-4a04-acf1-1b42b26f64de:\n",
      "   Distance between trip 1 and trip 2: 0.13 km\n",
      "   Distance between trip 2 and trip 3: 0.06 km\n",
      "   Distance between trip 3 and trip 4: 0.00 km\n",
      "   Distance between trip 4 and trip 5: 0.00 km\n",
      "   Distance between trip 5 and trip 6: 0.71 km\n",
      "   Distance between trip 6 and trip 7: 1.28 km\n",
      "   Distance between trip 7 and trip 8: 0.87 km\n",
      "   Distance between trip 8 and trip 9: 0.05 km\n",
      "   Distance between trip 9 and trip 10: 0.86 km\n",
      "   Distance between trip 10 and trip 11: 1.90 km\n",
      "   Distance between trip 11 and trip 12: 0.00 km\n",
      "   Distance between trip 12 and trip 13: 0.70 km\n",
      "   Distance between trip 13 and trip 14: 0.72 km\n",
      "   Distance between trip 14 and trip 15: 2.86 km\n",
      "   Distance between trip 15 and trip 16: 0.72 km\n",
      "Total distance traveled by driver 1edf4089-d703-4a04-acf1-1b42b26f64de: 10.87 km\n"
     ]
    },
    {
     "data": {
      "text/html": [
       "\n",
       "        <iframe\n",
       "            width=\"700\"\n",
       "            height=\"600\"\n",
       "            src=\"maps\\driver_1edf4089-d703-4a04-acf1-1b42b26f64de_map.html\"\n",
       "            frameborder=\"0\"\n",
       "            allowfullscreen\n",
       "            \n",
       "        ></iframe>\n",
       "        "
      ],
      "text/plain": [
       "<IPython.lib.display.IFrame at 0x17eae4ff970>"
      ]
     },
     "metadata": {},
     "output_type": "display_data"
    },
    {
     "name": "stdout",
     "output_type": "stream",
     "text": [
      "\n",
      "Processing driver: 1f0855d6-4f55-4ce7-abe7-6834efbe7307\n",
      "Total fine for driver 1f0855d6-4f55-4ce7-abe7-6834efbe7307: Rs 0.00\n",
      "Difference between rides for driver 1f0855d6-4f55-4ce7-abe7-6834efbe7307:\n",
      "   Distance between trip 1 and trip 2: 0.65 km\n",
      "   Distance between trip 2 and trip 3: 0.14 km\n",
      "   Distance between trip 3 and trip 4: 0.22 km\n",
      "Total distance traveled by driver 1f0855d6-4f55-4ce7-abe7-6834efbe7307: 1.01 km\n"
     ]
    },
    {
     "data": {
      "text/html": [
       "\n",
       "        <iframe\n",
       "            width=\"700\"\n",
       "            height=\"600\"\n",
       "            src=\"maps\\driver_1f0855d6-4f55-4ce7-abe7-6834efbe7307_map.html\"\n",
       "            frameborder=\"0\"\n",
       "            allowfullscreen\n",
       "            \n",
       "        ></iframe>\n",
       "        "
      ],
      "text/plain": [
       "<IPython.lib.display.IFrame at 0x17eae522ad0>"
      ]
     },
     "metadata": {},
     "output_type": "display_data"
    },
    {
     "name": "stdout",
     "output_type": "stream",
     "text": [
      "\n",
      "Processing driver: 1f09102d-9502-4206-a7d2-703c9b037d08\n",
      "Total fine for driver 1f09102d-9502-4206-a7d2-703c9b037d08: Rs 0.00\n",
      "Difference between rides for driver 1f09102d-9502-4206-a7d2-703c9b037d08:\n",
      "   Distance between trip 1 and trip 2: 2.35 km\n",
      "   Distance between trip 2 and trip 3: 2.88 km\n",
      "   Distance between trip 3 and trip 4: 2.00 km\n",
      "   Distance between trip 4 and trip 5: 0.85 km\n",
      "   Distance between trip 5 and trip 6: 0.13 km\n",
      "   Distance between trip 6 and trip 7: 0.14 km\n",
      "   Distance between trip 7 and trip 8: 0.07 km\n",
      "   Distance between trip 8 and trip 9: 2.19 km\n",
      "   Distance between trip 9 and trip 10: 0.88 km\n",
      "   Distance between trip 10 and trip 11: 0.64 km\n",
      "   Distance between trip 11 and trip 12: 1.29 km\n",
      "   Distance between trip 12 and trip 13: 0.76 km\n",
      "   Distance between trip 13 and trip 14: 8.55 km\n",
      "Total distance traveled by driver 1f09102d-9502-4206-a7d2-703c9b037d08: 22.74 km\n"
     ]
    },
    {
     "data": {
      "text/html": [
       "\n",
       "        <iframe\n",
       "            width=\"700\"\n",
       "            height=\"600\"\n",
       "            src=\"maps\\driver_1f09102d-9502-4206-a7d2-703c9b037d08_map.html\"\n",
       "            frameborder=\"0\"\n",
       "            allowfullscreen\n",
       "            \n",
       "        ></iframe>\n",
       "        "
      ],
      "text/plain": [
       "<IPython.lib.display.IFrame at 0x17eb3a021d0>"
      ]
     },
     "metadata": {},
     "output_type": "display_data"
    },
    {
     "name": "stdout",
     "output_type": "stream",
     "text": [
      "\n",
      "Processing driver: 1f3400ff-be67-48a2-99a4-56121dff785e\n",
      "Total fine for driver 1f3400ff-be67-48a2-99a4-56121dff785e: Rs 0.00\n",
      "Difference between rides for driver 1f3400ff-be67-48a2-99a4-56121dff785e:\n",
      "Total distance traveled by driver 1f3400ff-be67-48a2-99a4-56121dff785e: 0.00 km\n"
     ]
    },
    {
     "data": {
      "text/html": [
       "\n",
       "        <iframe\n",
       "            width=\"700\"\n",
       "            height=\"600\"\n",
       "            src=\"maps\\driver_1f3400ff-be67-48a2-99a4-56121dff785e_map.html\"\n",
       "            frameborder=\"0\"\n",
       "            allowfullscreen\n",
       "            \n",
       "        ></iframe>\n",
       "        "
      ],
      "text/plain": [
       "<IPython.lib.display.IFrame at 0x17eae4ffa90>"
      ]
     },
     "metadata": {},
     "output_type": "display_data"
    },
    {
     "name": "stdout",
     "output_type": "stream",
     "text": [
      "\n",
      "Processing driver: 1f6a52c7-fc29-4ca4-bc6b-b86e1bb9bf11\n",
      "Total fine for driver 1f6a52c7-fc29-4ca4-bc6b-b86e1bb9bf11: Rs 0.00\n",
      "Difference between rides for driver 1f6a52c7-fc29-4ca4-bc6b-b86e1bb9bf11:\n",
      "   Distance between trip 1 and trip 2: 2.77 km\n",
      "   Distance between trip 2 and trip 3: 0.08 km\n",
      "   Distance between trip 3 and trip 4: 0.32 km\n",
      "   Distance between trip 4 and trip 5: 0.29 km\n",
      "   Distance between trip 5 and trip 6: 0.50 km\n",
      "   Distance between trip 6 and trip 7: 0.06 km\n",
      "   Distance between trip 7 and trip 8: 1.20 km\n",
      "   Distance between trip 8 and trip 9: 0.57 km\n",
      "   Distance between trip 9 and trip 10: 1.93 km\n",
      "Total distance traveled by driver 1f6a52c7-fc29-4ca4-bc6b-b86e1bb9bf11: 7.71 km\n"
     ]
    },
    {
     "data": {
      "text/html": [
       "\n",
       "        <iframe\n",
       "            width=\"700\"\n",
       "            height=\"600\"\n",
       "            src=\"maps\\driver_1f6a52c7-fc29-4ca4-bc6b-b86e1bb9bf11_map.html\"\n",
       "            frameborder=\"0\"\n",
       "            allowfullscreen\n",
       "            \n",
       "        ></iframe>\n",
       "        "
      ],
      "text/plain": [
       "<IPython.lib.display.IFrame at 0x17eb3a03220>"
      ]
     },
     "metadata": {},
     "output_type": "display_data"
    },
    {
     "name": "stdout",
     "output_type": "stream",
     "text": [
      "\n",
      "Processing driver: 1fbac35f-4332-4a1b-9a3c-0cb285e4f58c\n",
      "Total fine for driver 1fbac35f-4332-4a1b-9a3c-0cb285e4f58c: Rs 0.00\n",
      "Difference between rides for driver 1fbac35f-4332-4a1b-9a3c-0cb285e4f58c:\n",
      "   Distance between trip 1 and trip 2: 2.26 km\n",
      "   Distance between trip 2 and trip 3: 1.26 km\n",
      "   Distance between trip 3 and trip 4: 1.74 km\n",
      "   Distance between trip 4 and trip 5: 0.87 km\n",
      "   Distance between trip 5 and trip 6: 0.06 km\n",
      "   Distance between trip 6 and trip 7: 0.33 km\n",
      "   Distance between trip 7 and trip 8: 0.14 km\n",
      "   Distance between trip 8 and trip 9: 4.91 km\n",
      "   Distance between trip 9 and trip 10: 0.70 km\n",
      "   Distance between trip 10 and trip 11: 3.50 km\n",
      "   Distance between trip 11 and trip 12: 3.09 km\n",
      "   Distance between trip 12 and trip 13: 0.10 km\n",
      "Total distance traveled by driver 1fbac35f-4332-4a1b-9a3c-0cb285e4f58c: 18.97 km\n"
     ]
    },
    {
     "data": {
      "text/html": [
       "\n",
       "        <iframe\n",
       "            width=\"700\"\n",
       "            height=\"600\"\n",
       "            src=\"maps\\driver_1fbac35f-4332-4a1b-9a3c-0cb285e4f58c_map.html\"\n",
       "            frameborder=\"0\"\n",
       "            allowfullscreen\n",
       "            \n",
       "        ></iframe>\n",
       "        "
      ],
      "text/plain": [
       "<IPython.lib.display.IFrame at 0x17eb3a02dd0>"
      ]
     },
     "metadata": {},
     "output_type": "display_data"
    },
    {
     "name": "stdout",
     "output_type": "stream",
     "text": [
      "\n",
      "Processing driver: 1fbf7990-a586-4b9e-939f-d373e60ed93e\n",
      "Total fine for driver 1fbf7990-a586-4b9e-939f-d373e60ed93e: Rs 111.63\n",
      "Difference between rides for driver 1fbf7990-a586-4b9e-939f-d373e60ed93e:\n",
      "   Distance between trip 1 and trip 2: 2.19 km\n",
      "   Distance between trip 2 and trip 3: 1.18 km\n",
      "   Distance between trip 3 and trip 4: 0.20 km\n",
      "   Distance between trip 4 and trip 5: 0.31 km\n",
      "   Distance between trip 5 and trip 6: 1.82 km\n",
      "   Distance between trip 6 and trip 7: 0.13 km\n",
      "   Distance between trip 7 and trip 8: 0.04 km\n",
      "   Distance between trip 8 and trip 9: 21.16 km\n",
      "   Distance between trip 9 and trip 10: 0.22 km\n",
      "   Distance between trip 10 and trip 11: 0.56 km\n",
      "   Distance between trip 11 and trip 12: 2.41 km\n",
      "Total distance traveled by driver 1fbf7990-a586-4b9e-939f-d373e60ed93e: 30.22 km\n"
     ]
    },
    {
     "data": {
      "text/html": [
       "\n",
       "        <iframe\n",
       "            width=\"700\"\n",
       "            height=\"600\"\n",
       "            src=\"maps\\driver_1fbf7990-a586-4b9e-939f-d373e60ed93e_map.html\"\n",
       "            frameborder=\"0\"\n",
       "            allowfullscreen\n",
       "            \n",
       "        ></iframe>\n",
       "        "
      ],
      "text/plain": [
       "<IPython.lib.display.IFrame at 0x17eaad46140>"
      ]
     },
     "metadata": {},
     "output_type": "display_data"
    },
    {
     "name": "stdout",
     "output_type": "stream",
     "text": [
      "\n",
      "Processing driver: 201f0cad-6b37-4a84-a50c-90930530c41e\n",
      "Total fine for driver 201f0cad-6b37-4a84-a50c-90930530c41e: Rs 0.00\n",
      "Difference between rides for driver 201f0cad-6b37-4a84-a50c-90930530c41e:\n",
      "   Distance between trip 1 and trip 2: 0.21 km\n",
      "   Distance between trip 2 and trip 3: 7.92 km\n",
      "   Distance between trip 3 and trip 4: 0.10 km\n",
      "   Distance between trip 4 and trip 5: 1.75 km\n",
      "   Distance between trip 5 and trip 6: 0.83 km\n",
      "   Distance between trip 6 and trip 7: 0.97 km\n",
      "   Distance between trip 7 and trip 8: 0.40 km\n",
      "   Distance between trip 8 and trip 9: 1.58 km\n",
      "Total distance traveled by driver 201f0cad-6b37-4a84-a50c-90930530c41e: 13.76 km\n"
     ]
    },
    {
     "data": {
      "text/html": [
       "\n",
       "        <iframe\n",
       "            width=\"700\"\n",
       "            height=\"600\"\n",
       "            src=\"maps\\driver_201f0cad-6b37-4a84-a50c-90930530c41e_map.html\"\n",
       "            frameborder=\"0\"\n",
       "            allowfullscreen\n",
       "            \n",
       "        ></iframe>\n",
       "        "
      ],
      "text/plain": [
       "<IPython.lib.display.IFrame at 0x17eae4ffa90>"
      ]
     },
     "metadata": {},
     "output_type": "display_data"
    },
    {
     "name": "stdout",
     "output_type": "stream",
     "text": [
      "\n",
      "Processing driver: 20690abd-15ab-40a3-9b76-968a09cf31d9\n",
      "Total fine for driver 20690abd-15ab-40a3-9b76-968a09cf31d9: Rs 53.33\n",
      "Difference between rides for driver 20690abd-15ab-40a3-9b76-968a09cf31d9:\n",
      "   Distance between trip 1 and trip 2: 2.03 km\n",
      "   Distance between trip 2 and trip 3: 0.81 km\n",
      "   Distance between trip 3 and trip 4: 0.16 km\n",
      "   Distance between trip 4 and trip 5: 0.98 km\n",
      "   Distance between trip 5 and trip 6: 1.16 km\n",
      "   Distance between trip 6 and trip 7: 3.89 km\n",
      "   Distance between trip 7 and trip 8: 4.01 km\n",
      "   Distance between trip 8 and trip 9: 12.20 km\n",
      "   Distance between trip 9 and trip 10: 13.13 km\n",
      "Total distance traveled by driver 20690abd-15ab-40a3-9b76-968a09cf31d9: 38.38 km\n"
     ]
    },
    {
     "data": {
      "text/html": [
       "\n",
       "        <iframe\n",
       "            width=\"700\"\n",
       "            height=\"600\"\n",
       "            src=\"maps\\driver_20690abd-15ab-40a3-9b76-968a09cf31d9_map.html\"\n",
       "            frameborder=\"0\"\n",
       "            allowfullscreen\n",
       "            \n",
       "        ></iframe>\n",
       "        "
      ],
      "text/plain": [
       "<IPython.lib.display.IFrame at 0x17eaad476a0>"
      ]
     },
     "metadata": {},
     "output_type": "display_data"
    },
    {
     "name": "stdout",
     "output_type": "stream",
     "text": [
      "\n",
      "Processing driver: 20af6940-d351-4539-bb76-caabef854353\n",
      "Total fine for driver 20af6940-d351-4539-bb76-caabef854353: Rs 0.00\n",
      "Difference between rides for driver 20af6940-d351-4539-bb76-caabef854353:\n",
      "   Distance between trip 1 and trip 2: 0.17 km\n",
      "   Distance between trip 2 and trip 3: 2.32 km\n",
      "   Distance between trip 3 and trip 4: 0.01 km\n",
      "   Distance between trip 4 and trip 5: 0.31 km\n",
      "   Distance between trip 5 and trip 6: 0.25 km\n",
      "   Distance between trip 6 and trip 7: 0.20 km\n",
      "   Distance between trip 7 and trip 8: 1.42 km\n",
      "   Distance between trip 8 and trip 9: 1.77 km\n",
      "   Distance between trip 9 and trip 10: 2.43 km\n",
      "   Distance between trip 10 and trip 11: 1.44 km\n",
      "   Distance between trip 11 and trip 12: 0.18 km\n",
      "   Distance between trip 12 and trip 13: 0.76 km\n",
      "   Distance between trip 13 and trip 14: 2.56 km\n",
      "   Distance between trip 14 and trip 15: 3.90 km\n",
      "   Distance between trip 15 and trip 16: 0.84 km\n",
      "   Distance between trip 16 and trip 17: 3.53 km\n",
      "Total distance traveled by driver 20af6940-d351-4539-bb76-caabef854353: 22.10 km\n"
     ]
    },
    {
     "data": {
      "text/html": [
       "\n",
       "        <iframe\n",
       "            width=\"700\"\n",
       "            height=\"600\"\n",
       "            src=\"maps\\driver_20af6940-d351-4539-bb76-caabef854353_map.html\"\n",
       "            frameborder=\"0\"\n",
       "            allowfullscreen\n",
       "            \n",
       "        ></iframe>\n",
       "        "
      ],
      "text/plain": [
       "<IPython.lib.display.IFrame at 0x17eae4ff970>"
      ]
     },
     "metadata": {},
     "output_type": "display_data"
    },
    {
     "name": "stdout",
     "output_type": "stream",
     "text": [
      "\n",
      "Processing driver: 20bb5a65-f2fa-413f-a5fc-f6e213707329\n",
      "Total fine for driver 20bb5a65-f2fa-413f-a5fc-f6e213707329: Rs 0.00\n",
      "Difference between rides for driver 20bb5a65-f2fa-413f-a5fc-f6e213707329:\n",
      "   Distance between trip 1 and trip 2: 0.72 km\n",
      "   Distance between trip 2 and trip 3: 1.07 km\n",
      "   Distance between trip 3 and trip 4: 0.53 km\n",
      "   Distance between trip 4 and trip 5: 0.81 km\n",
      "   Distance between trip 5 and trip 6: 0.42 km\n",
      "   Distance between trip 6 and trip 7: 0.22 km\n",
      "   Distance between trip 7 and trip 8: 0.20 km\n",
      "   Distance between trip 8 and trip 9: 1.93 km\n",
      "   Distance between trip 9 and trip 10: 1.53 km\n",
      "   Distance between trip 10 and trip 11: 1.15 km\n",
      "   Distance between trip 11 and trip 12: 0.77 km\n",
      "   Distance between trip 12 and trip 13: 0.62 km\n",
      "   Distance between trip 13 and trip 14: 0.09 km\n",
      "   Distance between trip 14 and trip 15: 0.51 km\n",
      "   Distance between trip 15 and trip 16: 0.29 km\n",
      "   Distance between trip 16 and trip 17: 0.01 km\n",
      "   Distance between trip 17 and trip 18: 0.00 km\n",
      "   Distance between trip 18 and trip 19: 0.00 km\n",
      "   Distance between trip 19 and trip 20: 2.93 km\n",
      "   Distance between trip 20 and trip 21: 0.38 km\n",
      "   Distance between trip 21 and trip 22: 1.06 km\n",
      "   Distance between trip 22 and trip 23: 0.07 km\n",
      "   Distance between trip 23 and trip 24: 1.22 km\n",
      "   Distance between trip 24 and trip 25: 0.52 km\n",
      "   Distance between trip 25 and trip 26: 3.81 km\n",
      "Total distance traveled by driver 20bb5a65-f2fa-413f-a5fc-f6e213707329: 20.87 km\n"
     ]
    },
    {
     "data": {
      "text/html": [
       "\n",
       "        <iframe\n",
       "            width=\"700\"\n",
       "            height=\"600\"\n",
       "            src=\"maps\\driver_20bb5a65-f2fa-413f-a5fc-f6e213707329_map.html\"\n",
       "            frameborder=\"0\"\n",
       "            allowfullscreen\n",
       "            \n",
       "        ></iframe>\n",
       "        "
      ],
      "text/plain": [
       "<IPython.lib.display.IFrame at 0x17eb3a00430>"
      ]
     },
     "metadata": {},
     "output_type": "display_data"
    },
    {
     "name": "stdout",
     "output_type": "stream",
     "text": [
      "\n",
      "Processing driver: 20c4a9d5-35b9-49d5-9148-aa569b32d632\n",
      "Total fine for driver 20c4a9d5-35b9-49d5-9148-aa569b32d632: Rs 0.00\n",
      "Difference between rides for driver 20c4a9d5-35b9-49d5-9148-aa569b32d632:\n",
      "   Distance between trip 1 and trip 2: 0.00 km\n",
      "   Distance between trip 2 and trip 3: 0.00 km\n",
      "   Distance between trip 3 and trip 4: 1.26 km\n",
      "Total distance traveled by driver 20c4a9d5-35b9-49d5-9148-aa569b32d632: 1.26 km\n"
     ]
    },
    {
     "data": {
      "text/html": [
       "\n",
       "        <iframe\n",
       "            width=\"700\"\n",
       "            height=\"600\"\n",
       "            src=\"maps\\driver_20c4a9d5-35b9-49d5-9148-aa569b32d632_map.html\"\n",
       "            frameborder=\"0\"\n",
       "            allowfullscreen\n",
       "            \n",
       "        ></iframe>\n",
       "        "
      ],
      "text/plain": [
       "<IPython.lib.display.IFrame at 0x17eb3a02d70>"
      ]
     },
     "metadata": {},
     "output_type": "display_data"
    },
    {
     "name": "stdout",
     "output_type": "stream",
     "text": [
      "\n",
      "Processing driver: 2102314c-7e2b-4e28-9c9f-aaefe7a17a87\n",
      "Total fine for driver 2102314c-7e2b-4e28-9c9f-aaefe7a17a87: Rs 37.35\n",
      "Difference between rides for driver 2102314c-7e2b-4e28-9c9f-aaefe7a17a87:\n",
      "   Distance between trip 1 and trip 2: 10.35 km\n",
      "   Distance between trip 2 and trip 3: 0.11 km\n",
      "   Distance between trip 3 and trip 4: 1.58 km\n",
      "   Distance between trip 4 and trip 5: 0.19 km\n",
      "   Distance between trip 5 and trip 6: 13.39 km\n",
      "   Distance between trip 6 and trip 7: 0.00 km\n",
      "   Distance between trip 7 and trip 8: 0.01 km\n",
      "   Distance between trip 8 and trip 9: 0.49 km\n",
      "   Distance between trip 9 and trip 10: 2.22 km\n",
      "   Distance between trip 10 and trip 11: 0.87 km\n",
      "   Distance between trip 11 and trip 12: 2.47 km\n",
      "   Distance between trip 12 and trip 13: 0.04 km\n",
      "   Distance between trip 13 and trip 14: 1.17 km\n",
      "Total distance traveled by driver 2102314c-7e2b-4e28-9c9f-aaefe7a17a87: 32.88 km\n"
     ]
    },
    {
     "data": {
      "text/html": [
       "\n",
       "        <iframe\n",
       "            width=\"700\"\n",
       "            height=\"600\"\n",
       "            src=\"maps\\driver_2102314c-7e2b-4e28-9c9f-aaefe7a17a87_map.html\"\n",
       "            frameborder=\"0\"\n",
       "            allowfullscreen\n",
       "            \n",
       "        ></iframe>\n",
       "        "
      ],
      "text/plain": [
       "<IPython.lib.display.IFrame at 0x17eae4ff970>"
      ]
     },
     "metadata": {},
     "output_type": "display_data"
    },
    {
     "name": "stdout",
     "output_type": "stream",
     "text": [
      "\n",
      "Processing driver: 213644c5-9557-445b-a42e-a28e86cfd769\n",
      "Total fine for driver 213644c5-9557-445b-a42e-a28e86cfd769: Rs 0.00\n",
      "Difference between rides for driver 213644c5-9557-445b-a42e-a28e86cfd769:\n",
      "   Distance between trip 1 and trip 2: 2.71 km\n",
      "   Distance between trip 2 and trip 3: 3.92 km\n",
      "   Distance between trip 3 and trip 4: 0.27 km\n",
      "   Distance between trip 4 and trip 5: 0.48 km\n",
      "   Distance between trip 5 and trip 6: 1.21 km\n",
      "   Distance between trip 6 and trip 7: 1.97 km\n",
      "   Distance between trip 7 and trip 8: 0.01 km\n",
      "   Distance between trip 8 and trip 9: 1.95 km\n",
      "   Distance between trip 9 and trip 10: 0.08 km\n",
      "   Distance between trip 10 and trip 11: 0.39 km\n",
      "   Distance between trip 11 and trip 12: 0.50 km\n",
      "Total distance traveled by driver 213644c5-9557-445b-a42e-a28e86cfd769: 13.51 km\n"
     ]
    },
    {
     "data": {
      "text/html": [
       "\n",
       "        <iframe\n",
       "            width=\"700\"\n",
       "            height=\"600\"\n",
       "            src=\"maps\\driver_213644c5-9557-445b-a42e-a28e86cfd769_map.html\"\n",
       "            frameborder=\"0\"\n",
       "            allowfullscreen\n",
       "            \n",
       "        ></iframe>\n",
       "        "
      ],
      "text/plain": [
       "<IPython.lib.display.IFrame at 0x17eaad476a0>"
      ]
     },
     "metadata": {},
     "output_type": "display_data"
    },
    {
     "name": "stdout",
     "output_type": "stream",
     "text": [
      "\n",
      "Processing driver: 218e0a74-cce8-4ccc-a353-eb57cd82952b\n",
      "Total fine for driver 218e0a74-cce8-4ccc-a353-eb57cd82952b: Rs 0.00\n",
      "Difference between rides for driver 218e0a74-cce8-4ccc-a353-eb57cd82952b:\n",
      "   Distance between trip 1 and trip 2: 2.01 km\n",
      "   Distance between trip 2 and trip 3: 3.72 km\n",
      "   Distance between trip 3 and trip 4: 0.38 km\n",
      "   Distance between trip 4 and trip 5: 0.42 km\n",
      "Total distance traveled by driver 218e0a74-cce8-4ccc-a353-eb57cd82952b: 6.53 km\n"
     ]
    },
    {
     "data": {
      "text/html": [
       "\n",
       "        <iframe\n",
       "            width=\"700\"\n",
       "            height=\"600\"\n",
       "            src=\"maps\\driver_218e0a74-cce8-4ccc-a353-eb57cd82952b_map.html\"\n",
       "            frameborder=\"0\"\n",
       "            allowfullscreen\n",
       "            \n",
       "        ></iframe>\n",
       "        "
      ],
      "text/plain": [
       "<IPython.lib.display.IFrame at 0x17eae4ffa90>"
      ]
     },
     "metadata": {},
     "output_type": "display_data"
    },
    {
     "name": "stdout",
     "output_type": "stream",
     "text": [
      "\n",
      "Processing driver: 21963060-4bbe-4d32-a3a6-0dc2c2fc14dd\n",
      "Total fine for driver 21963060-4bbe-4d32-a3a6-0dc2c2fc14dd: Rs 0.00\n",
      "Difference between rides for driver 21963060-4bbe-4d32-a3a6-0dc2c2fc14dd:\n",
      "   Distance between trip 1 and trip 2: 0.39 km\n",
      "   Distance between trip 2 and trip 3: 2.41 km\n",
      "   Distance between trip 3 and trip 4: 0.57 km\n"
     ]
    }
   ],
   "source": [
    "# Create the 'maps' folder if it doesn't exist\n",
    "if not os.path.exists('maps'):\n",
    "    os.makedirs('maps')\n",
    "\n",
    "# Function to calculate fine for a ride\n",
    "def calculate_ride_fine(distance):\n",
    "    if distance > 10:\n",
    "        excess_distance = distance - 10\n",
    "        fine = excess_distance * 10  # Assuming a fine of Rs 10 per km\n",
    "        return fine\n",
    "    else:\n",
    "        return 0\n",
    "\n",
    "# Function to plot routes on the map for a specific driver_uuid\n",
    "def plot_routes_for_driver(driver_uuid, data, fined_drivers):\n",
    "    # Filter data for the specified driver_uuid\n",
    "    driver_data = data[data['driver_uuid'] == driver_uuid]\n",
    "    \n",
    "    if driver_data.empty:\n",
    "        print(f\"No data available for driver {driver_uuid}\")\n",
    "        return\n",
    "    \n",
    "    total_distance = 0  # Initialize total distance\n",
    "    total_fine = 0      # Initialize total fine\n",
    "    \n",
    "    # Initialize Google Maps plot for the driver\n",
    "    gmap = gmplot.GoogleMapPlotter(driver_data.iloc[0]['begintrip_lat'], driver_data.iloc[0]['begintrip_lng'], 10)\n",
    "\n",
    "    # Iterate over each trip for the driver\n",
    "    for i in range(len(driver_data)):  \n",
    "        source_lat, source_lon = driver_data.iloc[i]['begintrip_lat'], driver_data.iloc[i]['begintrip_lng']\n",
    "        dest_lat, dest_lon = driver_data.iloc[i]['dropoff_lat'], driver_data.iloc[i]['dropoff_lng']\n",
    "        \n",
    "        # Plot the path as a blue polyline for the ride\n",
    "        gmap.plot([source_lat, dest_lat], [source_lon, dest_lon], 'blue', edge_width=2)\n",
    "\n",
    "        # Mark source and destination points with red and green colors\n",
    "        gmap.marker(source_lat, source_lon, color='#00FF00')\n",
    "        gmap.marker(dest_lat, dest_lon, color='red')\n",
    "\n",
    "        if i < len(driver_data) - 1:  # Check if not the last trip\n",
    "            next_source_lat, next_source_lon = driver_data.iloc[i+1]['begintrip_lat'], driver_data.iloc[i+1]['begintrip_lng']\n",
    "\n",
    "            # Calculate the distance between the end point of the current trip and the start point of the next trip\n",
    "            distance = geodesic((dest_lat, dest_lon), (next_source_lat, next_source_lon)).kilometers\n",
    "            ride_fine = calculate_ride_fine(distance)  # Calculate fine for the ride\n",
    "            total_fine += ride_fine                     # Add fine to total fine\n",
    "            total_distance += distance                   # Add distance to total distance\n",
    "            \n",
    "            # Adjust distance if fine is applied\n",
    "            if ride_fine > 0:\n",
    "                distance -= (ride_fine / 10)  # Convert fine from Rs to km and subtract from distance\n",
    "            \n",
    "            # Plot a red dotted line between the rides\n",
    "            gmap.plot([dest_lat, next_source_lat], [dest_lon, next_source_lon], 'red', edge_width=2, linestyle='dotted')\n",
    "    \n",
    "    # Draw the map and save it to the 'maps' folder\n",
    "    map_file = os.path.join('maps', f\"driver_{driver_uuid}_map.html\")\n",
    "    gmap.draw(map_file)\n",
    "    \n",
    "    # Add driver UUID to fined_drivers if fine is applied\n",
    "    if total_fine > 0:\n",
    "        fined_drivers.append(driver_uuid)\n",
    "    \n",
    "    # Display total fine for the driver\n",
    "    print(f\"Total fine for driver {driver_uuid}: Rs {total_fine:.2f}\")\n",
    "    \n",
    "    # Display differences between rides\n",
    "    print(f\"Difference between rides for driver {driver_uuid}:\")\n",
    "    for i in range(len(driver_data) - 1):\n",
    "        source_lat, source_lon = driver_data.iloc[i]['begintrip_lat'], driver_data.iloc[i]['begintrip_lng']\n",
    "        dest_lat, dest_lon = driver_data.iloc[i]['dropoff_lat'], driver_data.iloc[i]['dropoff_lng']\n",
    "        next_source_lat, next_source_lon = driver_data.iloc[i+1]['begintrip_lat'], driver_data.iloc[i+1]['begintrip_lng']\n",
    "        distance = geodesic((dest_lat, dest_lon), (next_source_lat, next_source_lon)).kilometers\n",
    "        print(f\"   Distance between trip {i+1} and trip {i+2}: {distance:.2f} km\")\n",
    "    \n",
    "     # Display total distance \n",
    "    print(f\"Total distance traveled by driver {driver_uuid}: {total_distance:.2f} km\")\n",
    "    \n",
    "    # Display the map\n",
    "    display(IFrame(map_file, width=700, height=600))\n",
    "    \n",
    "# Function to prompt user for driver UUID input\n",
    "def get_driver_uuid_input():\n",
    "    return input(\"Enter driver_uuid: \")\n",
    "\n",
    "# Assuming 'new_data' is your dataset containing all driver data\n",
    "unique_driver_uuids = new_data['driver_uuid'].unique()\n",
    "fined_drivers = []  # Initialize list to store driver UUIDs for which fines are applied\n",
    "\n",
    "# Loop through each unique driver UUID and plot routes\n",
    "for driver_uuid_input in unique_driver_uuids:\n",
    "    print(f\"\\nProcessing driver: {driver_uuid_input}\")\n",
    "    driver_data = new_data[new_data['driver_uuid'] == driver_uuid_input]\n",
    "    plot_routes_for_driver(driver_uuid_input, driver_data, fined_drivers)\n",
    "\n"
   ]
  },
  {
   "cell_type": "markdown",
   "id": "e82b241b-6ac3-4bb2-bb03-7eec8b831f9e",
   "metadata": {},
   "source": [
    "# these code for given driver uuid "
   ]
  },
  {
   "cell_type": "code",
   "execution_count": null,
   "id": "bb567156-5b53-4cc6-8517-e2001f179d3d",
   "metadata": {
    "tags": []
   },
   "outputs": [],
   "source": [
    "# Assuming 'new_data' is your dataset containing all driver data\n",
    "driver_uuid_input = input(\"Enter Driver uuid\")  # Specify the driver UUID you want to process\n",
    "driver_data = new_data[new_data['driver_uuid'] == driver_uuid_input]\n",
    "fined_drivers = []  # Initialize list to store driver UUIDs for which fines are applied\n",
    "\n",
    "if not driver_data.empty:\n",
    "    print(f\"\\nProcessing driver: {driver_uuid_input}\")\n",
    "    plot_routes_for_driver(driver_uuid_input, driver_data, fined_drivers)\n",
    "else:\n",
    "    print(f\"No data available for driver {driver_uuid_input}\")\n"
   ]
  },
  {
   "cell_type": "markdown",
   "id": "ca33a4e4-70b8-41e8-8c8e-5e122b89c076",
   "metadata": {},
   "source": [
    "# these code for take input as .CSV file"
   ]
  },
  {
   "cell_type": "code",
   "execution_count": null,
   "id": "2f6967bb-c472-480f-9b01-8f925cf252c4",
   "metadata": {
    "tags": []
   },
   "outputs": [],
   "source": [
    "# Function to process data for a specific CSV file\n",
    "def process_csv_file(csv_filename):\n",
    "    csv_file_path = f\"Drivers/{csv_filename}.csv\"  # Assuming the CSV files are stored in the 'Drivers' folder\n",
    "    if os.path.exists(csv_file_path):\n",
    "        df = pd.read_csv(csv_file_path)\n",
    "        plot_routes_for_driver(csv_filename, df, fined_drivers)\n",
    "    else:\n",
    "        print(\"File not found.\")\n",
    "\n",
    "# Function to prompt user for CSV file name input\n",
    "def get_csv_file_input():\n",
    "    return input(\"Enter the CSV file name (without the .csv extension): \")\n",
    "\n",
    "# Loop through each unique driver UUID and plot routes\n",
    "for driver_uuid_input in unique_driver_uuids:\n",
    "    csv_filename = get_csv_file_input()\n",
    "    process_csv_file(csv_filename)\n",
    "    \n",
    "    # Ask the user if they want to continue processing data\n",
    "    continue_input = input(\"Do you want to process data for another driver? (yes/no): \")\n",
    "    if continue_input.lower() != 'yes':\n",
    "        break  # Exit the loop if the user doesn't want to continue\n"
   ]
  },
  {
   "cell_type": "code",
   "execution_count": null,
   "id": "52a706b9-59c7-4ffa-b742-30d24209f7f9",
   "metadata": {},
   "outputs": [],
   "source": []
  }
 ],
 "metadata": {
  "kernelspec": {
   "display_name": "Python 3 (ipykernel)",
   "language": "python",
   "name": "python3"
  },
  "language_info": {
   "codemirror_mode": {
    "name": "ipython",
    "version": 3
   },
   "file_extension": ".py",
   "mimetype": "text/x-python",
   "name": "python",
   "nbconvert_exporter": "python",
   "pygments_lexer": "ipython3",
   "version": "3.10.9"
  }
 },
 "nbformat": 4,
 "nbformat_minor": 5
}
